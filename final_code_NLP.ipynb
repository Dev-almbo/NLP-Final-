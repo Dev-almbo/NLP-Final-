{
 "cells": [
  {
   "cell_type": "markdown",
   "metadata": {},
   "source": [
    "# NLP Project - Analyzing AirBnB Reviews\n",
    "Alp Akkaya, Almut Bohnhoff"
   ]
  },
  {
   "cell_type": "code",
   "execution_count": 1,
   "metadata": {
    "cell_id": "00000-92c10d2b-242f-48dd-a37c-fb35f26b7a61",
    "deepnote_cell_type": "code",
    "deepnote_to_be_reexecuted": false,
    "execution_millis": 1548,
    "execution_start": 1623587353057,
    "source_hash": "ccef76a9",
    "tags": []
   },
   "outputs": [],
   "source": [
    "import pandas as pd\n",
    "import numpy as np\n",
    "from langdetect import detect\n",
    "import matplotlib.pyplot as plt\n",
    "import seaborn as sns \n",
    "from sklearn.feature_extraction.text import CountVectorizer\n",
    "from nltk.corpus import stopwords\n",
    "from wordcloud import WordCloud, STOPWORDS\n",
    "import numpy as npy\n",
    "from PIL import Image"
   ]
  },
  {
   "cell_type": "markdown",
   "metadata": {
    "cell_id": "00001-9a86fe57-a95f-4382-81b5-61fbef466189",
    "deepnote_cell_type": "markdown",
    "tags": []
   },
   "source": [
    "## Preprocessing "
   ]
  },
  {
   "cell_type": "code",
   "execution_count": 2,
   "metadata": {
    "cell_id": "00002-bab9ae46-d984-48bc-a7fb-a2130efe84e5",
    "deepnote_cell_type": "code",
    "deepnote_to_be_reexecuted": false,
    "execution_millis": 1322,
    "execution_start": 1623587357053,
    "source_hash": "ea52eb4f",
    "tags": []
   },
   "outputs": [
    {
     "data": {
      "text/plain": [
       "<bound method DataFrame.info of         listing_id         id        date  reviewer_id     reviewer_name  \\\n",
       "0             6983       8985  2009-09-04        31133              Jeff   \n",
       "1             6983       9199  2009-09-07        11472            Andrea   \n",
       "2             6983      11763  2009-09-28        35317           Jeanine   \n",
       "3             6983      20616  2009-12-17        53151             Sonja   \n",
       "4             6983      23168  2010-01-04        50856             James   \n",
       "...            ...        ...         ...          ...               ...   \n",
       "184689    48541823  741896445  2021-03-24     44138822  Artan Abdirashid   \n",
       "184690    48541823  742319567  2021-03-26    118714088               Leo   \n",
       "184691    48547959  740869416  2021-03-21    392067604            Oliver   \n",
       "184692    48764904  742982275  2021-03-28     31550977             Maria   \n",
       "184693    48803674  742590334  2021-03-27    145161349          Benjamin   \n",
       "\n",
       "                                                 comments  \n",
       "0       Convenient location, clean apartment, great br...  \n",
       "1       We really enjoyed staying to Simon in our firs...  \n",
       "2       Friendly host, save neighbourhood, clean appar...  \n",
       "3       Simon is great!  Fantastic place to stay, supe...  \n",
       "4       Great bed, clean apartment, comfy bed, accomod...  \n",
       "...                                                   ...  \n",
       "184689             Fin privat lejlighed og en venlig vært  \n",
       "184690                                    Fin lejlighed..  \n",
       "184691      Super godt, pisse fedt at bo med dig Lasse :)  \n",
       "184692  Hurtig tilbagemelding, meget gæstfri vært.\\nHy...  \n",
       "184693  The stay at Kjetils place was just what I need...  \n",
       "\n",
       "[184694 rows x 6 columns]>"
      ]
     },
     "execution_count": 2,
     "metadata": {},
     "output_type": "execute_result"
    }
   ],
   "source": [
    "# read reviews data \n",
    "reviews_cph = pd.read_csv(\"reviews_CPH.csv\")\n",
    "reviews_cph.info"
   ]
  },
  {
   "cell_type": "code",
   "execution_count": 3,
   "metadata": {
    "cell_id": "00003-b64453e1-27d2-48d5-8c79-cebb9e8b34e4",
    "deepnote_cell_type": "code",
    "deepnote_to_be_reexecuted": false,
    "execution_millis": 273,
    "execution_start": 1623587481113,
    "source_hash": "d93d81b6",
    "tags": []
   },
   "outputs": [
    {
     "data": {
      "text/plain": [
       "0         2009-09-04\n",
       "1         2009-09-07\n",
       "2         2009-09-28\n",
       "3         2009-12-17\n",
       "4         2010-01-04\n",
       "             ...    \n",
       "170104    2021-03-28\n",
       "166806    2021-03-28\n",
       "2787      2021-03-30\n",
       "147159    2021-03-30\n",
       "172577    2021-03-30\n",
       "Name: date, Length: 184694, dtype: object"
      ]
     },
     "execution_count": 3,
     "metadata": {},
     "output_type": "execute_result"
    }
   ],
   "source": [
    "reviews_cph.date.sort_values()"
   ]
  },
  {
   "cell_type": "code",
   "execution_count": 4,
   "metadata": {
    "cell_id": "00001-e6cbc190-793b-490b-a35e-47ad914531e4",
    "deepnote_cell_type": "code",
    "deepnote_to_be_reexecuted": false,
    "execution_millis": 927017,
    "execution_start": 1623175190818,
    "source_hash": "7184af41",
    "tags": []
   },
   "outputs": [
    {
     "name": "stdout",
     "output_type": "stream",
     "text": [
      "184694\n"
     ]
    }
   ],
   "source": [
    "print(len(reviews_cph))\n",
    "# filter out non-english reviews\n",
    "def detect_language(text):\n",
    "    try: \n",
    "        return detect(text)\n",
    "    except: \n",
    "        return np.nan\n",
    "    \n",
    "reviews_cph['lang'] = reviews_cph['comments'].apply(lambda x: detect_language(x))\n",
    "reviews_cph_eng = reviews_cph[reviews_cph['lang']=='en']\n",
    "reviews_cph_eng.reset_index(inplace = True)\n",
    "print(len(reviews_cph))"
   ]
  },
  {
   "cell_type": "markdown",
   "metadata": {
    "cell_id": "00004-04efd379-fa9c-4a3f-8969-4a354b2a373a",
    "deepnote_cell_type": "markdown",
    "tags": []
   },
   "source": [
    "## Exploratory Data Analysis"
   ]
  },
  {
   "cell_type": "code",
   "execution_count": 5,
   "metadata": {
    "cell_id": "00007-22bef99f-6ae6-4d60-94cb-d04e349a5631",
    "deepnote_cell_type": "code",
    "deepnote_to_be_reexecuted": false,
    "execution_millis": 828,
    "execution_start": 1623510811537,
    "source_hash": "36751386",
    "tags": []
   },
   "outputs": [],
   "source": [
    "# get english reviews \n",
    "reviews_cph = reviews_cph_eng\n",
    "\n",
    "# convert listing_id in integer\n",
    "reviews_cph.listing_id = reviews_cph.listing_id.apply(lambda x: int(x))"
   ]
  },
  {
   "cell_type": "code",
   "execution_count": 6,
   "metadata": {
    "cell_id": "00009-94453105-3fc2-4343-8fd6-08e7a97314cc",
    "deepnote_cell_type": "code",
    "deepnote_to_be_reexecuted": false,
    "execution_millis": 21,
    "execution_start": 1623246652753,
    "source_hash": "f8eba248",
    "tags": []
   },
   "outputs": [
    {
     "data": {
      "text/plain": [
       "7183"
      ]
     },
     "execution_count": 6,
     "metadata": {},
     "output_type": "execute_result"
    }
   ],
   "source": [
    "reviews_cph.info\n",
    "\n",
    "# number of reviews \n",
    "len(reviews_cph)\n",
    "\n",
    "# number of listings \n",
    "len(reviews_cph.listing_id.unique())"
   ]
  },
  {
   "cell_type": "code",
   "execution_count": 7,
   "metadata": {
    "cell_id": "00009-30a16b15-09a7-4d88-90f6-e74c9cb8b71a",
    "deepnote_cell_type": "code",
    "deepnote_to_be_reexecuted": false,
    "execution_millis": 104,
    "execution_start": 1623510814994,
    "source_hash": "1e870b26",
    "tags": []
   },
   "outputs": [],
   "source": [
    "# which listings have the most reviews? \n",
    "\n",
    "def find_top_listings(data, n): \n",
    "    # create empty dataframe \n",
    "    top_listings = pd.DataFrame(columns = ['Listing_ID', 'Number of Reviews'])\n",
    "    # get all listings \n",
    "    listing_ids = list(data['listing_id'].unique())\n",
    "    # calculate the number of reviews per listing \n",
    "    temp = data.groupby('listing_id')['comments'].count()\n",
    "    temp = pd.DataFrame(temp)\n",
    "    temp.reset_index(inplace = True)\n",
    "    temp.rename(columns = {'listing_id': 'Listing_ID', 'comments': 'Number of Reviews'},inplace=True)\n",
    "    # sort data frame in descending order\n",
    "    temp.sort_values(by=['Number of Reviews'], inplace=True, ascending=False)\n",
    "    \n",
    "    # return a dataframe with n reviews \n",
    "    result = temp.head(n)\n",
    "    return result\n",
    "\n",
    "# get top listings \n",
    "top_3 = find_top_listings(reviews_cph, n = 3)\n",
    "top_5 = find_top_listings(reviews_cph, n = 5)\n",
    "top_10 = find_top_listings(reviews_cph, n = 10)\n"
   ]
  },
  {
   "cell_type": "code",
   "execution_count": 8,
   "metadata": {
    "cell_id": "00010-9a00f8f2-e012-454e-b88e-f9c3ec5e2889",
    "deepnote_cell_type": "code",
    "deepnote_to_be_reexecuted": false,
    "execution_millis": 40,
    "execution_start": 1623324920472,
    "scrolled": false,
    "source_hash": "b5ff15f4",
    "tags": []
   },
   "outputs": [
    {
     "data": {
      "text/plain": [
       "count    7183.000000\n",
       "mean       20.371293\n",
       "std        32.195918\n",
       "min         1.000000\n",
       "25%         4.000000\n",
       "50%        10.000000\n",
       "75%        24.000000\n",
       "max       567.000000\n",
       "Name: comments, dtype: float64"
      ]
     },
     "execution_count": 8,
     "metadata": {},
     "output_type": "execute_result"
    }
   ],
   "source": [
    "desc = reviews_cph.groupby('listing_id')['comments'].count().describe()\n",
    "desc"
   ]
  },
  {
   "cell_type": "code",
   "execution_count": 9,
   "metadata": {
    "cell_id": "00009-89f2d970-a89a-4b9f-84e6-ef754665b260",
    "deepnote_cell_type": "code",
    "deepnote_to_be_reexecuted": false,
    "execution_millis": 185,
    "execution_start": 1623241807122,
    "source_hash": "d860e636",
    "tags": []
   },
   "outputs": [
    {
     "data": {
      "text/plain": [
       "<AxesSubplot:xlabel='Listing_ID', ylabel='Number of Reviews'>"
      ]
     },
     "execution_count": 9,
     "metadata": {},
     "output_type": "execute_result"
    },
    {
     "data": {
      "image/png": "[encoded data removed]",
      "text/plain": [
       "<Figure size 432x288 with 1 Axes>"
      ]
     },
     "metadata": {
      "needs_background": "light"
     },
     "output_type": "display_data"
    }
   ],
   "source": [
    "# plot top 3 \n",
    "sns.barplot(x = 'Listing_ID', y = 'Number of Reviews', data = top_3)\n"
   ]
  },
  {
   "cell_type": "code",
   "execution_count": 10,
   "metadata": {
    "cell_id": "00010-001249f4-30f5-4a61-88b2-f0e792a68cb5",
    "deepnote_cell_type": "code",
    "deepnote_to_be_reexecuted": false,
    "execution_millis": 172,
    "execution_start": 1623241810064,
    "source_hash": "61fd92d",
    "tags": []
   },
   "outputs": [
    {
     "data": {
      "text/plain": [
       "<AxesSubplot:xlabel='Listing_ID', ylabel='Number of Reviews'>"
      ]
     },
     "execution_count": 10,
     "metadata": {},
     "output_type": "execute_result"
    },
    {
     "data": {
      "image/png": "[encoded data removed]",
      "text/plain": [
       "<Figure size 1080x720 with 1 Axes>"
      ]
     },
     "metadata": {
      "needs_background": "light"
     },
     "output_type": "display_data"
    }
   ],
   "source": [
    "# plot top 5\n",
    "fig= plt.figure(figsize=(15,10))\n",
    "sns.barplot(x = 'Listing_ID', y = 'Number of Reviews', data = top_5)\n"
   ]
  },
  {
   "cell_type": "code",
   "execution_count": 11,
   "metadata": {
    "cell_id": "00011-f102ac11-578a-47d7-ae39-af9d57629e40",
    "deepnote_cell_type": "code",
    "deepnote_to_be_reexecuted": false,
    "execution_millis": 267,
    "execution_start": 1623241812994,
    "source_hash": "ac1bf641",
    "tags": []
   },
   "outputs": [
    {
     "data": {
      "text/plain": [
       "<AxesSubplot:xlabel='Listing_ID', ylabel='Number of Reviews'>"
      ]
     },
     "execution_count": 11,
     "metadata": {},
     "output_type": "execute_result"
    },
    {
     "data": {
      "image/png": "[encoded data removed]",
      "text/plain": [
       "<Figure size 2160x1080 with 1 Axes>"
      ]
     },
     "metadata": {
      "needs_background": "light"
     },
     "output_type": "display_data"
    }
   ],
   "source": [
    "# plot top 10 \n",
    "fig= plt.figure(figsize=(30,15))\n",
    "sns.barplot(x = 'Listing_ID', y = 'Number of Reviews', data = top_10)\n"
   ]
  },
  {
   "cell_type": "code",
   "execution_count": 12,
   "metadata": {
    "cell_id": "00009-0eeddf7b-fb40-41d1-a211-fb88c5a46cd1",
    "deepnote_cell_type": "code",
    "deepnote_to_be_reexecuted": false,
    "execution_millis": 346,
    "execution_start": 1623325471845,
    "source_hash": "a3df119c",
    "tags": []
   },
   "outputs": [
    {
     "name": "stdout",
     "output_type": "stream",
     "text": [
      "count    146327.000000\n",
      "mean         49.629050\n",
      "std          44.083056\n",
      "min           1.000000\n",
      "25%          20.000000\n",
      "50%          39.000000\n",
      "75%          65.000000\n",
      "max        1000.000000\n",
      "Name: comments, dtype: float64\n"
     ]
    },
    {
     "data": {
      "text/plain": [
       "<AxesSubplot:>"
      ]
     },
     "execution_count": 12,
     "metadata": {},
     "output_type": "execute_result"
    },
    {
     "data": {
      "image/png": "[encoded data removed]",
      "text/plain": [
       "<Figure size 432x288 with 1 Axes>"
      ]
     },
     "metadata": {
      "needs_background": "light"
     },
     "output_type": "display_data"
    }
   ],
   "source": [
    "# plot distribution of length of reviews \n",
    "lens = reviews_cph.comments.str.split().apply(lambda x: len(x))\n",
    "print(lens.describe())\n",
    "lens.hist()"
   ]
  },
  {
   "cell_type": "code",
   "execution_count": 13,
   "metadata": {
    "cell_id": "00015-3e743f7a-fbc9-4e5b-a45b-42d574ca822e",
    "deepnote_cell_type": "code",
    "deepnote_to_be_reexecuted": false,
    "execution_millis": 5,
    "execution_start": 1623325708070,
    "source_hash": "835e9cb0",
    "tags": []
   },
   "outputs": [
    {
     "data": {
      "text/plain": [
       "42"
      ]
     },
     "execution_count": 13,
     "metadata": {},
     "output_type": "execute_result"
    }
   ],
   "source": [
    "len(reviews_cph.comments[56].split())"
   ]
  },
  {
   "cell_type": "code",
   "execution_count": 14,
   "metadata": {
    "cell_id": "00010-0b95e4d6-8be0-4acf-8392-0941d0daf89e",
    "deepnote_cell_type": "code",
    "deepnote_to_be_reexecuted": false,
    "execution_millis": 18483,
    "execution_start": 1623236637013,
    "source_hash": "ece8059d",
    "tags": []
   },
   "outputs": [
    {
     "data": {
      "text/html": [
       "<div>\n",
       "<style scoped>\n",
       "    .dataframe tbody tr th:only-of-type {\n",
       "        vertical-align: middle;\n",
       "    }\n",
       "\n",
       "    .dataframe tbody tr th {\n",
       "        vertical-align: top;\n",
       "    }\n",
       "\n",
       "    .dataframe thead th {\n",
       "        text-align: right;\n",
       "    }\n",
       "</style>\n",
       "<table border=\"1\" class=\"dataframe\">\n",
       "  <thead>\n",
       "    <tr style=\"text-align: right;\">\n",
       "      <th></th>\n",
       "      <th>0</th>\n",
       "    </tr>\n",
       "  </thead>\n",
       "  <tbody>\n",
       "    <tr>\n",
       "      <th>great location</th>\n",
       "      <td>13252</td>\n",
       "    </tr>\n",
       "    <tr>\n",
       "      <th>highly recommend</th>\n",
       "      <td>10448</td>\n",
       "    </tr>\n",
       "    <tr>\n",
       "      <th>great host</th>\n",
       "      <td>8524</td>\n",
       "    </tr>\n",
       "    <tr>\n",
       "      <th>would definitely</th>\n",
       "      <td>8514</td>\n",
       "    </tr>\n",
       "    <tr>\n",
       "      <th>city center</th>\n",
       "      <td>7839</td>\n",
       "    </tr>\n",
       "    <tr>\n",
       "      <th>walking distance</th>\n",
       "      <td>7646</td>\n",
       "    </tr>\n",
       "    <tr>\n",
       "      <th>place stay</th>\n",
       "      <td>6818</td>\n",
       "    </tr>\n",
       "    <tr>\n",
       "      <th>definitely recommend</th>\n",
       "      <td>6095</td>\n",
       "    </tr>\n",
       "    <tr>\n",
       "      <th>stay copenhagen</th>\n",
       "      <td>5620</td>\n",
       "    </tr>\n",
       "    <tr>\n",
       "      <th>great place</th>\n",
       "      <td>5517</td>\n",
       "    </tr>\n",
       "    <tr>\n",
       "      <th>apartment great</th>\n",
       "      <td>5395</td>\n",
       "    </tr>\n",
       "    <tr>\n",
       "      <th>city centre</th>\n",
       "      <td>5394</td>\n",
       "    </tr>\n",
       "    <tr>\n",
       "      <th>gave us</th>\n",
       "      <td>5372</td>\n",
       "    </tr>\n",
       "    <tr>\n",
       "      <th>really nice</th>\n",
       "      <td>5196</td>\n",
       "    </tr>\n",
       "    <tr>\n",
       "      <th>enjoyed stay</th>\n",
       "      <td>5023</td>\n",
       "    </tr>\n",
       "    <tr>\n",
       "      <th>great stay</th>\n",
       "      <td>4986</td>\n",
       "    </tr>\n",
       "    <tr>\n",
       "      <th>everything need</th>\n",
       "      <td>4875</td>\n",
       "    </tr>\n",
       "    <tr>\n",
       "      <th>would recommend</th>\n",
       "      <td>4742</td>\n",
       "    </tr>\n",
       "    <tr>\n",
       "      <th>recommend place</th>\n",
       "      <td>4720</td>\n",
       "    </tr>\n",
       "    <tr>\n",
       "      <th>automated posting</th>\n",
       "      <td>4498</td>\n",
       "    </tr>\n",
       "    <tr>\n",
       "      <th>arrival automated</th>\n",
       "      <td>4498</td>\n",
       "    </tr>\n",
       "    <tr>\n",
       "      <th>come back</th>\n",
       "      <td>4484</td>\n",
       "    </tr>\n",
       "    <tr>\n",
       "      <th>train station</th>\n",
       "      <td>4474</td>\n",
       "    </tr>\n",
       "    <tr>\n",
       "      <th>well located</th>\n",
       "      <td>4408</td>\n",
       "    </tr>\n",
       "    <tr>\n",
       "      <th>everything needed</th>\n",
       "      <td>4405</td>\n",
       "    </tr>\n",
       "    <tr>\n",
       "      <th>days arrival</th>\n",
       "      <td>4398</td>\n",
       "    </tr>\n",
       "    <tr>\n",
       "      <th>host canceled</th>\n",
       "      <td>4199</td>\n",
       "    </tr>\n",
       "    <tr>\n",
       "      <th>canceled reservation</th>\n",
       "      <td>4194</td>\n",
       "    </tr>\n",
       "    <tr>\n",
       "      <th>highly recommended</th>\n",
       "      <td>4174</td>\n",
       "    </tr>\n",
       "    <tr>\n",
       "      <th>well equipped</th>\n",
       "      <td>4156</td>\n",
       "    </tr>\n",
       "    <tr>\n",
       "      <th>apartment clean</th>\n",
       "      <td>4069</td>\n",
       "    </tr>\n",
       "    <tr>\n",
       "      <th>perfect location</th>\n",
       "      <td>3977</td>\n",
       "    </tr>\n",
       "    <tr>\n",
       "      <th>really enjoyed</th>\n",
       "      <td>3932</td>\n",
       "    </tr>\n",
       "    <tr>\n",
       "      <th>good location</th>\n",
       "      <td>3922</td>\n",
       "    </tr>\n",
       "    <tr>\n",
       "      <th>metro station</th>\n",
       "      <td>3807</td>\n",
       "    </tr>\n",
       "    <tr>\n",
       "      <th>easy get</th>\n",
       "      <td>3740</td>\n",
       "    </tr>\n",
       "    <tr>\n",
       "      <th>definitely stay</th>\n",
       "      <td>3643</td>\n",
       "    </tr>\n",
       "    <tr>\n",
       "      <th>public transport</th>\n",
       "      <td>3621</td>\n",
       "    </tr>\n",
       "    <tr>\n",
       "      <th>location great</th>\n",
       "      <td>3601</td>\n",
       "    </tr>\n",
       "    <tr>\n",
       "      <th>great time</th>\n",
       "      <td>3600</td>\n",
       "    </tr>\n",
       "    <tr>\n",
       "      <th>would highly</th>\n",
       "      <td>3315</td>\n",
       "    </tr>\n",
       "    <tr>\n",
       "      <th>place great</th>\n",
       "      <td>3301</td>\n",
       "    </tr>\n",
       "    <tr>\n",
       "      <th>minute walk</th>\n",
       "      <td>3301</td>\n",
       "    </tr>\n",
       "    <tr>\n",
       "      <th>central station</th>\n",
       "      <td>3261</td>\n",
       "    </tr>\n",
       "    <tr>\n",
       "      <th>location perfect</th>\n",
       "      <td>3150</td>\n",
       "    </tr>\n",
       "    <tr>\n",
       "      <th>recommend staying</th>\n",
       "      <td>3111</td>\n",
       "    </tr>\n",
       "    <tr>\n",
       "      <th>apartment perfect</th>\n",
       "      <td>2953</td>\n",
       "    </tr>\n",
       "    <tr>\n",
       "      <th>minutes walk</th>\n",
       "      <td>2789</td>\n",
       "    </tr>\n",
       "    <tr>\n",
       "      <th>nice place</th>\n",
       "      <td>2775</td>\n",
       "    </tr>\n",
       "    <tr>\n",
       "      <th>great apartment</th>\n",
       "      <td>2761</td>\n",
       "    </tr>\n",
       "  </tbody>\n",
       "</table>\n",
       "</div>"
      ],
      "text/plain": [
       "                          0\n",
       "great location        13252\n",
       "highly recommend      10448\n",
       "great host             8524\n",
       "would definitely       8514\n",
       "city center            7839\n",
       "walking distance       7646\n",
       "place stay             6818\n",
       "definitely recommend   6095\n",
       "stay copenhagen        5620\n",
       "great place            5517\n",
       "apartment great        5395\n",
       "city centre            5394\n",
       "gave us                5372\n",
       "really nice            5196\n",
       "enjoyed stay           5023\n",
       "great stay             4986\n",
       "everything need        4875\n",
       "would recommend        4742\n",
       "recommend place        4720\n",
       "automated posting      4498\n",
       "arrival automated      4498\n",
       "come back              4484\n",
       "train station          4474\n",
       "well located           4408\n",
       "everything needed      4405\n",
       "days arrival           4398\n",
       "host canceled          4199\n",
       "canceled reservation   4194\n",
       "highly recommended     4174\n",
       "well equipped          4156\n",
       "apartment clean        4069\n",
       "perfect location       3977\n",
       "really enjoyed         3932\n",
       "good location          3922\n",
       "metro station          3807\n",
       "easy get               3740\n",
       "definitely stay        3643\n",
       "public transport       3621\n",
       "location great         3601\n",
       "great time             3600\n",
       "would highly           3315\n",
       "place great            3301\n",
       "minute walk            3301\n",
       "central station        3261\n",
       "location perfect       3150\n",
       "recommend staying      3111\n",
       "apartment perfect      2953\n",
       "minutes walk           2789\n",
       "nice place             2775\n",
       "great apartment        2761"
      ]
     },
     "execution_count": 14,
     "metadata": {},
     "output_type": "execute_result"
    }
   ],
   "source": [
    "# find the most common words\n",
    "\n",
    "# most common words \n",
    "stops = set(stopwords.words('english'))\n",
    "cv = CountVectorizer(stop_words=stops)\n",
    "counts = cv.fit_transform(reviews_cph.comments)\n",
    "most_common = pd.DataFrame(counts.sum(axis=0),columns=cv.get_feature_names()).T.sort_values(0,ascending=False).head(50)\n",
    "most_common \n",
    "\n",
    "# find the most common bi-grams \n",
    "co = CountVectorizer(ngram_range=(2,2),stop_words=stops)\n",
    "counts = co.fit_transform(reviews_cph.comments)\n",
    "common_bigrams = pd.DataFrame(counts.sum(axis=0),columns=co.get_feature_names()).T.sort_values(0,ascending=False).head(50)\n",
    "common_bigrams"
   ]
  },
  {
   "cell_type": "code",
   "execution_count": 15,
   "metadata": {
    "cell_id": "00011-94c782b5-3188-4a4d-bbb6-92ce506916c2",
    "deepnote_cell_type": "code",
    "deepnote_to_be_reexecuted": false,
    "execution_millis": 17654,
    "execution_start": 1623239960735,
    "source_hash": "6fc02ff4",
    "tags": []
   },
   "outputs": [],
   "source": [
    "# visualise most common words \n",
    "def create_wordcloud(text, wordcloud_file_name, max_words): \n",
    "    cloud = WordCloud(background_color = \"white\", max_words = max_words, stopwords = set(STOPWORDS))\n",
    "    cloud.generate(text)\n",
    "    cloud.to_file(wordcloud_file_name)\n",
    "\n",
    "#text = reviews_cph.comments.apply(lambda x: x.lower())\n",
    "text = ' '.join(reviews_cph.comments)\n",
    "create_wordcloud(text, wordcloud_file_name=\"wordcloud.png\", max_words=100)\n",
    "\n",
    "# output see files on the left"
   ]
  },
  {
   "cell_type": "markdown",
   "metadata": {
    "cell_id": "00007-a8b37b13-5a5d-44f6-ad78-771e8e146547",
    "deepnote_cell_type": "markdown",
    "tags": []
   },
   "source": [
    "## Topic Modelling"
   ]
  },
  {
   "cell_type": "markdown",
   "metadata": {
    "cell_id": "00001-7b77d60c-7258-4713-9e83-aaf556584762",
    "colab_type": "text",
    "deepnote_cell_type": "markdown",
    "id": "2K6IfoMBzpW0"
   },
   "source": [
    "**The Data**\n",
    "\n",
    "We will use the data of Copenhagen listing reviews of Airbnb downloaded from [Insideairbnb.com](http://insideairbnb.com/get-the-data.html)."
   ]
  },
  {
   "cell_type": "code",
   "execution_count": 16,
   "metadata": {
    "cell_id": "00002-4c5bd7e7-87e7-4b34-b954-82316aa12767",
    "deepnote_cell_type": "code"
   },
   "outputs": [
    {
     "name": "stderr",
     "output_type": "stream",
     "text": [
      "C:\\Users\\Lenovo\\Anaconda3\\lib\\site-packages\\gensim\\similarities\\__init__.py:15: UserWarning: The gensim.similarities.levenshtein submodule is disabled, because the optional Levenshtein package <https://pypi.org/project/python-Levenshtein/> is unavailable. Install Levenhstein (e.g. `pip install python-Levenshtein`) to suppress this warning.\n",
      "  warnings.warn(msg)\n",
      "[nltk_data] Downloading package wordnet to\n",
      "[nltk_data]     C:\\Users\\Lenovo\\AppData\\Roaming\\nltk_data...\n",
      "[nltk_data]   Package wordnet is already up-to-date!\n"
     ]
    },
    {
     "data": {
      "text/plain": [
       "True"
      ]
     },
     "execution_count": 16,
     "metadata": {},
     "output_type": "execute_result"
    }
   ],
   "source": [
    "#necessary packages are imported\n",
    "import pandas as pd\n",
    "import numpy as np\n",
    "import matplotlib.pyplot as plt\n",
    "import gensim\n",
    "from gensim.utils import simple_preprocess\n",
    "from gensim.parsing.preprocessing import STOPWORDS\n",
    "from nltk.stem import WordNetLemmatizer, SnowballStemmer\n",
    "from nltk.stem.porter import *\n",
    "np.random.seed(2018)\n",
    "from gensim.models import CoherenceModel\n",
    "import nltk\n",
    "nltk.download('wordnet')"
   ]
  },
  {
   "cell_type": "code",
   "execution_count": 17,
   "metadata": {
    "cell_id": "00004-cd8e929a-a714-4a47-a79e-0c4c7016d38f",
    "deepnote_cell_type": "code"
   },
   "outputs": [],
   "source": [
    "#the comments column is labeled\n",
    "data_text = reviews_cph[['comments']]\n",
    "documents = data_text"
   ]
  },
  {
   "cell_type": "code",
   "execution_count": 18,
   "metadata": {
    "cell_id": "00005-557ec940-1feb-4ce4-8c00-8bfd057fc2a1",
    "colab": {
     "base_uri": "https://localhost:8080/",
     "height": 34
    },
    "colab_type": "code",
    "deepnote_cell_type": "code",
    "id": "Hkwp16O4sGPB",
    "outputId": "98a170ec-3333-4d33-a8cd-90b14323d629"
   },
   "outputs": [
    {
     "data": {
      "text/plain": [
       "146327"
      ]
     },
     "execution_count": 18,
     "metadata": {},
     "output_type": "execute_result"
    }
   ],
   "source": [
    "len(documents)"
   ]
  },
  {
   "cell_type": "code",
   "execution_count": 19,
   "metadata": {
    "cell_id": "00006-05131666-e704-4f84-a54a-b3a27edf4c37",
    "colab": {
     "base_uri": "https://localhost:8080/",
     "height": 204
    },
    "colab_type": "code",
    "deepnote_cell_type": "code",
    "id": "11qx8LfosGPE",
    "outputId": "4e0c491c-1791-4fa6-9243-7df7c5350747",
    "scrolled": true
   },
   "outputs": [
    {
     "data": {
      "text/html": [
       "<div>\n",
       "<style scoped>\n",
       "    .dataframe tbody tr th:only-of-type {\n",
       "        vertical-align: middle;\n",
       "    }\n",
       "\n",
       "    .dataframe tbody tr th {\n",
       "        vertical-align: top;\n",
       "    }\n",
       "\n",
       "    .dataframe thead th {\n",
       "        text-align: right;\n",
       "    }\n",
       "</style>\n",
       "<table border=\"1\" class=\"dataframe\">\n",
       "  <thead>\n",
       "    <tr style=\"text-align: right;\">\n",
       "      <th></th>\n",
       "      <th>comments</th>\n",
       "    </tr>\n",
       "  </thead>\n",
       "  <tbody>\n",
       "    <tr>\n",
       "      <th>0</th>\n",
       "      <td>Convenient location, clean apartment, great br...</td>\n",
       "    </tr>\n",
       "    <tr>\n",
       "      <th>1</th>\n",
       "      <td>We really enjoyed staying to Simon in our firs...</td>\n",
       "    </tr>\n",
       "    <tr>\n",
       "      <th>2</th>\n",
       "      <td>Friendly host, save neighbourhood, clean appar...</td>\n",
       "    </tr>\n",
       "    <tr>\n",
       "      <th>3</th>\n",
       "      <td>Simon is great!  Fantastic place to stay, supe...</td>\n",
       "    </tr>\n",
       "    <tr>\n",
       "      <th>4</th>\n",
       "      <td>Great bed, clean apartment, comfy bed, accomod...</td>\n",
       "    </tr>\n",
       "  </tbody>\n",
       "</table>\n",
       "</div>"
      ],
      "text/plain": [
       "                                            comments\n",
       "0  Convenient location, clean apartment, great br...\n",
       "1  We really enjoyed staying to Simon in our firs...\n",
       "2  Friendly host, save neighbourhood, clean appar...\n",
       "3  Simon is great!  Fantastic place to stay, supe...\n",
       "4  Great bed, clean apartment, comfy bed, accomod..."
      ]
     },
     "execution_count": 19,
     "metadata": {},
     "output_type": "execute_result"
    }
   ],
   "source": [
    "#a small overview on how the data looks\n",
    "documents[:5]"
   ]
  },
  {
   "cell_type": "code",
   "execution_count": 20,
   "metadata": {
    "cell_id": "00007-c12b0052-d99c-4e3c-a87f-46db9aeb77d5",
    "deepnote_cell_type": "code"
   },
   "outputs": [],
   "source": [
    "#missing comments are dropped\n",
    "documents = documents.dropna()\n",
    "#we have spotted around 4000 rows that had an automated message caused by cancelled reservation. These comments are removed.\n",
    "documents = documents[~documents.comments.str.contains(\"The host canceled this reservation\")]"
   ]
  },
  {
   "cell_type": "code",
   "execution_count": 21,
   "metadata": {
    "cell_id": "00008-5b18e544-d36c-40ec-803e-2498128c642e",
    "deepnote_cell_type": "code",
    "scrolled": true
   },
   "outputs": [
    {
     "data": {
      "text/plain": [
       "142140"
      ]
     },
     "execution_count": 21,
     "metadata": {},
     "output_type": "execute_result"
    }
   ],
   "source": [
    "#data length after dropping irrelevant rows\n",
    "len(documents)"
   ]
  },
  {
   "cell_type": "code",
   "execution_count": 22,
   "metadata": {
    "cell_id": "00009-5041a066-cfbe-4f04-a727-15b354ec6743",
    "deepnote_cell_type": "code"
   },
   "outputs": [
    {
     "data": {
      "text/plain": [
       "\"Convenient location, clean apartment, great breakfast...couldn't have asked for more. Best value in lodging in all of Copenhagen. \""
      ]
     },
     "execution_count": 22,
     "metadata": {},
     "output_type": "execute_result"
    }
   ],
   "source": [
    "#an overview of how a comment looks\n",
    "documents['comments'][0]"
   ]
  },
  {
   "cell_type": "markdown",
   "metadata": {
    "cell_id": "00010-195d86a0-c254-4ae7-a696-72b8596b9a21",
    "colab_type": "text",
    "deepnote_cell_type": "markdown",
    "id": "GjqX-5oRsGPG"
   },
   "source": [
    "**Data Preprocessing**\n",
    "\n",
    "We will perform the following steps:\n",
    "\n",
    "Tokenization: Split the text into sentences and the sentences into words. \n",
    "\n",
    "Lowercase the words and remove punctuation.\n",
    "\n",
    "Words that have fewer than 3 characters are removed.\n",
    "\n",
    "All stopwords are removed.\n",
    "\n",
    "Words are lemmatized — words in third person are changed to first person and verbs in past and future tenses are changed into present.\n",
    "\n",
    "Words are stemmed — words are reduced to their root form.\n"
   ]
  },
  {
   "cell_type": "code",
   "execution_count": 23,
   "metadata": {
    "cell_id": "00011-651800b0-f7de-4528-86ea-d05f68714b19",
    "colab": {
     "base_uri": "https://localhost:8080/",
     "height": 374
    },
    "colab_type": "code",
    "deepnote_cell_type": "code",
    "id": "DAv8NNOpwHA3",
    "outputId": "ac8c1a04-f33f-4bd5-adb2-a04d9bcc9644"
   },
   "outputs": [],
   "source": [
    "#install the package paramiko\n",
    "#!pip install --upgrade pip\n",
    "#!pip install --no-use-pep517 bcrypt\n",
    "#!pip install paramiko"
   ]
  },
  {
   "cell_type": "markdown",
   "metadata": {
    "cell_id": "00014-c7d629e6-1805-4d7d-9762-dac28a9adf26",
    "colab_type": "text",
    "deepnote_cell_type": "markdown",
    "id": "naI56ycZ0zrL"
   },
   "source": [
    "Write a function to perform lemmatize and stem preprocessing steps on the data set."
   ]
  },
  {
   "cell_type": "code",
   "execution_count": 24,
   "metadata": {
    "cell_id": "00015-930aad5a-eb97-4e60-a319-87983bfd01b5",
    "colab": {},
    "colab_type": "code",
    "deepnote_cell_type": "code",
    "id": "GDcnq0PzsGPO"
   },
   "outputs": [],
   "source": [
    "stemmer = SnowballStemmer('english')\n",
    "def lemmatize_stemming(text):\n",
    "    return stemmer.stem(WordNetLemmatizer().lemmatize(text, pos='v'))\n",
    "\n",
    "def preprocess(text):\n",
    "    result = []\n",
    "    for token in gensim.utils.simple_preprocess(text):\n",
    "        if token not in gensim.parsing.preprocessing.STOPWORDS and len(token) > 3:\n",
    "            result.append(lemmatize_stemming(token))\n",
    "    return result"
   ]
  },
  {
   "cell_type": "markdown",
   "metadata": {
    "cell_id": "00016-bc67e60a-5692-4a0c-a3a4-00ee82a61763",
    "colab_type": "text",
    "deepnote_cell_type": "markdown",
    "id": "tdZBOeUA01BJ"
   },
   "source": [
    "Select a document to preview after preprocessing."
   ]
  },
  {
   "cell_type": "code",
   "execution_count": 25,
   "metadata": {
    "cell_id": "00018-94ec87bd-8ae2-4368-9a08-aa1b750ab15e",
    "colab": {
     "base_uri": "https://localhost:8080/",
     "height": 119
    },
    "colab_type": "code",
    "deepnote_cell_type": "code",
    "id": "JGkK7HggsGPQ",
    "outputId": "973208d0-8f64-4b49-88e5-90f64c288660"
   },
   "outputs": [
    {
     "name": "stdout",
     "output_type": "stream",
     "text": [
      "original document: \n",
      "['Convenient', 'location,', 'clean', 'apartment,', 'great', \"breakfast...couldn't\", 'have', 'asked', 'for', 'more.', 'Best', 'value', 'in', 'lodging', 'in', 'all', 'of', 'Copenhagen.', '']\n",
      "\n",
      "\n",
      " tokenized and lemmatized document: \n",
      "['conveni', 'locat', 'clean', 'apart', 'great', 'breakfast', 'couldn', 'ask', 'best', 'valu', 'lodg', 'copenhagen']\n"
     ]
    }
   ],
   "source": [
    "doc_sample = documents.values[0][0]\n",
    "\n",
    "print('original document: ')\n",
    "words = []\n",
    "for word in doc_sample.split(' '):\n",
    "    words.append(word)\n",
    "print(words)\n",
    "print('\\n\\n tokenized and lemmatized document: ')\n",
    "print(preprocess(doc_sample))"
   ]
  },
  {
   "cell_type": "markdown",
   "metadata": {
    "cell_id": "00019-8f522d35-5eff-40a7-8653-a1e3347b2b73",
    "colab_type": "text",
    "deepnote_cell_type": "markdown",
    "id": "WPD1aTVh07yc"
   },
   "source": [
    "Preprocess the comments text, saving the results as ‘processed_docs’"
   ]
  },
  {
   "cell_type": "code",
   "execution_count": 26,
   "metadata": {
    "cell_id": "00020-f502b28d-e222-4c12-9f46-b930aa6b5f25",
    "colab": {},
    "colab_type": "code",
    "deepnote_cell_type": "code",
    "id": "ZwbphtjUsGPS"
   },
   "outputs": [],
   "source": [
    "processed_docs = documents['comments'].map(preprocess)"
   ]
  },
  {
   "cell_type": "code",
   "execution_count": 27,
   "metadata": {
    "cell_id": "00021-31300c4e-312c-447f-bbd9-49642e6dbc08",
    "deepnote_cell_type": "code"
   },
   "outputs": [
    {
     "data": {
      "text/plain": [
       "142140"
      ]
     },
     "execution_count": 27,
     "metadata": {},
     "output_type": "execute_result"
    }
   ],
   "source": [
    "len(processed_docs)"
   ]
  },
  {
   "cell_type": "markdown",
   "metadata": {
    "cell_id": "00022-6af1cd89-cd87-42ff-aac9-338f4926d9ad",
    "colab_type": "text",
    "deepnote_cell_type": "markdown",
    "id": "tdNZhWS-sGPW"
   },
   "source": [
    "**Bag of Words on the Data set**\n",
    "\n",
    "Create a dictionary from ‘processed_docs’ containing the number of times a word appears in the training set."
   ]
  },
  {
   "cell_type": "code",
   "execution_count": 28,
   "metadata": {
    "cell_id": "00023-04ee0253-cbe9-4fe6-92eb-d7cdfa01caa3",
    "colab": {},
    "colab_type": "code",
    "deepnote_cell_type": "code",
    "id": "0gXdBucGsGPW"
   },
   "outputs": [],
   "source": [
    "dictionary = gensim.corpora.Dictionary(processed_docs)"
   ]
  },
  {
   "cell_type": "code",
   "execution_count": 29,
   "metadata": {
    "cell_id": "00024-88d9df41-3f64-476c-841a-d37843bbf457",
    "deepnote_cell_type": "code"
   },
   "outputs": [
    {
     "name": "stdout",
     "output_type": "stream",
     "text": [
      "25813\n"
     ]
    }
   ],
   "source": [
    "print(len(dictionary.iteritems()))"
   ]
  },
  {
   "cell_type": "code",
   "execution_count": 30,
   "metadata": {
    "cell_id": "00025-a34b9d31-f008-4b2a-9992-26c6203479be",
    "colab": {
     "base_uri": "https://localhost:8080/",
     "height": 204
    },
    "colab_type": "code",
    "deepnote_cell_type": "code",
    "id": "wLrmqlLwsGPX",
    "outputId": "5d81fdf2-4ad1-4cde-fd02-fa09de9cdcec"
   },
   "outputs": [
    {
     "name": "stdout",
     "output_type": "stream",
     "text": [
      "0 apart\n",
      "1 ask\n",
      "2 best\n",
      "3 breakfast\n",
      "4 clean\n",
      "5 conveni\n",
      "6 copenhagen\n",
      "7 couldn\n",
      "8 great\n",
      "9 locat\n",
      "10 lodg\n"
     ]
    }
   ],
   "source": [
    "count = 0\n",
    "for k, v in dictionary.iteritems():\n",
    "    print(k, v)\n",
    "    count += 1\n",
    "    if count > 10:\n",
    "        break"
   ]
  },
  {
   "cell_type": "markdown",
   "metadata": {
    "cell_id": "00026-73d8933b-6301-42f3-820d-8d317352de6c",
    "colab_type": "text",
    "deepnote_cell_type": "markdown",
    "id": "8CkH6wvd1Iz5"
   },
   "source": [
    "**Gensim filter_extremes**\n",
    "\n",
    "Filter out tokens that appear in\n",
    "\n",
    "less than 5 documents (absolute number) or\n",
    "\n",
    "more than 0.5 documents (fraction of total corpus size, not absolute number)."
   ]
  },
  {
   "cell_type": "code",
   "execution_count": 31,
   "metadata": {
    "cell_id": "00027-84afc008-8320-4ca0-9da4-25f55d1bc2f4",
    "colab": {},
    "colab_type": "code",
    "deepnote_cell_type": "code",
    "id": "cTemo6BhsGPa",
    "scrolled": true
   },
   "outputs": [
    {
     "name": "stdout",
     "output_type": "stream",
     "text": [
      "7034\n"
     ]
    }
   ],
   "source": [
    "dictionary.filter_extremes(no_below=5, no_above=0.5, keep_n=100000)\n",
    "print(len(dictionary.iteritems()))"
   ]
  },
  {
   "cell_type": "markdown",
   "metadata": {
    "cell_id": "00028-7af28e6d-2c5b-43db-a7cc-988dd20256a5",
    "colab_type": "text",
    "deepnote_cell_type": "markdown",
    "id": "qNbj2FT-1SzV"
   },
   "source": [
    "**Gensim doc2bow**\n",
    "\n",
    "For each document we create a dictionary reporting how many\n",
    "words and how many times those words appear. Save this to ‘bow_corpus’, then check our selected document earlier."
   ]
  },
  {
   "cell_type": "code",
   "execution_count": 32,
   "metadata": {
    "cell_id": "00029-d23ac743-a482-48cf-a844-3b75694c8c69",
    "colab": {
     "base_uri": "https://localhost:8080/",
     "height": 34
    },
    "colab_type": "code",
    "deepnote_cell_type": "code",
    "id": "h_f8GEZqsGPc",
    "outputId": "d4ebdab1-7c6c-419c-b448-86ce097f87c0"
   },
   "outputs": [
    {
     "name": "stdout",
     "output_type": "stream",
     "text": [
      "[(9, 1), (15, 1), (19, 1), (37, 3), (48, 2), (61, 1), (69, 1), (70, 1), (75, 1), (84, 1), (98, 1), (101, 1), (102, 1), (156, 1), (164, 1), (168, 1), (195, 1), (196, 1), (197, 1), (198, 1), (199, 1)]\n",
      "length of corpus:  142140\n"
     ]
    }
   ],
   "source": [
    "bow_corpus = [dictionary.doc2bow(doc) for doc in processed_docs]\n",
    "\n",
    "print(bow_corpus[25])\n",
    "print('length of corpus: ', len(bow_corpus))"
   ]
  },
  {
   "cell_type": "markdown",
   "metadata": {
    "cell_id": "00030-d30c27d2-9a0e-4503-bf27-02b563d0a546",
    "colab_type": "text",
    "deepnote_cell_type": "markdown",
    "id": "7erdIQC_1X3U"
   },
   "source": [
    "Preview Bag Of Words for our sample preprocessed document."
   ]
  },
  {
   "cell_type": "code",
   "execution_count": 33,
   "metadata": {
    "cell_id": "00031-757b9781-0d16-49f7-8da9-eef5132488fe",
    "colab": {
     "base_uri": "https://localhost:8080/",
     "height": 85
    },
    "colab_type": "code",
    "deepnote_cell_type": "code",
    "id": "4IURxmH0sGPe",
    "outputId": "c2f077b3-9f0f-4e24-e513-bca11b0f28cb"
   },
   "outputs": [
    {
     "name": "stdout",
     "output_type": "stream",
     "text": [
      "Word 9 (\"locat\") appears 1 time.\n",
      "Word 15 (\"host\") appears 1 time.\n",
      "Word 19 (\"simon\") appears 1 time.\n",
      "Word 37 (\"like\") appears 3 time.\n",
      "Word 48 (\"amaz\") appears 2 time.\n",
      "Word 61 (\"nice\") appears 1 time.\n",
      "Word 69 (\"coffe\") appears 1 time.\n",
      "Word 70 (\"come\") appears 1 time.\n",
      "Word 75 (\"night\") appears 1 time.\n",
      "Word 84 (\"equip\") appears 1 time.\n",
      "Word 98 (\"weekend\") appears 1 time.\n",
      "Word 101 (\"felt\") appears 1 time.\n",
      "Word 102 (\"home\") appears 1 time.\n",
      "Word 156 (\"walk\") appears 1 time.\n",
      "Word 164 (\"thing\") appears 1 time.\n",
      "Word 168 (\"center\") appears 1 time.\n",
      "Word 195 (\"fresh\") appears 1 time.\n",
      "Word 196 (\"hous\") appears 1 time.\n",
      "Word 197 (\"short\") appears 1 time.\n",
      "Word 198 (\"thank\") appears 1 time.\n",
      "Word 199 (\"wonderful\") appears 1 time.\n"
     ]
    }
   ],
   "source": [
    "bow_doc_25 = bow_corpus[25]\n",
    "\n",
    "for i in range(len(bow_doc_25)):\n",
    "    print(\"Word {} (\\\"{}\\\") appears {} time.\".format(bow_doc_25[i][0], \n",
    "                                                     dictionary[bow_doc_25[i][0]], \n",
    "                                                     bow_doc_25[i][1]))"
   ]
  },
  {
   "cell_type": "markdown",
   "metadata": {
    "cell_id": "00032-5fd47676-c654-4e1c-b335-7b3ce89be501",
    "colab_type": "text",
    "deepnote_cell_type": "markdown",
    "id": "_Rc91kgCsGPm"
   },
   "source": [
    "### LDA using Bag of Words\n",
    "\n",
    "Before training the model, we look at the coherence score in order to pick the optimal number of topics"
   ]
  },
  {
   "cell_type": "code",
   "execution_count": 34,
   "metadata": {
    "cell_id": "00033-a7a93baa-7002-4a65-a461-8fe005086cf2",
    "deepnote_cell_type": "code",
    "scrolled": true
   },
   "outputs": [],
   "source": [
    "coherences=[]\n",
    "for i in range(1,100,10):\n",
    "    cm = CoherenceModel(model=gensim.models.LdaMulticore(bow_corpus, num_topics=i, \n",
    "                                       id2word=dictionary, passes=2, \n",
    "                                      workers=4), corpus=bow_corpus, coherence='u_mass')\n",
    "    coherence = cm.get_coherence()  # get coherence value\n",
    "    coherences.append(coherence)"
   ]
  },
  {
   "cell_type": "code",
   "execution_count": 35,
   "metadata": {
    "cell_id": "00034-63a4b6ef-2581-480b-a224-b7cdc2aeaa04",
    "deepnote_cell_type": "code",
    "scrolled": true
   },
   "outputs": [
    {
     "data": {
      "text/plain": [
       "Text(0, 0.5, 'Coherence Score')"
      ]
     },
     "execution_count": 35,
     "metadata": {},
     "output_type": "execute_result"
    },
    {
     "data": {
      "image/png": "[encoded data removed]",
      "text/plain": [
       "<Figure size 432x288 with 1 Axes>"
      ]
     },
     "metadata": {
      "needs_background": "light"
     },
     "output_type": "display_data"
    }
   ],
   "source": [
    "plt.plot(range(1,100,10),coherences)\n",
    "plt.title('Coherence Scores by Number of Topics')\n",
    "plt.xlabel('Number of Topics')\n",
    "plt.ylabel('Coherence Score')"
   ]
  },
  {
   "cell_type": "code",
   "execution_count": 36,
   "metadata": {
    "cell_id": "00035-24379d98-2147-49e4-b9b5-4fd750c9f619",
    "deepnote_cell_type": "code"
   },
   "outputs": [],
   "source": [
    "coherences_low=[]\n",
    "for i in range(1,10):\n",
    "    cm = CoherenceModel(model=gensim.models.LdaMulticore(bow_corpus, num_topics=i, \n",
    "                                       id2word=dictionary, passes=2, \n",
    "                                      workers=4), corpus=bow_corpus, coherence='u_mass')\n",
    "    coherence = cm.get_coherence()  # get coherence value\n",
    "    coherences_low.append(coherence)"
   ]
  },
  {
   "cell_type": "code",
   "execution_count": 37,
   "metadata": {
    "cell_id": "00036-ea1d09f5-8c73-43be-a86d-155745607c91",
    "deepnote_cell_type": "code"
   },
   "outputs": [
    {
     "data": {
      "text/plain": [
       "Text(0, 0.5, 'Coherence Score')"
      ]
     },
     "execution_count": 37,
     "metadata": {},
     "output_type": "execute_result"
    },
    {
     "data": {
      "image/png": "[encoded data removed]",
      "text/plain": [
       "<Figure size 432x288 with 1 Axes>"
      ]
     },
     "metadata": {
      "needs_background": "light"
     },
     "output_type": "display_data"
    }
   ],
   "source": [
    "plt.plot(range(1,10),coherences_low)\n",
    "plt.title('Coherence Scores by Number of Topics')\n",
    "plt.xlabel('Number of Topics')\n",
    "plt.ylabel('Coherence Score')"
   ]
  },
  {
   "cell_type": "code",
   "execution_count": 39,
   "metadata": {
    "cell_id": "00037-01cc5469-fd52-4cca-96cb-0aefda7d93c3",
    "colab": {},
    "colab_type": "code",
    "deepnote_cell_type": "code",
    "id": "2x_9_OaxsGPm",
    "scrolled": true
   },
   "outputs": [],
   "source": [
    "lda_model = gensim.models.LdaMulticore(bow_corpus, num_topics=7, \n",
    "                                       id2word=dictionary, passes=2, \n",
    "                                      workers=4)"
   ]
  },
  {
   "cell_type": "code",
   "execution_count": 40,
   "metadata": {
    "cell_id": "00038-eee0c2da-8c1a-4323-85ce-b8ce3a12ef53",
    "deepnote_cell_type": "code"
   },
   "outputs": [
    {
     "name": "stdout",
     "output_type": "stream",
     "text": [
      "\n",
      "Perplexity:  -6.282677945148278\n"
     ]
    }
   ],
   "source": [
    "print('\\nPerplexity: ', lda_model.log_perplexity(bow_corpus))"
   ]
  },
  {
   "cell_type": "markdown",
   "metadata": {
    "cell_id": "00034-53e0fa77-42b8-4b13-ae59-ff157b026f51",
    "deepnote_cell_type": "markdown",
    "tags": []
   },
   "source": [
    "Train our lda model using gensim.models.LdaMulticore and save it to ‘lda_model’"
   ]
  },
  {
   "cell_type": "code",
   "execution_count": 41,
   "metadata": {
    "cell_id": "00039-031ad020-0925-4153-91e1-6f99613c848d",
    "colab": {
     "base_uri": "https://localhost:8080/",
     "height": 357
    },
    "colab_type": "code",
    "deepnote_cell_type": "code",
    "id": "yxp0YzCJsGPo",
    "outputId": "ae61543b-f6fe-48e6-d7db-dfbe6549be89"
   },
   "outputs": [
    {
     "name": "stdout",
     "output_type": "stream",
     "text": [
      "Topic: 1 \n",
      "Words: 0.031*\"stay\" + 0.028*\"nice\" + 0.028*\"locat\" + 0.027*\"flat\" + 0.027*\"apart\" + 0.026*\"great\" + 0.023*\"perfect\" + 0.018*\"place\" + 0.018*\"time\" + 0.018*\"copenhagen\"\n",
      "Topic: 2 \n",
      "Words: 0.027*\"locat\" + 0.026*\"room\" + 0.026*\"place\" + 0.023*\"stay\" + 0.021*\"apart\" + 0.018*\"copenhagen\" + 0.018*\"great\" + 0.016*\"clean\" + 0.015*\"perfect\" + 0.013*\"bathroom\"\n",
      "Topic: 3 \n",
      "Words: 0.018*\"apart\" + 0.013*\"locat\" + 0.010*\"stay\" + 0.010*\"walk\" + 0.010*\"bathroom\" + 0.010*\"room\" + 0.010*\"floor\" + 0.009*\"great\" + 0.009*\"kitchen\" + 0.008*\"place\"\n",
      "Topic: 4 \n",
      "Words: 0.035*\"hous\" + 0.028*\"stay\" + 0.021*\"place\" + 0.020*\"citi\" + 0.018*\"apart\" + 0.015*\"copenhagen\" + 0.015*\"minut\" + 0.014*\"perfect\" + 0.014*\"walk\" + 0.014*\"famili\"\n",
      "Topic: 5 \n",
      "Words: 0.055*\"nice\" + 0.053*\"great\" + 0.046*\"locat\" + 0.041*\"apart\" + 0.036*\"host\" + 0.033*\"place\" + 0.031*\"good\" + 0.027*\"clean\" + 0.022*\"close\" + 0.020*\"citi\"\n",
      "Topic: 6 \n",
      "Words: 0.053*\"apart\" + 0.038*\"great\" + 0.029*\"locat\" + 0.027*\"stay\" + 0.024*\"place\" + 0.023*\"walk\" + 0.021*\"recommend\" + 0.019*\"copenhagen\" + 0.018*\"easi\" + 0.017*\"check\"\n",
      "Topic: 7 \n",
      "Words: 0.050*\"stay\" + 0.041*\"place\" + 0.027*\"recommend\" + 0.026*\"copenhagen\" + 0.025*\"great\" + 0.021*\"love\" + 0.019*\"host\" + 0.019*\"apart\" + 0.017*\"home\" + 0.016*\"locat\"\n"
     ]
    }
   ],
   "source": [
    "for idx, topic in lda_model.print_topics(-1):\n",
    "    print('Topic: {} \\nWords: {}'.format(idx+1, topic))"
   ]
  },
  {
   "cell_type": "markdown",
   "metadata": {
    "cell_id": "00041-ce191e56-3979-4028-9229-54eacf123675",
    "colab_type": "text",
    "deepnote_cell_type": "markdown",
    "id": "9KKsOYnw2lDB"
   },
   "source": [
    "# Visualization\n",
    "\n",
    "There is a nice way to visualize the LDA model you built using the package pyLDAvis:"
   ]
  },
  {
   "cell_type": "code",
   "execution_count": 42,
   "metadata": {
    "cell_id": "00042-0b6709a4-bfc3-4b53-9320-091efb1d034e",
    "colab": {
     "base_uri": "https://localhost:8080/",
     "height": 1371
    },
    "colab_type": "code",
    "deepnote_cell_type": "code",
    "id": "YLySzcee2JlW",
    "outputId": "daea47ea-35d3-4632-b8e9-bb8f927782b1"
   },
   "outputs": [
    {
     "data": {
      "text/html": [
       "\n",
       "<link rel=\"stylesheet\" type=\"text/css\" href=\"https://cdn.jsdelivr.net/gh/bmabey/pyLDAvis@3.3.1/pyLDAvis/js/ldavis.v1.0.0.css\">\n",
       "\n",
       "\n",
       "<div id=\"ldavis_el1253630210617914401690568183\"></div>\n",
       "<script type=\"text/javascript\">\n",
       "\n",
       "var ldavis_el1253630210617914401690568183_data = {\"mdsDat\": {\"x\": [0.018557346399671153, 0.037294811224292075, -0.15170698349472572, 0.027326215214247093, 0.09444709228762055, 0.0313899727381889, -0.0573084543692941], \"y\": [-0.009609792449212274, 0.06640582288921426, -0.022005450417686437, 0.029026027052911504, -0.09729645990660424, 0.05274314496869354, -0.019263292137316146], \"topics\": [1, 2, 3, 4, 5, 6, 7], \"cluster\": [1, 1, 1, 1, 1, 1, 1], \"Freq\": [21.202658127324447, 17.805821059105263, 17.23407986444878, 12.487978516790118, 12.170106735727613, 11.851171519011778, 7.248184177591983]}, \"tinfo\": {\"Term\": [\"hous\", \"nice\", \"good\", \"room\", \"great\", \"locat\", \"flat\", \"host\", \"stay\", \"appart\", \"place\", \"bathroom\", \"perfect\", \"clean\", \"center\", \"apart\", \"home\", \"check\", \"close\", \"metro\", \"copenhagen\", \"famili\", \"recommend\", \"floor\", \"walk\", \"quick\", \"station\", \"citi\", \"minut\", \"time\", \"oskar\", \"nicolai\", \"ebb\", \"catrin\", \"hanna\", \"corona\", \"margaret\", \"penni\", \"stephan\", \"celin\", \"kerstin\", \"coppenhagen\", \"retail\", \"yvonn\", \"lui\", \"painless\", \"old\", \"southern\", \"monika\", \"bedsid\", \"thursday\", \"nickla\", \"albert\", \"with\", \"alan\", \"deliveri\", \"luis\", \"minuet\", \"largest\", \"chromecast\", \"benni\", \"joann\", \"nelli\", \"bar\", \"meatpack\", \"frederik\", \"marco\", \"j\\u00e6gersborggad\", \"check\", \"process\", \"checkin\", \"katrin\", \"distanc\", \"cafe\", \"restaur\", \"stephani\", \"marlen\", \"attract\", \"martin\", \"walk\", \"meat\", \"seamless\", \"stylish\", \"shop\", \"apart\", \"easi\", \"smooth\", \"jesper\", \"communic\", \"great\", \"lot\", \"district\", \"local\", \"base\", \"recommend\", \"locat\", \"fantast\", \"main\", \"copenhagen\", \"high\", \"short\", \"stay\", \"flexibl\", \"love\", \"central\", \"place\", \"definit\", \"area\", \"nearbi\", \"need\", \"station\", \"minut\", \"clean\", \"close\", \"host\", \"perfect\", \"citi\", \"help\", \"joachim\", \"rebecca\", \"sabin\", \"troel\", \"paulin\", \"tent\", \"fanni\", \"jane\", \"margit\", \"guillaum\", \"supermarkt\", \"stylist\", \"miriam\", \"dorm\", \"pall\", \"ida\", \"bean\", \"silja\", \"confi\", \"danni\", \"technolog\", \"accomad\", \"kirsten\", \"janus\", \"n\\u00f6rrebro\", \"refin\", \"wond\", \"rearrang\", \"eventhough\", \"bori\", \"carsten\", \"jett\", \"britta\", \"allan\", \"friendliest\", \"annett\", \"nana\", \"susann\", \"sofi\", \"freja\", \"claus\", \"trine\", \"frank\", \"katja\", \"bent\", \"brian\", \"mikael\", \"simon\", \"convers\", \"home\", \"christina\", \"thoma\", \"stay\", \"best\", \"welcom\", \"feel\", \"visit\", \"place\", \"recommend\", \"give\", \"love\", \"copenhagen\", \"high\", \"warm\", \"tip\", \"absolut\", \"experi\", \"airbnb\", \"amaz\", \"help\", \"definit\", \"thank\", \"wonder\", \"host\", \"friend\", \"great\", \"kind\", \"enjoy\", \"beauti\", \"time\", \"perfect\", \"citi\", \"apart\", \"room\", \"locat\", \"clean\", \"nice\", \"comfort\", \"super\", \"toaster\", \"deterg\", \"smelli\", \"boiler\", \"garbag\", \"forc\", \"dirti\", \"steep\", \"unclean\", \"cabin\", \"cabinet\", \"spider\", \"condition\", \"dirt\", \"blackout\", \"stall\", \"shout\", \"drain\", \"leak\", \"gate\", \"ignor\", \"refund\", \"slam\", \"lockbox\", \"staircas\", \"narrow\", \"agenc\", \"truck\", \"press\", \"bin\", \"code\", \"unlock\", \"spiral\", \"plug\", \"dust\", \"climb\", \"bell\", \"sink\", \"pillow\", \"floor\", \"unit\", \"grind\", \"minor\", \"window\", \"loud\", \"construct\", \"hear\", \"church\", \"nois\", \"upstair\", \"heavi\", \"shampoo\", \"stair\", \"elev\", \"challeng\", \"blind\", \"toilet\", \"awar\", \"issu\", \"noisi\", \"lack\", \"sleeper\", \"shower\", \"wall\", \"curtain\", \"lift\", \"towel\", \"build\", \"smell\", \"door\", \"water\", \"heat\", \"wash\", \"bathroom\", \"bedroom\", \"open\", \"sleep\", \"luggag\", \"kitchen\", \"machin\", \"night\", \"small\", \"problem\", \"note\", \"street\", \"littl\", \"work\", \"thing\", \"morn\", \"room\", \"bed\", \"apart\", \"walk\", \"light\", \"locat\", \"live\", \"space\", \"stay\", \"great\", \"nice\", \"flat\", \"place\", \"good\", \"comfort\", \"copenhagen\", \"need\", \"clean\", \"citi\", \"love\", \"like\", \"lisbeth\", \"lass\", \"bjark\", \"rachel\", \"joakim\", \"elin\", \"greta\", \"thei\", \"sine\", \"susan\", \"jen\", \"uff\", \"samantha\", \"pandem\", \"sids\", \"nicki\", \"strandpark\", \"ingrid\", \"ander\", \"justin\", \"trampolin\", \"satisfact\", \"majken\", \"para\", \"casa\", \"evelyn\", \"elain\", \"ocean\", \"guesthous\", \"f\\u00f8tex\", \"sceneri\", \"sara\", \"toy\", \"amali\", \"playground\", \"hous\", \"amag\", \"kid\", \"hell\", \"marc\", \"kenneth\", \"children\", \"anett\", \"beach\", \"vibek\", \"play\", \"linda\", \"famili\", \"garden\", \"ann\", \"alexand\", \"maria\", \"adult\", \"minut\", \"park\", \"centr\", \"citi\", \"away\", \"beauti\", \"metro\", \"stop\", \"stay\", \"supermarket\", \"center\", \"perfect\", \"walk\", \"bike\", \"enjoy\", \"place\", \"love\", \"copenhagen\", \"close\", \"equip\", \"apart\", \"recommend\", \"quiet\", \"locat\", \"great\", \"comfort\", \"host\", \"easi\", \"clean\", \"nice\", \"friend\", \"need\", \"area\", \"sandra\", \"jannick\", \"bettina\", \"tito\", \"tamara\", \"mila\", \"vanl\\u00f8s\", \"marta\", \"sharebox\", \"beata\", \"thor\", \"riccardo\", \"shiri\", \"frantz\", \"sven\", \"autom\", \"bolett\", \"busstat\", \"mina\", \"ramona\", \"susanna\", \"monti\", \"inquir\", \"gabriela\", \"julius\", \"kristen\", \"hubert\", \"shirley\", \"ophold\", \"tap\", \"frederikk\", \"klaus\", \"louisa\", \"tina\", \"thea\", \"mira\", \"centrum\", \"cancel\", \"lina\", \"post\", \"valu\", \"nice\", \"center\", \"good\", \"near\", \"public\", \"transport\", \"jepp\", \"reserv\", \"quick\", \"money\", \"close\", \"host\", \"station\", \"cozi\", \"great\", \"metro\", \"locat\", \"clean\", \"fast\", \"connect\", \"answer\", \"respond\", \"super\", \"apart\", \"help\", \"conveni\", \"citi\", \"place\", \"respons\", \"friend\", \"train\", \"airport\", \"quiet\", \"easi\", \"recommend\", \"room\", \"stay\", \"communic\", \"central\", \"comfort\", \"emil\", \"kamilla\", \"stine\", \"monica\", \"nadia\", \"viktoria\", \"victor\", \"jasmin\", \"verri\", \"robin\", \"housekeep\", \"nico\", \"citytrip\", \"spars\", \"saver\", \"ubic\", \"surpass\", \"barbara\", \"meticul\", \"philipp\", \"natalia\", \"olivia\", \"axel\", \"sauna\", \"generat\", \"supris\", \"titl\", \"bopa\", \"luke\", \"daniel\", \"lisa\", \"camila\", \"lott\", \"poul\", \"exquisit\", \"luka\", \"henriett\", \"christoph\", \"julia\", \"jann\", \"appart\", \"kristin\", \"wonderful\", \"chris\", \"christin\", \"morten\", \"pernill\", \"flat\", \"recommand\", \"copenhagu\", \"kopenhagen\", \"copenhaguen\", \"jona\", \"time\", \"discov\", \"cosi\", \"perfect\", \"interior\", \"felt\", \"nice\", \"thank\", \"come\", \"good\", \"spend\", \"stay\", \"like\", \"locat\", \"comfort\", \"great\", \"clean\", \"home\", \"apart\", \"copenhagen\", \"equip\", \"enjoy\", \"host\", \"design\", \"love\", \"wonder\", \"beauti\", \"communic\", \"place\", \"recommend\", \"welcom\", \"need\", \"citi\", \"emili\", \"nord\", \"toma\", \"georg\", \"sofia\", \"maggi\", \"smoker\", \"claudia\", \"cheryl\", \"prevent\", \"kenn\", \"biba\", \"nichola\", \"j\\u00f8rn\", \"mona\", \"superclean\", \"magali\", \"radiat\", \"status\", \"steen\", \"viktor\", \"evid\", \"insan\", \"supernic\", \"nail\", \"william\", \"dri\", \"tr\\u00e8s\", \"alina\", \"sanja\", \"critic\", \"vicktor\", \"bluetooth\", \"oscar\", \"piet\", \"kitchenett\", \"hostel\", \"imposs\", \"nytorv\", \"futon\", \"tobia\", \"mett\", \"camilla\", \"kongen\", \"privat\", \"michel\", \"jasper\", \"mike\", \"descript\", \"room\", \"bathroom\", \"singl\", \"live\", \"bigger\", \"look\", \"unbeat\", \"bedroom\", \"photo\", \"central\", \"small\", \"comfi\", \"neat\", \"locat\", \"place\", \"size\", \"clean\", \"perfect\", \"copenhagen\", \"stay\", \"quick\", \"flat\", \"kitchen\", \"pictur\", \"apart\", \"spacious\", \"great\", \"recommend\", \"good\", \"space\", \"host\", \"nice\", \"definit\", \"amaz\", \"walk\", \"need\", \"easi\"], \"Freq\": [16278.0, 52874.0, 29240.0, 22632.0, 83366.0, 74168.0, 21399.0, 47275.0, 85767.0, 8219.0, 76179.0, 9672.0, 33703.0, 40660.0, 14827.0, 93115.0, 19207.0, 16418.0, 25929.0, 17029.0, 49899.0, 9305.0, 48264.0, 6008.0, 32247.0, 11400.0, 15901.0, 34722.0, 16338.0, 21461.0, 176.61050702315794, 362.1002081550325, 100.01515932630893, 137.6795423302807, 231.3628689681834, 67.05808643265598, 43.60943290935427, 44.58986347004318, 45.730087426452286, 31.146253099555057, 42.518911793189645, 34.124009037528936, 27.081755729085334, 26.895400364095348, 26.599201576792606, 26.770326754896715, 29.090599450063507, 29.091716395045115, 34.3233461621967, 27.62903454133181, 38.727673437602135, 70.21543064812825, 152.47209030479326, 25.093707536907903, 227.5850654497391, 77.15922319700007, 25.085995528499097, 22.426074643957595, 27.607301360236313, 79.73816920468622, 137.46378054177276, 42.939367681103604, 35.87580034879187, 4712.309565747989, 416.81692477561234, 390.9551661342147, 149.44329410004593, 75.03254056902517, 11559.400594274433, 764.4882777485384, 442.42050194794234, 655.0381751332496, 5734.397435109045, 3915.956345010395, 9336.772305155939, 118.45849406500155, 90.21693997927628, 2271.804183310572, 595.4573351418312, 15256.700649640345, 361.6569578671468, 195.85438845439518, 5237.036032841481, 5907.152936151949, 35040.47705817268, 11754.077795404439, 1327.3414800736598, 883.2457835577269, 7889.521426754791, 25543.517494875254, 3438.244335774246, 1043.8552808224968, 2817.4480013168995, 1055.474144718292, 13913.47845066393, 19392.50913744204, 3569.6114090263004, 1967.1484991713764, 12913.956106891215, 6044.014235116918, 2924.108115894832, 18289.456179637175, 1845.650315659464, 9325.350915194593, 4901.971688756322, 15680.982895470645, 5340.704963912918, 5291.684908985954, 2743.4607904154554, 6120.193429950337, 4673.792922225686, 4604.91134679002, 7528.902234342139, 5838.302063377469, 7656.050948023915, 6163.388662832825, 6089.587528665844, 4593.34388659212, 215.43208206167265, 165.71413510283085, 135.8213375680567, 187.68101228228844, 107.19288449826841, 85.56426567146184, 66.40574426141184, 148.15738634868026, 51.88236987114247, 72.85387905797019, 39.779222152078106, 38.79237959493828, 39.081100894500814, 58.454259807885975, 120.54523030003035, 35.92859018245411, 33.69267162522517, 32.393783886178554, 31.286097859065098, 39.2144924219129, 28.023427939994225, 27.649071794734866, 230.2593241337928, 32.57954274848501, 26.79751711485838, 26.210696536694257, 26.13093386446385, 26.30597590845859, 39.73976098360698, 22.350448526944735, 992.9596445964697, 334.7165245700433, 180.2102403077929, 296.54695754095013, 50.706877128586086, 436.9929715104028, 184.1107145370265, 755.4339636077691, 739.2937963313408, 134.86415294592953, 601.2030651548183, 490.6038398544355, 299.78764852107986, 194.50520220707372, 405.0639093162579, 157.78757177910978, 438.3791462797806, 794.9295430967961, 422.0203046350977, 9652.469055006024, 796.1847476438294, 1089.247597761083, 28189.99341409766, 3872.3262119222627, 5704.344844256948, 4047.7753932773408, 4814.592729961279, 22846.415634842844, 15217.065969926314, 3913.3925876400053, 11532.160457609763, 14565.682655390978, 6555.539429271553, 2889.3305917184475, 2747.7233605327865, 2556.2764741665005, 3423.0392938534706, 2739.625149061586, 4543.747221702977, 7290.558250763981, 5450.9609905396555, 5836.1247835714175, 4741.354624379155, 10845.476712676069, 5546.562286003625, 13703.580200921275, 3091.8681784542464, 4448.830370175018, 5066.545710396819, 5206.838486276146, 6693.4173786003885, 6555.244087025192, 10793.51522920523, 5022.313130367782, 8769.819739425304, 5990.900268124139, 6556.0196859755115, 4402.600193118127, 3975.7436591988717, 97.98894300030973, 51.31728749953684, 47.689610212178835, 72.22979608394716, 105.28834070040953, 45.16175853626502, 549.795147320962, 288.0288688232011, 45.19640773801795, 75.26094937386496, 76.1693201258336, 54.649129059435374, 53.35209801052776, 53.468243930874515, 61.179524809979384, 64.00473651039465, 47.44174848464556, 176.1501294235714, 53.53504516558291, 136.66396685246602, 39.6547608524552, 135.65667040409787, 29.189014167818, 46.802473272492804, 232.1101854491344, 283.0666084249243, 27.322396246716096, 93.55314407807023, 78.59604040420186, 54.850060556334775, 168.45311470437892, 62.917640945564706, 62.15512218187743, 352.4026348903351, 195.59763887805175, 667.156345979152, 140.63479609561793, 462.5647085980246, 496.60104053252286, 5165.186920352782, 586.9187361295282, 574.13499644739, 343.4529394702784, 2851.9425926040294, 942.2880705712923, 510.2017404091349, 825.6458044466433, 270.1151409256385, 2461.2299852787105, 401.77164626134226, 409.75861615118885, 291.2920146086569, 2235.767751573699, 1163.8741311223325, 342.5023768063878, 323.0363394622808, 1405.471131730599, 700.2104161732894, 2178.510774784286, 1438.8733876056456, 478.1372107691399, 399.675631482301, 3927.0144393467294, 525.5600374889542, 739.5184683768529, 579.2101887443436, 1375.6127443768648, 2669.4622899514447, 602.7211984001256, 2180.4769998058914, 1707.081227240294, 782.8226208566983, 854.944006729318, 5265.677152085204, 3297.210381874971, 1981.3996152898435, 2601.8276783300503, 1382.8092539960064, 4975.700806700139, 1032.8705448358708, 4411.386663095439, 3997.870635041985, 2149.9405168998346, 1144.4566507134548, 3433.923268027854, 3355.775654544145, 2398.578997846693, 2738.888182983548, 1687.9769563941527, 5178.247191938601, 1986.1283864668048, 9727.417325503175, 5269.654976551991, 2147.8074148315236, 6940.512667091365, 2524.5076439163317, 2936.942500288034, 5277.855647372871, 5140.73464348794, 4234.367424400299, 3252.9708230491096, 4469.03083496603, 3483.9737780329524, 3301.6535462635375, 3771.796854939229, 3146.8518940721456, 3382.7976362641475, 3006.9088531209477, 2919.036492344482, 2649.7339947410746, 417.8133438757036, 271.9258090801634, 129.39154042055478, 190.409983416166, 113.49952164517669, 100.2935132483188, 103.63866244537277, 79.42305392163247, 76.23592245942332, 77.49776967613624, 1081.443580919994, 326.02996726706886, 63.83298298925625, 48.82568771908123, 141.34863618825017, 83.81329039381079, 41.41619543335128, 46.295035094029615, 886.7397025888766, 61.62703075176784, 132.41058503386841, 43.19325421449817, 73.01498183478647, 39.26961900332072, 70.63831701571355, 28.313015865896343, 40.712547591682295, 42.88008992642278, 25.77633261783192, 24.929530971583485, 44.16089093746986, 453.5146777764392, 1479.2369688275398, 292.8067998781783, 798.4040271631435, 13620.17430120666, 373.07316493401726, 3048.9850896947655, 679.3345387648657, 298.68013008668754, 224.95407700727122, 2032.9646297723502, 276.61737691897315, 1425.4991345994322, 225.40805477296416, 1181.2751250422623, 381.2407005389368, 5316.571493078115, 2117.6935074466883, 1126.2611390624013, 352.6186844545229, 1096.95303044259, 945.0589152126901, 6040.5967785127405, 2564.717054361592, 3974.770761651123, 7888.969386366384, 2942.12717622666, 4982.035795835788, 4286.143752053641, 2018.1858189110314, 11035.32157597893, 2024.2249127658179, 3411.726727136367, 5589.677283596241, 5422.4614929796935, 2555.1336323609503, 3418.3134346677807, 8109.36434662466, 5177.1371415986405, 6078.545419940816, 4293.99190723375, 2236.515994312538, 7051.919049183478, 5203.695856936066, 2788.266729699598, 4970.150496732793, 5104.105058252689, 3179.1786887057374, 3897.5510228180606, 3286.1602627672637, 3613.1265434787592, 3704.1871357917257, 2898.821857453431, 2985.5667498538983, 2807.9371663981674, 176.51885834446284, 147.07714965655148, 201.67728546533124, 173.92706312790347, 101.26371997799022, 75.5036239250274, 63.228390604742415, 77.54243600072274, 56.13718161745233, 65.13806740191596, 58.671268150485155, 53.9286368107215, 49.33995092188456, 43.84597744403406, 51.07636816082427, 126.04403117089772, 35.50774855694761, 30.02792132762305, 29.139494642770774, 27.696062732375292, 23.539833168166783, 31.266914079710837, 21.926511377101203, 26.924994838380883, 41.87744324122599, 26.54285699233731, 26.550845200313415, 104.14373596868468, 16.873676393516135, 17.330298994258914, 102.41388841889524, 71.65300728832256, 62.527197279263234, 621.8862186822028, 60.43169451590458, 105.61767159665466, 149.94527234038458, 315.0634225649215, 121.04819700213102, 206.62886184673172, 1605.2415629388186, 21104.66781868577, 6637.425237677961, 11818.271287457037, 3706.6061133626313, 3049.0556389944395, 3718.566619076604, 295.603057622619, 386.0561621865951, 4416.205347765352, 805.9237608342369, 8552.175637228846, 13812.099516660095, 5579.84560102984, 4155.841568714138, 20255.0521649289, 5533.755198597009, 17634.877226316927, 10359.74395586811, 1469.889990027405, 1110.5053639605173, 1590.7558044482655, 1892.4918254329964, 4077.005120900751, 15805.201464224323, 5888.969579577408, 2681.111036171073, 7487.107111231314, 12448.57979200169, 2272.2931540204736, 4192.0531167772315, 2370.5056566925377, 2233.5960494566484, 3188.3892111999253, 4373.681913832247, 5238.303827920833, 3554.4668429870044, 5966.114218396813, 3131.3291078574675, 2701.3851525169803, 2947.6081568560853, 495.64659848957444, 265.0059896423474, 425.90367432809944, 113.02935270897841, 97.39743005976278, 95.6682467734078, 97.0525923041559, 44.97965083224669, 60.196360286759536, 40.48083662843716, 36.9437957156041, 35.44313014454455, 63.54952257954174, 63.240643117027915, 36.930131239206496, 35.501184532474404, 30.657275263789842, 42.2534618448102, 28.160189031668967, 28.116939406472362, 26.871614010522997, 159.254848972748, 23.630316244935493, 25.498831145729582, 54.277082456510726, 25.246188655156963, 27.763128328703882, 22.302447390025762, 25.54854871337167, 566.9378418985688, 179.34078963644907, 80.40444972282513, 390.58524167193326, 140.8073887241228, 63.93261003498745, 133.8918798291155, 337.6706903372695, 193.88193767023535, 280.69225600899443, 309.4207762095404, 6072.065018462004, 224.2659694508896, 157.56634763594542, 381.28618222798343, 256.0709984361497, 819.8082597294253, 430.123069626338, 10129.990657888411, 491.1436537948816, 481.1460565668195, 770.9488374562188, 295.0812719693812, 473.6613145662373, 6699.136393849609, 629.503321747106, 3091.5230784471782, 8680.683410041658, 801.7300897424362, 2294.311317785151, 10422.529389266325, 4911.879174894465, 2878.8671848607514, 5984.169299208743, 1535.8777431135293, 11706.970105934772, 3237.044286291051, 10367.732894195588, 4820.227412038958, 9630.961054647987, 6042.557506640495, 3767.611620231952, 10024.632144076808, 6544.49722895026, 2134.667157181187, 3245.525373114173, 6170.74835565208, 1257.9061615480773, 4902.2110202022195, 2922.47060759253, 3522.5656576400706, 3347.723110710004, 6724.267286284489, 4653.195452732573, 2463.506625077322, 2976.585509371591, 2850.7317002273426, 333.4434324768761, 197.34605822713874, 98.51898491423186, 74.28061915664425, 92.4942982550767, 74.12488529493446, 71.16131688583707, 53.84431179080915, 47.27785311382741, 46.03349960322061, 48.91325081946185, 48.974698207734235, 42.77615854272405, 68.18169999726636, 38.39720634724559, 33.0551764171315, 31.99652011430316, 84.28147231929452, 32.25568450464161, 153.0097283980455, 34.94495776250984, 37.860022922332, 28.77151786638689, 42.606970330241936, 29.96477399901747, 34.620691674886, 89.53234662095515, 32.42003233138662, 158.72602185668595, 25.56232058777851, 80.14379397138906, 81.47917721403726, 49.73922736137157, 189.40775935702897, 103.6896632014146, 78.41674699084338, 960.3931725540368, 115.80345572593446, 151.62596780253412, 51.43054295233848, 117.99952647652083, 1268.6078387042107, 698.3126767538374, 158.58077715393824, 1068.0581938714586, 166.55309455981018, 80.6146067957063, 75.72577081834895, 695.8436758341736, 5914.561913495798, 3043.0919512033547, 435.2025603391054, 2161.6387445025275, 433.775981711242, 1620.9402122508839, 157.49744515434747, 1423.4449468970813, 777.4987104574684, 2673.898575992237, 1811.6562606174618, 879.255134859902, 397.43615465138885, 6093.089068815003, 5900.919089168511, 550.3586832187701, 3742.4661865036246, 3329.738627139747, 4048.0076079970227, 5301.53257945612, 1634.848399710271, 2276.3555551653963, 1587.3585767953077, 901.0038858168838, 4672.356699264274, 1556.4172143888031, 3988.354230344144, 2775.170816046168, 2195.4099401978942, 1386.8767835025253, 2310.466856704861, 2306.8083864841187, 1518.8220543259868, 1345.3704062325794, 1687.7454602706648, 1333.8621489455275, 1302.0154985705833], \"Total\": [16278.0, 52874.0, 29240.0, 22632.0, 83366.0, 74168.0, 21399.0, 47275.0, 85767.0, 8219.0, 76179.0, 9672.0, 33703.0, 40660.0, 14827.0, 93115.0, 19207.0, 16418.0, 25929.0, 17029.0, 49899.0, 9305.0, 48264.0, 6008.0, 32247.0, 11400.0, 15901.0, 34722.0, 16338.0, 21461.0, 177.56314509474004, 365.6371777196617, 101.13099929852108, 139.2301245244724, 234.1220525698218, 68.00919739422736, 44.54201375094563, 45.547966065276825, 46.991963965391804, 32.08129030417433, 43.93508695211912, 35.27069640282582, 28.01713121063414, 27.829363375294992, 27.536980835123064, 27.72225676127349, 30.12910886628439, 30.135927426820984, 35.55595153964626, 28.642566660182325, 40.16445188067536, 72.8494890924679, 158.1960363424122, 26.058988826886058, 236.94683698044662, 80.38418070958087, 26.13466404399243, 23.3697542062772, 28.787199869587116, 83.16713851543618, 146.99916561772727, 45.239778950521746, 37.66207770674237, 5917.260157768049, 479.9137345078967, 456.8917622560527, 166.83016135427832, 81.3694675478873, 16418.582746369495, 953.9552669812705, 545.7507419732323, 844.0910786920672, 8792.3413919836, 5909.861736295097, 15964.749440068163, 137.5246632303266, 102.25491400774955, 3738.7584120765737, 832.8823508650862, 32247.40611669545, 482.11411804253163, 243.49266792909899, 10260.185471681016, 11904.361901036036, 93115.51896962996, 27228.30239670956, 2186.086767673838, 1371.492978530814, 19097.438703202126, 83366.3048474582, 7366.940033581166, 1746.9608144638191, 6208.298490400138, 1822.5190545263615, 48264.790869269236, 74168.69123001903, 8638.945801182943, 4051.197259797518, 49899.93716439778, 18313.580583013834, 6952.026663435948, 85767.24372087435, 3798.5554500071507, 35468.42440082639, 14549.298949090811, 76179.55987935887, 16994.10524186179, 17097.409050335613, 6673.6366316428675, 22772.79735469896, 15901.190254639267, 16338.793861888642, 40660.494331221416, 25929.238032120138, 47275.02594513177, 33703.53515863697, 34722.354234349594, 24652.818855859772, 216.3621226607568, 166.63623942993632, 136.74664255160022, 189.15593264800845, 108.1715057971303, 86.49453535468122, 67.32849483056167, 150.65830366708596, 52.818888418546074, 74.18919650903678, 40.72228380111515, 39.71769768294844, 40.064100352466525, 59.93796389737319, 123.62042316797549, 36.85094635947252, 34.6161405358885, 33.3148565241431, 32.20971052114785, 40.4979307389714, 28.945343356558475, 28.56990122571853, 237.9474189246989, 33.70072722499172, 27.721598219623857, 27.133338214344857, 27.052516235625493, 27.23773869120414, 41.182533461172305, 23.2848574206347, 1046.792749373392, 352.1753646416844, 190.84578965823064, 319.87183278426363, 53.06912763421126, 482.84993807025427, 199.96899083374305, 880.8715372319028, 874.7665464105343, 148.29660916853723, 715.7370579199483, 578.3276719158026, 351.88642957887413, 224.50014592822498, 500.5145801949898, 180.28237347448356, 563.8065686384792, 1095.4677417054975, 551.8012902852473, 19207.246736426456, 1138.6227922442995, 1695.8015367472303, 85767.24372087435, 8117.504279746111, 13052.219905145339, 8844.583890047763, 11122.667569202546, 76179.55987935887, 48264.790869269236, 9124.205338727934, 35468.42440082639, 49899.93716439778, 18313.580583013834, 6470.746035753255, 6125.500398733279, 5607.206073958482, 8389.446233780502, 6417.940907914965, 12840.361373630529, 24652.818855859772, 16994.10524186179, 19158.14568370304, 14353.60730341269, 47275.02594513177, 19009.484575964703, 83366.3048474582, 8989.032123679928, 16045.75248556656, 20174.80981998406, 21461.914547487417, 33703.53515863697, 34722.354234349594, 93115.51896962996, 22632.965283931386, 74168.69123001903, 40660.494331221416, 52874.615268098074, 23649.460226910218, 14433.06730524485, 99.63988305747357, 52.297722288033675, 48.67234900542662, 73.79131627150682, 107.56965550714968, 46.151175167871486, 562.0918426314634, 294.5737898346505, 46.23240057616238, 77.00263007988886, 78.01000758951625, 56.01493996737672, 54.71955343573218, 54.89103721315354, 62.98023876241315, 65.9084798625806, 48.85477883365656, 181.42344225370624, 55.21076691410702, 140.9451787935116, 40.89876498732834, 139.932872951666, 30.161917176933805, 48.36795380292777, 239.99753011164853, 292.87638032033794, 28.274468929631567, 96.822779452407, 81.36986421355407, 56.78830383760675, 176.07813546530423, 65.16239058477568, 64.38909064039636, 374.13971104079934, 205.27861972456373, 719.0308220055473, 147.17606570636093, 496.34735257122003, 534.7687279683587, 6008.422033712937, 638.6343368216951, 625.2294840517692, 368.5646782985954, 3274.0102393832826, 1047.6514892651624, 558.1808983583629, 917.6082801875085, 290.02656509940283, 2863.3556621658463, 437.771327123763, 447.33288647870665, 313.68159067570656, 2624.8739129165283, 1343.280791768615, 373.1869337235794, 352.56624990134065, 1685.9418306596137, 805.2695014024525, 2735.2189235289857, 1777.7193730240474, 537.7055269474316, 443.40636865725844, 5432.044681003177, 602.1520366166707, 881.5012459888035, 672.8056675514675, 1805.0407379429118, 3899.264169638653, 707.5927644314356, 3231.8857633072935, 2455.3094002086677, 969.3612006082868, 1078.9634024306042, 9672.277333745868, 5506.6303228278875, 3017.18958990027, 4450.639736521947, 2066.1028710288524, 11187.41655722582, 1415.3866463116005, 9955.297112372564, 8880.428191119805, 3917.479318340783, 1631.4331608092343, 7985.368632204214, 8029.3000698196365, 5013.479980228561, 6272.969853184536, 3099.3133346257932, 22632.965283931386, 4252.053695785194, 93115.51896962996, 32247.40611669545, 5221.069451843725, 74168.69123001903, 7872.772730826836, 11459.594849928631, 85767.24372087435, 83366.3048474582, 52874.615268098074, 21399.952073488177, 76179.55987935887, 29240.274735998584, 23649.460226910218, 49899.93716439778, 22772.79735469896, 40660.494331221416, 34722.354234349594, 35468.42440082639, 13002.31640790566, 418.93601676591743, 273.5208240517592, 130.3673757122211, 192.29399531871252, 114.6718195221291, 101.43255068561834, 104.8551924552824, 80.35890390091063, 77.15429734854906, 78.44064490152577, 1096.1964494925614, 330.8558810321014, 65.04652691299795, 49.76074203473278, 144.37576252841748, 85.64087110428147, 42.33736656979297, 47.35705767310734, 907.81747233423, 63.13280039549682, 135.66360346370772, 44.320105224895215, 75.06391425394733, 40.40468538799027, 72.7963570555274, 29.30377915311865, 42.19495668671951, 44.465189769905585, 26.740632678369323, 25.890458347097198, 45.936417929539864, 483.34319131012865, 1628.5199813775398, 312.58555069806476, 874.1886810360148, 16278.80713407487, 406.1577472946144, 3543.2700903663463, 765.089868126335, 329.2076293321688, 245.65314258543282, 2656.425826541374, 313.7666671908549, 1841.2865780964187, 254.8392640191299, 1550.5908077893832, 464.111459859556, 9305.572817030084, 3329.6436746821946, 1661.528057312115, 434.94424243015726, 1726.9118041900142, 1564.6961456195188, 16338.793861888642, 5620.122530966688, 10709.43193602912, 34722.354234349594, 9266.843466177012, 20174.80981998406, 17029.656448106296, 5968.107174683423, 85767.24372087435, 6359.973657266375, 14827.457250487601, 33703.53515863697, 32247.40611669545, 9437.373212654838, 16045.75248556656, 76179.55987935887, 35468.42440082639, 49899.93716439778, 25929.238032120138, 7806.032615353664, 93115.51896962996, 48264.790869269236, 14706.639056847924, 74168.69123001903, 83366.3048474582, 23649.460226910218, 47275.02594513177, 27228.30239670956, 40660.494331221416, 52874.615268098074, 19009.484575964703, 22772.79735469896, 17097.409050335613, 178.13776717900495, 148.45069839416172, 203.90403651837585, 176.0364325710602, 102.62625754103951, 76.63500237880952, 64.18730686165281, 78.82317836976306, 57.11278322198092, 66.32218278978422, 59.77873034793779, 55.016085080849784, 50.70558254266988, 45.06893252771689, 52.69003583494529, 130.3573387748375, 36.735147363849265, 31.088955751289834, 30.169394601815196, 28.762880278370417, 24.500316988322645, 32.57762700645022, 22.898277760211116, 28.220823439624876, 43.93901582528403, 27.872232716859983, 27.936319733388046, 109.98558931383235, 17.829283695385787, 18.352132045870807, 108.63228959883405, 75.94011436847539, 66.32517912403586, 676.4870906109758, 64.63638348890848, 117.07290757082889, 176.87292003640465, 394.7975502990651, 143.51737999366713, 258.6187064492973, 2480.8597567675797, 52874.615268098074, 14827.457250487601, 29240.274735998584, 7791.004339209384, 6419.022007521276, 8473.708216519015, 420.633903539497, 578.1861188524988, 11400.2259462201, 1449.3519872219204, 25929.238032120138, 47275.02594513177, 15901.190254639267, 11406.486173636209, 83366.3048474582, 17029.656448106296, 74168.69123001903, 40660.494331221416, 3445.7124881602954, 2432.877916569591, 3912.1537275750898, 4950.703149435621, 14433.06730524485, 93115.51896962996, 24652.818855859772, 8287.972108986565, 34722.354234349594, 76179.55987935887, 7073.350117340421, 19009.484575964703, 8476.77399533601, 7850.830392818401, 14706.639056847924, 27228.30239670956, 48264.790869269236, 22632.965283931386, 85767.24372087435, 19097.438703202126, 14549.298949090811, 23649.460226910218, 496.79228211534837, 265.9470639592196, 428.9623547759127, 113.97252069660958, 98.3408985868997, 96.63311165698288, 98.10765746281517, 45.92388363449333, 61.507873443146885, 41.45950315709669, 37.89084465307542, 36.38294186113882, 65.33012909718065, 65.01893155932348, 38.06549649673525, 36.59327115287203, 31.60973203870074, 43.625428121805896, 29.100391095916493, 29.060754930585276, 27.8114838966384, 164.91192062132157, 24.578256471645474, 26.530511089036274, 56.54631305936741, 26.34537260131951, 28.98166128258194, 23.29766405548285, 26.698470189018078, 592.619198016511, 190.56969840576002, 84.88728327215975, 421.4054945131347, 150.87725729217763, 67.72191979785917, 144.06466281047085, 373.53775227050755, 211.38803963068207, 309.5924020036948, 351.9523369237787, 8219.656435160281, 254.7492006718695, 177.18615256580807, 457.12571042005203, 308.0281886151568, 1103.141605465331, 553.8210688945471, 21399.952073488177, 687.2563776561268, 676.9577174852453, 1186.9525888879984, 396.2240014887217, 724.9589755303393, 21461.914547487417, 1073.9298425272268, 8692.730991195493, 33703.53515863697, 1543.081037957595, 6568.487831861747, 52874.615268098074, 19158.14568370304, 9905.240856222663, 29240.274735998584, 4283.0093135664, 85767.24372087435, 13002.31640790566, 74168.69123001903, 23649.460226910218, 83366.3048474582, 40660.494331221416, 19207.246736426456, 93115.51896962996, 49899.93716439778, 7806.032615353664, 16045.75248556656, 47275.02594513177, 3309.861376367441, 35468.42440082639, 14353.60730341269, 20174.80981998406, 19097.438703202126, 76179.55987935887, 48264.790869269236, 13052.219905145339, 22772.79735469896, 34722.354234349594, 334.6699977397118, 198.66558113701038, 99.47148002025095, 75.2698871683152, 93.84347069403798, 75.22872206335198, 72.27509804746114, 54.790357245696285, 48.22272047208205, 46.98582952123156, 49.95068171623442, 50.060589363745, 43.774357351919505, 69.97477324790745, 39.50744364491382, 34.01557685900589, 32.94018246547034, 86.77315205417017, 33.21427586907812, 157.786061400689, 36.09555941179137, 39.15795275141621, 29.75896745397565, 44.07144888019305, 31.011334400655763, 35.840566356348766, 92.69709823677316, 33.56983569502215, 164.5571251476946, 26.506341974754946, 83.28594008424443, 84.87778362600112, 51.64042164020003, 200.8584078220638, 108.80143859478342, 82.33304011332343, 1066.592916391067, 124.80847652235052, 165.4445390673634, 53.78696415154882, 130.75975671434674, 1769.2214857595231, 954.5681758034943, 190.30760866106766, 1719.4817913059333, 207.8422798762977, 91.14567847460427, 84.54350484201584, 1257.453535436549, 22632.965283931386, 9672.277333745868, 854.2536615811266, 7872.772730826836, 887.9754611701962, 6182.026787714387, 221.68007541416802, 5506.6303228278875, 2279.6265448872596, 14549.298949090811, 8880.428191119805, 3133.89012077194, 954.7262534661077, 74168.69123001903, 76179.55987935887, 1666.416409047527, 40660.494331221416, 33703.53515863697, 49899.93716439778, 85767.24372087435, 11400.2259462201, 21399.952073488177, 11187.41655722582, 4060.8228431884168, 93115.51896962996, 12682.399061491311, 83366.3048474582, 48264.790869269236, 29240.274735998584, 11459.594849928631, 47275.02594513177, 52874.615268098074, 16994.10524186179, 12840.361373630529, 32247.40611669545, 22772.79735469896, 27228.30239670956], \"Category\": [\"Default\", \"Default\", \"Default\", \"Default\", \"Default\", \"Default\", \"Default\", \"Default\", \"Default\", \"Default\", \"Default\", \"Default\", \"Default\", \"Default\", \"Default\", \"Default\", \"Default\", \"Default\", \"Default\", \"Default\", \"Default\", \"Default\", \"Default\", \"Default\", \"Default\", \"Default\", \"Default\", \"Default\", \"Default\", \"Default\", \"Topic1\", \"Topic1\", \"Topic1\", \"Topic1\", \"Topic1\", \"Topic1\", \"Topic1\", \"Topic1\", \"Topic1\", \"Topic1\", \"Topic1\", \"Topic1\", \"Topic1\", \"Topic1\", \"Topic1\", \"Topic1\", \"Topic1\", \"Topic1\", \"Topic1\", \"Topic1\", \"Topic1\", \"Topic1\", \"Topic1\", \"Topic1\", \"Topic1\", \"Topic1\", \"Topic1\", \"Topic1\", \"Topic1\", \"Topic1\", \"Topic1\", \"Topic1\", \"Topic1\", \"Topic1\", \"Topic1\", \"Topic1\", \"Topic1\", \"Topic1\", \"Topic1\", \"Topic1\", \"Topic1\", \"Topic1\", \"Topic1\", \"Topic1\", \"Topic1\", \"Topic1\", \"Topic1\", \"Topic1\", \"Topic1\", \"Topic1\", \"Topic1\", \"Topic1\", \"Topic1\", \"Topic1\", \"Topic1\", \"Topic1\", \"Topic1\", \"Topic1\", \"Topic1\", \"Topic1\", \"Topic1\", \"Topic1\", \"Topic1\", \"Topic1\", \"Topic1\", \"Topic1\", \"Topic1\", \"Topic1\", \"Topic1\", \"Topic1\", \"Topic1\", \"Topic1\", \"Topic1\", \"Topic1\", \"Topic1\", \"Topic1\", \"Topic1\", \"Topic1\", \"Topic1\", \"Topic1\", \"Topic1\", \"Topic1\", \"Topic1\", \"Topic1\", \"Topic1\", \"Topic1\", \"Topic1\", \"Topic1\", \"Topic2\", \"Topic2\", \"Topic2\", \"Topic2\", \"Topic2\", \"Topic2\", \"Topic2\", \"Topic2\", \"Topic2\", \"Topic2\", \"Topic2\", \"Topic2\", \"Topic2\", \"Topic2\", \"Topic2\", \"Topic2\", \"Topic2\", \"Topic2\", \"Topic2\", \"Topic2\", \"Topic2\", \"Topic2\", \"Topic2\", \"Topic2\", \"Topic2\", \"Topic2\", \"Topic2\", \"Topic2\", \"Topic2\", \"Topic2\", \"Topic2\", \"Topic2\", \"Topic2\", \"Topic2\", \"Topic2\", \"Topic2\", \"Topic2\", \"Topic2\", \"Topic2\", \"Topic2\", \"Topic2\", \"Topic2\", \"Topic2\", \"Topic2\", \"Topic2\", \"Topic2\", \"Topic2\", \"Topic2\", \"Topic2\", \"Topic2\", \"Topic2\", \"Topic2\", \"Topic2\", \"Topic2\", \"Topic2\", \"Topic2\", \"Topic2\", \"Topic2\", \"Topic2\", \"Topic2\", \"Topic2\", \"Topic2\", \"Topic2\", \"Topic2\", \"Topic2\", \"Topic2\", \"Topic2\", \"Topic2\", \"Topic2\", \"Topic2\", \"Topic2\", \"Topic2\", \"Topic2\", \"Topic2\", \"Topic2\", \"Topic2\", \"Topic2\", \"Topic2\", \"Topic2\", \"Topic2\", \"Topic2\", \"Topic2\", \"Topic2\", \"Topic2\", \"Topic2\", \"Topic2\", \"Topic2\", \"Topic2\", \"Topic2\", \"Topic3\", \"Topic3\", \"Topic3\", \"Topic3\", \"Topic3\", \"Topic3\", \"Topic3\", \"Topic3\", \"Topic3\", \"Topic3\", \"Topic3\", \"Topic3\", \"Topic3\", \"Topic3\", \"Topic3\", \"Topic3\", \"Topic3\", \"Topic3\", \"Topic3\", \"Topic3\", \"Topic3\", \"Topic3\", \"Topic3\", \"Topic3\", \"Topic3\", \"Topic3\", \"Topic3\", \"Topic3\", \"Topic3\", \"Topic3\", \"Topic3\", \"Topic3\", \"Topic3\", \"Topic3\", \"Topic3\", \"Topic3\", \"Topic3\", \"Topic3\", \"Topic3\", \"Topic3\", \"Topic3\", \"Topic3\", \"Topic3\", \"Topic3\", \"Topic3\", \"Topic3\", \"Topic3\", \"Topic3\", \"Topic3\", \"Topic3\", \"Topic3\", \"Topic3\", \"Topic3\", \"Topic3\", \"Topic3\", \"Topic3\", \"Topic3\", \"Topic3\", \"Topic3\", \"Topic3\", \"Topic3\", \"Topic3\", \"Topic3\", \"Topic3\", \"Topic3\", \"Topic3\", \"Topic3\", \"Topic3\", \"Topic3\", \"Topic3\", \"Topic3\", \"Topic3\", \"Topic3\", \"Topic3\", \"Topic3\", \"Topic3\", \"Topic3\", \"Topic3\", \"Topic3\", \"Topic3\", \"Topic3\", \"Topic3\", \"Topic3\", \"Topic3\", \"Topic3\", \"Topic3\", \"Topic3\", \"Topic3\", \"Topic3\", \"Topic3\", \"Topic3\", \"Topic3\", \"Topic3\", \"Topic3\", \"Topic3\", \"Topic3\", \"Topic3\", \"Topic3\", \"Topic3\", \"Topic3\", \"Topic3\", \"Topic3\", \"Topic3\", \"Topic3\", \"Topic3\", \"Topic3\", \"Topic3\", \"Topic3\", \"Topic3\", \"Topic3\", \"Topic4\", \"Topic4\", \"Topic4\", \"Topic4\", \"Topic4\", \"Topic4\", \"Topic4\", \"Topic4\", \"Topic4\", \"Topic4\", \"Topic4\", \"Topic4\", \"Topic4\", \"Topic4\", \"Topic4\", \"Topic4\", \"Topic4\", \"Topic4\", \"Topic4\", \"Topic4\", \"Topic4\", \"Topic4\", \"Topic4\", \"Topic4\", \"Topic4\", \"Topic4\", \"Topic4\", \"Topic4\", \"Topic4\", \"Topic4\", \"Topic4\", \"Topic4\", \"Topic4\", \"Topic4\", \"Topic4\", \"Topic4\", \"Topic4\", \"Topic4\", \"Topic4\", \"Topic4\", \"Topic4\", \"Topic4\", \"Topic4\", \"Topic4\", \"Topic4\", \"Topic4\", \"Topic4\", \"Topic4\", \"Topic4\", \"Topic4\", \"Topic4\", \"Topic4\", \"Topic4\", \"Topic4\", \"Topic4\", \"Topic4\", \"Topic4\", \"Topic4\", \"Topic4\", \"Topic4\", \"Topic4\", \"Topic4\", \"Topic4\", \"Topic4\", \"Topic4\", \"Topic4\", \"Topic4\", \"Topic4\", \"Topic4\", \"Topic4\", \"Topic4\", \"Topic4\", \"Topic4\", \"Topic4\", \"Topic4\", \"Topic4\", \"Topic4\", \"Topic4\", \"Topic4\", \"Topic4\", \"Topic4\", \"Topic4\", \"Topic4\", \"Topic4\", \"Topic4\", \"Topic4\", \"Topic5\", \"Topic5\", \"Topic5\", \"Topic5\", \"Topic5\", \"Topic5\", \"Topic5\", \"Topic5\", \"Topic5\", \"Topic5\", \"Topic5\", \"Topic5\", \"Topic5\", \"Topic5\", \"Topic5\", \"Topic5\", \"Topic5\", \"Topic5\", \"Topic5\", \"Topic5\", \"Topic5\", \"Topic5\", \"Topic5\", \"Topic5\", \"Topic5\", \"Topic5\", \"Topic5\", \"Topic5\", \"Topic5\", \"Topic5\", \"Topic5\", \"Topic5\", \"Topic5\", \"Topic5\", \"Topic5\", \"Topic5\", \"Topic5\", \"Topic5\", \"Topic5\", \"Topic5\", \"Topic5\", \"Topic5\", \"Topic5\", \"Topic5\", \"Topic5\", \"Topic5\", \"Topic5\", \"Topic5\", \"Topic5\", \"Topic5\", \"Topic5\", \"Topic5\", \"Topic5\", \"Topic5\", \"Topic5\", \"Topic5\", \"Topic5\", \"Topic5\", \"Topic5\", \"Topic5\", \"Topic5\", \"Topic5\", \"Topic5\", \"Topic5\", \"Topic5\", \"Topic5\", \"Topic5\", \"Topic5\", \"Topic5\", \"Topic5\", \"Topic5\", \"Topic5\", \"Topic5\", \"Topic5\", \"Topic5\", \"Topic5\", \"Topic5\", \"Topic5\", \"Topic5\", \"Topic5\", \"Topic5\", \"Topic6\", \"Topic6\", \"Topic6\", \"Topic6\", \"Topic6\", \"Topic6\", \"Topic6\", \"Topic6\", \"Topic6\", \"Topic6\", \"Topic6\", \"Topic6\", \"Topic6\", \"Topic6\", \"Topic6\", \"Topic6\", \"Topic6\", \"Topic6\", \"Topic6\", \"Topic6\", \"Topic6\", \"Topic6\", \"Topic6\", \"Topic6\", \"Topic6\", \"Topic6\", \"Topic6\", \"Topic6\", \"Topic6\", \"Topic6\", \"Topic6\", \"Topic6\", \"Topic6\", \"Topic6\", \"Topic6\", \"Topic6\", \"Topic6\", \"Topic6\", \"Topic6\", \"Topic6\", \"Topic6\", \"Topic6\", \"Topic6\", \"Topic6\", \"Topic6\", \"Topic6\", \"Topic6\", \"Topic6\", \"Topic6\", \"Topic6\", \"Topic6\", \"Topic6\", \"Topic6\", \"Topic6\", \"Topic6\", \"Topic6\", \"Topic6\", \"Topic6\", \"Topic6\", \"Topic6\", \"Topic6\", \"Topic6\", \"Topic6\", \"Topic6\", \"Topic6\", \"Topic6\", \"Topic6\", \"Topic6\", \"Topic6\", \"Topic6\", \"Topic6\", \"Topic6\", \"Topic6\", \"Topic6\", \"Topic6\", \"Topic6\", \"Topic6\", \"Topic6\", \"Topic6\", \"Topic6\", \"Topic6\", \"Topic6\", \"Topic6\", \"Topic6\", \"Topic6\", \"Topic6\", \"Topic7\", \"Topic7\", \"Topic7\", \"Topic7\", \"Topic7\", \"Topic7\", \"Topic7\", \"Topic7\", \"Topic7\", \"Topic7\", \"Topic7\", \"Topic7\", \"Topic7\", \"Topic7\", \"Topic7\", \"Topic7\", \"Topic7\", \"Topic7\", \"Topic7\", \"Topic7\", \"Topic7\", \"Topic7\", \"Topic7\", \"Topic7\", \"Topic7\", \"Topic7\", \"Topic7\", \"Topic7\", \"Topic7\", \"Topic7\", \"Topic7\", \"Topic7\", \"Topic7\", \"Topic7\", \"Topic7\", \"Topic7\", \"Topic7\", \"Topic7\", \"Topic7\", \"Topic7\", \"Topic7\", \"Topic7\", \"Topic7\", \"Topic7\", \"Topic7\", \"Topic7\", \"Topic7\", \"Topic7\", \"Topic7\", \"Topic7\", \"Topic7\", \"Topic7\", \"Topic7\", \"Topic7\", \"Topic7\", \"Topic7\", \"Topic7\", \"Topic7\", \"Topic7\", \"Topic7\", \"Topic7\", \"Topic7\", \"Topic7\", \"Topic7\", \"Topic7\", \"Topic7\", \"Topic7\", \"Topic7\", \"Topic7\", \"Topic7\", \"Topic7\", \"Topic7\", \"Topic7\", \"Topic7\", \"Topic7\", \"Topic7\", \"Topic7\", \"Topic7\", \"Topic7\", \"Topic7\", \"Topic7\", \"Topic7\", \"Topic7\", \"Topic7\", \"Topic7\", \"Topic7\"], \"logprob\": [30.0, 29.0, 28.0, 27.0, 26.0, 25.0, 24.0, 23.0, 22.0, 21.0, 20.0, 19.0, 18.0, 17.0, 16.0, 15.0, 14.0, 13.0, 12.0, 11.0, 10.0, 9.0, 8.0, 7.0, 6.0, 5.0, 4.0, 3.0, 2.0, 1.0, -8.2351, -7.5171, -8.8037, -8.4841, -7.965, -9.2035, -9.6338, -9.6115, -9.5863, -9.9703, -9.6591, -9.879, -10.1102, -10.1171, -10.1282, -10.1217, -10.0386, -10.0386, -9.8732, -10.0902, -9.7525, -9.1575, -8.3821, -10.1864, -7.9815, -9.0632, -10.1867, -10.2988, -10.091, -9.0303, -8.4857, -9.6492, -9.829, -4.9511, -7.3764, -7.4404, -8.4021, -9.0911, -4.0538, -6.7698, -7.3168, -6.9243, -4.7548, -5.1362, -4.2673, -8.6345, -8.9068, -5.6807, -7.0197, -3.7763, -7.5183, -8.1317, -4.8455, -4.7251, -2.9448, -4.0371, -6.2181, -6.6254, -4.4357, -3.2609, -5.2663, -6.4584, -5.4655, -6.4473, -3.8684, -3.5364, -5.2288, -5.8247, -3.943, -4.7022, -5.4283, -3.595, -5.8884, -4.2685, -4.9116, -3.7488, -4.8259, -4.8351, -5.4921, -4.6897, -4.9593, -4.9742, -4.4825, -4.7368, -4.4658, -4.6827, -4.6947, -4.9767, -7.8618, -8.1242, -8.3231, -7.9997, -8.5598, -8.7852, -9.0387, -8.2362, -9.2855, -8.946, -9.5511, -9.5762, -9.5688, -9.1662, -8.4424, -9.6529, -9.7172, -9.7565, -9.7913, -9.5654, -9.9014, -9.9148, -7.7952, -9.7508, -9.9461, -9.9683, -9.9713, -9.9646, -9.5521, -10.1276, -6.3337, -7.4212, -8.0403, -7.5422, -9.3084, -7.1545, -8.0189, -6.6071, -6.6287, -8.3302, -6.8355, -7.0388, -7.5314, -7.964, -7.2304, -8.1732, -7.1514, -6.5562, -7.1894, -4.0595, -6.5546, -6.2412, -2.9877, -4.9728, -4.5855, -4.9285, -4.755, -3.1979, -3.6043, -4.9623, -3.8815, -3.648, -4.4464, -5.2657, -5.3159, -5.3881, -5.0962, -5.3189, -4.8129, -4.3401, -4.6309, -4.5626, -4.7704, -3.9429, -4.6135, -3.709, -5.1979, -4.834, -4.704, -4.6767, -4.4256, -4.4464, -3.9477, -4.7128, -4.1554, -4.5364, -4.4463, -4.8445, -4.9465, -8.6169, -9.2638, -9.3371, -8.9219, -8.5451, -9.3915, -6.8923, -7.5387, -9.3908, -8.8808, -8.8688, -9.2009, -9.2249, -9.2227, -9.088, -9.0428, -9.3423, -8.0305, -9.2215, -8.2843, -9.5216, -8.2917, -9.828, -9.3559, -7.7546, -7.5561, -9.8941, -8.6633, -8.8375, -9.1972, -8.0751, -9.06, -9.0722, -7.337, -7.9257, -6.6988, -8.2556, -7.065, -6.994, -4.6521, -6.8269, -6.8489, -7.3627, -5.246, -6.3535, -6.967, -6.4856, -7.603, -5.3934, -7.2059, -7.1862, -7.5275, -5.4895, -6.1423, -7.3655, -7.424, -5.9537, -6.6504, -5.5154, -5.9302, -7.0319, -7.2111, -4.9262, -6.9373, -6.5958, -6.8401, -5.9751, -5.3122, -6.8003, -5.5145, -5.7593, -6.5389, -6.4508, -4.6328, -5.101, -5.6102, -5.3378, -5.9699, -4.6895, -6.2617, -4.8099, -4.9083, -5.5286, -6.1591, -5.0603, -5.0834, -5.4192, -5.2865, -5.7705, -4.6496, -5.6079, -4.0191, -4.6321, -5.5296, -4.3567, -5.368, -5.2167, -4.6305, -4.6568, -4.8508, -5.1145, -4.7969, -5.0459, -5.0996, -4.9665, -5.1476, -5.0753, -5.1931, -5.2228, -5.3196, -6.8446, -7.2741, -8.0168, -7.6305, -8.1479, -8.2716, -8.2388, -8.5049, -8.5458, -8.5294, -5.8936, -7.0927, -8.7234, -8.9914, -7.9284, -8.4511, -9.156, -9.0446, -6.0921, -8.7586, -7.9938, -9.114, -8.589, -9.2092, -8.6221, -9.5364, -9.1731, -9.1213, -9.6302, -9.6636, -9.0918, -6.7626, -5.5804, -7.2002, -6.1971, -3.3604, -6.9579, -4.8571, -6.3586, -7.1803, -7.4638, -5.2624, -7.257, -5.6174, -7.4618, -5.8053, -6.9362, -4.3011, -5.2216, -5.853, -7.0143, -5.8794, -6.0284, -4.1734, -5.0301, -4.592, -3.9065, -4.8928, -4.3661, -4.5165, -5.2697, -3.5708, -5.2667, -4.7447, -4.251, -4.2814, -5.0338, -4.7428, -3.8789, -4.3277, -4.1672, -4.5147, -5.167, -4.0186, -4.3226, -4.9465, -4.3685, -4.3419, -4.8153, -4.6116, -4.7822, -4.6873, -4.6625, -4.9076, -4.8781, -4.9395, -7.6805, -7.8629, -7.5472, -7.6953, -8.2362, -8.5297, -8.7071, -8.5031, -8.8261, -8.6774, -8.7819, -8.8662, -8.9552, -9.0732, -8.9206, -8.0173, -9.2841, -9.4518, -9.4818, -9.5326, -9.6952, -9.4113, -9.7662, -9.5608, -9.1191, -9.5751, -9.5748, -8.2081, -10.0281, -10.0014, -8.2249, -8.5821, -8.7183, -6.4211, -8.7524, -8.1941, -7.8436, -7.1011, -8.0577, -7.523, -5.4729, -2.8966, -4.0534, -3.4765, -4.636, -4.8313, -4.6328, -7.1649, -6.8979, -4.4609, -6.1619, -3.8, -3.3206, -4.227, -4.5216, -2.9377, -4.2353, -3.0763, -3.6082, -5.561, -5.8413, -5.4819, -5.3082, -4.5408, -3.1858, -4.1731, -4.9599, -3.933, -3.4245, -5.1253, -4.5129, -5.083, -5.1425, -4.7866, -4.4705, -4.2901, -4.6779, -4.16, -4.8047, -4.9524, -4.8651, -6.6215, -7.2476, -6.7731, -8.0997, -8.2485, -8.2665, -8.2521, -9.0211, -8.7297, -9.1265, -9.2179, -9.2594, -8.6755, -8.6804, -9.2183, -9.2578, -9.4045, -9.0837, -9.4894, -9.491, -9.5363, -7.7568, -9.6648, -9.5887, -8.8332, -9.5987, -9.5036, -9.7226, -9.5868, -6.4871, -7.638, -8.4403, -6.8597, -7.8799, -8.6695, -7.9303, -7.0053, -7.5601, -7.1901, -7.0926, -4.1159, -7.4145, -7.7675, -6.8838, -7.2819, -6.1183, -6.7633, -3.6041, -6.6306, -6.6512, -6.1797, -7.1401, -6.6668, -4.0176, -6.3824, -4.7909, -3.7585, -6.1406, -5.0891, -3.5756, -4.3279, -4.8622, -4.1305, -5.4905, -3.4594, -4.7449, -3.5809, -4.3468, -3.6546, -4.1208, -4.5931, -3.6145, -4.041, -5.1613, -4.7423, -4.0998, -5.6901, -4.3299, -4.8472, -4.6604, -4.7113, -4.0139, -4.382, -5.018, -4.8288, -4.872, -6.5262, -7.0507, -7.7454, -8.0278, -7.8085, -8.0299, -8.0707, -8.3496, -8.4796, -8.5063, -8.4456, -8.4444, -8.5797, -8.1135, -8.6877, -8.8375, -8.87, -7.9015, -8.862, -7.3052, -8.7819, -8.7018, -8.9763, -8.5836, -8.9356, -8.7912, -7.8411, -8.8569, -7.2685, -9.0945, -7.9518, -7.9353, -8.4289, -7.0918, -7.6943, -7.9736, -5.4683, -7.5838, -7.3142, -8.3954, -7.565, -5.19, -5.787, -7.2694, -5.3621, -7.2203, -7.946, -8.0085, -5.7905, -3.6505, -4.315, -6.2598, -4.657, -6.2631, -4.9449, -7.2763, -5.0748, -5.6796, -4.4444, -4.8337, -5.5566, -6.3506, -3.6208, -3.6528, -6.0251, -4.1082, -4.225, -4.0297, -3.7599, -4.9364, -4.6053, -4.9658, -5.5322, -3.8862, -4.9855, -4.0445, -4.4072, -4.6415, -5.1009, -4.5905, -4.592, -5.01, -5.1312, -4.9045, -5.1398, -5.164], \"loglift\": [30.0, 29.0, 28.0, 27.0, 26.0, 25.0, 24.0, 23.0, 22.0, 21.0, 20.0, 19.0, 18.0, 17.0, 16.0, 15.0, 14.0, 13.0, 12.0, 11.0, 10.0, 9.0, 8.0, 7.0, 6.0, 5.0, 4.0, 3.0, 2.0, 1.0, 1.5457, 1.5413, 1.5399, 1.5398, 1.5392, 1.537, 1.5299, 1.5298, 1.5238, 1.5215, 1.5183, 1.518, 1.5171, 1.5169, 1.5164, 1.5161, 1.516, 1.5158, 1.5158, 1.515, 1.5146, 1.5142, 1.5142, 1.5133, 1.5107, 1.5101, 1.5101, 1.5098, 1.5092, 1.5089, 1.484, 1.4989, 1.5025, 1.3233, 1.4101, 1.3952, 1.441, 1.47, 1.2001, 1.3296, 1.3411, 1.2975, 1.1236, 1.1395, 1.0146, 1.4018, 1.4258, 1.0529, 1.2155, 0.8026, 1.2636, 1.3333, 0.8785, 0.8503, 0.5737, 0.711, 1.0521, 1.111, 0.667, 0.3682, 0.789, 1.0361, 0.761, 1.0048, 0.3072, 0.2096, 0.6672, 0.8286, 0.1993, 0.4425, 0.685, 0.0057, 0.8293, 0.2151, 0.4631, -0.0296, 0.3935, 0.3783, 0.6621, 0.2371, 0.3266, 0.2846, -0.1355, 0.0601, -0.2694, -0.1479, -0.1898, -0.1292, 1.7213, 1.7201, 1.7189, 1.7178, 1.7166, 1.7148, 1.7118, 1.7089, 1.7078, 1.7075, 1.7022, 1.7021, 1.7008, 1.7006, 1.7005, 1.7003, 1.6986, 1.6976, 1.6966, 1.6934, 1.6933, 1.6929, 1.6928, 1.6918, 1.6917, 1.691, 1.691, 1.6908, 1.69, 1.6847, 1.6728, 1.6748, 1.6683, 1.6499, 1.6801, 1.6259, 1.643, 1.572, 1.5574, 1.6307, 1.5513, 1.5611, 1.5654, 1.5822, 1.5141, 1.5924, 1.474, 1.405, 1.4575, 1.0376, 1.3679, 1.283, 0.613, 0.9855, 0.8979, 0.944, 0.8883, 0.5213, 0.5714, 0.8791, 0.6021, 0.4943, 0.6983, 0.9194, 0.924, 0.9401, 0.8292, 0.8744, 0.6868, 0.5073, 0.5886, 0.537, 0.618, 0.2534, 0.4939, -0.0799, 0.6584, 0.4428, 0.3439, 0.3093, 0.1092, 0.0585, -0.4293, 0.2201, -0.4094, -0.1894, -0.3619, 0.0445, 0.4363, 1.7416, 1.7394, 1.7379, 1.7369, 1.7368, 1.7366, 1.7362, 1.7358, 1.7356, 1.7354, 1.7344, 1.7336, 1.733, 1.732, 1.7293, 1.729, 1.7289, 1.7288, 1.7275, 1.7274, 1.7274, 1.7272, 1.7255, 1.7254, 1.7249, 1.7242, 1.724, 1.7239, 1.7236, 1.7236, 1.714, 1.7232, 1.723, 1.6984, 1.71, 1.6834, 1.7128, 1.6878, 1.6842, 1.6071, 1.6738, 1.673, 1.6877, 1.6203, 1.6523, 1.6684, 1.6527, 1.6872, 1.6069, 1.6725, 1.6705, 1.6842, 1.5978, 1.6149, 1.6725, 1.6708, 1.5763, 1.6185, 1.5307, 1.5468, 1.6409, 1.6544, 1.4338, 1.6222, 1.5827, 1.6085, 1.4866, 1.3794, 1.5979, 1.3648, 1.3948, 1.5446, 1.5256, 1.1502, 1.2454, 1.3378, 1.2214, 1.3567, 0.9481, 1.4432, 0.9444, 0.9602, 1.1583, 1.4038, 0.9144, 0.8859, 1.021, 0.9296, 1.1506, 0.2833, 0.9971, -0.5006, -0.0532, 0.87, -0.6107, 0.6209, 0.3968, -1.0298, -1.0278, -0.7664, -0.1255, -1.0776, -0.3691, -0.2106, -0.8242, -0.2209, -0.7283, -0.6882, -0.7391, 0.1676, 2.0777, 2.0746, 2.0729, 2.0706, 2.0701, 2.0691, 2.0687, 2.0687, 2.0684, 2.0683, 2.0669, 2.0657, 2.0616, 2.0614, 2.0592, 2.0588, 2.0584, 2.0577, 2.0569, 2.0563, 2.0561, 2.0546, 2.0527, 2.0519, 2.0503, 2.046, 2.0446, 2.0441, 2.0437, 2.0426, 2.041, 2.0167, 1.9843, 2.015, 1.9897, 1.9021, 1.9954, 1.9302, 1.9615, 1.9831, 1.9924, 1.8129, 1.9544, 1.8245, 1.9577, 1.8084, 1.8837, 1.5206, 1.6279, 1.6916, 1.8706, 1.6266, 1.5762, 1.0854, 1.2959, 1.0892, 0.5985, 0.9331, 0.6818, 0.7008, 0.9962, 0.0299, 0.9356, 0.6111, 0.2837, 0.2975, 0.7738, 0.5341, -0.1597, 0.156, -0.0249, 0.2822, 0.8304, -0.5001, -0.1469, 0.4175, -0.6225, -0.7128, 0.0737, -0.4152, -0.0341, -0.3403, -0.5781, 0.1998, 0.0486, 0.2739, 2.0971, 2.0969, 2.0952, 2.0941, 2.0928, 2.0913, 2.0911, 2.0898, 2.089, 2.0882, 2.0875, 2.0862, 2.0789, 2.0787, 2.0751, 2.0725, 2.0722, 2.0715, 2.0715, 2.0684, 2.0662, 2.0651, 2.0628, 2.0592, 2.0581, 2.0573, 2.0553, 2.0516, 2.0511, 2.0489, 2.0472, 2.0481, 2.0472, 2.022, 2.0389, 2.0032, 1.941, 1.8806, 1.9359, 1.8818, 1.6709, 1.1878, 1.3024, 1.2003, 1.3633, 1.3618, 1.2826, 1.7534, 1.7023, 1.1578, 1.5193, 0.997, 0.8758, 1.059, 1.0965, 0.6913, 0.9821, 0.6697, 0.7389, 1.2542, 1.3219, 1.2063, 1.1446, 0.842, 0.3327, 0.6744, 0.9776, 0.572, 0.2947, 0.9706, 0.5944, 0.832, 0.8492, 0.5774, 0.2775, -0.1145, 0.255, -0.5594, 0.2981, 0.4224, 0.0238, 2.1304, 2.1292, 2.1256, 2.1244, 2.1231, 2.1227, 2.1219, 2.112, 2.1112, 2.1089, 2.1074, 2.1066, 2.1051, 2.105, 2.1025, 2.1024, 2.1021, 2.1008, 2.0999, 2.0997, 2.0984, 2.0978, 2.0934, 2.0931, 2.0918, 2.0901, 2.0898, 2.0891, 2.0887, 2.0884, 2.072, 2.0785, 2.0568, 2.0637, 2.0752, 2.0595, 2.0318, 2.0463, 2.0347, 2.0039, 1.8299, 2.0053, 2.0154, 1.9513, 1.948, 1.8359, 1.88, 1.3849, 1.7968, 1.7913, 1.7012, 1.838, 1.7071, 0.9684, 1.5986, 1.0989, 0.7762, 1.478, 1.0809, 0.5088, 0.7717, 0.8971, 0.5463, 1.1072, 0.1413, 0.7423, 0.1651, 0.5422, -0.0255, 0.2263, 0.5039, -0.0961, 0.1013, 0.8362, 0.5346, 0.0966, 1.1653, 0.1538, 0.5412, 0.3875, 0.3915, -0.2946, -0.2064, 0.4654, 0.098, -0.3671, 2.6207, 2.6178, 2.6148, 2.6112, 2.6099, 2.6096, 2.6089, 2.607, 2.6046, 2.6039, 2.6034, 2.6025, 2.6014, 2.5985, 2.5959, 2.5958, 2.5954, 2.5953, 2.5951, 2.5937, 2.592, 2.5907, 2.5907, 2.5906, 2.5901, 2.5898, 2.5897, 2.5896, 2.5883, 2.5882, 2.586, 2.5836, 2.5869, 2.5657, 2.5763, 2.5757, 2.5195, 2.5495, 2.5372, 2.5796, 2.5217, 2.2918, 2.3118, 2.442, 2.1482, 2.403, 2.5016, 2.5143, 2.0327, 1.2824, 1.468, 1.95, 1.3319, 1.908, 1.2858, 2.2826, 1.2715, 1.5487, 0.9304, 1.0348, 1.3535, 1.748, 0.1252, 0.0664, 1.5166, 0.2389, 0.3097, 0.1126, -0.1592, 0.6823, 0.3836, 0.6717, 1.1188, -0.3678, 0.5266, -0.4154, -0.2316, 0.0352, 0.5126, -0.3941, -0.5076, 0.2095, 0.3685, -0.3256, -0.2131, -0.4159]}, \"token.table\": {\"Topic\": [1, 2, 3, 4, 5, 6, 7, 2, 1, 2, 3, 4, 5, 6, 7, 3, 1, 2, 3, 4, 5, 6, 7, 1, 2, 3, 4, 5, 6, 7, 1, 2, 3, 4, 6, 1, 2, 1, 3, 4, 7, 2, 3, 5, 6, 7, 1, 2, 1, 2, 3, 4, 5, 6, 7, 1, 4, 5, 6, 7, 1, 2, 3, 4, 5, 6, 7, 1, 2, 3, 4, 6, 2, 3, 4, 6, 1, 2, 3, 4, 5, 6, 7, 1, 2, 3, 4, 5, 6, 1, 2, 3, 4, 5, 6, 7, 1, 2, 3, 4, 5, 6, 7, 1, 2, 3, 4, 5, 6, 7, 1, 2, 3, 4, 5, 6, 7, 1, 2, 3, 4, 5, 6, 7, 1, 5, 7, 1, 2, 3, 4, 5, 6, 7, 1, 2, 3, 4, 5, 6, 7, 6, 1, 2, 3, 4, 5, 6, 7, 6, 1, 2, 3, 4, 5, 6, 7, 1, 2, 3, 4, 5, 6, 7, 1, 2, 3, 4, 5, 6, 7, 2, 5, 1, 2, 3, 4, 5, 6, 7, 1, 2, 3, 4, 5, 6, 7, 1, 2, 3, 4, 5, 6, 7, 1, 2, 3, 4, 5, 6, 7, 1, 5, 1, 2, 3, 4, 5, 6, 7, 1, 2, 3, 4, 5, 6, 7, 2, 5, 7, 1, 2, 3, 4, 5, 6, 7, 1, 2, 3, 4, 5, 6, 7, 1, 3, 4, 3, 1, 2, 3, 5, 6, 7, 2, 7, 3, 7, 5, 6, 2, 2, 3, 6, 1, 2, 3, 4, 5, 7, 1, 2, 3, 4, 5, 6, 7, 5, 1, 3, 3, 6, 7, 1, 2, 3, 4, 5, 6, 7, 3, 6, 1, 2, 3, 4, 6, 7, 1, 2, 3, 4, 5, 6, 7, 1, 2, 3, 4, 5, 6, 7, 2, 4, 1, 3, 1, 1, 2, 3, 4, 5, 6, 7, 1, 2, 3, 4, 5, 6, 7, 1, 2, 3, 4, 5, 6, 7, 1, 2, 3, 4, 5, 6, 1, 2, 3, 4, 5, 6, 7, 1, 2, 3, 4, 5, 6, 7, 1, 2, 3, 4, 6, 7, 1, 2, 3, 4, 5, 6, 7, 1, 2, 4, 6, 7, 1, 2, 4, 6, 1, 2, 3, 4, 5, 6, 7, 1, 2, 3, 5, 6, 7, 1, 2, 1, 2, 3, 4, 5, 6, 7, 1, 2, 3, 4, 5, 6, 7, 3, 6, 7, 1, 2, 3, 4, 5, 6, 7, 1, 2, 3, 4, 5, 6, 7, 1, 2, 3, 4, 5, 6, 7, 1, 2, 3, 4, 5, 6, 7, 1, 2, 3, 6, 1, 2, 3, 4, 5, 6, 7, 1, 2, 3, 4, 5, 6, 7, 1, 2, 3, 4, 5, 6, 7, 1, 2, 3, 4, 5, 6, 7, 3, 2, 1, 2, 3, 4, 5, 6, 7, 1, 2, 3, 4, 5, 6, 7, 1, 2, 3, 4, 5, 6, 7, 1, 2, 3, 4, 5, 6, 7, 1, 2, 3, 4, 5, 6, 7, 1, 2, 3, 4, 5, 6, 7, 1, 2, 3, 4, 5, 6, 7, 1, 1, 1, 2, 3, 4, 5, 6, 7, 1, 2, 3, 4, 5, 6, 7, 1, 2, 7, 1, 2, 3, 4, 5, 6, 7, 1, 2, 3, 6, 7, 2, 1, 2, 3, 4, 5, 6, 7, 1, 2, 1, 2, 3, 4, 5, 6, 7, 1, 2, 3, 4, 5, 6, 7, 3, 3, 1, 3, 4, 5, 6, 7, 1, 2, 3, 4, 5, 6, 7, 1, 2, 3, 4, 5, 6, 7, 1, 2, 3, 4, 5, 6, 7, 1, 2, 3, 4, 5, 6, 7, 2, 3, 3, 5, 7, 2, 5, 6, 7, 1, 3, 6, 7, 1, 2, 3, 4, 5, 6, 7, 1, 3, 4, 1, 2, 3, 4, 5, 6, 7, 4, 6, 7, 1, 2, 3, 4, 5, 6, 7, 1, 2, 3, 4, 5, 6, 7, 4, 1, 2, 7, 1, 2, 3, 4, 5, 6, 7, 2, 4, 6, 1, 2, 3, 4, 5, 6, 7, 2, 1, 2, 3, 4, 5, 6, 7, 1, 2, 3, 4, 5, 6, 7, 1, 2, 3, 4, 5, 6, 7, 1, 2, 3, 4, 5, 6, 7, 1, 2, 3, 4, 5, 6, 7, 1, 2, 3, 4, 5, 6, 7, 1, 2, 3, 4, 5, 6, 7, 3, 1, 2, 3, 5, 7, 5, 1, 2, 3, 6, 7, 4, 5, 6, 2, 3, 4, 6, 1, 2, 3, 4, 5, 6, 7, 1, 2, 2, 6, 7, 4, 5, 1, 2, 3, 1, 2, 3, 4, 5, 6, 7, 1, 2, 3, 6, 7, 2, 6, 7, 1, 2, 3, 4, 5, 6, 7, 1, 2, 3, 4, 5, 6, 7, 1, 2, 3, 4, 5, 6, 7, 4, 1, 2, 3, 4, 5, 6, 7, 4, 2, 7, 1, 2, 1, 2, 3, 4, 5, 6, 7, 1, 2, 3, 4, 5, 6, 7, 1, 2, 3, 4, 5, 6, 7, 1, 2, 3, 4, 6, 7, 1, 2, 3, 4, 5, 6, 7, 2, 3, 6, 1, 2, 3, 4, 5, 6, 7, 1, 2, 3, 4, 5, 6, 7, 1, 2, 3, 4, 5, 6, 7, 1, 2, 4, 6, 7, 1, 2, 3, 4, 5, 6, 7, 6, 5, 2, 3, 1, 3, 5, 7, 4, 5, 7, 1, 2, 3, 4, 5, 6, 7, 1, 2, 3, 4, 5, 6, 7, 1, 2, 1, 2, 3, 4, 6, 5, 2, 6, 1, 2, 7, 1, 2, 3, 4, 6, 7, 1, 2, 3, 5, 6, 1, 2, 3, 4, 5, 6, 7, 1, 2, 3, 2, 4, 1, 4, 1, 2, 3, 4, 5, 6, 7, 1, 2, 6, 1, 5, 4, 1, 2, 4, 7, 4, 7, 6, 1, 2, 4, 7, 1, 2, 3, 4, 5, 6, 7, 7, 1, 3, 4, 6, 1, 1, 2, 3, 4, 5, 6, 7, 1, 2, 3, 4, 5, 6, 7, 2, 6, 1, 2, 3, 4, 5, 6, 7, 4, 7, 5, 7, 1, 2, 3, 4, 5, 6, 7, 1, 2, 3, 4, 5, 6, 7, 5, 1, 2, 3, 5, 6, 7, 1, 2, 3, 4, 5, 6, 7, 1, 2, 4, 3, 6, 1, 2, 3, 4, 5, 6, 7, 1, 2, 3, 4, 5, 6, 7, 1, 2, 3, 4, 5, 6, 7, 3, 4, 5, 1, 2, 3, 4, 6, 7, 1, 2, 6, 4, 1, 2, 3, 4, 5, 6, 7, 1, 2, 3, 4, 5, 6, 7, 1, 2, 3, 4, 5, 6, 7, 1, 2, 3, 4, 5, 6, 7, 1, 3, 1, 2, 3, 4, 5, 6, 7, 1, 2, 3, 4, 5, 6, 7, 1, 2, 3, 4, 5, 6, 1, 2, 3, 4, 5, 6, 7, 2, 5, 1, 2, 3, 4, 5, 6, 7, 1, 2, 3, 4, 5, 6, 7, 1, 1, 2, 6, 6, 1, 2, 3, 4, 5, 6, 7, 7, 7, 1, 2, 3, 4, 5, 6, 7, 2, 4, 1, 2, 3, 4, 7, 1, 2, 6, 1, 2, 1, 2, 3, 4, 5, 6, 7, 1, 2, 5, 1, 2, 3, 4, 5, 6, 7, 1, 2, 3, 4, 6, 7, 1, 2, 3, 4, 5, 6, 7, 6, 1, 2, 3, 4, 5, 6, 7, 1, 2, 3, 4, 5, 6, 7, 1, 2, 5, 6, 7, 1, 2, 3, 4, 5, 6, 7, 2, 3, 6, 7, 5, 5, 1, 2, 3, 4, 5, 6, 7, 1, 1, 2, 3, 4, 5, 6, 7, 1, 2, 3, 5, 7, 2, 7, 1, 2, 3, 4, 5, 6, 7, 6, 1, 5, 1, 2, 3, 4, 5, 6, 7, 1, 2, 3, 4, 5, 6, 7, 6, 7, 1, 2, 3, 4, 6, 1, 2, 3, 4, 5, 6, 7, 6, 1, 2, 3, 4, 5, 6, 7, 1, 2, 3, 4, 5, 6, 7, 1, 2, 3, 4, 5, 6, 7, 1, 2, 3, 4, 5, 6, 7, 1, 5, 1, 2, 3, 4, 5, 6, 7, 7, 3, 4, 1, 5, 6, 6, 1, 2, 1, 2, 3, 4, 5, 6, 7, 1, 2, 3, 4, 5, 6, 7, 1, 2, 3, 4, 5, 6, 7, 2, 7, 1, 2, 3, 4, 5, 6, 7, 1, 2, 3, 4, 5, 6, 7, 2, 1, 4, 1, 3, 6, 1, 2, 3, 4, 5, 6, 7, 5, 2, 3, 5, 7, 1, 1, 2, 4, 6, 4, 4, 1, 2, 3, 4, 5, 6, 7, 2, 1, 1, 2, 3, 4, 5, 6, 7, 1, 2, 3, 4, 5, 6, 7, 6, 1, 2, 3, 4, 5, 6, 7, 1, 2, 3, 4, 5, 6, 7, 2, 3, 5, 7, 1, 2, 3, 4, 5, 6, 7, 1, 2, 3, 4, 5, 6, 7, 1, 2, 3, 4, 5, 6, 7, 1, 2, 3, 4, 5, 6, 7, 1, 2, 3, 5, 6, 7, 1, 2, 3, 4, 5, 6, 7, 1, 3, 5, 6, 1, 2, 3, 7, 1, 2, 3, 4, 5, 6, 7, 1, 2, 3, 4, 5, 6, 7, 1, 2, 3, 4, 5, 6, 7, 1, 2, 3, 4, 5, 6, 7, 1, 2, 3, 4, 5, 6, 7, 1, 2, 3, 4, 5, 6, 7, 2, 4, 3, 7, 5, 2, 2, 1, 2, 3, 4, 5, 6, 7, 1, 2, 3, 4, 5, 6, 7, 2, 1, 2, 3, 4, 6, 1, 2, 3, 4, 5, 6, 7, 1, 2, 3, 4, 5, 6, 7, 1, 2, 3, 4, 5, 6, 7, 1, 2, 3, 4, 5, 6, 7, 1, 5, 6, 1, 2, 3, 4, 5, 6, 7, 2, 4, 5, 6, 7, 1, 2, 4, 5, 6, 4, 6, 6, 2, 4, 1, 2, 3, 4, 6, 7, 1, 2, 3, 6, 7, 5, 5, 1, 3, 4, 5, 1, 2, 3, 4, 5, 6, 7, 1, 2, 3, 4, 5, 6, 7, 3, 1, 2, 3, 4, 5, 6, 7, 2, 4, 2, 1, 2, 3, 4, 5, 6, 7, 4, 1, 2, 3, 4, 5, 6, 7, 1, 2, 3, 4, 5, 6, 7, 1, 2, 3, 4, 5, 6, 7, 3, 1, 2, 3, 4, 5, 6, 7, 1, 2, 3, 5, 6, 7, 1, 2, 3, 4, 5, 6, 7, 1, 2, 3, 4, 5, 6, 7, 3, 7, 1, 2, 3, 4, 5, 6, 7, 1, 2, 4, 5, 7, 1, 1, 2, 3, 4, 5, 6, 7, 1, 2, 3, 4, 5, 6, 7, 5, 6, 7, 1, 2, 3, 4, 5, 6, 7, 3, 3, 6, 1, 2, 3, 4, 5, 6, 7, 1, 2, 3, 4, 5, 6, 7, 3, 1, 2, 3, 4, 5, 6, 7, 7, 1, 2, 3, 4, 5, 6, 7, 1, 2, 4, 7, 1, 3, 4, 6, 7, 1, 1, 4, 5, 1, 2, 6, 1, 2, 3, 4, 5, 6, 7, 4, 1, 2, 3, 4, 5, 6, 7, 1, 2, 3, 4, 5, 6, 7, 2, 1, 2, 3, 4, 5, 6, 7, 7, 1, 2, 3, 4, 5, 6, 7, 2, 1, 7, 6, 6, 4, 1, 2, 3, 4, 5, 6, 7, 5, 2, 5, 5, 5, 2, 2, 1, 2, 3, 4, 5, 6, 7, 1, 3, 5, 4, 1, 2, 3, 4, 5, 6, 7, 1, 2, 3, 4, 5, 6, 7, 5, 1, 7, 1, 2, 3, 4, 5, 6, 7, 1, 2, 3, 4, 5, 6, 7, 1, 2, 3, 4, 5, 6, 7, 6, 3, 4, 5, 3, 4, 1, 2, 3, 6, 7, 1, 2, 3, 4, 5, 6, 7, 7, 1, 2, 3, 4, 5, 6, 7, 1, 2, 3, 4, 5, 6, 7, 1, 2, 3, 4, 5, 6, 7, 1, 2, 4, 1, 2, 3, 4, 5, 6, 7, 1, 2, 3, 5, 6, 7, 2, 4, 1, 2, 3, 7, 7, 6, 4, 5, 6, 1, 2, 6, 7, 3, 1, 2, 3, 5, 6, 7, 1, 3, 1, 2, 3, 4, 5, 6, 7, 1, 2, 3, 4, 5, 6, 7, 5, 1, 6, 3, 4, 5, 6, 2, 3, 7, 6, 7, 6, 1, 2, 3, 4, 5, 6, 7, 1, 2, 3, 4, 5, 6, 7, 1, 2, 3, 4, 5, 6, 7, 1, 2, 3, 4, 5, 6, 7, 1, 2, 3, 4, 5, 6, 7, 1, 2, 3, 4, 5, 6, 7, 1, 2, 3, 4, 5, 6, 7, 7, 1, 2, 3, 4, 5, 6, 7, 1, 2, 1, 2, 3, 4, 5, 6, 7, 2, 3, 4, 6, 1, 2, 3, 4, 5, 6, 7, 1], \"Freq\": [0.1829788287548493, 0.45584199444190526, 0.042445381329097594, 0.11610060187076696, 0.0069553355959445645, 0.16157779615194295, 0.03388496828793506, 0.9800523907585124, 0.08116591860697413, 0.011503830983665624, 0.23071572139462723, 0.6039511266424453, 0.005751915491832812, 0.033872391229682115, 0.03323328950836736, 0.9549250975216045, 0.12948078081790443, 0.4269282063069291, 0.2594290012777507, 0.06653224236972946, 0.010906924978644175, 0.06388341773205873, 0.04284863384467354, 0.2589534989648611, 0.08126528890289296, 0.10266429914691493, 0.21360797725729075, 0.2845558862211017, 0.026876137866003784, 0.032098515366032955, 0.9622411630623078, 0.01688142391337382, 0.004220355978343455, 0.004220355978343455, 0.012661067935030365, 0.9608331758135772, 0.025285083574041505, 0.006897435825884592, 0.004598290550589728, 0.811598282179087, 0.17473504092240966, 0.012153834105967423, 0.006076917052983711, 0.006076917052983711, 0.006076917052983711, 0.9662298114244101, 0.06877754695843387, 0.9284968839388573, 0.0049241951269472185, 0.017234682944315263, 0.03939356101557775, 0.9183623911756562, 0.007386292690420827, 0.0049241951269472185, 0.009848390253894437, 0.01919474520367568, 0.9373433907794958, 0.03199124200612614, 0.00959737260183784, 0.0031991242006126136, 0.20007225071373766, 0.35388412115345425, 0.042210650014342474, 0.10786300787797845, 0.036058175196753806, 0.1551358207169192, 0.10474783075514875, 0.00220308603981535, 0.007710801139353725, 0.0132185162388921, 0.9770686586581078, 0.001101543019907675, 0.08605120563548169, 0.012748326760812102, 0.8828216281862381, 0.019122490141218154, 0.028889069786549676, 0.060787417675864944, 0.014444534893274838, 0.6776894287428111, 0.07523195256913978, 0.10231545549403011, 0.04032432657705892, 0.02899451547193325, 0.9050430900882023, 0.0020710368194238036, 0.014497257735966626, 0.03727866274962847, 0.012426220916542823, 0.15081206953636397, 0.05879114575146393, 0.035019073773698076, 0.07157182961047782, 0.4066813603938222, 0.1393094540632515, 0.1380313856773501, 0.3763067680633177, 0.11592052666881995, 0.10446164192214301, 0.0757338849424234, 0.1697354015194274, 0.1076619677464258, 0.05017423574177569, 0.003284808825403602, 0.04562234479727225, 0.004744723858916314, 0.0031631492392775427, 0.1525611210020784, 0.7387170069574323, 0.051826983689701275, 0.3095205820028106, 0.1420098210700726, 0.14241923982933555, 0.1642354108586342, 0.10276410857500722, 0.09790957185803192, 0.04123431789719982, 0.60768836859349, 0.05643584761145527, 0.13132701979727268, 0.08291522634858357, 0.03316609053943343, 0.025409504848759482, 0.06285509094166819, 0.015342442694803265, 0.9665738897726057, 0.007671221347401632, 0.03601278820257538, 0.004967281131389708, 0.8692741979931988, 0.001241820282847427, 0.01986912452555883, 0.0037254608485422806, 0.0645746547080662, 0.26157774314925475, 0.09712044918907974, 0.16909749319920883, 0.31747595723808064, 0.0577327114623974, 0.0501788987476912, 0.04694155044138854, 0.9764728441046021, 0.7963144892005788, 0.06827484160378476, 0.0665848702769584, 0.007266876705353329, 0.011998796420467125, 0.02551856703507797, 0.02433558710629952, 0.9627412682972976, 0.5788691192993726, 0.12180942605162152, 0.062002095242492034, 0.09437487063458964, 0.010973822166812749, 0.06639162410921713, 0.06529424189253585, 0.02894871500666141, 0.022538642398043526, 0.5444426186609964, 0.022848807201686326, 0.03318763398977969, 0.03349779879342249, 0.31461049916168093, 0.007603379162451534, 0.029327319626598777, 0.03747379730065399, 0.7739153790352454, 0.14229181004016445, 0.008689576185658897, 0.0005430985116036811, 0.9822007732130129, 0.9800642449604677, 0.1676843563922464, 0.2511547838721586, 0.06478375814503874, 0.24694160908843382, 0.03216882864279277, 0.17462370309485195, 0.06270195413425708, 0.0804317218145679, 0.024693949679911197, 0.4670684196600346, 0.14722297618689914, 0.038099236649005844, 0.1338176892178045, 0.10865337859160926, 0.030327076671135322, 0.0210655143344413, 0.5987327651780429, 0.0377726463927913, 0.011259154213235869, 0.042312627930386405, 0.25841574911991355, 0.9775660237503927, 0.006794583040391601, 0.9580362086952159, 0.006794583040391601, 0.006794583040391601, 0.006794583040391601, 0.013589166080783203, 0.9319780790883522, 0.0612248373123735, 0.03196710072615016, 0.809167237130676, 0.013985606567690694, 0.00799177518153754, 0.07192597663383786, 0.001997943795384385, 0.06393420145230032, 0.12836457661006498, 0.47699389696177696, 0.09029868968827028, 0.0964582183163924, 0.01798582359411659, 0.13982129985837213, 0.04989218188778917, 0.00490426779712073, 0.9906620950183874, 0.9788138857887058, 0.13176039779952306, 0.09797568041502996, 0.07995716447663365, 0.03828934636909217, 0.1002279949073295, 0.061938648538237336, 0.4887522448290001, 0.161803498239574, 0.26034786848371533, 0.1212201715691373, 0.2707321139503023, 0.12005459299635714, 0.05372257603632221, 0.012185594169974466, 0.017609259872589697, 0.9685092929924334, 0.9895113658248401, 0.9685577761957459, 0.011345385444918022, 0.0028363463612295055, 0.9161398746771302, 0.0028363463612295055, 0.008509039083688516, 0.05672692722459011, 0.019364675350007975, 0.9682337675003988, 0.9757245654093516, 0.013551730075129883, 0.9799879021426571, 0.9443006795706002, 0.9448200434546754, 0.8764029281118971, 0.011093707950783507, 0.11093707950783507, 0.010479665302449839, 0.9431698772204855, 0.026199163256124598, 0.005239832651224919, 0.010479665302449839, 0.005239832651224919, 0.07668113443765685, 0.035134834173775886, 0.6844881197796192, 0.06308882632663407, 0.04488026263073562, 0.05180464600804911, 0.0435979694127146, 0.9649729067775249, 0.01298656940629843, 0.9739927054723824, 0.9742339777725342, 0.012818868128585978, 0.012818868128585978, 0.662621254901802, 0.08545039165613126, 0.12792177443967373, 0.043655843657983896, 0.03367253057340618, 0.02944231316468681, 0.017259287027575027, 0.047121310116327746, 0.9424262023265548, 0.09742625236978864, 0.011523535226534138, 0.006285564669018621, 0.0293326351220869, 0.12361610515736622, 0.7312206898291663, 0.022796494033922865, 0.01519766268928191, 0.12918013285889623, 0.002532943781546985, 0.7978772911873003, 0.002532943781546985, 0.03039532537856382, 0.012418886171863316, 0.9486118437430978, 0.002865896808891534, 0.005731793617783068, 0.0038211957451887123, 0.022927174471132274, 0.002865896808891534, 0.013736951139426152, 0.9753235308992567, 0.9911648105704584, 0.00718235369978593, 0.9662952987887262, 0.04943531366282612, 0.11154980736468542, 0.07034247223782762, 0.23011362921904877, 0.4476155208460805, 0.0725006305423439, 0.018411788035404546, 0.3200916743741915, 0.07684814702740946, 0.04724807095488358, 0.3711681463353008, 0.11709304540992886, 0.04743482222347995, 0.020169137008408798, 0.33692345020557346, 0.10179184613513959, 0.08722069732983939, 0.03745884952305947, 0.18564468359960298, 0.06721973363954525, 0.18378892408194683, 0.028268883665011475, 0.022615106932009178, 0.05653776733002295, 0.039576437131016065, 0.8480665099503442, 0.005653776733002294, 0.01607773332290411, 0.002679622220484018, 0.9191104216260183, 0.021436977763872146, 0.005359244440968036, 0.03215546664580822, 0.005359244440968036, 0.7040193528613756, 0.02673799601229725, 0.12132594090318023, 0.01382579748244072, 0.011328627012043938, 0.09562335703714507, 0.02716434219016987, 0.8098935393141051, 0.018323383242400567, 0.07146119464536221, 0.02198805989088068, 0.07512587129384232, 0.974644307494225, 0.025221859888040984, 0.028609870917777832, 0.1494489309783921, 0.7653140470505571, 0.0033880110297368486, 0.02296318586821642, 0.004517348039649131, 0.05031438721498587, 0.0721902077432406, 0.0021875820528254727, 0.8334687621265051, 0.041564059003683984, 0.14609052568309566, 0.009739368378873044, 0.009739368378873044, 0.8310927683304997, 0.11856428741770242, 0.6990901687740084, 0.03600841321574666, 0.07816460429759642, 0.030738889330515443, 0.03337365127313105, 0.003513015923487479, 0.03311445629672219, 0.03784509291053965, 0.004730636613817456, 0.004730636613817456, 0.9177435030805864, 0.004730636613817456, 0.9619183902203351, 0.036071939633262565, 0.006895920031720288, 0.013791840063440575, 0.9309492042822388, 0.01034388004758043, 0.003447960015860144, 0.013791840063440575, 0.01723980007930072, 0.17539133317104919, 0.18878328225553817, 0.08660127074636205, 0.22720233618824417, 0.21562478020552467, 0.08210848782769478, 0.0243071075856101, 0.015306873165863, 0.979639882615232, 0.9855748842419098, 0.13412746893250446, 0.8396938419628664, 0.0041914834041407644, 0.0041914834041407644, 0.001397161134713588, 0.01536877248184947, 0.001397161134713588, 0.18516744874443913, 0.1473420355197151, 0.08320115275633386, 0.08885774901230689, 0.2547927704864377, 0.1486209181515003, 0.09203036169500482, 0.038941307024782844, 0.0055630438606832635, 0.9276375637689341, 0.009735326756195711, 0.004172282895512447, 0.0027815219303416318, 0.009735326756195711, 0.22515123632897008, 0.08743025912260623, 0.09506642643900501, 0.16560455786169878, 0.3298207216658705, 0.061127905032788206, 0.03578971348291953, 0.0227171873976834, 0.00567929684942085, 0.9541218707027028, 0.0113585936988417, 0.10166335323056615, 0.27147244968916817, 0.14275271248065594, 0.10085569997749312, 0.05209363482320966, 0.29065421444965234, 0.040584575966919154, 0.16560886948779172, 0.16273703938106698, 0.17007616076491902, 0.06988119926363465, 0.08998401001070763, 0.06126570894346051, 0.2804820737567802, 0.16884106282715283, 0.18617761072575856, 0.1396226369785271, 0.13442167260894536, 0.1246540078172919, 0.20381014846653558, 0.04249568448316769, 0.4131444076150934, 0.06487781001712303, 0.055976092742780086, 0.08241942935185767, 0.16394868697628104, 0.17531146726176589, 0.044351497243343994, 0.9685751559037888, 0.962442676398672, 0.05096844323978353, 0.09494927732572576, 0.11015760313114505, 0.19359787714466162, 0.45666080999515724, 0.044391869918521135, 0.04932429990946793, 0.016123805071921012, 0.00716613558752045, 0.9136822874088575, 0.005374601690640338, 0.023289940659441465, 0.008957669484400563, 0.02508147455632158, 0.1636105891970489, 0.13947923385825114, 0.14768389467344237, 0.14032383129510906, 0.32348081831658415, 0.050555189434781336, 0.034869808464562786, 0.007248986311598231, 0.7647680558736134, 0.094236822050777, 0.04168167129168983, 0.009061232889497789, 0.04168167129168983, 0.04168167129168983, 0.2587979210766177, 0.2919041751898725, 0.07559127755157209, 0.1218238006988353, 0.03961928836677042, 0.1311424497077115, 0.08112234664071152, 0.004431591401519677, 0.022157957007598386, 0.01181757707071914, 0.11522137643951161, 0.11078978503799193, 0.7105318213769882, 0.02511235127527817, 0.01009529959056218, 0.06057179754337307, 0.012619124488202724, 0.0959053461103407, 0.00504764979528109, 0.7445283448039607, 0.06814327223629471, 0.9639730276852709, 0.9851608689281045, 0.15288636003415831, 0.15461193971851678, 0.019096415173566802, 0.11941011415760447, 0.12493196914755149, 0.3556994922690877, 0.0733946559080459, 0.0712752365298163, 0.3051772427555849, 0.03874988259062583, 0.09336792977153056, 0.36435409965303384, 0.07662307100499316, 0.050497584552489774, 0.012006828511372887, 0.012006828511372887, 0.960546280909831, 0.009075426763607335, 0.0022688566909018337, 0.8394769756336785, 0.0011344283454509168, 0.0022688566909018337, 0.0034032850363527505, 0.14293797152681553, 0.013499393922397216, 0.001687424240299652, 0.02531136360449478, 0.9567695442499027, 0.003374848480599304, 0.9630121660134617, 0.31428544921820584, 0.320758281911335, 0.02253722655880413, 0.08655942628720854, 0.0742610441702632, 0.09220844391030306, 0.08938393509875579, 0.957899916629025, 0.02488051731503961, 0.07157322116777443, 0.03817238462281303, 0.16064211862100483, 0.05964435097314536, 0.07157322116777443, 0.0445344487266152, 0.5534995770307889, 0.169493503264386, 0.11208928647252621, 0.1392807575844598, 0.08882547229898304, 0.022961686716743913, 0.3800763406534716, 0.08731483501498673, 0.9751858736622148, 0.9655492534088901, 0.0017790686933267807, 0.9784877813297295, 0.0017790686933267807, 0.007116274773307123, 0.0017790686933267807, 0.010674412159960685, 0.04376449758524001, 0.1368804498942613, 0.04190217853905958, 0.12663769514026896, 0.0502826142468715, 0.5866304995468341, 0.013967392846353194, 0.6521584802459972, 0.052090788969770964, 0.10611507884016662, 0.10076951752667483, 0.03400686878157537, 0.011487270056652548, 0.04333316724341209, 0.5976092831369126, 0.08643582543455346, 0.11333969162941447, 0.02461417545487284, 0.03892474257979891, 0.07212525830962739, 0.06640103145965696, 0.12562325209927191, 0.029704020200813065, 0.6745287920601301, 0.05043495096596385, 0.01763676199423276, 0.029394603323721263, 0.07240354923948185, 0.967667171666168, 0.016683916752864965, 0.970106166070193, 0.011023933705343101, 0.011023933705343101, 0.010787824204008338, 0.010787824204008338, 0.010787824204008338, 0.9709041783607503, 0.004871427922409883, 0.9547998727923371, 0.004871427922409883, 0.0292285675344593, 0.43168317395433464, 0.08917191988779347, 0.06636476904334547, 0.1206832490738424, 0.16064167116524244, 0.083626219762976, 0.04781789114246586, 0.9888164924072137, 0.023699514788570485, 0.9716801063313898, 0.06030012525776706, 0.003722229954183152, 0.8665351333338378, 0.0029777839633465214, 0.032011177605975105, 0.009677797880876195, 0.025311163688445434, 0.9858768149283911, 0.9984052044609574, 0.9950100165805402, 0.11797514648831753, 0.2772696390525751, 0.08575478159953773, 0.21301587464187496, 0.0656248437676695, 0.20229652694193276, 0.03807861305037613, 0.15590506214466565, 0.03702264828250482, 0.1488592294265419, 0.2865732325535062, 0.05726340409093307, 0.27350641551262217, 0.04099393581453822, 0.9555081565996618, 0.024282138954438523, 0.9712855581775409, 0.9704286697834495, 0.11407189143743413, 0.40801262736712335, 0.11764781279910919, 0.07580953286751108, 0.10227135094390646, 0.06913447965905099, 0.11323750978637662, 0.02953253549175409, 0.014766267745877045, 0.9450411357361309, 0.07350434126400203, 0.1472236075024602, 0.10122966296884489, 0.5713780445916649, 0.024071597139088383, 0.06501480477298424, 0.017623847905403993, 0.98026846086631, 0.41324486600102933, 0.173748051503514, 0.04375533875305016, 0.17143295421499283, 0.0033568910683557003, 0.13277082949668925, 0.06181309760351531, 0.21156727454913724, 0.038018261956017804, 0.062396384126288756, 0.08532342759594835, 0.42661713797974177, 0.12972643583465618, 0.046434518419563725, 0.06704668160446355, 0.45768122619708, 0.10390539695531535, 0.10774955745202995, 0.01277618047437501, 0.19842651975688622, 0.052461484425752256, 0.054959377141402053, 0.3460461613363071, 0.0823629446911316, 0.10322010443731466, 0.006546407803546505, 0.3492432442171089, 0.057547491854432066, 0.1106077243477761, 0.0771497054914146, 0.1520096862286927, 0.03700942867910379, 0.04350477032859297, 0.47336554611025433, 0.10635537837580837, 0.4859742142230739, 0.07344897387228473, 0.033697020271155724, 0.049229240552391564, 0.06686752460057463, 0.2587825853636412, 0.03185421447507689, 0.0444376241385637, 0.0073230541651565645, 0.8596266991598558, 0.010818148198526743, 0.013481076985856403, 0.015478273576353648, 0.04876488341797439, 0.9750564278442712, 0.01989278190800755, 0.8525477960574664, 0.10230573552689597, 0.011367303947432886, 0.011367303947432886, 0.9762822754441874, 0.8557825557399185, 0.05034015033764226, 0.021887021885931418, 0.06347236346920111, 0.008754808754372567, 0.03682146454586862, 0.9389473459196497, 0.009205366136467155, 0.9103377397292625, 0.0741756676816436, 0.006743242516513055, 0.006743242516513055, 0.13025076982521747, 0.29180170445092135, 0.05228968707845967, 0.15250281975900865, 0.22052149721620015, 0.11473220072245528, 0.03792843499353061, 0.03768669448997482, 0.9610107094943579, 0.018591865441269836, 0.018591865441269836, 0.9481851375047615, 0.965606698222203, 0.9567403324627758, 0.009296301966250458, 0.009296301966250458, 0.9761117064562982, 0.05826449282700401, 0.06607313619557156, 0.1964174139631991, 0.6361041021010025, 0.004805318996041568, 0.03423789784679617, 0.00450498655878897, 0.014189914242686178, 0.007094957121343089, 0.9720091256240032, 0.007094957121343089, 0.007094957121343089, 0.01768461895915495, 0.9549694237943673, 0.9831288817336005, 0.16516506852421417, 0.42885926551775055, 0.0732118551918879, 0.07496543256175348, 0.08888445293506152, 0.07770539720216844, 0.09107642464739349, 0.10841211406599123, 0.056326420147220044, 0.11915072725738594, 0.03221583957418414, 0.40416856909523163, 0.20464923992772602, 0.07506769412455859, 0.306406767659186, 0.16438296053873652, 0.061667600709985726, 0.061223776312734325, 0.24296386936019468, 0.11552629107914268, 0.04783707287131357, 0.9918440619366836, 0.023991191046834885, 0.0047982382093669776, 0.9180629107255482, 0.022391778310379227, 0.007997063682278295, 0.009596476418733955, 0.012795301891645272, 0.9723030981623548, 0.9839707590189102, 0.013479051493409729, 0.9866648505104375, 0.008542552818272186, 0.01525705500078876, 0.020706003215356174, 0.9001662450465369, 0.0054489482145674145, 0.0010897896429134827, 0.006538737857480897, 0.05122011321693369, 0.023726965743591965, 0.024758572949835096, 0.80774844248837, 0.007221250443701903, 0.003094821618729387, 0.01650571529989006, 0.11760322151171669, 0.04247396195160897, 0.00670641504499089, 0.9165433894820882, 0.0022354716816636298, 0.022354716816636297, 0.0044709433633272596, 0.0044709433633272596, 0.028754791974800097, 0.05750958394960019, 0.013070359988545497, 0.8874774432222393, 0.010456287990836399, 0.0013070359988545499, 0.18630729519631714, 0.29574711284048516, 0.051109773992458, 0.10173278823260688, 0.23887734844570252, 0.08120775201023882, 0.044984713775901526, 0.016062633464836336, 0.07763606174670896, 0.9048616851857804, 0.33002830727738275, 0.35798570193754486, 0.029650127539976645, 0.10975461575571464, 0.05493191216430295, 0.07764729532568469, 0.03997033767820056, 0.05211574640219559, 0.5025186656083834, 0.07658567728034936, 0.13744812237941692, 0.006716215070812419, 0.196175956486986, 0.028426770764833957, 0.1619459714075184, 0.22940230667640243, 0.054637727814213694, 0.0824536829344967, 0.2921627164420904, 0.13053403729830146, 0.04886300861433745, 0.0009375648240601565, 0.06750466733233126, 0.0028126944721804693, 0.029064509545864852, 0.9000622310977502, 0.002518612061824765, 0.06087669642117907, 0.06640535704469686, 0.8366706410256902, 0.017753143557740415, 0.010381596059716714, 0.005405801498550715, 0.9764891846240985, 0.9664837837509067, 0.9769084258740132, 0.9780246423673965, 0.016024552624371174, 0.02403682893655676, 0.03204910524874235, 0.9294240522135281, 0.971344130320031, 0.9607709466354716, 0.9744961764836281, 0.07841454662689282, 0.08748730408785561, 0.11794584699251646, 0.1250744421404158, 0.014257190295798694, 0.5197393916922979, 0.057028761183194776, 0.08262592732738712, 0.012796050692294466, 0.7966455559574183, 0.002559210138458893, 0.02668890572964274, 0.010968043450538114, 0.0680018693933363, 0.013275073137816938, 0.9823554121984535, 0.008523881461397147, 0.005682587640931431, 0.09944528371630004, 0.0028412938204657157, 0.8779597905239062, 0.9902277428812772, 0.9792073559625718, 0.9798822843066477, 0.04388578884861241, 0.06582868327291862, 0.8886872241844013, 0.0018244904924895687, 0.005473471477468706, 0.0018244904924895687, 0.9861371111906119, 0.0036489809849791373, 0.0018244904924895687, 0.22822696694724637, 0.028528370868405796, 0.016641549673236715, 0.7036998147540097, 0.023773642390338162, 0.6438239304337504, 0.05687232907568803, 0.09770374482233585, 0.009478721512614672, 0.05687232907568803, 0.10499506906280867, 0.02989442938593858, 0.028394944689485457, 0.9512306470977627, 0.01987646128263982, 0.9937044310528764, 0.9854208337401809, 0.9504909395562837, 0.022104440454797297, 0.0800045270941993, 0.0496579823343306, 0.0358640983525721, 0.0027587767963517, 0.1765617149665088, 0.6538301007353529, 0.0027587767963517, 0.09044149604054506, 0.0032300534300194667, 0.9076450138354701, 0.022758816537364623, 0.955870294569314, 0.9820568644444667, 0.9217216513781565, 0.036868866055126265, 0.012289622018375421, 0.024579244036750842, 0.014290864458498325, 0.9717787831778861, 0.9964389004897426, 0.017817360356099016, 0.8685963173598271, 0.10690416213659411, 0.004454340089024754, 0.7759826119889018, 0.13387180939655866, 0.0023694125556913033, 0.02724824439044999, 0.033171775779678246, 0.023694125556913033, 0.003554118833536955, 0.9809675927620936, 0.004070780407998329, 0.03256624326398663, 0.9159255917996241, 0.044778584487981624, 0.9787166245252186, 0.01665128496989623, 0.013546808111102019, 0.09510988194669542, 0.8605045402239594, 0.0019755761828690443, 0.0053622782106445485, 0.007055629224532301, 0.060518195119909905, 0.34397474138007617, 0.05795952142917842, 0.12937989140524855, 0.2629871567343144, 0.10078949407837937, 0.0444986728822867, 0.9666001045079041, 0.02941826405024056, 0.0632853882197415, 0.037363407169282416, 0.44478544036925666, 0.14078317294645884, 0.027530931598418622, 0.14435861860859114, 0.14185580664509853, 0.03643737673078501, 0.9473717950004102, 0.9481155065245591, 0.039504812771856634, 0.026273253261801292, 0.005254650652360258, 0.07356510913304362, 0.03678255456652181, 0.005254650652360258, 0.015763951957080777, 0.8354894537252812, 0.01769236631403613, 0.0943592870081927, 0.001684987268003441, 0.14659389231629938, 0.08003689523016345, 0.6495625918153265, 0.010952417242022366, 0.9687060335022114, 0.039254293923695296, 0.007850858784739059, 0.015701717569478118, 0.051030582100803884, 0.8792961838907746, 0.0039254293923695295, 0.024176801889691076, 0.013018277940602887, 0.8889624079440257, 0.009298769957573491, 0.011158523949088188, 0.009298769957573491, 0.04649384978786745, 0.9726545175232979, 0.0036560287629535913, 0.9944398235233768, 0.9780700942627614, 0.0181124091530141, 0.0936377367766164, 0.0029726265643370284, 0.8605753903755697, 0.004458939846505543, 0.0074315664108425715, 0.004458939846505543, 0.023781012514696227, 0.18387037538085108, 0.10840690881829344, 0.41140996491465426, 0.05994940363979832, 0.021834607076476064, 0.07412274507540559, 0.14039269286892067, 0.08783050374821227, 0.23157412152878035, 0.20380983794462568, 0.10836530628829343, 0.03037920225967062, 0.2489556397836805, 0.08906105371316095, 0.14632374142369828, 0.0069677972106523, 0.8431034624889282, 0.1508258383044077, 0.00215465483292011, 0.0215465483292011, 0.8209234913425619, 0.00215465483292011, 0.00430930966584022, 0.005247423952315888, 0.04722681557084299, 0.9392888874645439, 0.9977657285875221, 0.16365062814616127, 0.11258764676113378, 0.41796918421500545, 0.07348087565162492, 0.07684355979161453, 0.10112961191376175, 0.054425665525017104, 0.06109664491095796, 0.09386781827276078, 0.3207256307695818, 0.06122366496274789, 0.03772495538161021, 0.15089982152644085, 0.274617351969836, 0.453747513003106, 0.23549125452983352, 0.09551731459383808, 0.10115493012635804, 0.034308917383621435, 0.03898008453913797, 0.04075190656364424, 0.2614715141710749, 0.11824396324861171, 0.09358396224727639, 0.06700940676688714, 0.23776879040926654, 0.13978944252697906, 0.0821505664850389, 0.02067484607834431, 0.9717177656821826, 0.18553785665883013, 0.18165563472351023, 0.1219664724679668, 0.054998144083698554, 0.026366757310714306, 0.1672590617133656, 0.2622117398813981, 0.46667951474131153, 0.1403567825021862, 0.1438860633001135, 0.12013128869867967, 0.036242998963330476, 0.03502132484097102, 0.057690166889196454, 0.0023730112991415474, 0.00949204519656619, 0.00949204519656619, 0.04746022598283094, 0.0023730112991415474, 0.927847417964345, 0.02768096098478418, 0.0028635476880811217, 0.8991539740574723, 0.0009545158960270406, 0.0028635476880811217, 0.0019090317920540812, 0.06395256503381172, 0.04523169088453796, 0.9498655085752972, 0.26290990247039936, 0.3251342622293454, 0.08229855284837488, 0.14596081126962548, 0.024472471350595888, 0.13820743612974776, 0.020976404014796474, 0.20570127749174646, 0.026136162316598373, 0.6693761571084361, 0.011132069134847456, 0.05033631260974501, 0.018392114222791446, 0.019360120234517313, 0.9804996474254668, 0.9565839437582802, 0.06247194714112687, 0.9301378796567777, 0.9738385688740555, 0.09538029792198523, 0.02260866321113724, 0.729835909284524, 0.026141266837877434, 0.015543455957656853, 0.014836935232308814, 0.09608681864733327, 0.9714578853211912, 0.9836668491813906, 0.4855354784916872, 0.026411945195023146, 0.26189788646653794, 0.04936812185985635, 0.05035548429705348, 0.023449857883431766, 0.1026856934685012, 0.013321980474091966, 0.9725045746087135, 0.006075193348517481, 0.045563950113881105, 0.036451160091104884, 0.9082414056033633, 0.0030375966742587405, 0.8931238739473828, 0.005994119959378408, 0.09590591935005453, 0.9878314044359047, 0.9844962958694424, 0.0961253490752877, 0.04806267453764385, 0.03300689697163493, 0.6352379996119917, 0.013897640830162077, 0.012160435726391817, 0.16156007465063416, 0.8801532999497629, 0.10757429221608213, 0.9895566458142364, 0.7143866110045363, 0.02401299532788357, 0.0060032488319708924, 0.00840454836475925, 0.0036019492991825356, 0.24133060304522988, 0.0012006497663941786, 0.7508595713184751, 0.06222593132473551, 0.10163568783040132, 0.006222593132473551, 0.016593581686596134, 0.06222593132473551, 0.86890615961969, 0.05209269542084472, 0.047925279787177144, 0.0020837078168337887, 0.0020837078168337887, 0.01666966253467031, 0.010418539084168944, 0.9621863811970931, 0.21656338231122138, 0.04732919906259339, 0.09747701047630897, 0.25167859451895197, 0.32496251564812884, 0.022548898808977497, 0.03946057291571062, 0.09721790142411749, 0.12265281749438078, 0.0028261017855848104, 0.03560888249836861, 0.0011304407142339243, 0.02373925499891241, 0.717264633181425, 0.129906196256458, 0.04811340602091037, 0.004811340602091037, 0.01443402180627311, 0.8034938805492031, 0.04434144862904276, 0.7768621799808292, 0.037246816848395925, 0.021283895341940525, 0.11174045054518776, 0.005320973835485131, 0.0017736579451617105, 0.03548468928046003, 0.011828229760153344, 0.047312919040613376, 0.8989454617716541, 0.9917139380296398, 0.9612390431677792, 0.029845507851645695, 0.008139683959539736, 0.9306371993740431, 0.002713227986513245, 0.002713227986513245, 0.01085291194605298, 0.01627936791907947, 0.9413877358663327, 0.2818445497829236, 0.051778607842856324, 0.13923916411642806, 0.36973353425377664, 0.09070436976727314, 0.020931777638601493, 0.04578061308091788, 0.008541685866945791, 0.017083371733891583, 0.025625057600837373, 0.9054187018962538, 0.04270842933472895, 0.9734400537362619, 0.9618440601102297, 0.020698905624370247, 0.05381715462336264, 0.22837792538888504, 0.028978467874118344, 0.5561105977747473, 0.01724908802030854, 0.09383503883047845, 0.991467059860873, 0.9562393503121042, 0.9515732988735534, 0.10324867654552145, 0.23618134759788031, 0.5446367687776257, 0.03355581987729447, 0.009679563426142635, 0.03355581987729447, 0.039363557932980055, 0.10152821672676898, 0.029914563856994432, 0.03988608514265924, 0.05710962190880755, 0.016317034831087873, 0.7433315867495586, 0.011784525155785685, 0.9863647922058104, 0.967388233360433, 0.04500697814434, 0.9201426642842845, 0.020003101397484447, 0.005000775349371112, 0.005000775349371112, 0.010243229572554484, 0.006828819715036323, 0.9662779896776398, 0.0034144098575181617, 0.0034144098575181617, 0.010243229572554484, 0.0034144098575181617, 0.9708219849162207, 0.12437420874268595, 0.0587857457215172, 0.10255417212116211, 0.1922730285826043, 0.4758051515058172, 0.03491205859443816, 0.011423430937150723, 0.4110202804561069, 0.06712981612990736, 0.15673613319616764, 0.1871543311300319, 0.1237705984895167, 0.03251600468792388, 0.021577440898898795, 0.14349663005770003, 0.20110476621225112, 0.04713392958099636, 0.1403543680856336, 0.007331944601488323, 0.04399166760892993, 0.41582600097012345, 0.26874168793045505, 0.16374799906742923, 0.13819119148972908, 0.13112135296737562, 0.10894577250906193, 0.13072614460277202, 0.05857866204235736, 0.955868666628426, 0.026551907406345165, 0.08597698492839591, 0.12399144592841257, 0.08007623277316943, 0.07005251917615012, 0.399151840500175, 0.19712672985232524, 0.04363152314778032, 0.9823102519656853, 0.011676667776794795, 0.9808400932507628, 0.9608852563282764, 0.013726932233261092, 0.013726932233261092, 0.961989278755494, 0.9900524948191939, 0.008204854929440833, 0.14143224296642243, 0.1853284717848362, 0.44308069866824523, 0.055347418944956504, 0.011852986271333698, 0.05293664207621067, 0.11009214367272654, 0.04051190759594896, 0.00803253340264505, 0.8594810740830205, 0.003143165244513281, 0.005937089906302864, 0.0076832928199213535, 0.07508672528559504, 0.062439551306222106, 0.009000295683779762, 0.8094640930599424, 0.0011250369604724703, 0.014625480486142114, 0.010125332644252234, 0.0928155492389788, 0.005033584550865641, 0.9916161565205314, 0.10971948118990743, 0.07232904346597249, 0.7012239468226485, 0.02329240382802504, 0.008581411936640804, 0.02145352984160201, 0.062521715538383, 0.018132964780291128, 0.006044321593430376, 0.018132964780291128, 0.03022160796715188, 0.006044321593430376, 0.006044321593430376, 0.9187368822014171, 0.9739698189870941, 0.0224895025788647, 0.9670486108911822, 0.9625243192125106, 0.030319215137159385, 0.9641510413616685, 0.04109784828075676, 0.12395641336292763, 0.656571269711122, 0.06297250946244987, 0.028503346388266782, 0.05468665295423278, 0.031817688991553614, 0.9534875483752382, 0.01493589455641626, 0.00497863151880542, 0.03485042063163794, 0.9409613570542243, 0.9968284798377526, 0.9739466823537093, 0.9788026678697349, 0.01617855649371463, 0.008089278246857314, 0.9847120038081068, 0.9652345916197186, 0.1782879277949926, 0.0583617168829916, 0.19412388146141413, 0.45639574330754096, 0.05035477401794702, 0.03096017907817237, 0.03149397526917534, 0.9891699224440178, 0.9879694723472062, 0.18285915619805984, 0.19858450956248816, 0.035782596523585945, 0.16585797227764962, 0.060527775214025976, 0.2575694199181174, 0.09880269189348358, 0.01625073603278478, 0.14445098695808695, 0.009028186684880434, 0.003611274673952174, 0.03430710940254565, 0.7764240548997173, 0.01625073603278478, 0.9634987138799731, 0.198716759556949, 0.05746555298445987, 0.17327399564016527, 0.07588962340695846, 0.039918819248746934, 0.1140537692821341, 0.3408453028162238, 0.19675815243706937, 0.13938061862250473, 0.1282991206754858, 0.06328766605297476, 0.05910132238410094, 0.1913405312185268, 0.22187621445031228, 0.009191054942980744, 0.009191054942980744, 0.02757316482894223, 0.9558697140699973, 0.007479868942966076, 0.003739934471483038, 0.9293737161635349, 0.005609901707224557, 0.02243960682889823, 0.013089770650190633, 0.018699672357415188, 0.2058426174269461, 0.29989671817715774, 0.05866403018181379, 0.10644587620146075, 0.1634165387633475, 0.08826514632860057, 0.07746172345108149, 0.03418051992424748, 0.038050012745860395, 0.13220767140510817, 0.7616451703874767, 0.0019347464108064609, 0.027731365221559272, 0.0038694928216129218, 0.030885780822512907, 0.009151342465929751, 0.03889320548020144, 0.9128464109764927, 0.002287835616482438, 0.0034317534247236565, 0.002287835616482438, 0.013363991718737277, 0.008018395031242366, 0.9408250169991043, 0.0026727983437474555, 0.0026727983437474555, 0.03207358012496946, 0.023200177908152642, 0.0038666963180254404, 0.10826749690471232, 0.0038666963180254404, 0.8004061378312661, 0.0038666963180254404, 0.058000444770381604, 0.013255808303347862, 0.019883712455021792, 0.03313952075836966, 0.9345344853860242, 0.012289562108344117, 0.012289562108344117, 0.9708754065591853, 0.9790185779143031, 0.007560417368611155, 0.11515097222961607, 0.12852709526638964, 0.09537757295786381, 0.012212981903141098, 0.019773399271752253, 0.6211173653597473, 0.1544360418617967, 0.040076791028598485, 0.5488222975253932, 0.0385451939192253, 0.09113002800770484, 0.06560340951815166, 0.061519150559823155, 0.8008761274704509, 0.04402722166722374, 0.09015097769955337, 0.00838613746042357, 0.005241335912764731, 0.0408824201195649, 0.010482671825529461, 0.07617982917444908, 0.059043262284491214, 0.09783421824448676, 0.26779780439852346, 0.47499447679528684, 0.01869443660722677, 0.0052967570387142515, 0.2559598391966523, 0.07227926919055569, 0.03491158875951597, 0.07727917009330043, 0.3873607436231722, 0.028771359580706632, 0.14341821010504677, 0.15244815564818304, 0.1138261429772785, 0.14952430609739273, 0.18957424529310182, 0.21677284576556982, 0.11933385957295327, 0.05854498751698733, 0.005200370392963009, 0.9880703746629717, 0.023048603774949345, 0.9680413585478724, 0.9734769163940754, 0.9545579497168816, 0.9961818663688469, 0.004365183208966989, 0.03928664888070289, 0.011640488557245303, 0.04656195422898121, 0.1600567176621229, 0.7144349852009304, 0.023280977114490606, 0.28826396529273207, 0.3152815898698702, 0.026188863087041856, 0.1078218698615236, 0.10852631712810543, 0.0964056803354476, 0.05749532837542813, 0.9582307858549567, 0.0071462836351927714, 0.0071462836351927714, 0.9718945743862168, 0.0071462836351927714, 0.0071462836351927714, 0.0432386720899084, 0.05880459404227542, 0.17987287589401893, 0.020754562603156033, 0.6676050970681857, 0.006918187534385344, 0.024213656370348703, 0.2666287919425102, 0.05978948667801744, 0.02605690466710895, 0.06302135082277513, 0.38216793511759795, 0.007069702816657467, 0.19512379773974609, 0.2906684903041468, 0.09910438312412788, 0.13246905419016808, 0.06163981603726071, 0.32120564687306496, 0.07040511097833907, 0.02445800040010574, 0.5848510203715502, 0.09596141835806093, 0.12464962306301648, 0.060758861493028136, 0.0630138295484395, 0.038585008948149827, 0.0322585707926902, 0.9636960971133233, 0.981531127135699, 0.9647968970692582, 0.013696835395231626, 0.22188873340275234, 0.22878133444035276, 0.050678290962357014, 0.1570275903053329, 0.06654011001683492, 0.26134445600901635, 0.9945399569768707, 0.9839111023652698, 0.9936129929266395, 0.005613632728399093, 0.9808973273174701, 0.012413539919196267, 0.004137846639732089, 0.9392911872191841, 0.0020689233198660445, 0.04344738971718693, 0.9702143030077083, 0.9423112851501471, 0.9720088638059238, 0.02176922026297005, 0.9578456915706822, 0.8049523694778027, 0.04928279813129404, 0.07803109704121557, 0.01232069953282351, 0.028748298909921526, 0.02464139906564702, 0.009563838265221914, 0.019127676530443827, 0.9276923117265257, 0.015939730442036525, 0.022315622618851134, 0.9805160393312325, 0.9663630224298361, 0.009092100212752462, 0.027276300638257384, 0.009092100212752462, 0.945578422126256, 0.4962046726322991, 0.08501085639138085, 0.14490486884894463, 0.11600789790167683, 0.09282311888584568, 0.02948499070491569, 0.035533193926436855, 0.42059677581196897, 0.11838274503873135, 0.11967733155798843, 0.18656430171960456, 0.0638662682833496, 0.04214598334914737, 0.048906601838601044, 0.9620348535406984, 0.031111673398236752, 0.01030919355207845, 0.7229321978395014, 0.004418225808033622, 0.03240032259224656, 0.021722943556165306, 0.17691312506334628, 0.013852740688426424, 0.9766182185340629, 0.9605324272313694, 0.19169893553694056, 0.7257173988184178, 0.040165491255358975, 0.0009128520739854312, 0.02373415392362121, 0.0073028165918834495, 0.010041372813839744, 0.9850391049077349, 0.05618939918988166, 0.05267756174051406, 0.31606537044308436, 0.009364899864980278, 0.024582862145573228, 0.031606537044308436, 0.5092164301583025, 0.004029436219694601, 0.0020147181098473005, 0.9328144848593001, 0.0020147181098473005, 0.012088308659083802, 0.0020147181098473005, 0.046338516526487905, 0.15482324741837183, 0.037205586588911065, 0.3282492881311992, 0.02580387456972864, 0.05100765903318452, 0.07261090285900385, 0.3300495584500175, 0.9614773434288727, 0.03639926158718894, 0.06560854557690846, 0.5846350533942322, 0.01775025719375263, 0.03325364638829607, 0.1011090599644137, 0.16110043554329917, 0.018042140495694574, 0.006765802685885465, 0.9021070247847287, 0.0022552675619618217, 0.0022552675619618217, 0.06991329442081648, 0.07364509750261623, 0.03986294268490237, 0.4502035165374002, 0.07612245552258193, 0.10326078655947873, 0.05281276869835935, 0.2040442150989918, 0.012719180370974642, 0.008479453580649762, 0.852185084855301, 0.004239726790324881, 0.002826484526883254, 0.004239726790324881, 0.11588586560221341, 0.9861862223795351, 0.9823577126574935, 0.6070207366069136, 0.07410501833483045, 0.026988864702191338, 0.05626492132829719, 0.026988864702191338, 0.19166668322403677, 0.016925220236967447, 0.15318372718966877, 0.8447968238295912, 0.0011431621432064832, 0.0011431621432064832, 0.9803558981737971, 0.9623065382812805, 0.15497930103620206, 0.13997004440431762, 0.256291783301422, 0.10454121770347413, 0.10776995314172834, 0.11544910769757619, 0.12103394737455644, 0.3059358076644337, 0.09036145246995902, 0.0886267649007277, 0.17591308940704936, 0.08965180755527348, 0.12694759029374697, 0.12268972080563371, 0.015380135846858647, 0.9689485583520948, 0.015380135846858647, 0.07144509329707673, 0.16390344932858777, 0.080317359784949, 0.23044544798762984, 0.02194718552263141, 0.35862635066767923, 0.07331293887347089, 0.9818809059160319, 0.9628960338368641, 0.015530581190917162, 0.10971955589287709, 0.004952618842386813, 0.8518504408905317, 0.004190677482019611, 0.009524267004590024, 0.00761941360367202, 0.01219106176587523, 0.00833341909422812, 0.00416670954711406, 0.9666766149304619, 0.00416670954711406, 0.00416670954711406, 0.00833341909422812, 0.00833341909422812, 0.9710434853518122, 0.2939402601409874, 0.038865015140592686, 0.10496069622920581, 0.11521150119347218, 0.3509171269975845, 0.022514037896977642, 0.07370517434429552, 0.9634411457933186, 0.2132399177886692, 0.3286802604003819, 0.06153864542012116, 0.12866217359057164, 0.06956035592581335, 0.1364973326891547, 0.061818472530784846, 0.006337695428372188, 0.006337695428372188, 0.012675390856744377, 0.9696674005409448, 0.006789470309366749, 0.9776837245488118, 0.0033947351546833745, 0.0033947351546833745, 0.006789470309366749, 0.9788907744710913, 0.8580279146175646, 0.07271423005233597, 0.06544280704710238, 0.002331206896983755, 0.002331206896983755, 0.9930941381150796, 0.16588173955715102, 0.05060230843056526, 0.1700706723742508, 0.3381306569962937, 0.2067657238520448, 0.012064126513247347, 0.056466814374504945, 0.9684116732298801, 0.31182029467720157, 0.040949894120259, 0.43003650277972294, 0.07012825904386863, 0.030430655263678708, 0.04458153610645934, 0.07213192358797915, 0.5104196229643767, 0.06481364316809443, 0.04629545940578174, 0.09122642106065622, 0.06432632254277042, 0.18635140712390458, 0.036646511024366175, 0.9819300280525434, 0.24145941581894942, 0.2754785185928674, 0.03803765259242561, 0.05445827857494814, 0.28247633810440653, 0.053003286399281584, 0.05515113199193221, 0.970143770801964, 0.23836576717074054, 0.03286177133158626, 0.12578668452281824, 0.3182403118427301, 0.2372651336811659, 0.03144667113070456, 0.0158805689210058, 0.9822631804089689, 0.02269042714521301, 0.9756883672441594, 0.9489332482907405, 0.9807106229830032, 0.9816339487859342, 0.00794667520078713, 0.8571056823706119, 0.010217153829583454, 0.08514294857986211, 0.0147581110871761, 0.0147581110871761, 0.009081914515185292, 0.9795791626467075, 0.018978920476208447, 0.9679249442866308, 0.9841535920727775, 0.9263228903055417, 0.9673403992858741, 0.9942824670639212, 0.150693081035282, 0.30462238341597014, 0.02823864109459216, 0.11754791080410636, 0.1111276652317684, 0.256392245945724, 0.0313704682030497, 0.030942325236114076, 0.030942325236114076, 0.9282697570834223, 0.9830895664955027, 0.15335638820448516, 0.1767902645725302, 0.4366352882454105, 0.04798365161075887, 0.0690263161045136, 0.058983226232494294, 0.05722967085801473, 0.008845374694477496, 0.6421742028190662, 0.07901868060399896, 0.05366193981316347, 0.2046230012655794, 0.007076299755581997, 0.004127841524089498, 0.9869731199808821, 0.9710078981250676, 0.024897638413463274, 0.1885665880853947, 0.24261582015336058, 0.10180825178319432, 0.09556463359603275, 0.030425990121018716, 0.3121343151925029, 0.028888382657016237, 0.02365159693668278, 0.03843384502210952, 0.008869348851256042, 0.0029564496170853475, 0.919455830913543, 0.0029564496170853475, 0.0014782248085426738, 0.22904251223134894, 0.4486164102720933, 0.01893722838120918, 0.07460614974321203, 0.11313361438084449, 0.07950370880731784, 0.036241937074383085, 0.9661281914445699, 0.005680642270436447, 0.005680642270436447, 0.9884317550559418, 0.9835419010224283, 0.010036141847167637, 0.03823806441398349, 0.03823806441398349, 0.007647612882796697, 0.007647612882796697, 0.9024183201700102, 0.007117683292373782, 0.004745122194915854, 0.8333620854820969, 0.005931402743644818, 0.02906387344385961, 0.010676524938560672, 0.10854467020870016, 0.9952601487365528, 0.043212321118520323, 0.037672279949479255, 0.7623096648600508, 0.031578234663534085, 0.02548418937758891, 0.05927844050873942, 0.04044230053399979, 0.03131677878269562, 0.01719352560618583, 0.025176233923343536, 0.9081865846981729, 0.0018421634578056245, 0.014737307662444996, 0.0012281089718704163, 0.3358589012242679, 0.04235101704935447, 0.1521805348013016, 0.13554684843929884, 0.2797054635766559, 0.017813380430229876, 0.03657051611504147, 0.0073711738039415765, 0.0073711738039415765, 0.972994942120288, 0.12096239023215603, 0.07540972425204653, 0.08072026821345826, 0.2525458683871355, 0.4388869553886715, 0.023366393430211605, 0.008260846162196021, 0.012103864884783022, 0.8489996654897806, 0.03976984176428707, 0.0034582471099380064, 0.07089406575372913, 0.025936853324535047, 0.9938889960688705, 0.005286643596111014, 0.010328148041768905, 0.010328148041768905, 0.9708459159262771, 0.010328148041768905, 0.9532367179486991, 0.9837874250051716, 0.9853232742396673, 0.009067392094230067, 0.0030224640314100225, 0.17141820224034146, 0.013533015966342748, 0.10375312240862773, 0.7082278355719371, 0.9733433574548623, 0.03601434917274349, 0.014092571415421364, 0.9191488245391489, 0.006263365073520606, 0.01879009522056182, 0.006263365073520606, 0.015346275528351114, 0.9668153582861202, 0.0068528928555246955, 0.02512727380359055, 0.9182876426403093, 0.02512727380359055, 0.002284297618508232, 0.01142148809254116, 0.01142148809254116, 0.04030860661398061, 0.05481970499501364, 0.0983530001381127, 0.017332700844011662, 0.6469531361543889, 0.018541959042431083, 0.12415050837106029, 0.9815024664578638, 0.016258081185725314, 0.9754848711435188, 0.03139233677664156, 0.8829094718430439, 0.03924042097080195, 0.043164463067882144, 0.02356329200126908, 0.01178164600063454, 0.9543133260513978, 0.9887097756540054, 0.9696483603622034, 0.993448294832622, 0.20040156609299895, 0.43289974909725887, 0.05691080813677359, 0.10689881654758894, 0.025623349635040243, 0.09377246901525255, 0.08361303565118396, 0.47312332485870834, 0.05947765203375517, 0.163423996985344, 0.1681375543936499, 0.0652145475636012, 0.018327055449400054, 0.052345295429081715, 0.014946391364162055, 0.023249942122029865, 0.8735335397276934, 0.003321420303147123, 0.00996426090944137, 0.016607101515735617, 0.05978556545664822, 0.05362596493243549, 0.44647092994180443, 0.11034276357855602, 0.12363334854740171, 0.09318863646760404, 0.12919684923203478, 0.04342621367727485, 0.032438542327899854, 0.006487708465579971, 0.7924272482958393, 0.021316756386905618, 0.012975416931159943, 0.00926815495082853, 0.126046907331268, 0.07208867443954615, 0.052539203405092966, 0.6952280636627418, 0.0443935904740708, 0.02769508396547536, 0.0395062227154575, 0.0688304292671373, 0.0979909938152209, 0.43701378320720874, 0.040606119407401935, 0.10457991130396914, 0.10143868319886823, 0.18878014758460068, 0.029573513379730465, 0.9765470682580364, 0.02351855808933093, 0.02290768645064701, 0.8711029567632703, 0.006108716386839203, 0.007025023844865083, 0.025351173005382692, 0.04398275798524226, 0.959361860357626, 0.9610935919432355, 0.1872003283356612, 0.33030024437639366, 0.039153920552527574, 0.17716800705529825, 0.015814839796127685, 0.20357251931403128, 0.046747830410580074, 0.016931345686767373, 0.005643781895589124, 0.08465672843383686, 0.8917175395030816, 0.12027573708841452, 0.06542361818407955, 0.47850993909636225, 0.04268492162010068, 0.09773650277499688, 0.12984992511535298, 0.06582254268520198, 0.9701982627446216], \"Term\": [\"absolut\", \"absolut\", \"absolut\", \"absolut\", \"absolut\", \"absolut\", \"absolut\", \"accomad\", \"adult\", \"adult\", \"adult\", \"adult\", \"adult\", \"adult\", \"adult\", \"agenc\", \"airbnb\", \"airbnb\", \"airbnb\", \"airbnb\", \"airbnb\", \"airbnb\", \"airbnb\", \"airport\", \"airport\", \"airport\", \"airport\", \"airport\", \"airport\", \"airport\", \"alan\", \"alan\", \"alan\", \"alan\", \"alan\", \"albert\", \"albert\", \"alexand\", \"alexand\", \"alexand\", \"alexand\", \"alina\", \"alina\", \"alina\", \"alina\", \"alina\", \"allan\", \"allan\", \"amag\", \"amag\", \"amag\", \"amag\", \"amag\", \"amag\", \"amag\", \"amali\", \"amali\", \"amali\", \"amali\", \"amali\", \"amaz\", \"amaz\", \"amaz\", \"amaz\", \"amaz\", \"amaz\", \"amaz\", \"ander\", \"ander\", \"ander\", \"ander\", \"ander\", \"anett\", \"anett\", \"anett\", \"anett\", \"ann\", \"ann\", \"ann\", \"ann\", \"ann\", \"ann\", \"ann\", \"annett\", \"annett\", \"annett\", \"annett\", \"annett\", \"annett\", \"answer\", \"answer\", \"answer\", \"answer\", \"answer\", \"answer\", \"answer\", \"apart\", \"apart\", \"apart\", \"apart\", \"apart\", \"apart\", \"apart\", \"appart\", \"appart\", \"appart\", \"appart\", \"appart\", \"appart\", \"appart\", \"area\", \"area\", \"area\", \"area\", \"area\", \"area\", \"area\", \"attract\", \"attract\", \"attract\", \"attract\", \"attract\", \"attract\", \"attract\", \"autom\", \"autom\", \"autom\", \"awar\", \"awar\", \"awar\", \"awar\", \"awar\", \"awar\", \"awar\", \"away\", \"away\", \"away\", \"away\", \"away\", \"away\", \"away\", \"axel\", \"bar\", \"bar\", \"bar\", \"bar\", \"bar\", \"bar\", \"bar\", \"barbara\", \"base\", \"base\", \"base\", \"base\", \"base\", \"base\", \"base\", \"bathroom\", \"bathroom\", \"bathroom\", \"bathroom\", \"bathroom\", \"bathroom\", \"bathroom\", \"beach\", \"beach\", \"beach\", \"beach\", \"beach\", \"beach\", \"beach\", \"bean\", \"beata\", \"beauti\", \"beauti\", \"beauti\", \"beauti\", \"beauti\", \"beauti\", \"beauti\", \"bed\", \"bed\", \"bed\", \"bed\", \"bed\", \"bed\", \"bed\", \"bedroom\", \"bedroom\", \"bedroom\", \"bedroom\", \"bedroom\", \"bedroom\", \"bedroom\", \"bedsid\", \"bell\", \"bell\", \"bell\", \"bell\", \"bell\", \"bell\", \"benni\", \"benni\", \"bent\", \"bent\", \"bent\", \"bent\", \"bent\", \"bent\", \"bent\", \"best\", \"best\", \"best\", \"best\", \"best\", \"best\", \"best\", \"bettina\", \"bettina\", \"biba\", \"bigger\", \"bigger\", \"bigger\", \"bigger\", \"bigger\", \"bigger\", \"bigger\", \"bike\", \"bike\", \"bike\", \"bike\", \"bike\", \"bike\", \"bike\", \"bin\", \"bin\", \"bjark\", \"blackout\", \"blind\", \"blind\", \"blind\", \"blind\", \"blind\", \"blind\", \"bluetooth\", \"bluetooth\", \"boiler\", \"boiler\", \"bolett\", \"bopa\", \"bori\", \"brian\", \"brian\", \"brian\", \"britta\", \"britta\", \"britta\", \"britta\", \"britta\", \"britta\", \"build\", \"build\", \"build\", \"build\", \"build\", \"build\", \"build\", \"busstat\", \"cabin\", \"cabin\", \"cabinet\", \"cabinet\", \"cabinet\", \"cafe\", \"cafe\", \"cafe\", \"cafe\", \"cafe\", \"cafe\", \"cafe\", \"camila\", \"camila\", \"camilla\", \"camilla\", \"camilla\", \"camilla\", \"camilla\", \"camilla\", \"cancel\", \"cancel\", \"cancel\", \"cancel\", \"cancel\", \"cancel\", \"cancel\", \"carsten\", \"carsten\", \"carsten\", \"carsten\", \"carsten\", \"carsten\", \"carsten\", \"casa\", \"casa\", \"catrin\", \"catrin\", \"celin\", \"center\", \"center\", \"center\", \"center\", \"center\", \"center\", \"center\", \"centr\", \"centr\", \"centr\", \"centr\", \"centr\", \"centr\", \"centr\", \"central\", \"central\", \"central\", \"central\", \"central\", \"central\", \"central\", \"centrum\", \"centrum\", \"centrum\", \"centrum\", \"centrum\", \"centrum\", \"challeng\", \"challeng\", \"challeng\", \"challeng\", \"challeng\", \"challeng\", \"challeng\", \"check\", \"check\", \"check\", \"check\", \"check\", \"check\", \"check\", \"checkin\", \"checkin\", \"checkin\", \"checkin\", \"checkin\", \"cheryl\", \"children\", \"children\", \"children\", \"children\", \"children\", \"children\", \"children\", \"chris\", \"chris\", \"chris\", \"chris\", \"chris\", \"christin\", \"christin\", \"christin\", \"christin\", \"christina\", \"christina\", \"christina\", \"christina\", \"christina\", \"christina\", \"christina\", \"christoph\", \"christoph\", \"christoph\", \"christoph\", \"christoph\", \"christoph\", \"chromecast\", \"chromecast\", \"church\", \"church\", \"church\", \"church\", \"church\", \"church\", \"church\", \"citi\", \"citi\", \"citi\", \"citi\", \"citi\", \"citi\", \"citi\", \"citytrip\", \"citytrip\", \"claudia\", \"claus\", \"claus\", \"claus\", \"claus\", \"claus\", \"claus\", \"claus\", \"clean\", \"clean\", \"clean\", \"clean\", \"clean\", \"clean\", \"clean\", \"climb\", \"climb\", \"climb\", \"climb\", \"climb\", \"climb\", \"climb\", \"close\", \"close\", \"close\", \"close\", \"close\", \"close\", \"close\", \"code\", \"code\", \"code\", \"code\", \"come\", \"come\", \"come\", \"come\", \"come\", \"come\", \"come\", \"comfi\", \"comfi\", \"comfi\", \"comfi\", \"comfi\", \"comfi\", \"comfi\", \"comfort\", \"comfort\", \"comfort\", \"comfort\", \"comfort\", \"comfort\", \"comfort\", \"communic\", \"communic\", \"communic\", \"communic\", \"communic\", \"communic\", \"communic\", \"condition\", \"confi\", \"connect\", \"connect\", \"connect\", \"connect\", \"connect\", \"connect\", \"connect\", \"construct\", \"construct\", \"construct\", \"construct\", \"construct\", \"construct\", \"construct\", \"conveni\", \"conveni\", \"conveni\", \"conveni\", \"conveni\", \"conveni\", \"conveni\", \"convers\", \"convers\", \"convers\", \"convers\", \"convers\", \"convers\", \"convers\", \"copenhagen\", \"copenhagen\", \"copenhagen\", \"copenhagen\", \"copenhagen\", \"copenhagen\", \"copenhagen\", \"copenhagu\", \"copenhagu\", \"copenhagu\", \"copenhagu\", \"copenhagu\", \"copenhagu\", \"copenhagu\", \"copenhaguen\", \"copenhaguen\", \"copenhaguen\", \"copenhaguen\", \"copenhaguen\", \"copenhaguen\", \"copenhaguen\", \"coppenhagen\", \"corona\", \"cosi\", \"cosi\", \"cosi\", \"cosi\", \"cosi\", \"cosi\", \"cosi\", \"cozi\", \"cozi\", \"cozi\", \"cozi\", \"cozi\", \"cozi\", \"cozi\", \"critic\", \"critic\", \"critic\", \"curtain\", \"curtain\", \"curtain\", \"curtain\", \"curtain\", \"curtain\", \"curtain\", \"daniel\", \"daniel\", \"daniel\", \"daniel\", \"daniel\", \"danni\", \"definit\", \"definit\", \"definit\", \"definit\", \"definit\", \"definit\", \"definit\", \"deliveri\", \"deliveri\", \"descript\", \"descript\", \"descript\", \"descript\", \"descript\", \"descript\", \"descript\", \"design\", \"design\", \"design\", \"design\", \"design\", \"design\", \"design\", \"deterg\", \"dirt\", \"dirti\", \"dirti\", \"dirti\", \"dirti\", \"dirti\", \"dirti\", \"discov\", \"discov\", \"discov\", \"discov\", \"discov\", \"discov\", \"discov\", \"distanc\", \"distanc\", \"distanc\", \"distanc\", \"distanc\", \"distanc\", \"distanc\", \"district\", \"district\", \"district\", \"district\", \"district\", \"district\", \"district\", \"door\", \"door\", \"door\", \"door\", \"door\", \"door\", \"door\", \"dorm\", \"dorm\", \"drain\", \"drain\", \"drain\", \"dri\", \"dri\", \"dri\", \"dri\", \"dust\", \"dust\", \"dust\", \"dust\", \"easi\", \"easi\", \"easi\", \"easi\", \"easi\", \"easi\", \"easi\", \"ebb\", \"elain\", \"elain\", \"elev\", \"elev\", \"elev\", \"elev\", \"elev\", \"elev\", \"elev\", \"elin\", \"emil\", \"emili\", \"enjoy\", \"enjoy\", \"enjoy\", \"enjoy\", \"enjoy\", \"enjoy\", \"enjoy\", \"equip\", \"equip\", \"equip\", \"equip\", \"equip\", \"equip\", \"equip\", \"evelyn\", \"eventhough\", \"eventhough\", \"evid\", \"experi\", \"experi\", \"experi\", \"experi\", \"experi\", \"experi\", \"experi\", \"exquisit\", \"exquisit\", \"exquisit\", \"famili\", \"famili\", \"famili\", \"famili\", \"famili\", \"famili\", \"famili\", \"fanni\", \"fantast\", \"fantast\", \"fantast\", \"fantast\", \"fantast\", \"fantast\", \"fantast\", \"fast\", \"fast\", \"fast\", \"fast\", \"fast\", \"fast\", \"fast\", \"feel\", \"feel\", \"feel\", \"feel\", \"feel\", \"feel\", \"feel\", \"felt\", \"felt\", \"felt\", \"felt\", \"felt\", \"felt\", \"felt\", \"flat\", \"flat\", \"flat\", \"flat\", \"flat\", \"flat\", \"flat\", \"flexibl\", \"flexibl\", \"flexibl\", \"flexibl\", \"flexibl\", \"flexibl\", \"flexibl\", \"floor\", \"floor\", \"floor\", \"floor\", \"floor\", \"floor\", \"floor\", \"forc\", \"frank\", \"frank\", \"frank\", \"frank\", \"frank\", \"frantz\", \"frederik\", \"frederik\", \"frederik\", \"frederik\", \"frederik\", \"frederikk\", \"frederikk\", \"frederikk\", \"freja\", \"freja\", \"freja\", \"freja\", \"friend\", \"friend\", \"friend\", \"friend\", \"friend\", \"friend\", \"friend\", \"friendliest\", \"friendliest\", \"futon\", \"futon\", \"futon\", \"f\\u00f8tex\", \"gabriela\", \"garbag\", \"garbag\", \"garbag\", \"garden\", \"garden\", \"garden\", \"garden\", \"garden\", \"garden\", \"garden\", \"gate\", \"gate\", \"gate\", \"gate\", \"gate\", \"generat\", \"generat\", \"georg\", \"give\", \"give\", \"give\", \"give\", \"give\", \"give\", \"give\", \"good\", \"good\", \"good\", \"good\", \"good\", \"good\", \"good\", \"great\", \"great\", \"great\", \"great\", \"great\", \"great\", \"great\", \"greta\", \"grind\", \"grind\", \"grind\", \"grind\", \"grind\", \"grind\", \"grind\", \"guesthous\", \"guillaum\", \"guillaum\", \"hanna\", \"hanna\", \"hear\", \"hear\", \"hear\", \"hear\", \"hear\", \"hear\", \"hear\", \"heat\", \"heat\", \"heat\", \"heat\", \"heat\", \"heat\", \"heat\", \"heavi\", \"heavi\", \"heavi\", \"heavi\", \"heavi\", \"heavi\", \"heavi\", \"hell\", \"hell\", \"hell\", \"hell\", \"hell\", \"hell\", \"help\", \"help\", \"help\", \"help\", \"help\", \"help\", \"help\", \"henriett\", \"henriett\", \"henriett\", \"high\", \"high\", \"high\", \"high\", \"high\", \"high\", \"high\", \"home\", \"home\", \"home\", \"home\", \"home\", \"home\", \"home\", \"host\", \"host\", \"host\", \"host\", \"host\", \"host\", \"host\", \"hostel\", \"hostel\", \"hostel\", \"hostel\", \"hostel\", \"hous\", \"hous\", \"hous\", \"hous\", \"hous\", \"hous\", \"hous\", \"housekeep\", \"hubert\", \"ida\", \"ignor\", \"imposs\", \"imposs\", \"imposs\", \"imposs\", \"ingrid\", \"inquir\", \"insan\", \"interior\", \"interior\", \"interior\", \"interior\", \"interior\", \"interior\", \"interior\", \"issu\", \"issu\", \"issu\", \"issu\", \"issu\", \"issu\", \"issu\", \"jane\", \"jane\", \"jann\", \"jann\", \"jann\", \"jann\", \"jann\", \"jannick\", \"janus\", \"jasmin\", \"jasper\", \"jasper\", \"jasper\", \"jen\", \"jen\", \"jen\", \"jen\", \"jen\", \"jen\", \"jepp\", \"jepp\", \"jepp\", \"jepp\", \"jepp\", \"jesper\", \"jesper\", \"jesper\", \"jesper\", \"jesper\", \"jesper\", \"jesper\", \"jett\", \"jett\", \"jett\", \"joachim\", \"joakim\", \"joann\", \"joann\", \"jona\", \"jona\", \"jona\", \"jona\", \"jona\", \"jona\", \"jona\", \"julia\", \"julia\", \"julia\", \"julius\", \"julius\", \"justin\", \"j\\u00e6gersborggad\", \"j\\u00e6gersborggad\", \"j\\u00e6gersborggad\", \"j\\u00e6gersborggad\", \"j\\u00f8rn\", \"j\\u00f8rn\", \"kamilla\", \"katja\", \"katja\", \"katja\", \"katja\", \"katrin\", \"katrin\", \"katrin\", \"katrin\", \"katrin\", \"katrin\", \"katrin\", \"kenn\", \"kenneth\", \"kenneth\", \"kenneth\", \"kenneth\", \"kerstin\", \"kid\", \"kid\", \"kid\", \"kid\", \"kid\", \"kid\", \"kid\", \"kind\", \"kind\", \"kind\", \"kind\", \"kind\", \"kind\", \"kind\", \"kirsten\", \"kirsten\", \"kitchen\", \"kitchen\", \"kitchen\", \"kitchen\", \"kitchen\", \"kitchen\", \"kitchen\", \"kitchenett\", \"kitchenett\", \"klaus\", \"klaus\", \"kongen\", \"kongen\", \"kongen\", \"kongen\", \"kongen\", \"kongen\", \"kongen\", \"kopenhagen\", \"kopenhagen\", \"kopenhagen\", \"kopenhagen\", \"kopenhagen\", \"kopenhagen\", \"kopenhagen\", \"kristen\", \"kristin\", \"kristin\", \"kristin\", \"kristin\", \"kristin\", \"kristin\", \"lack\", \"lack\", \"lack\", \"lack\", \"lack\", \"lack\", \"lack\", \"largest\", \"lass\", \"lass\", \"leak\", \"leak\", \"lift\", \"lift\", \"lift\", \"lift\", \"lift\", \"lift\", \"lift\", \"light\", \"light\", \"light\", \"light\", \"light\", \"light\", \"light\", \"like\", \"like\", \"like\", \"like\", \"like\", \"like\", \"like\", \"lina\", \"lina\", \"lina\", \"linda\", \"linda\", \"linda\", \"linda\", \"linda\", \"linda\", \"lisa\", \"lisa\", \"lisa\", \"lisbeth\", \"littl\", \"littl\", \"littl\", \"littl\", \"littl\", \"littl\", \"littl\", \"live\", \"live\", \"live\", \"live\", \"live\", \"live\", \"live\", \"local\", \"local\", \"local\", \"local\", \"local\", \"local\", \"local\", \"locat\", \"locat\", \"locat\", \"locat\", \"locat\", \"locat\", \"locat\", \"lockbox\", \"lockbox\", \"look\", \"look\", \"look\", \"look\", \"look\", \"look\", \"look\", \"lot\", \"lot\", \"lot\", \"lot\", \"lot\", \"lot\", \"lot\", \"lott\", \"lott\", \"lott\", \"lott\", \"lott\", \"lott\", \"loud\", \"loud\", \"loud\", \"loud\", \"loud\", \"loud\", \"loud\", \"louisa\", \"louisa\", \"love\", \"love\", \"love\", \"love\", \"love\", \"love\", \"love\", \"luggag\", \"luggag\", \"luggag\", \"luggag\", \"luggag\", \"luggag\", \"luggag\", \"lui\", \"luis\", \"luka\", \"luka\", \"luke\", \"machin\", \"machin\", \"machin\", \"machin\", \"machin\", \"machin\", \"machin\", \"magali\", \"maggi\", \"main\", \"main\", \"main\", \"main\", \"main\", \"main\", \"main\", \"majken\", \"majken\", \"marc\", \"marc\", \"marc\", \"marc\", \"marc\", \"marco\", \"marco\", \"marco\", \"margaret\", \"margit\", \"maria\", \"maria\", \"maria\", \"maria\", \"maria\", \"maria\", \"maria\", \"marlen\", \"marlen\", \"marta\", \"martin\", \"martin\", \"martin\", \"martin\", \"martin\", \"martin\", \"martin\", \"meat\", \"meat\", \"meat\", \"meat\", \"meat\", \"meat\", \"meatpack\", \"meatpack\", \"meatpack\", \"meatpack\", \"meatpack\", \"meatpack\", \"meatpack\", \"meticul\", \"metro\", \"metro\", \"metro\", \"metro\", \"metro\", \"metro\", \"metro\", \"mett\", \"mett\", \"mett\", \"mett\", \"mett\", \"mett\", \"mett\", \"michel\", \"michel\", \"michel\", \"michel\", \"michel\", \"mikael\", \"mikael\", \"mikael\", \"mikael\", \"mikael\", \"mikael\", \"mikael\", \"mike\", \"mike\", \"mike\", \"mike\", \"mila\", \"mina\", \"minor\", \"minor\", \"minor\", \"minor\", \"minor\", \"minor\", \"minor\", \"minuet\", \"minut\", \"minut\", \"minut\", \"minut\", \"minut\", \"minut\", \"minut\", \"mira\", \"mira\", \"mira\", \"mira\", \"mira\", \"miriam\", \"mona\", \"money\", \"money\", \"money\", \"money\", \"money\", \"money\", \"money\", \"monica\", \"monika\", \"monti\", \"morn\", \"morn\", \"morn\", \"morn\", \"morn\", \"morn\", \"morn\", \"morten\", \"morten\", \"morten\", \"morten\", \"morten\", \"morten\", \"morten\", \"nadia\", \"nail\", \"nana\", \"nana\", \"nana\", \"nana\", \"nana\", \"narrow\", \"narrow\", \"narrow\", \"narrow\", \"narrow\", \"narrow\", \"narrow\", \"natalia\", \"near\", \"near\", \"near\", \"near\", \"near\", \"near\", \"near\", \"nearbi\", \"nearbi\", \"nearbi\", \"nearbi\", \"nearbi\", \"nearbi\", \"nearbi\", \"neat\", \"neat\", \"neat\", \"neat\", \"neat\", \"neat\", \"neat\", \"need\", \"need\", \"need\", \"need\", \"need\", \"need\", \"need\", \"nelli\", \"nelli\", \"nice\", \"nice\", \"nice\", \"nice\", \"nice\", \"nice\", \"nice\", \"nichola\", \"nicki\", \"nicki\", \"nickla\", \"nickla\", \"nickla\", \"nico\", \"nicolai\", \"nicolai\", \"night\", \"night\", \"night\", \"night\", \"night\", \"night\", \"night\", \"nois\", \"nois\", \"nois\", \"nois\", \"nois\", \"nois\", \"nois\", \"noisi\", \"noisi\", \"noisi\", \"noisi\", \"noisi\", \"noisi\", \"noisi\", \"nord\", \"nord\", \"note\", \"note\", \"note\", \"note\", \"note\", \"note\", \"note\", \"nytorv\", \"nytorv\", \"nytorv\", \"nytorv\", \"nytorv\", \"nytorv\", \"nytorv\", \"n\\u00f6rrebro\", \"ocean\", \"ocean\", \"old\", \"olivia\", \"olivia\", \"open\", \"open\", \"open\", \"open\", \"open\", \"open\", \"open\", \"ophold\", \"oscar\", \"oscar\", \"oscar\", \"oscar\", \"oskar\", \"painless\", \"pall\", \"pall\", \"pall\", \"pandem\", \"para\", \"park\", \"park\", \"park\", \"park\", \"park\", \"park\", \"park\", \"paulin\", \"penni\", \"perfect\", \"perfect\", \"perfect\", \"perfect\", \"perfect\", \"perfect\", \"perfect\", \"pernill\", \"pernill\", \"pernill\", \"pernill\", \"pernill\", \"pernill\", \"pernill\", \"philipp\", \"photo\", \"photo\", \"photo\", \"photo\", \"photo\", \"photo\", \"photo\", \"pictur\", \"pictur\", \"pictur\", \"pictur\", \"pictur\", \"pictur\", \"pictur\", \"piet\", \"piet\", \"piet\", \"piet\", \"pillow\", \"pillow\", \"pillow\", \"pillow\", \"pillow\", \"pillow\", \"pillow\", \"place\", \"place\", \"place\", \"place\", \"place\", \"place\", \"place\", \"play\", \"play\", \"play\", \"play\", \"play\", \"play\", \"play\", \"playground\", \"playground\", \"playground\", \"playground\", \"playground\", \"playground\", \"playground\", \"plug\", \"plug\", \"plug\", \"plug\", \"plug\", \"plug\", \"post\", \"post\", \"post\", \"post\", \"post\", \"post\", \"post\", \"poul\", \"poul\", \"poul\", \"poul\", \"press\", \"press\", \"press\", \"prevent\", \"privat\", \"privat\", \"privat\", \"privat\", \"privat\", \"privat\", \"privat\", \"problem\", \"problem\", \"problem\", \"problem\", \"problem\", \"problem\", \"problem\", \"process\", \"process\", \"process\", \"process\", \"process\", \"process\", \"process\", \"public\", \"public\", \"public\", \"public\", \"public\", \"public\", \"public\", \"quick\", \"quick\", \"quick\", \"quick\", \"quick\", \"quick\", \"quick\", \"quiet\", \"quiet\", \"quiet\", \"quiet\", \"quiet\", \"quiet\", \"quiet\", \"rachel\", \"rachel\", \"radiat\", \"radiat\", \"ramona\", \"rearrang\", \"rebecca\", \"recommand\", \"recommand\", \"recommand\", \"recommand\", \"recommand\", \"recommand\", \"recommand\", \"recommend\", \"recommend\", \"recommend\", \"recommend\", \"recommend\", \"recommend\", \"recommend\", \"refin\", \"refund\", \"refund\", \"refund\", \"refund\", \"refund\", \"reserv\", \"reserv\", \"reserv\", \"reserv\", \"reserv\", \"reserv\", \"reserv\", \"respond\", \"respond\", \"respond\", \"respond\", \"respond\", \"respond\", \"respond\", \"respons\", \"respons\", \"respons\", \"respons\", \"respons\", \"respons\", \"respons\", \"restaur\", \"restaur\", \"restaur\", \"restaur\", \"restaur\", \"restaur\", \"restaur\", \"retail\", \"riccardo\", \"robin\", \"room\", \"room\", \"room\", \"room\", \"room\", \"room\", \"room\", \"sabin\", \"samantha\", \"sandra\", \"sandra\", \"sanja\", \"sara\", \"sara\", \"sara\", \"sara\", \"sara\", \"satisfact\", \"sauna\", \"saver\", \"sceneri\", \"sceneri\", \"seamless\", \"seamless\", \"seamless\", \"seamless\", \"seamless\", \"seamless\", \"shampoo\", \"shampoo\", \"shampoo\", \"shampoo\", \"shampoo\", \"sharebox\", \"shiri\", \"shirley\", \"shirley\", \"shirley\", \"shirley\", \"shop\", \"shop\", \"shop\", \"shop\", \"shop\", \"shop\", \"shop\", \"short\", \"short\", \"short\", \"short\", \"short\", \"short\", \"short\", \"shout\", \"shower\", \"shower\", \"shower\", \"shower\", \"shower\", \"shower\", \"shower\", \"sids\", \"sids\", \"silja\", \"simon\", \"simon\", \"simon\", \"simon\", \"simon\", \"simon\", \"simon\", \"sine\", \"singl\", \"singl\", \"singl\", \"singl\", \"singl\", \"singl\", \"singl\", \"sink\", \"sink\", \"sink\", \"sink\", \"sink\", \"sink\", \"sink\", \"size\", \"size\", \"size\", \"size\", \"size\", \"size\", \"size\", \"slam\", \"sleep\", \"sleep\", \"sleep\", \"sleep\", \"sleep\", \"sleep\", \"sleep\", \"sleeper\", \"sleeper\", \"sleeper\", \"sleeper\", \"sleeper\", \"sleeper\", \"small\", \"small\", \"small\", \"small\", \"small\", \"small\", \"small\", \"smell\", \"smell\", \"smell\", \"smell\", \"smell\", \"smell\", \"smell\", \"smelli\", \"smoker\", \"smooth\", \"smooth\", \"smooth\", \"smooth\", \"smooth\", \"smooth\", \"smooth\", \"sofi\", \"sofi\", \"sofi\", \"sofi\", \"sofia\", \"southern\", \"space\", \"space\", \"space\", \"space\", \"space\", \"space\", \"space\", \"spacious\", \"spacious\", \"spacious\", \"spacious\", \"spacious\", \"spacious\", \"spacious\", \"spars\", \"spars\", \"spars\", \"spend\", \"spend\", \"spend\", \"spend\", \"spend\", \"spend\", \"spend\", \"spider\", \"spiral\", \"spiral\", \"stair\", \"stair\", \"stair\", \"stair\", \"stair\", \"stair\", \"stair\", \"staircas\", \"staircas\", \"staircas\", \"staircas\", \"staircas\", \"staircas\", \"staircas\", \"stall\", \"station\", \"station\", \"station\", \"station\", \"station\", \"station\", \"station\", \"status\", \"stay\", \"stay\", \"stay\", \"stay\", \"stay\", \"stay\", \"stay\", \"steen\", \"steen\", \"steen\", \"steen\", \"steep\", \"steep\", \"steep\", \"steep\", \"steep\", \"stephan\", \"stephani\", \"stephani\", \"stephani\", \"stine\", \"stine\", \"stine\", \"stop\", \"stop\", \"stop\", \"stop\", \"stop\", \"stop\", \"stop\", \"strandpark\", \"street\", \"street\", \"street\", \"street\", \"street\", \"street\", \"street\", \"stylish\", \"stylish\", \"stylish\", \"stylish\", \"stylish\", \"stylish\", \"stylish\", \"stylist\", \"super\", \"super\", \"super\", \"super\", \"super\", \"super\", \"super\", \"superclean\", \"supermarket\", \"supermarket\", \"supermarket\", \"supermarket\", \"supermarket\", \"supermarket\", \"supermarket\", \"supermarkt\", \"supernic\", \"supernic\", \"supris\", \"surpass\", \"susan\", \"susann\", \"susann\", \"susann\", \"susann\", \"susann\", \"susann\", \"susann\", \"susanna\", \"sven\", \"sven\", \"tamara\", \"tap\", \"technolog\", \"tent\", \"thank\", \"thank\", \"thank\", \"thank\", \"thank\", \"thank\", \"thank\", \"thea\", \"thea\", \"thea\", \"thei\", \"thing\", \"thing\", \"thing\", \"thing\", \"thing\", \"thing\", \"thing\", \"thoma\", \"thoma\", \"thoma\", \"thoma\", \"thoma\", \"thoma\", \"thoma\", \"thor\", \"thursday\", \"thursday\", \"time\", \"time\", \"time\", \"time\", \"time\", \"time\", \"time\", \"tina\", \"tina\", \"tina\", \"tina\", \"tina\", \"tina\", \"tina\", \"tip\", \"tip\", \"tip\", \"tip\", \"tip\", \"tip\", \"tip\", \"titl\", \"tito\", \"tito\", \"tito\", \"toaster\", \"toaster\", \"tobia\", \"tobia\", \"tobia\", \"tobia\", \"tobia\", \"toilet\", \"toilet\", \"toilet\", \"toilet\", \"toilet\", \"toilet\", \"toilet\", \"toma\", \"towel\", \"towel\", \"towel\", \"towel\", \"towel\", \"towel\", \"towel\", \"toy\", \"toy\", \"toy\", \"toy\", \"toy\", \"toy\", \"toy\", \"train\", \"train\", \"train\", \"train\", \"train\", \"train\", \"train\", \"trampolin\", \"trampolin\", \"trampolin\", \"transport\", \"transport\", \"transport\", \"transport\", \"transport\", \"transport\", \"transport\", \"trine\", \"trine\", \"trine\", \"trine\", \"trine\", \"trine\", \"troel\", \"troel\", \"truck\", \"truck\", \"truck\", \"truck\", \"tr\\u00e8s\", \"ubic\", \"uff\", \"uff\", \"uff\", \"unbeat\", \"unbeat\", \"unbeat\", \"unbeat\", \"unclean\", \"unit\", \"unit\", \"unit\", \"unit\", \"unit\", \"unit\", \"unlock\", \"unlock\", \"upstair\", \"upstair\", \"upstair\", \"upstair\", \"upstair\", \"upstair\", \"upstair\", \"valu\", \"valu\", \"valu\", \"valu\", \"valu\", \"valu\", \"valu\", \"vanl\\u00f8s\", \"verri\", \"verri\", \"vibek\", \"vibek\", \"vibek\", \"vibek\", \"vicktor\", \"vicktor\", \"vicktor\", \"victor\", \"viktor\", \"viktoria\", \"visit\", \"visit\", \"visit\", \"visit\", \"visit\", \"visit\", \"visit\", \"walk\", \"walk\", \"walk\", \"walk\", \"walk\", \"walk\", \"walk\", \"wall\", \"wall\", \"wall\", \"wall\", \"wall\", \"wall\", \"wall\", \"warm\", \"warm\", \"warm\", \"warm\", \"warm\", \"warm\", \"warm\", \"wash\", \"wash\", \"wash\", \"wash\", \"wash\", \"wash\", \"wash\", \"water\", \"water\", \"water\", \"water\", \"water\", \"water\", \"water\", \"welcom\", \"welcom\", \"welcom\", \"welcom\", \"welcom\", \"welcom\", \"welcom\", \"william\", \"window\", \"window\", \"window\", \"window\", \"window\", \"window\", \"window\", \"with\", \"wond\", \"wonder\", \"wonder\", \"wonder\", \"wonder\", \"wonder\", \"wonder\", \"wonder\", \"wonderful\", \"wonderful\", \"wonderful\", \"wonderful\", \"work\", \"work\", \"work\", \"work\", \"work\", \"work\", \"work\", \"yvonn\"]}, \"R\": 30, \"lambda.step\": 0.01, \"plot.opts\": {\"xlab\": \"PC1\", \"ylab\": \"PC2\"}, \"topic.order\": [6, 7, 3, 4, 5, 1, 2]};\n",
       "\n",
       "function LDAvis_load_lib(url, callback){\n",
       "  var s = document.createElement('script');\n",
       "  s.src = url;\n",
       "  s.async = true;\n",
       "  s.onreadystatechange = s.onload = callback;\n",
       "  s.onerror = function(){console.warn(\"failed to load library \" + url);};\n",
       "  document.getElementsByTagName(\"head\")[0].appendChild(s);\n",
       "}\n",
       "\n",
       "if(typeof(LDAvis) !== \"undefined\"){\n",
       "   // already loaded: just create the visualization\n",
       "   !function(LDAvis){\n",
       "       new LDAvis(\"#\" + \"ldavis_el1253630210617914401690568183\", ldavis_el1253630210617914401690568183_data);\n",
       "   }(LDAvis);\n",
       "}else if(typeof define === \"function\" && define.amd){\n",
       "   // require.js is available: use it to load d3/LDAvis\n",
       "   require.config({paths: {d3: \"https://d3js.org/d3.v5\"}});\n",
       "   require([\"d3\"], function(d3){\n",
       "      window.d3 = d3;\n",
       "      LDAvis_load_lib(\"https://cdn.jsdelivr.net/gh/bmabey/pyLDAvis@3.3.1/pyLDAvis/js/ldavis.v3.0.0.js\", function(){\n",
       "        new LDAvis(\"#\" + \"ldavis_el1253630210617914401690568183\", ldavis_el1253630210617914401690568183_data);\n",
       "      });\n",
       "    });\n",
       "}else{\n",
       "    // require.js not available: dynamically load d3 & LDAvis\n",
       "    LDAvis_load_lib(\"https://d3js.org/d3.v5.js\", function(){\n",
       "         LDAvis_load_lib(\"https://cdn.jsdelivr.net/gh/bmabey/pyLDAvis@3.3.1/pyLDAvis/js/ldavis.v3.0.0.js\", function(){\n",
       "                 new LDAvis(\"#\" + \"ldavis_el1253630210617914401690568183\", ldavis_el1253630210617914401690568183_data);\n",
       "            })\n",
       "         });\n",
       "}\n",
       "</script>"
      ],
      "text/plain": [
       "<IPython.core.display.HTML object>"
      ]
     },
     "execution_count": 42,
     "metadata": {},
     "output_type": "execute_result"
    }
   ],
   "source": [
    "%matplotlib inline\n",
    "import pyLDAvis\n",
    "from pyLDAvis import gensim_models\n",
    "vis = pyLDAvis.gensim_models.prepare(topic_model=lda_model, corpus=bow_corpus, dictionary=dictionary)\n",
    "pyLDAvis.enable_notebook()\n",
    "pyLDAvis.display(vis)"
   ]
  },
  {
   "cell_type": "markdown",
   "metadata": {
    "cell_id": "00043-da13f8e6-23a6-4240-aa44-a62f9874a748",
    "colab_type": "text",
    "deepnote_cell_type": "markdown",
    "id": "T3rc6O9usGPt"
   },
   "source": [
    "**Allocating topics to documents**"
   ]
  },
  {
   "cell_type": "code",
   "execution_count": 43,
   "metadata": {
    "cell_id": "00044-4a204c64-fc5e-4888-ba35-a4d603f2f794",
    "colab": {
     "base_uri": "https://localhost:8080/",
     "height": 34
    },
    "colab_type": "code",
    "deepnote_cell_type": "code",
    "id": "wSbIqjjmsGPu",
    "outputId": "068246e0-4818-4b2c-9494-6c21714b2871"
   },
   "outputs": [
    {
     "name": "stderr",
     "output_type": "stream",
     "text": [
      "C:\\Users\\Lenovo\\Anaconda3\\lib\\site-packages\\ipykernel\\ipkernel.py:287: DeprecationWarning: `should_run_async` will not call `transform_cell` automatically in the future. Please pass the result to `transformed_cell` argument and any exception that happen during thetransform in `preprocessing_exc_tuple` in IPython 7.17 and above.\n",
      "  and should_run_async(code)\n"
     ]
    },
    {
     "data": {
      "text/plain": [
       "['come',\n",
       " 'short',\n",
       " 'night',\n",
       " 'weekend',\n",
       " 'wonderful',\n",
       " 'simon',\n",
       " 'bager',\n",
       " 'nice',\n",
       " 'hous',\n",
       " 'equip',\n",
       " 'thank',\n",
       " 'amaz',\n",
       " 'fresh',\n",
       " 'coffe',\n",
       " 'locat',\n",
       " 'amaz',\n",
       " 'minuit',\n",
       " 'walk',\n",
       " 'center',\n",
       " 'thing',\n",
       " 'felt',\n",
       " 'like',\n",
       " 'home',\n",
       " 'like',\n",
       " 'like',\n",
       " 'host']"
      ]
     },
     "execution_count": 43,
     "metadata": {},
     "output_type": "execute_result"
    }
   ],
   "source": [
    "processed_docs[25]"
   ]
  },
  {
   "cell_type": "code",
   "execution_count": 44,
   "metadata": {
    "cell_id": "00045-9296e785-9ac9-47ba-9b54-58a538e5cefb",
    "colab": {
     "base_uri": "https://localhost:8080/",
     "height": 527
    },
    "colab_type": "code",
    "deepnote_cell_type": "code",
    "id": "1wBgclu4sGPv",
    "outputId": "762f34cd-0f00-4485-f26f-fdfc04cca239"
   },
   "outputs": [
    {
     "name": "stdout",
     "output_type": "stream",
     "text": [
      "\n",
      "Score: 0.4459863603115082\t \n",
      "Topic: 0.031*\"stay\" + 0.028*\"nice\" + 0.028*\"locat\" + 0.027*\"flat\" + 0.027*\"apart\" + 0.026*\"great\" + 0.023*\"perfect\"\n",
      "\n",
      "Score: 0.4021162986755371\t \n",
      "Topic: 0.050*\"stay\" + 0.041*\"place\" + 0.027*\"recommend\" + 0.026*\"copenhagen\" + 0.025*\"great\" + 0.021*\"love\" + 0.019*\"host\"\n",
      "\n",
      "Score: 0.12894658744335175\t \n",
      "Topic: 0.035*\"hous\" + 0.028*\"stay\" + 0.021*\"place\" + 0.020*\"citi\" + 0.018*\"apart\" + 0.015*\"copenhagen\" + 0.015*\"minut\"\n"
     ]
    },
    {
     "name": "stderr",
     "output_type": "stream",
     "text": [
      "C:\\Users\\Lenovo\\Anaconda3\\lib\\site-packages\\ipykernel\\ipkernel.py:287: DeprecationWarning: `should_run_async` will not call `transform_cell` automatically in the future. Please pass the result to `transformed_cell` argument and any exception that happen during thetransform in `preprocessing_exc_tuple` in IPython 7.17 and above.\n",
      "  and should_run_async(code)\n"
     ]
    }
   ],
   "source": [
    "for index, score in sorted(lda_model[bow_corpus[25]], key=lambda tup: -1*tup[1]):\n",
    "    print(\"\\nScore: {}\\t \\nTopic: {}\".format(score, lda_model.print_topic(index, 7)))"
   ]
  },
  {
   "cell_type": "markdown",
   "metadata": {
    "cell_id": "00046-b15fabee-e951-4509-a6d8-8985d59f853a",
    "colab_type": "text",
    "deepnote_cell_type": "markdown",
    "id": "qCHroMvl4sZA"
   },
   "source": []
  },
  {
   "cell_type": "markdown",
   "metadata": {
    "cell_id": "00047-1b81c0e0-630f-4023-af9e-f4403c10d641",
    "colab_type": "text",
    "deepnote_cell_type": "markdown",
    "id": "3-azOvGMsGPz"
   },
   "source": [
    "### Testing model on unseen document"
   ]
  },
  {
   "cell_type": "code",
   "execution_count": 45,
   "metadata": {
    "cell_id": "00048-34f48376-8854-45fe-aa4b-55200476d37a",
    "colab": {},
    "colab_type": "code",
    "deepnote_cell_type": "code",
    "id": "8ONH0SFwsGP0",
    "outputId": "28196cd6-acf0-4300-90d2-be5f9b6e5a48"
   },
   "outputs": [
    {
     "name": "stdout",
     "output_type": "stream",
     "text": [
      "bow_vector:  [(0, 1), (16, 1), (236, 1), (237, 1)]\n",
      "Score: 0.8271917700767517\t Topic: 0.055*\"nice\" + 0.053*\"great\" + 0.046*\"locat\" + 0.041*\"apart\" + 0.036*\"host\"\n",
      "Score: 0.02894064597785473\t Topic: 0.050*\"stay\" + 0.041*\"place\" + 0.027*\"recommend\" + 0.026*\"copenhagen\" + 0.025*\"great\"\n",
      "Score: 0.028873702511191368\t Topic: 0.053*\"apart\" + 0.038*\"great\" + 0.029*\"locat\" + 0.027*\"stay\" + 0.024*\"place\"\n",
      "Score: 0.02884589321911335\t Topic: 0.035*\"hous\" + 0.028*\"stay\" + 0.021*\"place\" + 0.020*\"citi\" + 0.018*\"apart\"\n",
      "Score: 0.028814278542995453\t Topic: 0.031*\"stay\" + 0.028*\"nice\" + 0.028*\"locat\" + 0.027*\"flat\" + 0.027*\"apart\"\n",
      "Score: 0.028684895485639572\t Topic: 0.018*\"apart\" + 0.013*\"locat\" + 0.010*\"stay\" + 0.010*\"walk\" + 0.010*\"bathroom\"\n",
      "Score: 0.028648845851421356\t Topic: 0.027*\"locat\" + 0.026*\"room\" + 0.026*\"place\" + 0.023*\"stay\" + 0.021*\"apart\"\n"
     ]
    },
    {
     "name": "stderr",
     "output_type": "stream",
     "text": [
      "C:\\Users\\Lenovo\\Anaconda3\\lib\\site-packages\\ipykernel\\ipkernel.py:287: DeprecationWarning: `should_run_async` will not call `transform_cell` automatically in the future. Please pass the result to `transformed_cell` argument and any exception that happen during thetransform in `preprocessing_exc_tuple` in IPython 7.17 and above.\n",
      "  and should_run_async(code)\n"
     ]
    }
   ],
   "source": [
    "unseen_document = 'love this apartment. near to metro.'\n",
    "bow_vector = dictionary.doc2bow(preprocess(unseen_document))\n",
    "\n",
    "print('bow_vector: ', bow_vector)\n",
    "\n",
    "for index, score in sorted(lda_model[bow_vector], key=lambda tup: -1*tup[1]):\n",
    "    print(\"Score: {}\\t Topic: {}\".format(score, lda_model.print_topic(index, 5)))"
   ]
  },
  {
   "cell_type": "markdown",
   "metadata": {
    "cell_id": "00049-3c4d5592-b399-4d7b-870a-0b3b14c60a3b",
    "colab_type": "text",
    "deepnote_cell_type": "markdown",
    "id": "Mvxk6vWWsGPx"
   },
   "source": [
    "Our test document has the highest probability to be part of the topic on the top."
   ]
  },
  {
   "cell_type": "markdown",
   "metadata": {
    "cell_id": "00050-8e415dc8-2ab1-4386-95ce-4aab6e49c095",
    "colab_type": "text",
    "deepnote_cell_type": "markdown",
    "id": "dk7HxbP7sGPg"
   },
   "source": [
    "### LDA with TF-IDF\n",
    "\n",
    "Create tf-idf model object using models.TfidfModel on ‘bow_corpus’ and save it to ‘tfidf’, then apply transformation to the entire corpus and call it ‘corpus_tfidf’. Finally we preview TF-IDF scores for our first document.\n",
    "\n"
   ]
  },
  {
   "cell_type": "code",
   "execution_count": 46,
   "metadata": {
    "cell_id": "00051-772c79c7-5ce0-49bc-91b7-029421f9e976",
    "colab": {},
    "colab_type": "code",
    "deepnote_cell_type": "code",
    "id": "-qHFS_GosGPg"
   },
   "outputs": [
    {
     "name": "stderr",
     "output_type": "stream",
     "text": [
      "C:\\Users\\Lenovo\\Anaconda3\\lib\\site-packages\\ipykernel\\ipkernel.py:287: DeprecationWarning: `should_run_async` will not call `transform_cell` automatically in the future. Please pass the result to `transformed_cell` argument and any exception that happen during thetransform in `preprocessing_exc_tuple` in IPython 7.17 and above.\n",
      "  and should_run_async(code)\n"
     ]
    }
   ],
   "source": [
    "from gensim import corpora, models\n",
    "\n",
    "tfidf = models.TfidfModel(bow_corpus)"
   ]
  },
  {
   "cell_type": "code",
   "execution_count": 47,
   "metadata": {
    "cell_id": "00052-c217bb58-ba12-4a61-a4af-b940cb180f3b",
    "colab": {},
    "colab_type": "code",
    "deepnote_cell_type": "code",
    "id": "LieYwPz4sGPi"
   },
   "outputs": [
    {
     "name": "stderr",
     "output_type": "stream",
     "text": [
      "C:\\Users\\Lenovo\\Anaconda3\\lib\\site-packages\\ipykernel\\ipkernel.py:287: DeprecationWarning: `should_run_async` will not call `transform_cell` automatically in the future. Please pass the result to `transformed_cell` argument and any exception that happen during thetransform in `preprocessing_exc_tuple` in IPython 7.17 and above.\n",
      "  and should_run_async(code)\n"
     ]
    }
   ],
   "source": [
    "corpus_tfidf = tfidf[bow_corpus]"
   ]
  },
  {
   "cell_type": "code",
   "execution_count": 48,
   "metadata": {
    "cell_id": "00053-858e477a-ca87-4c5e-a19d-9d1fe44eaabf",
    "colab": {},
    "colab_type": "code",
    "deepnote_cell_type": "code",
    "id": "-DWkNzfPsGPq"
   },
   "outputs": [
    {
     "name": "stderr",
     "output_type": "stream",
     "text": [
      "C:\\Users\\Lenovo\\Anaconda3\\lib\\site-packages\\ipykernel\\ipkernel.py:287: DeprecationWarning: `should_run_async` will not call `transform_cell` automatically in the future. Please pass the result to `transformed_cell` argument and any exception that happen during thetransform in `preprocessing_exc_tuple` in IPython 7.17 and above.\n",
      "  and should_run_async(code)\n"
     ]
    }
   ],
   "source": [
    "lda_model_tfidf = gensim.models.LdaMulticore(corpus_tfidf, num_topics=7, id2word=dictionary, passes=2, workers=4)"
   ]
  },
  {
   "cell_type": "code",
   "execution_count": 49,
   "metadata": {
    "cell_id": "00054-c0737b09-137b-4588-9ea2-accb28787681",
    "deepnote_cell_type": "code",
    "scrolled": true
   },
   "outputs": [
    {
     "name": "stderr",
     "output_type": "stream",
     "text": [
      "C:\\Users\\Lenovo\\Anaconda3\\lib\\site-packages\\ipykernel\\ipkernel.py:287: DeprecationWarning: `should_run_async` will not call `transform_cell` automatically in the future. Please pass the result to `transformed_cell` argument and any exception that happen during thetransform in `preprocessing_exc_tuple` in IPython 7.17 and above.\n",
      "  and should_run_async(code)\n"
     ]
    },
    {
     "data": {
      "text/plain": [
       "-1.7713008371175007"
      ]
     },
     "execution_count": 49,
     "metadata": {},
     "output_type": "execute_result"
    }
   ],
   "source": [
    "cm = CoherenceModel(model=lda_model_tfidf, corpus=corpus_tfidf, coherence='u_mass')\n",
    "coherence = cm.get_coherence()  # get coherence value\n",
    "coherence"
   ]
  },
  {
   "cell_type": "code",
   "execution_count": 50,
   "metadata": {
    "cell_id": "00055-a40a6601-85c3-41eb-bc2c-4ce3e962f466",
    "deepnote_cell_type": "code"
   },
   "outputs": [
    {
     "name": "stderr",
     "output_type": "stream",
     "text": [
      "C:\\Users\\Lenovo\\Anaconda3\\lib\\site-packages\\ipykernel\\ipkernel.py:287: DeprecationWarning: `should_run_async` will not call `transform_cell` automatically in the future. Please pass the result to `transformed_cell` argument and any exception that happen during thetransform in `preprocessing_exc_tuple` in IPython 7.17 and above.\n",
      "  and should_run_async(code)\n"
     ]
    },
    {
     "name": "stdout",
     "output_type": "stream",
     "text": [
      "\n",
      "Perplexity:  -7.73419644445753\n"
     ]
    }
   ],
   "source": [
    "print('\\nPerplexity: ', lda_model_tfidf.log_perplexity(corpus_tfidf))"
   ]
  },
  {
   "cell_type": "code",
   "execution_count": 51,
   "metadata": {
    "cell_id": "00056-cc85f8a9-8560-49d6-bb85-c54515d420d1",
    "deepnote_cell_type": "code",
    "scrolled": true
   },
   "outputs": [
    {
     "name": "stderr",
     "output_type": "stream",
     "text": [
      "C:\\Users\\Lenovo\\Anaconda3\\lib\\site-packages\\ipykernel\\ipkernel.py:287: DeprecationWarning: `should_run_async` will not call `transform_cell` automatically in the future. Please pass the result to `transformed_cell` argument and any exception that happen during thetransform in `preprocessing_exc_tuple` in IPython 7.17 and above.\n",
      "  and should_run_async(code)\n"
     ]
    },
    {
     "data": {
      "text/html": [
       "\n",
       "<link rel=\"stylesheet\" type=\"text/css\" href=\"https://cdn.jsdelivr.net/gh/bmabey/pyLDAvis@3.3.1/pyLDAvis/js/ldavis.v1.0.0.css\">\n",
       "\n",
       "\n",
       "<div id=\"ldavis_el1253630210622582644115325446\"></div>\n",
       "<script type=\"text/javascript\">\n",
       "\n",
       "var ldavis_el1253630210622582644115325446_data = {\"mdsDat\": {\"x\": [-0.116568832666475, 0.01329074649933298, 0.09018438973729666, 0.04855056370537498, -0.021210785187748226, -0.015981019995875576, 0.0017349379080941738], \"y\": [-0.010650355776736724, -0.0557667456960818, -0.0006794723718690196, 0.026213926117137444, 0.08379001004998005, -0.007899802273315085, -0.03500756004911473], \"topics\": [1, 2, 3, 4, 5, 6, 7], \"cluster\": [1, 1, 1, 1, 1, 1, 1], \"Freq\": [24.00247268890964, 17.211916307934484, 13.897602492193112, 12.121976133027532, 11.660763371707256, 11.122022092270106, 9.983246913957869]}, \"tinfo\": {\"Term\": [\"great\", \"valu\", \"place\", \"locat\", \"nice\", \"host\", \"good\", \"perfect\", \"money\", \"lar\", \"price\", \"recommend\", \"stay\", \"hous\", \"thoma\", \"appart\", \"sofi\", \"juli\", \"charlott\", \"high\", \"maria\", \"christina\", \"mett\", \"apart\", \"love\", \"clean\", \"ander\", \"carolin\", \"hospit\", \"katrin\", \"julia\", \"emili\", \"linda\", \"hanna\", \"kirsten\", \"luka\", \"maggi\", \"jenni\", \"tent\", \"salli\", \"arn\", \"birth\", \"klaus\", \"imposs\", \"esben\", \"elena\", \"georg\", \"marlen\", \"oven\", \"andi\", \"fanni\", \"guillaum\", \"iron\", \"drain\", \"marcus\", \"comm\", \"lott\", \"dust\", \"appt\", \"closet\", \"dirti\", \"dryer\", \"autom\", \"sink\", \"washer\", \"plug\", \"curtain\", \"wash\", \"sleeper\", \"dish\", \"cloth\", \"loud\", \"dishwash\", \"post\", \"machin\", \"toilet\", \"hair\", \"nois\", \"earplug\", \"shower\", \"microwav\", \"floor\", \"towel\", \"awar\", \"nina\", \"hear\", \"window\", \"bathroom\", \"issu\", \"bedroom\", \"noisi\", \"stair\", \"elev\", \"sleep\", \"kitchen\", \"note\", \"small\", \"bed\", \"door\", \"night\", \"luggag\", \"work\", \"problem\", \"build\", \"room\", \"thing\", \"live\", \"street\", \"littl\", \"apart\", \"cook\", \"walk\", \"overal\", \"space\", \"good\", \"place\", \"nice\", \"comfort\", \"stay\", \"need\", \"great\", \"clean\", \"locat\", \"check\", \"copenhagen\", \"love\", \"flat\", \"like\", \"citi\", \"host\", \"emil\", \"hannah\", \"mathild\", \"oscar\", \"elli\", \"joachim\", \"catrin\", \"josefin\", \"locker\", \"sill\", \"covid\", \"tito\", \"gustav\", \"theres\", \"rebekka\", \"natasha\", \"corona\", \"ingeborg\", \"ebba\", \"joan\", \"rikk\", \"fan\", \"sharebox\", \"dort\", \"stine\", \"nelli\", \"elis\", \"luis\", \"nordhavn\", \"beauty\", \"michell\", \"magnus\", \"tanya\", \"kristoff\", \"jona\", \"claus\", \"naomi\", \"pernill\", \"ditt\", \"hostel\", \"christian\", \"camilla\", \"malen\", \"mari\", \"sophi\", \"jacob\", \"station\", \"andrea\", \"peter\", \"bar\", \"metro\", \"train\", \"restaur\", \"close\", \"quick\", \"walk\", \"shop\", \"near\", \"centr\", \"cafe\", \"supermarket\", \"easi\", \"minut\", \"nearbi\", \"respond\", \"citi\", \"apart\", \"distanc\", \"nice\", \"center\", \"central\", \"great\", \"clean\", \"locat\", \"place\", \"stay\", \"recommend\", \"good\", \"copenhagen\", \"love\", \"check\", \"host\", \"need\", \"perfect\", \"flat\", \"karen\", \"lisbeth\", \"frank\", \"nicola\", \"kamilla\", \"amanda\", \"jonathan\", \"alex\", \"marco\", \"freja\", \"sabrina\", \"nadia\", \"clara\", \"victor\", \"sofia\", \"luna\", \"lina\", \"louisa\", \"nadja\", \"cabin\", \"justin\", \"thor\", \"pedro\", \"chromecast\", \"diana\", \"buck\", \"byron\", \"pandem\", \"superkilen\", \"rubi\", \"jann\", \"perfekt\", \"jett\", \"anna\", \"mathia\", \"hann\", \"frida\", \"lena\", \"mira\", \"great\", \"michael\", \"kasper\", \"locat\", \"place\", \"host\", \"high\", \"awesom\", \"recommend\", \"nice\", \"stay\", \"stylish\", \"love\", \"apart\", \"amaz\", \"excel\", \"wonder\", \"clean\", \"beauti\", \"fantast\", \"perfect\", \"communic\", \"definit\", \"copenhagen\", \"super\", \"thank\", \"flat\", \"good\", \"central\", \"comfort\", \"easi\", \"friend\", \"cozi\", \"help\", \"mila\", \"marta\", \"spark\", \"frederikk\", \"isabella\", \"sine\", \"carolina\", \"thei\", \"jannick\", \"jasper\", \"kristin\", \"vanl\\u00f8s\", \"susan\", \"j\\u00f8rgen\", \"ralph\", \"riccardo\", \"miriam\", \"nikolin\", \"attach\", \"maya\", \"valentina\", \"margit\", \"paul\", \"giant\", \"tommi\", \"betinna\", \"biba\", \"barbara\", \"anthoni\", \"terrass\", \"nikolaj\", \"dorth\", \"katja\", \"tanja\", \"anett\", \"poul\", \"philip\", \"christoff\", \"christina\", \"convini\", \"sids\", \"josephin\", \"daniel\", \"lise\", \"martin\", \"emma\", \"joakim\", \"tina\", \"michel\", \"mill\", \"s\\u00f8ren\", \"oliv\", \"hospit\", \"reali\", \"hous\", \"bent\", \"perfect\", \"morten\", \"nice\", \"cosi\", \"kind\", \"famili\", \"jesper\", \"friend\", \"cozi\", \"center\", \"room\", \"host\", \"place\", \"clean\", \"accomod\", \"thank\", \"stay\", \"welcom\", \"help\", \"good\", \"warm\", \"citi\", \"recommend\", \"super\", \"great\", \"locat\", \"apart\", \"copenhagen\", \"love\", \"time\", \"home\", \"close\", \"flat\", \"beauti\", \"allan\", \"jepp\", \"amali\", \"chris\", \"alan\", \"lass\", \"rachel\", \"olivia\", \"jane\", \"johan\", \"carina\", \"troel\", \"brian\", \"tamara\", \"manuel\", \"natali\", \"karolin\", \"monica\", \"anni\", \"thea\", \"amal\", \"patricia\", \"nicol\", \"upgrad\", \"ubic\", \"adam\", \"simona\", \"butler\", \"victoria\", \"luci\", \"cecili\", \"karin\", \"charlott\", \"tine\", \"alexand\", \"berit\", \"sara\", \"nanna\", \"thankyou\", \"thoma\", \"lar\", \"oskar\", \"jen\", \"minna\", \"niel\", \"jakob\", \"servic\", \"posit\", \"stun\", \"repeat\", \"stay\", \"thank\", \"apart\", \"host\", \"help\", \"place\", \"home\", \"copenhagen\", \"recommend\", \"great\", \"nice\", \"love\", \"perfect\", \"clean\", \"locat\", \"flat\", \"beauti\", \"welcom\", \"amaz\", \"citi\", \"good\", \"time\", \"friend\", \"need\", \"comfort\", \"super\", \"communic\", \"sofi\", \"carolin\", \"britt\", \"henriett\", \"christin\", \"albert\", \"sandra\", \"rebecca\", \"irina\", \"benni\", \"paulin\", \"stephani\", \"janet\", \"bjark\", \"helena\", \"strand\", \"stefano\", \"elin\", \"steffen\", \"marina\", \"beata\", \"claudia\", \"cruis\", \"jess\", \"centrum\", \"acc\", \"lovley\", \"pod\", \"citytrip\", \"coco\", \"lone\", \"denni\", \"janni\", \"katrin\", \"hell\", \"ander\", \"lisa\", \"nana\", \"elisabeth\", \"steen\", \"maria\", \"lene\", \"aparta\", \"ulrik\", \"kristina\", \"copenhagu\", \"amag\", \"ann\", \"appart\", \"recommand\", \"comun\", \"confort\", \"owner\", \"nice\", \"place\", \"stay\", \"citi\", \"apart\", \"copenhagen\", \"recommend\", \"perfect\", \"easi\", \"great\", \"clean\", \"good\", \"love\", \"host\", \"help\", \"flat\", \"locat\", \"close\", \"thank\", \"center\", \"time\", \"walk\", \"communic\", \"need\", \"beauti\", \"friend\", \"laura\", \"nicolai\", \"heidi\", \"benjamin\", \"bettina\", \"sebastian\", \"nathali\", \"christoph\", \"torben\", \"toma\", \"sabin\", \"steve\", \"camila\", \"selma\", \"frederik\", \"jean\", \"kitchenett\", \"miguel\", \"kirstin\", \"truck\", \"localis\", \"kate\", \"vivi\", \"ratio\", \"peder\", \"apparta\", \"employe\", \"helg\", \"intim\", \"meret\", \"nick\", \"inexpens\", \"nord\", \"maja\", \"marc\", \"rune\", \"mad\", \"soren\", \"money\", \"valu\", \"mikael\", \"juli\", \"mett\", \"rasmus\", \"price\", \"gitt\", \"good\", \"link\", \"transport\", \"tidi\", \"place\", \"public\", \"nice\", \"great\", \"apart\", \"stay\", \"clean\", \"locat\", \"host\", \"recommend\", \"copenhagen\", \"citi\", \"help\", \"love\", \"close\", \"easi\", \"communic\", \"perfect\", \"flat\", \"friend\", \"comfort\", \"room\", \"need\"], \"Freq\": [6282.0, 809.0, 5493.0, 4740.0, 5612.0, 4378.0, 4323.0, 3931.0, 451.0, 572.0, 661.0, 3872.0, 4509.0, 2185.0, 493.0, 1898.0, 277.0, 462.0, 294.0, 2522.0, 444.0, 329.0, 468.0, 5006.0, 3557.0, 4010.0, 281.0, 233.0, 983.0, 268.0, 131.82504193443643, 127.4306406496365, 120.25706561385967, 89.39651192207548, 69.18256136067819, 55.94879338175304, 48.49453673660942, 48.044370146156304, 43.23541616055273, 40.31817765359685, 46.59286399292085, 36.060611700042614, 34.59287212226787, 33.53196101701635, 34.38295949813041, 31.21753848984433, 29.72896141735572, 29.599421987114617, 66.29244546875626, 26.345098874865666, 25.928169764154834, 25.053437650762817, 51.800760927977116, 38.29584206961452, 24.979810163420428, 23.490177506138966, 129.01297838359804, 44.11127196098229, 23.106267231121635, 53.125188292602346, 113.92261059398973, 163.93178068034285, 64.79851161707269, 85.46218789649687, 139.06244669514052, 83.12213025068829, 163.29236512052572, 175.42214911659093, 91.88594288081187, 73.21022847343984, 128.02971100596187, 202.8934046314594, 85.05346689843672, 89.44445590234429, 229.72868554203242, 263.4105646899342, 75.97726568754551, 388.09780318870463, 87.22751277763867, 585.3844145319277, 74.63033232321125, 574.3925688641984, 235.08841822381171, 144.75241074579884, 141.08571420457662, 146.7613266032466, 346.0618288521093, 767.1973356404269, 334.3238980033906, 505.34641271532576, 302.832158370412, 312.17862513155956, 212.4405221114652, 414.66963594214866, 662.4249426443313, 203.21999432241134, 578.8671874245977, 384.1868991666455, 292.9487018254761, 525.0618261708895, 234.79483303123862, 386.9923388781046, 343.55159444978136, 320.96757107430614, 745.4097787697043, 386.62647928226147, 432.6265777529847, 423.0073579174849, 428.39480462852845, 794.6120591235369, 263.0853657185056, 544.0462086258714, 310.02834335142927, 456.5472976501172, 631.4792826526441, 649.4004098514253, 642.612666290832, 498.39436352857206, 584.7922834359044, 489.97818776734135, 624.9623996408661, 551.8314851922012, 571.5048616411417, 460.0513373563664, 471.29804312973516, 453.3460907044056, 427.3902750132312, 405.7495609193966, 416.9076620880819, 416.70430161675034, 183.5437556226832, 79.78081022866071, 80.40364138240642, 72.4120072534257, 84.04529648129024, 74.54559977869934, 52.43506811788946, 107.12056357833825, 43.48345871814082, 42.35383701026214, 39.978126327792666, 98.60235542134546, 36.04862258356741, 32.4658115604258, 29.358695798837037, 46.16128826122738, 27.259804674218394, 52.454196169417095, 28.961417323639534, 24.355548556115025, 211.6622072721342, 24.49511239243575, 21.38375823297423, 95.96366101835025, 145.65281791768098, 19.121190155210556, 19.601191927155043, 18.199661188494, 47.97681845589927, 17.39131209559735, 92.55887812756686, 78.11501962360137, 32.23992988556, 86.25988378750164, 211.71727303079155, 172.27847961945264, 75.67016059791128, 133.12130705597446, 97.01186384847553, 345.9065638204866, 386.3649271011852, 208.9331416931498, 113.6048856565583, 296.6220723917969, 89.27438451540387, 172.95527645041872, 893.9068471367345, 217.94905959185317, 246.02416597646115, 473.97594735937196, 888.9876941960646, 586.3144130970256, 714.9079288943784, 999.5205047691417, 686.3398626523951, 842.8840419772258, 577.3115933642165, 586.1261038297426, 614.7781052572522, 399.0207574464027, 430.7898344849594, 809.6829673418001, 586.3160992031533, 413.86157571038297, 396.3705276100218, 772.5014485088806, 983.2898004369446, 458.1939940043735, 941.971235159356, 577.7891726437443, 563.0978009570312, 927.135968708235, 722.9987708348162, 765.6297846723678, 812.8275141453664, 729.4228351812419, 663.5027477647457, 685.5163848694566, 610.4850323089642, 611.8541093600932, 529.2511121728664, 623.302728842438, 530.126283502207, 556.1305636902573, 532.5524668463062, 164.98462435884065, 96.01968768807798, 79.24647025678405, 75.47488361192497, 70.19343702141617, 68.06764171477353, 58.94357333780172, 52.4931516371292, 48.0091133202034, 41.4647404432889, 44.51248588537185, 48.28066480256606, 40.31963602959381, 30.116312076368505, 30.470306909210784, 28.58234899484794, 58.265456286007755, 26.145533165202703, 22.984512946215336, 20.442804685608717, 23.081369614985228, 22.570837221497854, 19.995402418697545, 17.683555973381594, 26.538463673270865, 15.870776640502681, 42.859966256601474, 15.590665369617602, 15.218503944744528, 14.377629502943922, 102.18202980460761, 48.920321434697634, 84.1466996248158, 261.31656117819017, 106.16969377806421, 84.25214409935748, 43.037026971252686, 51.457878991692944, 39.94771223250248, 2659.6619596639275, 204.25851551778686, 130.7259702635883, 1706.0091817136238, 1781.675778023948, 1436.2778658985983, 898.4885987308539, 342.8437019454656, 1195.7809185812587, 1452.9373955579786, 1229.9718248921672, 660.5961017099095, 1014.2870532393962, 1273.7886445508766, 708.7218165959617, 589.1487454289241, 643.7391977924043, 988.0036689812065, 732.3763776261507, 516.4835395027519, 950.1829889650228, 740.6843595632886, 649.625559625818, 795.7279359386082, 632.3673988888004, 601.7369329300437, 646.4234080093944, 792.4109592574813, 515.9040016617265, 556.4412009718106, 575.4372115024399, 526.353049344093, 480.40147300964435, 510.88367583540514, 43.91074132839798, 36.96552786256772, 35.58462090803501, 55.33939772718464, 34.3277303859006, 30.56187031675783, 61.53771041737641, 29.283860254165223, 75.65478095437916, 35.36737583308269, 101.01738860391241, 26.192661524553543, 25.742397338859693, 37.26827928988853, 24.952698132171815, 29.591826852143456, 22.88573828345786, 39.324899307017915, 22.678820368727877, 20.218954160578605, 20.019648114163243, 19.967724492109344, 19.028910504822882, 21.954027499801978, 20.279659036662046, 34.492146741496455, 27.168865081409216, 16.904569297320528, 16.684138279863152, 26.216369643297092, 86.27680739633605, 46.91280064506865, 71.0452796895099, 68.32239220523347, 85.89749197799614, 69.02222068035985, 77.6794184532249, 65.82938495425324, 290.57371239442284, 52.112171923969555, 47.67626832173341, 56.91310850911104, 180.8154588229957, 132.94379085480483, 192.39992229183616, 104.87119154736219, 40.22641242427082, 168.8813816088965, 71.77427402011432, 74.16980591199685, 119.98229062749746, 89.02154030910734, 450.9890745030925, 55.25637858220361, 750.715970751411, 105.46670212778344, 1004.9486796628186, 163.067934393704, 1104.170977925374, 506.319946213687, 454.3870559634107, 409.6188290709461, 178.2862259575774, 570.931613257061, 518.5805535714401, 516.0372446327722, 546.7018833176531, 715.623798804148, 761.8834522725678, 627.6586518627096, 148.8389359038761, 465.98038214503794, 627.2438421485521, 374.82732320681885, 474.1340779088719, 593.6009844099501, 291.62420452767896, 489.45663668200143, 536.3305398653948, 429.48268821700157, 653.9500341602492, 561.1396479309029, 571.9848858492306, 480.93774501774766, 465.6944582867665, 394.09714889125087, 372.70377667474816, 406.267333408088, 392.8995531036025, 378.10284862248835, 151.82932557611701, 159.82260166321143, 128.99270934229904, 156.36525768192294, 73.97684422123258, 104.74234249356206, 63.45945377007919, 74.0447209117075, 75.09319114914302, 78.82128267639874, 64.76836293348165, 63.262984010384365, 49.96110295675911, 50.121391549838044, 47.590461655596435, 45.714038582684445, 40.548699055664486, 39.27654221214822, 37.479896017056085, 35.84094384683334, 35.17279203457091, 32.16865469061301, 33.093421488044974, 30.824327059169, 29.38791141081694, 46.312116157438105, 40.89788266232316, 25.141162215833493, 43.12143458317755, 24.10924323398967, 149.09049240884917, 133.0734601528216, 277.4172509685615, 172.47059580576385, 145.02244627594857, 45.00514682556949, 147.09174850476475, 130.57800793153373, 44.18777077351899, 375.0186243252563, 426.80896403993285, 61.298620747057676, 232.51645454200175, 58.02073381982165, 182.20299180917849, 155.88958452174714, 244.31643931442173, 180.3469526392603, 118.67560562635408, 66.25645402222709, 483.68552114048515, 355.2794001373381, 490.51651425311377, 447.0154473252158, 359.9163288580118, 483.01651956360104, 311.63696580976045, 383.8555355842669, 383.8340546490771, 467.70225658024236, 437.61571327532425, 357.4951683535639, 363.65785641768684, 360.04886427785345, 363.9968149877506, 316.114612420862, 304.49841362636624, 268.6001489766326, 282.22764311659154, 304.6918813487502, 326.75009925857285, 283.8416665361514, 286.2873169783838, 276.6532150597287, 270.5098626233902, 266.7804825186344, 263.25195333707364, 276.6918512901863, 232.36706228083136, 133.2378208433294, 120.55187123476226, 105.66839818562157, 83.65423299116655, 71.84540866809836, 67.55495008162816, 59.78437129674735, 57.470195003081436, 51.204367602211214, 43.197486901979794, 44.60388489663987, 39.712214685369226, 36.0779126192801, 37.207603057464915, 32.278912057774825, 31.435037386190544, 71.67777375483, 28.409483972171827, 35.58631175951015, 27.590919295864527, 39.63867469121775, 31.463385112379108, 92.2178372570417, 23.090033485061507, 22.964999882827644, 23.392873167377573, 35.62252204345456, 32.926156350670084, 102.92499998110708, 119.36048280428469, 26.151677600397164, 244.34615897845146, 209.2420276250587, 251.02941943614596, 68.60781532514586, 61.20396324130442, 47.32402095837271, 50.620844241056666, 330.81749957700623, 196.89516120014858, 77.06461901773594, 59.61188000010805, 100.8413125584011, 165.41355966751894, 94.455746408302, 238.87538664150284, 601.933026931068, 142.33962665454976, 64.00040298457904, 127.12527511869204, 148.40270503229232, 521.9696652322608, 458.6168088188854, 417.0032502872568, 352.99175933571996, 429.10099952523956, 363.9457140289564, 366.0506340115167, 364.8025634156206, 320.9835026247748, 428.2628316023771, 356.00109601675854, 365.5240984158287, 339.7249969055542, 356.5073025657775, 295.6707303734428, 293.7649021786535, 341.4505742198776, 293.44178991924235, 279.0622447057195, 266.3814902979678, 263.2146500095989, 262.0793059705267, 263.46399307482255, 260.3737388158658, 258.99391473842024, 249.0938550279936, 194.88285814835862, 133.8332823040978, 131.50532154599327, 112.57984688826875, 93.29268866794801, 90.80160893320208, 75.3626369207612, 73.80156314935122, 53.97470616972814, 46.21346542656089, 43.625610949092646, 52.65958700062773, 37.07071953756365, 29.596144563392052, 165.32069521428556, 37.083152931813025, 27.780788498991797, 95.0070002964449, 54.504374728010134, 23.435156200852237, 48.04098952020136, 23.06665365200944, 24.372391124465807, 21.646652690075452, 19.866894298083658, 18.74090434896627, 18.815300472854346, 18.96905564262764, 17.166932049133553, 54.25455593410651, 113.75921247459361, 30.357294895281832, 65.53893162033867, 99.46483428738979, 99.387043578525, 60.3811899636628, 200.43921979160223, 106.76259267984042, 348.45173572196325, 563.8662245347202, 124.20886910718322, 312.82980477738334, 307.5031120771232, 207.31476158307518, 382.5438045908171, 116.05569915363424, 928.1146085219193, 121.57424181062866, 335.7366132817408, 194.64876446746968, 545.8593302367913, 253.79626355866287, 511.0523143639345, 520.7896001202506, 463.20064637880705, 437.40015469636927, 403.51596502345456, 430.5701244947818, 383.10697473609815, 359.0682443310984, 342.66649228587573, 329.08290471140776, 292.2657936186089, 314.72743293951095, 287.96206215725266, 284.3391440074852, 263.85783131943026, 280.70363145548527, 257.50979938661425, 251.48740908121783, 252.37366857922362, 249.27179611575514, 242.1992282590547], \"Total\": [6282.0, 809.0, 5493.0, 4740.0, 5612.0, 4378.0, 4323.0, 3931.0, 451.0, 572.0, 661.0, 3872.0, 4509.0, 2185.0, 493.0, 1898.0, 277.0, 462.0, 294.0, 2522.0, 444.0, 329.0, 468.0, 5006.0, 3557.0, 4010.0, 281.0, 233.0, 983.0, 268.0, 132.73944194680138, 128.34551605129192, 121.17194068735117, 90.39406151999687, 70.09783178851514, 56.958223729430706, 49.40906230429405, 49.028663846644626, 44.16032994064435, 41.2316383522126, 47.682626131139905, 36.9739200774491, 35.505609053395105, 34.4616303445776, 35.33677829263497, 32.14447130143078, 30.643681774825932, 30.512843678289382, 68.5285096634419, 27.258010777391004, 26.84626404421752, 25.968262650384208, 53.723787629216915, 39.723447310158, 25.912375098219915, 24.403504665171365, 134.02978537363373, 45.84039044538579, 24.021291468076402, 55.28481526536049, 118.59762995237037, 172.1358489734861, 67.5865007311604, 89.52657889744603, 147.99346919084408, 87.54322641991655, 175.21525094256714, 189.05123718395527, 98.12403518222065, 77.48235957138817, 138.88874698416635, 225.9396563510527, 90.91099599520867, 96.32613511973425, 260.9351913167718, 302.3374934571311, 81.14811582956953, 468.7338002672828, 94.43236460526303, 763.192099100961, 79.83728905020152, 799.8095206168789, 296.0215105039769, 169.72369235009086, 164.88850248052836, 172.9631688433794, 475.6307350745756, 1240.4994900681584, 461.64345519914684, 769.1577578964451, 423.5431105842864, 445.99033297394084, 283.47298996224305, 694.4816073516181, 1291.554135465734, 281.85357199628055, 1344.6268707971499, 749.7298869281825, 503.3219855654646, 1284.3354178012735, 361.38580978802673, 811.1798128695796, 671.5730135496046, 601.6726792919663, 2625.982854525621, 880.005613430327, 1093.9894306434194, 1051.1457122886918, 1231.7364553395662, 5006.49355011775, 466.81060831732657, 2559.0926502613434, 693.0597228299148, 1787.5447887498285, 4323.396417385853, 5493.279812912586, 5612.329967805061, 2649.1421195739363, 4509.519711781977, 2515.155703251589, 6282.4650504761485, 4010.058502189, 4740.300989660445, 2217.7462010937475, 3448.9164982941543, 3557.1293097892903, 2866.655016958664, 1570.256259912781, 3128.008687742614, 4378.538419789026, 184.4578573066158, 80.71840418220322, 81.36672678869205, 73.32554488864407, 85.21659190438103, 75.66348106665609, 53.34609355089128, 109.01467910758294, 44.409339052926704, 43.26432283882315, 40.91613918630815, 101.01694172973552, 36.97124295635657, 33.44664588554004, 30.27592352122902, 47.620164186418, 28.182502325634506, 54.2747352948734, 30.039970318149674, 25.279289996945998, 219.77348857895933, 25.51483102989276, 22.30388258935933, 100.11633701246848, 152.3065464256485, 20.033469615683003, 20.546804106915534, 19.110769311063063, 50.38725089930045, 18.302613730028405, 98.7288803619937, 84.52910650330409, 34.25866748770527, 94.67250555204915, 244.33822026634257, 198.2950159917362, 84.22107834095054, 155.90564356533122, 111.43803713691743, 457.0773534665366, 520.3590071082199, 270.7663774053782, 138.8247891235499, 438.58028139246466, 105.46874288568398, 236.80878986481036, 1987.4463524342277, 333.964158934412, 398.7368553380051, 960.2405678759759, 2237.967062315872, 1298.7666672432467, 1771.8844978299092, 3000.7155189535815, 1839.6584937594137, 2559.0926502613434, 1480.9126892948677, 1524.968726677488, 1639.8252621889344, 901.9507832787687, 1026.8869192855855, 2982.729584531157, 1792.448848147153, 1053.8494341693502, 989.8455258433742, 3128.008687742614, 5006.49355011775, 1317.4251145623232, 5612.329967805061, 2309.0434891346545, 2196.8809012302286, 6282.4650504761485, 4010.058502189, 4740.300989660445, 5493.279812912586, 4509.519711781977, 3872.9914225697084, 4323.396417385853, 3448.9164982941543, 3557.1293097892903, 2217.7462010937475, 4378.538419789026, 2515.155703251589, 3931.5914210487213, 2866.655016958664, 165.9524160156681, 96.95737099575982, 80.18419584469447, 76.45543180952573, 71.13150090592089, 69.0071812111084, 59.87958952134385, 53.43604852582044, 48.96962668707342, 42.41426049196436, 45.575454282648124, 49.460044557766174, 41.398680289204805, 31.050393805329758, 31.4407889461913, 29.524316335210692, 60.210726443132124, 27.080926387560027, 23.936538335172187, 21.392651825252226, 24.161673103597963, 23.663172093148404, 21.058857623528418, 18.651075785723478, 28.08825789583258, 16.819761036980907, 45.425590661483035, 16.5466880807115, 16.246875052178012, 15.360040881716314, 115.03998507642824, 54.842981881243354, 97.53805410938251, 324.13024328887633, 128.7658933193229, 101.17812687589374, 48.97470056862636, 60.04360461772145, 45.32921546690275, 6282.4650504761485, 316.42694787175225, 196.95004640843604, 4740.300989660445, 5493.279812912586, 4378.538419789026, 2522.3203002187433, 734.8069136391941, 3872.9914225697084, 5612.329967805061, 4509.519711781977, 1932.6165852473443, 3557.1293097892903, 5006.49355011775, 2224.2443360123525, 1709.4582988275918, 2057.323361145908, 4010.058502189, 2595.971607576501, 1557.6886810638186, 3931.5914210487213, 2705.5599084950045, 2309.4838871448515, 3448.9164982941543, 2485.998055121353, 2508.966800880479, 2866.655016958664, 4323.396417385853, 2196.8809012302286, 2649.1421195739363, 2982.729584531157, 2559.152002617361, 2238.866705933803, 2755.574854332181, 44.88320817210962, 37.897759385569096, 36.4994051402318, 56.79168452202546, 35.25248589989873, 31.46750711580945, 63.36268386346378, 30.197934605499817, 78.05374343591973, 36.57323761198617, 104.51695836593822, 27.108816672665455, 26.647466795876767, 38.63892306054104, 25.875849406278558, 30.78552066159974, 23.825604481814075, 41.07675212451206, 23.690518099249644, 21.124297958170366, 20.92629964671934, 20.878305476616983, 19.934199534300102, 23.03676888616873, 21.28995735800484, 36.252593170397525, 28.557356654821717, 17.811318672181063, 17.589741442502444, 27.660192500928908, 91.28691364894384, 49.57757286584045, 76.19200118335712, 73.22940059907023, 92.70651772529963, 74.47974451282323, 84.4101471597755, 71.176934538367, 329.6090310063008, 56.344908993819736, 51.62987349339421, 62.43035142763551, 215.51804543069682, 158.96220301913942, 239.86450181491094, 126.52021471479884, 43.77618122787918, 243.95560011962647, 87.29809335598627, 91.50934455918393, 170.66534864097213, 118.76583222046968, 983.39265195712, 64.59914067054905, 2185.139744547795, 154.4007178775394, 3931.5914210487213, 318.09175887128447, 5612.329967805061, 1740.9543558734945, 1570.2146462520839, 1357.435726432715, 374.92657653411044, 2559.152002617361, 2238.866705933803, 2309.0434891346545, 2625.982854525621, 4378.538419789026, 5493.279812912586, 4010.058502189, 299.05321217325866, 2508.966800880479, 4509.519711781977, 1692.4600439623505, 2755.574854332181, 4323.396417385853, 1070.6260725962275, 3128.008687742614, 3872.9914225697084, 2485.998055121353, 6282.4650504761485, 4740.300989660445, 5006.49355011775, 3448.9164982941543, 3557.1293097892903, 2344.158324631433, 2085.1138598764073, 3000.7155189535815, 2866.655016958664, 2595.971607576501, 152.7218240795265, 160.78286904048755, 129.88529183637584, 158.01860845149855, 74.87115470025405, 106.02099920188816, 64.35191609363828, 75.10885297739759, 76.28795001672438, 80.08671915000662, 65.8301578579705, 64.31228797345089, 50.85388414960548, 51.02022890577654, 48.51336583435231, 46.605625158633565, 41.45397176291502, 40.16855803548876, 38.371817684729955, 36.73769106721975, 36.091764417009806, 33.07959762363553, 34.07745059891076, 31.740983785169963, 30.29905469514549, 47.77735389375956, 42.23048790204135, 26.035335282029767, 44.666192451977054, 25.001135635591247, 155.42191412044565, 139.23891277254899, 294.1134432941691, 183.98467768311625, 154.7015172293672, 46.7079826351517, 159.75870145389683, 142.42607031357323, 45.8524566174892, 493.0588653165655, 572.2008172700689, 66.22007355472302, 300.24395195112527, 64.14958378652, 270.7771384620216, 223.98739005484765, 480.31033548067916, 428.3795389425091, 230.3811665815734, 88.14721188013763, 4509.519711781977, 2508.966800880479, 5006.49355011775, 4378.538419789026, 2755.574854332181, 5493.279812912586, 2085.1138598764073, 3448.9164982941543, 3872.9914225697084, 6282.4650504761485, 5612.329967805061, 3557.1293097892903, 3931.5914210487213, 4010.058502189, 4740.300989660445, 2866.655016958664, 2595.971607576501, 1692.4600439623505, 2224.2443360123525, 3128.008687742614, 4323.396417385853, 2344.158324631433, 2559.152002617361, 2515.155703251589, 2649.1421195739363, 2485.998055121353, 2705.5599084950045, 277.697264183334, 233.2677971732902, 134.13574622979397, 121.4499179957531, 106.56624845807758, 84.55294828516368, 72.79244339673704, 68.45238717347273, 60.68653067429119, 58.37700715946375, 52.10349130420895, 44.116675194159725, 45.57125975468032, 40.610695615489526, 36.974984699724324, 38.182181421359445, 33.180924119698055, 32.360604483780655, 73.8359600959633, 29.314972073247958, 36.722955578672966, 28.488977040933122, 40.94539247708866, 32.644942575874985, 95.69727626063546, 23.98812534315076, 23.861973867947324, 24.324537858688505, 37.08288687681124, 34.27873676725068, 108.69986904296165, 126.84228290856021, 27.237621072092857, 268.62444781038005, 229.22026655894007, 281.1570311884477, 73.99023685680649, 65.9654480526223, 50.27710498361439, 54.779588674917115, 444.395500303835, 250.08385614380364, 87.88085886057524, 66.0612831633739, 123.4794512783067, 244.81545141076327, 121.21500046720246, 461.9019267034368, 1898.8182043481336, 254.22380984994504, 78.23870181022629, 299.7939662381505, 421.8349810429045, 5612.329967805061, 5493.279812912586, 4509.519711781977, 3128.008687742614, 5006.49355011775, 3448.9164982941543, 3872.9914225697084, 3931.5914210487213, 2982.729584531157, 6282.4650504761485, 4010.058502189, 4323.396417385853, 3557.1293097892903, 4378.538419789026, 2755.574854332181, 2866.655016958664, 4740.300989660445, 3000.7155189535815, 2508.966800880479, 2309.0434891346545, 2344.158324631433, 2559.0926502613434, 2705.5599084950045, 2515.155703251589, 2595.971607576501, 2559.152002617361, 195.80865578012288, 134.74151383485795, 132.41256308717146, 113.55593226784852, 94.20011179321328, 91.71832846765368, 76.27385699891364, 74.72241092018248, 54.95747673503711, 47.12081410356869, 44.53242004390881, 53.868885609963385, 38.00945463460796, 30.503227707259658, 170.42939650862115, 38.261515785547694, 28.699357142274355, 98.34975306459658, 56.426335501225, 24.377050286348325, 49.98037959679456, 24.014488324907738, 25.375896127820937, 22.576633078104848, 20.77752322786995, 19.64894283666225, 19.744488120602647, 19.959096938066875, 18.079188004123317, 57.15721471208916, 121.36191216680947, 32.083031413241734, 70.19087335796556, 107.47862931373368, 108.55457775496055, 65.19186488942303, 228.35776601577416, 120.99174568693783, 451.46420486348467, 809.9943309617834, 155.20206674949523, 462.1646587258829, 468.55345529139436, 293.0574022826557, 661.8923750522406, 177.8926898546174, 4323.396417385853, 233.34184553122003, 1463.7565280488707, 679.5989347441475, 5493.279812912586, 1198.899484986655, 5612.329967805061, 6282.4650504761485, 5006.49355011775, 4509.519711781977, 4010.058502189, 4740.300989660445, 4378.538419789026, 3872.9914225697084, 3448.9164982941543, 3128.008687742614, 2755.574854332181, 3557.1293097892903, 3000.7155189535815, 2982.729584531157, 2705.5599084950045, 3931.5914210487213, 2866.655016958664, 2559.152002617361, 2649.1421195739363, 2625.982854525621, 2515.155703251589], \"Category\": [\"Default\", \"Default\", \"Default\", \"Default\", \"Default\", \"Default\", \"Default\", \"Default\", \"Default\", \"Default\", \"Default\", \"Default\", \"Default\", \"Default\", \"Default\", \"Default\", \"Default\", \"Default\", \"Default\", \"Default\", \"Default\", \"Default\", \"Default\", \"Default\", \"Default\", \"Default\", \"Default\", \"Default\", \"Default\", \"Default\", \"Topic1\", \"Topic1\", \"Topic1\", \"Topic1\", \"Topic1\", \"Topic1\", \"Topic1\", \"Topic1\", \"Topic1\", \"Topic1\", \"Topic1\", \"Topic1\", \"Topic1\", \"Topic1\", \"Topic1\", \"Topic1\", \"Topic1\", \"Topic1\", \"Topic1\", \"Topic1\", \"Topic1\", \"Topic1\", \"Topic1\", \"Topic1\", \"Topic1\", \"Topic1\", \"Topic1\", \"Topic1\", \"Topic1\", \"Topic1\", \"Topic1\", \"Topic1\", \"Topic1\", \"Topic1\", \"Topic1\", \"Topic1\", \"Topic1\", \"Topic1\", \"Topic1\", \"Topic1\", \"Topic1\", \"Topic1\", \"Topic1\", \"Topic1\", \"Topic1\", \"Topic1\", \"Topic1\", \"Topic1\", \"Topic1\", \"Topic1\", \"Topic1\", \"Topic1\", \"Topic1\", \"Topic1\", \"Topic1\", \"Topic1\", \"Topic1\", \"Topic1\", \"Topic1\", \"Topic1\", \"Topic1\", \"Topic1\", \"Topic1\", \"Topic1\", \"Topic1\", \"Topic1\", \"Topic1\", \"Topic1\", \"Topic1\", \"Topic1\", \"Topic1\", \"Topic1\", \"Topic1\", \"Topic1\", \"Topic1\", \"Topic1\", \"Topic1\", \"Topic1\", \"Topic1\", \"Topic1\", \"Topic1\", \"Topic1\", \"Topic1\", \"Topic1\", \"Topic1\", \"Topic1\", \"Topic1\", \"Topic1\", \"Topic1\", \"Topic1\", \"Topic1\", \"Topic1\", \"Topic1\", \"Topic1\", \"Topic1\", \"Topic1\", \"Topic1\", \"Topic1\", \"Topic1\", \"Topic1\", \"Topic2\", \"Topic2\", \"Topic2\", \"Topic2\", \"Topic2\", \"Topic2\", \"Topic2\", \"Topic2\", \"Topic2\", \"Topic2\", \"Topic2\", \"Topic2\", \"Topic2\", \"Topic2\", \"Topic2\", \"Topic2\", \"Topic2\", \"Topic2\", \"Topic2\", \"Topic2\", \"Topic2\", \"Topic2\", \"Topic2\", \"Topic2\", \"Topic2\", \"Topic2\", \"Topic2\", \"Topic2\", \"Topic2\", \"Topic2\", \"Topic2\", \"Topic2\", \"Topic2\", \"Topic2\", \"Topic2\", \"Topic2\", \"Topic2\", \"Topic2\", \"Topic2\", \"Topic2\", \"Topic2\", \"Topic2\", \"Topic2\", \"Topic2\", \"Topic2\", \"Topic2\", \"Topic2\", \"Topic2\", \"Topic2\", \"Topic2\", \"Topic2\", \"Topic2\", \"Topic2\", \"Topic2\", \"Topic2\", \"Topic2\", \"Topic2\", \"Topic2\", \"Topic2\", \"Topic2\", \"Topic2\", \"Topic2\", \"Topic2\", \"Topic2\", \"Topic2\", \"Topic2\", \"Topic2\", \"Topic2\", \"Topic2\", \"Topic2\", \"Topic2\", \"Topic2\", \"Topic2\", \"Topic2\", \"Topic2\", \"Topic2\", \"Topic2\", \"Topic2\", \"Topic2\", \"Topic2\", \"Topic2\", \"Topic2\", \"Topic2\", \"Topic2\", \"Topic2\", \"Topic3\", \"Topic3\", \"Topic3\", \"Topic3\", \"Topic3\", \"Topic3\", \"Topic3\", \"Topic3\", \"Topic3\", \"Topic3\", \"Topic3\", \"Topic3\", \"Topic3\", \"Topic3\", \"Topic3\", \"Topic3\", \"Topic3\", \"Topic3\", \"Topic3\", \"Topic3\", \"Topic3\", \"Topic3\", \"Topic3\", \"Topic3\", \"Topic3\", \"Topic3\", \"Topic3\", \"Topic3\", \"Topic3\", \"Topic3\", \"Topic3\", \"Topic3\", \"Topic3\", \"Topic3\", \"Topic3\", \"Topic3\", \"Topic3\", \"Topic3\", \"Topic3\", \"Topic3\", \"Topic3\", \"Topic3\", \"Topic3\", \"Topic3\", \"Topic3\", \"Topic3\", \"Topic3\", \"Topic3\", \"Topic3\", \"Topic3\", \"Topic3\", \"Topic3\", \"Topic3\", \"Topic3\", \"Topic3\", \"Topic3\", \"Topic3\", \"Topic3\", \"Topic3\", \"Topic3\", \"Topic3\", \"Topic3\", \"Topic3\", \"Topic3\", \"Topic3\", \"Topic3\", \"Topic3\", \"Topic3\", \"Topic3\", \"Topic3\", \"Topic3\", \"Topic3\", \"Topic3\", \"Topic4\", \"Topic4\", \"Topic4\", \"Topic4\", \"Topic4\", \"Topic4\", \"Topic4\", \"Topic4\", \"Topic4\", \"Topic4\", \"Topic4\", \"Topic4\", \"Topic4\", \"Topic4\", \"Topic4\", \"Topic4\", \"Topic4\", \"Topic4\", \"Topic4\", \"Topic4\", \"Topic4\", \"Topic4\", \"Topic4\", \"Topic4\", \"Topic4\", \"Topic4\", \"Topic4\", \"Topic4\", \"Topic4\", \"Topic4\", \"Topic4\", \"Topic4\", \"Topic4\", \"Topic4\", \"Topic4\", \"Topic4\", \"Topic4\", \"Topic4\", \"Topic4\", \"Topic4\", \"Topic4\", \"Topic4\", \"Topic4\", \"Topic4\", \"Topic4\", \"Topic4\", \"Topic4\", \"Topic4\", \"Topic4\", \"Topic4\", \"Topic4\", \"Topic4\", \"Topic4\", \"Topic4\", \"Topic4\", \"Topic4\", \"Topic4\", \"Topic4\", \"Topic4\", \"Topic4\", \"Topic4\", \"Topic4\", \"Topic4\", \"Topic4\", \"Topic4\", \"Topic4\", \"Topic4\", \"Topic4\", \"Topic4\", \"Topic4\", \"Topic4\", \"Topic4\", \"Topic4\", \"Topic4\", \"Topic4\", \"Topic4\", \"Topic4\", \"Topic4\", \"Topic4\", \"Topic4\", \"Topic4\", \"Topic4\", \"Topic4\", \"Topic4\", \"Topic4\", \"Topic4\", \"Topic4\", \"Topic4\", \"Topic4\", \"Topic4\", \"Topic5\", \"Topic5\", \"Topic5\", \"Topic5\", \"Topic5\", \"Topic5\", \"Topic5\", \"Topic5\", \"Topic5\", \"Topic5\", \"Topic5\", \"Topic5\", \"Topic5\", \"Topic5\", \"Topic5\", \"Topic5\", \"Topic5\", \"Topic5\", \"Topic5\", \"Topic5\", \"Topic5\", \"Topic5\", \"Topic5\", \"Topic5\", \"Topic5\", \"Topic5\", \"Topic5\", \"Topic5\", \"Topic5\", \"Topic5\", \"Topic5\", \"Topic5\", \"Topic5\", \"Topic5\", \"Topic5\", \"Topic5\", \"Topic5\", \"Topic5\", \"Topic5\", \"Topic5\", \"Topic5\", \"Topic5\", \"Topic5\", \"Topic5\", \"Topic5\", \"Topic5\", \"Topic5\", \"Topic5\", \"Topic5\", \"Topic5\", \"Topic5\", \"Topic5\", \"Topic5\", \"Topic5\", \"Topic5\", \"Topic5\", \"Topic5\", \"Topic5\", \"Topic5\", \"Topic5\", \"Topic5\", \"Topic5\", \"Topic5\", \"Topic5\", \"Topic5\", \"Topic5\", \"Topic5\", \"Topic5\", \"Topic5\", \"Topic5\", \"Topic5\", \"Topic5\", \"Topic5\", \"Topic5\", \"Topic5\", \"Topic5\", \"Topic5\", \"Topic6\", \"Topic6\", \"Topic6\", \"Topic6\", \"Topic6\", \"Topic6\", \"Topic6\", \"Topic6\", \"Topic6\", \"Topic6\", \"Topic6\", \"Topic6\", \"Topic6\", \"Topic6\", \"Topic6\", \"Topic6\", \"Topic6\", \"Topic6\", \"Topic6\", \"Topic6\", \"Topic6\", \"Topic6\", \"Topic6\", \"Topic6\", \"Topic6\", \"Topic6\", \"Topic6\", \"Topic6\", \"Topic6\", \"Topic6\", \"Topic6\", \"Topic6\", \"Topic6\", \"Topic6\", \"Topic6\", \"Topic6\", \"Topic6\", \"Topic6\", \"Topic6\", \"Topic6\", \"Topic6\", \"Topic6\", \"Topic6\", \"Topic6\", \"Topic6\", \"Topic6\", \"Topic6\", \"Topic6\", \"Topic6\", \"Topic6\", \"Topic6\", \"Topic6\", \"Topic6\", \"Topic6\", \"Topic6\", \"Topic6\", \"Topic6\", \"Topic6\", \"Topic6\", \"Topic6\", \"Topic6\", \"Topic6\", \"Topic6\", \"Topic6\", \"Topic6\", \"Topic6\", \"Topic6\", \"Topic6\", \"Topic6\", \"Topic6\", \"Topic6\", \"Topic6\", \"Topic6\", \"Topic6\", \"Topic6\", \"Topic6\", \"Topic6\", \"Topic6\", \"Topic6\", \"Topic7\", \"Topic7\", \"Topic7\", \"Topic7\", \"Topic7\", \"Topic7\", \"Topic7\", \"Topic7\", \"Topic7\", \"Topic7\", \"Topic7\", \"Topic7\", \"Topic7\", \"Topic7\", \"Topic7\", \"Topic7\", \"Topic7\", \"Topic7\", \"Topic7\", \"Topic7\", \"Topic7\", \"Topic7\", \"Topic7\", \"Topic7\", \"Topic7\", \"Topic7\", \"Topic7\", \"Topic7\", \"Topic7\", \"Topic7\", \"Topic7\", \"Topic7\", \"Topic7\", \"Topic7\", \"Topic7\", \"Topic7\", \"Topic7\", \"Topic7\", \"Topic7\", \"Topic7\", \"Topic7\", \"Topic7\", \"Topic7\", \"Topic7\", \"Topic7\", \"Topic7\", \"Topic7\", \"Topic7\", \"Topic7\", \"Topic7\", \"Topic7\", \"Topic7\", \"Topic7\", \"Topic7\", \"Topic7\", \"Topic7\", \"Topic7\", \"Topic7\", \"Topic7\", \"Topic7\", \"Topic7\", \"Topic7\", \"Topic7\", \"Topic7\", \"Topic7\", \"Topic7\", \"Topic7\", \"Topic7\", \"Topic7\", \"Topic7\", \"Topic7\", \"Topic7\", \"Topic7\"], \"logprob\": [30.0, 29.0, 28.0, 27.0, 26.0, 25.0, 24.0, 23.0, 22.0, 21.0, 20.0, 19.0, 18.0, 17.0, 16.0, 15.0, 14.0, 13.0, 12.0, 11.0, 10.0, 9.0, 8.0, 7.0, 6.0, 5.0, 4.0, 3.0, 2.0, 1.0, -6.8397, -6.8736, -6.9316, -7.2281, -7.4845, -7.6968, -7.8398, -7.8491, -7.9546, -8.0244, -7.8798, -8.136, -8.1776, -8.2087, -8.1837, -8.2802, -8.3291, -8.3335, -7.5271, -8.4499, -8.4659, -8.5002, -7.7738, -8.0759, -8.5031, -8.5646, -6.8613, -7.9345, -8.5811, -7.7486, -6.9857, -6.6218, -7.5499, -7.2731, -6.7863, -7.3009, -6.6257, -6.554, -7.2007, -7.4279, -6.8689, -6.4085, -7.2779, -7.2276, -6.2843, -6.1475, -7.3908, -5.76, -7.2527, -5.3489, -7.4087, -5.3679, -6.2613, -6.7462, -6.7718, -6.7324, -5.8746, -5.0785, -5.9091, -5.496, -6.008, -5.9776, -6.3625, -5.6937, -5.2253, -6.4069, -5.3601, -5.7701, -6.0412, -5.4577, -6.2625, -5.7628, -5.8819, -5.9499, -5.1073, -5.7638, -5.6513, -5.6738, -5.6612, -5.0434, -6.1487, -5.4222, -5.9845, -5.5975, -5.2731, -5.2452, -5.2557, -5.5098, -5.35, -5.5269, -5.2835, -5.408, -5.3729, -5.5899, -5.5657, -5.6046, -5.6635, -5.7155, -5.6883, -5.6888, -6.1762, -7.0094, -7.0016, -7.1063, -6.9573, -7.0772, -7.4291, -6.7147, -7.6163, -7.6426, -7.7003, -6.7976, -7.8038, -7.9085, -8.0091, -7.5565, -8.0832, -7.4287, -8.0227, -8.1959, -6.0337, -8.1902, -8.326, -6.8247, -6.4074, -8.4379, -8.4131, -8.4873, -7.5179, -8.5327, -6.8608, -7.0305, -7.9155, -6.9313, -6.0334, -6.2395, -7.0623, -6.4974, -6.8138, -5.5425, -5.4319, -6.0466, -6.6559, -5.6962, -6.8969, -6.2356, -4.5931, -6.0044, -5.8832, -5.2275, -4.5986, -5.0148, -4.8165, -4.4814, -4.8573, -4.6518, -5.0303, -5.0151, -4.9674, -5.3996, -5.323, -4.692, -5.0148, -5.3631, -5.4063, -4.739, -4.4978, -5.2614, -4.5407, -5.0294, -5.0552, -4.5566, -4.8052, -4.748, -4.6881, -4.7964, -4.8911, -4.8585, -4.9744, -4.9722, -5.1172, -4.9536, -5.1155, -5.0677, -5.111, -6.0689, -6.6102, -6.8022, -6.851, -6.9235, -6.9543, -7.0982, -7.2141, -7.3034, -7.4499, -7.379, -7.2977, -7.4779, -7.7697, -7.758, -7.822, -7.1098, -7.9111, -8.04, -8.1571, -8.0357, -8.0581, -8.1793, -8.3021, -7.8962, -8.4103, -7.4168, -8.4281, -8.4523, -8.5091, -6.548, -7.2846, -6.7422, -5.609, -6.5097, -6.741, -7.4127, -7.234, -7.4872, -3.2888, -5.8554, -6.3017, -3.7329, -3.6895, -3.905, -4.3741, -5.3375, -4.0882, -3.8934, -4.06, -4.6816, -4.2528, -4.025, -4.6113, -4.7961, -4.7075, -4.2791, -4.5785, -4.9277, -4.3181, -4.5672, -4.6984, -4.4955, -4.7253, -4.775, -4.7033, -4.4997, -4.9289, -4.8532, -4.8196, -4.9088, -5.0001, -4.9386, -7.2559, -7.4281, -7.4662, -7.0246, -7.5021, -7.6183, -6.9184, -7.661, -6.7119, -7.4723, -6.4228, -7.7726, -7.7899, -7.4199, -7.8211, -7.6506, -7.9076, -7.3662, -7.9166, -8.0315, -8.0414, -8.044, -8.0921, -7.9491, -8.0285, -7.4973, -7.736, -8.2105, -8.2236, -7.7717, -6.5805, -7.1898, -6.7748, -6.8138, -6.5849, -6.8036, -6.6855, -6.851, -5.3662, -7.0847, -7.1736, -6.9965, -5.8406, -6.1481, -5.7785, -6.3853, -7.3436, -5.9089, -6.7645, -6.7317, -6.2507, -6.5492, -4.9266, -7.0261, -4.417, -6.3797, -4.1254, -5.9439, -4.0312, -4.8109, -4.9191, -5.0228, -5.8547, -4.6908, -4.787, -4.7919, -4.7342, -4.4649, -4.4023, -4.5961, -6.0352, -4.8939, -4.5967, -5.1116, -4.8766, -4.6519, -5.3626, -4.8448, -4.7533, -4.9755, -4.555, -4.7081, -4.689, -4.8623, -4.8945, -5.0615, -5.1173, -5.0311, -5.0645, -5.1029, -5.9765, -5.9252, -6.1395, -5.9471, -6.6955, -6.3478, -6.8489, -6.6946, -6.6806, -6.6321, -6.8285, -6.852, -7.088, -7.0848, -7.1367, -7.1769, -7.2968, -7.3287, -7.3755, -7.4202, -7.439, -7.5283, -7.5, -7.571, -7.6187, -7.1639, -7.2882, -7.7748, -7.2353, -7.8167, -5.9947, -6.1084, -5.3738, -5.8491, -6.0224, -7.1925, -6.0082, -6.1273, -7.2108, -5.0723, -4.9429, -6.8835, -5.5503, -6.9385, -5.7942, -5.9501, -5.5008, -5.8044, -6.2229, -6.8058, -4.8178, -5.1264, -4.8038, -4.8967, -5.1134, -4.8192, -5.2574, -5.049, -5.0491, -4.8515, -4.9179, -5.1202, -5.1031, -5.113, -5.1021, -5.2432, -5.2806, -5.4061, -5.3566, -5.28, -5.2101, -5.3509, -5.3423, -5.3765, -5.399, -5.4129, -5.4262, -5.3291, -5.5037, -6.0598, -6.1599, -6.2917, -6.5253, -6.6775, -6.739, -6.8612, -6.9007, -7.0162, -7.1862, -7.1542, -7.2703, -7.3663, -7.3355, -7.4776, -7.5041, -6.6798, -7.6053, -7.38, -7.6345, -7.2722, -7.5032, -6.4278, -7.8126, -7.818, -7.7996, -7.379, -7.4577, -6.318, -6.1698, -7.6881, -5.4534, -5.6085, -5.4264, -6.7236, -6.8378, -7.095, -7.0276, -5.1504, -5.6693, -6.6073, -6.8641, -6.3384, -5.8435, -6.4039, -5.476, -4.5518, -5.9938, -6.7931, -6.1068, -5.9521, -4.6944, -4.8238, -4.9189, -5.0855, -4.8903, -5.055, -5.0492, -5.0526, -5.1806, -4.8922, -5.077, -5.0507, -5.1238, -5.0756, -5.2627, -5.2692, -5.1188, -5.2703, -5.3205, -5.3671, -5.379, -5.3833, -5.3781, -5.3899, -5.3952, -5.4342, -5.5716, -5.9474, -5.9649, -6.1203, -6.3082, -6.3353, -6.5217, -6.5426, -6.8554, -7.0107, -7.0683, -6.8801, -7.2311, -7.4563, -5.7361, -7.2308, -7.5196, -6.29, -6.8457, -7.6897, -6.9719, -7.7056, -7.6505, -7.7691, -7.8549, -7.9133, -7.9093, -7.9012, -8.001, -6.8503, -6.1099, -7.4309, -6.6613, -6.2442, -6.2449, -6.7433, -5.5435, -6.1734, -4.9905, -4.5091, -6.022, -5.0983, -5.1155, -5.5097, -4.8971, -6.0899, -4.0108, -6.0434, -5.0276, -5.5728, -4.5416, -5.3074, -4.6075, -4.5886, -4.7058, -4.7631, -4.8437, -4.7789, -4.8956, -4.9605, -5.0072, -5.0477, -5.1663, -5.0923, -5.1811, -5.1938, -5.2686, -5.2067, -5.2929, -5.3166, -5.3131, -5.3254, -5.3542], \"loglift\": [30.0, 29.0, 28.0, 27.0, 26.0, 25.0, 24.0, 23.0, 22.0, 21.0, 20.0, 19.0, 18.0, 17.0, 16.0, 15.0, 14.0, 13.0, 12.0, 11.0, 10.0, 9.0, 8.0, 7.0, 6.0, 5.0, 4.0, 3.0, 2.0, 1.0, 1.4201, 1.4199, 1.4194, 1.4159, 1.4139, 1.4091, 1.4083, 1.4067, 1.4058, 1.4046, 1.4039, 1.402, 1.401, 1.3997, 1.3997, 1.3978, 1.3967, 1.3966, 1.3938, 1.3929, 1.3922, 1.3911, 1.3906, 1.3904, 1.3904, 1.3889, 1.3889, 1.3886, 1.3882, 1.3872, 1.3868, 1.3782, 1.3849, 1.3806, 1.3648, 1.3752, 1.3565, 1.3522, 1.3613, 1.3703, 1.3456, 1.3194, 1.3604, 1.3529, 1.2996, 1.2892, 1.3612, 1.2382, 1.3476, 1.1618, 1.3596, 1.096, 1.1965, 1.2679, 1.2711, 1.2627, 1.109, 0.9465, 1.1043, 1.007, 1.0915, 1.0703, 1.1386, 0.9113, 0.7593, 1.0999, 0.5842, 0.7584, 0.8858, 0.5325, 0.9958, 0.6869, 0.7567, 0.7986, 0.1677, 0.6045, 0.4993, 0.5168, 0.3709, -0.4136, 0.8536, -0.1214, 0.6226, 0.0621, -0.4967, -0.7082, -0.7402, -0.2436, -0.6157, -0.2087, -0.8808, -0.5563, -0.6886, -0.1459, -0.5633, -0.633, -0.4762, 0.0738, -0.5883, -0.9251, 1.7546, 1.7479, 1.7477, 1.747, 1.7457, 1.7447, 1.7423, 1.742, 1.7385, 1.7383, 1.7364, 1.7354, 1.7343, 1.7298, 1.7288, 1.7285, 1.7263, 1.7254, 1.723, 1.7223, 1.722, 1.7188, 1.7174, 1.7172, 1.7149, 1.713, 1.7125, 1.7107, 1.7105, 1.7085, 1.695, 1.6807, 1.6988, 1.6665, 1.6163, 1.6189, 1.6525, 1.6016, 1.6209, 1.4809, 1.4618, 1.5003, 1.5591, 1.3685, 1.5929, 1.4453, 0.9606, 1.3328, 1.2767, 1.0535, 0.8363, 0.9643, 0.8519, 0.6602, 0.7736, 0.649, 0.8175, 0.8034, 0.7785, 0.944, 0.8909, 0.4556, 0.6421, 0.8249, 0.8444, 0.3611, 0.132, 0.7034, -0.0252, 0.3742, 0.3982, -0.1538, 0.0464, -0.0636, -0.1512, -0.0621, -0.0047, -0.0821, 0.028, -0.0006, 0.3268, -0.1899, 0.2026, -0.1962, 0.0763, 1.9676, 1.9637, 1.9617, 1.9605, 1.9602, 1.9597, 1.9577, 1.9557, 1.9536, 1.9508, 1.9499, 1.9493, 1.947, 1.9429, 1.9421, 1.941, 1.9406, 1.9383, 1.9329, 1.928, 1.9277, 1.9262, 1.9216, 1.9202, 1.9167, 1.9154, 1.9153, 1.9139, 1.9081, 1.9074, 1.8549, 1.8592, 1.8258, 1.758, 1.7805, 1.7904, 1.8442, 1.8191, 1.8471, 1.1139, 1.5357, 1.5636, 0.9515, 0.8475, 0.8588, 0.9412, 1.2111, 0.7982, 0.6221, 0.6743, 0.9, 0.7187, 0.6047, 0.8297, 0.9082, 0.8116, 0.5726, 0.708, 0.8695, 0.5533, 0.678, 0.7051, 0.5069, 0.6045, 0.5456, 0.484, 0.2767, 0.5246, 0.413, 0.328, 0.392, 0.4344, 0.2882, 2.0882, 2.0852, 2.0848, 2.0842, 2.0836, 2.0809, 2.0809, 2.0794, 2.0789, 2.0766, 2.0761, 2.0758, 2.0756, 2.074, 2.0738, 2.0706, 2.0699, 2.0666, 2.0665, 2.0663, 2.0659, 2.0656, 2.0637, 2.062, 2.0615, 2.0604, 2.0603, 2.0579, 2.0573, 2.0565, 2.0537, 2.0549, 2.0402, 2.0408, 2.0339, 2.0341, 2.0271, 2.032, 1.9841, 2.0321, 2.0305, 2.0176, 1.9346, 1.9314, 1.8897, 1.9225, 2.0256, 1.7424, 1.9143, 1.9001, 1.7578, 1.8219, 1.3306, 1.9539, 1.0417, 1.729, 0.746, 1.442, 0.4843, 0.8751, 0.8701, 0.912, 1.3668, 0.61, 0.6475, 0.6117, 0.5408, 0.2988, 0.1347, 0.2556, 1.4124, 0.4267, 0.1375, 0.6027, 0.3503, 0.1246, 0.8096, 0.2553, 0.1331, 0.3543, -0.1523, -0.0237, -0.0592, 0.1401, 0.077, 0.3271, 0.3884, 0.1106, 0.1228, 0.1836, 2.1431, 2.143, 2.142, 2.1384, 2.1369, 2.1368, 2.135, 2.1347, 2.1332, 2.133, 2.1327, 2.1325, 2.1312, 2.1312, 2.1297, 2.1296, 2.1269, 2.1265, 2.1254, 2.1242, 2.1231, 2.121, 2.1196, 2.1196, 2.1184, 2.1178, 2.1169, 2.114, 2.1137, 2.1126, 2.1074, 2.1037, 2.0905, 2.0843, 2.0843, 2.1118, 2.0663, 2.0621, 2.112, 1.8753, 1.8558, 2.0717, 1.8933, 2.0485, 1.7528, 1.7865, 1.473, 1.2838, 1.4856, 1.8635, -0.0836, 0.1942, -0.1741, -0.1329, 0.1134, -0.2823, 0.2482, -0.0466, -0.1626, -0.4487, -0.4024, -0.1486, -0.2316, -0.2614, -0.4178, -0.0559, 0.0059, 0.3082, 0.0845, -0.1799, -0.4337, 0.0377, -0.0415, -0.0584, -0.1327, -0.0831, -0.181, 2.1926, 2.1924, 2.1895, 2.1888, 2.1878, 2.1856, 2.1831, 2.183, 2.1813, 2.1806, 2.1788, 2.1752, 2.1748, 2.1739, 2.1717, 2.1704, 2.1687, 2.1672, 2.1666, 2.1649, 2.1648, 2.1642, 2.1638, 2.1594, 2.1592, 2.1581, 2.1579, 2.1572, 2.1561, 2.156, 2.1417, 2.1354, 2.1556, 2.1015, 2.1051, 2.0829, 2.1207, 2.1213, 2.1357, 2.1173, 1.9011, 1.9571, 2.0649, 2.0935, 1.9937, 1.8042, 1.9468, 1.5368, 1.0474, 1.6162, 1.9954, 1.3383, 1.1516, -0.1789, -0.2868, -0.1846, 0.0145, -0.2606, -0.0526, -0.1628, -0.1812, -0.033, -0.4895, -0.2254, -0.2742, -0.1523, -0.3119, -0.0359, -0.0819, -0.4344, -0.1287, 0.0001, 0.0366, 0.0095, -0.0825, -0.1329, -0.0717, -0.1087, -0.1334, 2.2995, 2.2975, 2.2974, 2.2956, 2.2946, 2.2942, 2.2922, 2.2919, 2.2862, 2.2848, 2.2837, 2.2816, 2.2793, 2.2741, 2.2738, 2.273, 2.2717, 2.2697, 2.2696, 2.2649, 2.2647, 2.264, 2.2639, 2.2622, 2.2594, 2.2569, 2.2561, 2.2534, 2.2525, 2.2521, 2.2396, 2.249, 2.2357, 2.2268, 2.216, 2.2276, 2.1739, 2.1791, 2.0453, 1.9421, 2.0815, 1.914, 1.8831, 1.9581, 1.756, 1.8772, 0.7656, 1.6523, 0.8318, 1.054, -0.0047, 0.7516, -0.092, -0.1859, -0.0761, -0.0288, 0.0079, -0.0945, -0.1319, -0.074, -0.0048, 0.0524, 0.0605, -0.1207, -0.0395, -0.0462, -0.0234, -0.3352, -0.1056, -0.0158, -0.0468, -0.0504, -0.0361]}, \"token.table\": {\"Topic\": [6, 1, 2, 3, 4, 5, 6, 7, 1, 5, 5, 6, 3, 1, 3, 5, 5, 1, 2, 6, 7, 5, 5, 3, 1, 2, 3, 4, 5, 6, 7, 1, 2, 3, 4, 5, 6, 7, 1, 1, 2, 3, 4, 5, 6, 7, 3, 4, 7, 1, 2, 3, 4, 5, 6, 7, 1, 2, 3, 4, 5, 6, 7, 5, 4, 1, 2, 3, 4, 5, 6, 7, 1, 2, 4, 5, 6, 1, 2, 3, 4, 5, 6, 7, 7, 1, 1, 4, 1, 3, 4, 5, 7, 1, 2, 3, 4, 5, 6, 7, 1, 2, 3, 4, 5, 6, 7, 1, 2, 3, 4, 5, 6, 7, 4, 1, 2, 3, 4, 5, 6, 7, 6, 1, 2, 3, 4, 5, 6, 7, 2, 1, 2, 3, 4, 5, 6, 7, 1, 2, 3, 4, 5, 6, 7, 7, 6, 1, 2, 3, 4, 5, 6, 7, 3, 5, 2, 4, 7, 4, 7, 1, 6, 5, 6, 3, 1, 2, 3, 4, 5, 6, 7, 5, 3, 6, 3, 1, 2, 3, 4, 5, 6, 7, 7, 1, 2, 3, 4, 5, 6, 7, 5, 6, 4, 5, 2, 1, 5, 7, 1, 2, 3, 4, 5, 6, 7, 1, 2, 3, 4, 5, 6, 7, 1, 2, 3, 4, 5, 6, 7, 1, 6, 1, 5, 1, 2, 3, 4, 5, 6, 7, 5, 7, 1, 2, 3, 4, 5, 6, 7, 6, 1, 4, 5, 6, 1, 4, 5, 7, 3, 1, 2, 3, 4, 5, 6, 7, 4, 6, 3, 6, 1, 2, 6, 1, 2, 3, 4, 5, 6, 7, 1, 2, 3, 4, 5, 6, 7, 1, 1, 2, 4, 5, 6, 7, 6, 1, 2, 3, 4, 5, 6, 7, 1, 1, 2, 3, 4, 5, 6, 7, 1, 2, 6, 1, 2, 3, 4, 5, 6, 7, 1, 4, 5, 1, 2, 3, 4, 5, 6, 7, 1, 2, 3, 4, 5, 6, 7, 1, 2, 3, 4, 5, 6, 7, 2, 1, 2, 3, 4, 5, 6, 7, 2, 1, 2, 3, 4, 5, 6, 7, 6, 1, 2, 4, 5, 6, 7, 1, 2, 4, 1, 2, 3, 4, 5, 6, 7, 5, 6, 1, 3, 1, 2, 5, 6, 7, 1, 2, 6, 7, 1, 2, 6, 7, 1, 2, 3, 4, 5, 6, 7, 1, 2, 4, 5, 6, 7, 1, 2, 3, 4, 5, 6, 7, 1, 2, 6, 1, 4, 5, 1, 2, 1, 2, 5, 6, 7, 1, 1, 2, 5, 6, 1, 2, 3, 4, 5, 6, 7, 2, 1, 1, 2, 3, 4, 5, 6, 7, 6, 2, 1, 6, 7, 2, 2, 1, 1, 4, 7, 1, 1, 2, 3, 4, 5, 6, 7, 1, 2, 3, 4, 5, 6, 7, 2, 1, 1, 2, 3, 4, 5, 6, 7, 1, 2, 3, 4, 5, 6, 7, 1, 2, 3, 4, 5, 6, 7, 3, 1, 5, 7, 1, 4, 3, 3, 5, 1, 2, 3, 4, 5, 6, 7, 1, 4, 1, 2, 3, 4, 5, 6, 7, 1, 2, 3, 4, 5, 6, 7, 1, 2, 3, 4, 5, 6, 7, 1, 2, 1, 2, 5, 6, 1, 2, 3, 4, 5, 6, 7, 1, 2, 1, 2, 3, 4, 5, 6, 7, 7, 6, 7, 1, 2, 3, 4, 6, 7, 1, 2, 3, 4, 5, 6, 7, 6, 1, 2, 3, 4, 5, 6, 7, 1, 2, 3, 4, 5, 6, 7, 1, 2, 3, 4, 5, 6, 7, 1, 2, 3, 4, 5, 6, 7, 2, 4, 5, 6, 7, 1, 2, 3, 4, 5, 6, 7, 1, 3, 7, 2, 5, 7, 6, 1, 6, 4, 1, 2, 3, 4, 5, 6, 7, 1, 2, 3, 4, 5, 6, 7, 1, 3, 4, 5, 6, 7, 5, 6, 1, 3, 6, 1, 4, 4, 7, 1, 3, 4, 5, 6, 7, 1, 5, 1, 2, 3, 4, 5, 6, 7, 6, 1, 3, 4, 2, 1, 4, 5, 2, 2, 5, 1, 2, 4, 6, 7, 3, 2, 5, 1, 4, 6, 7, 1, 2, 3, 4, 5, 6, 7, 1, 3, 4, 6, 3, 3, 1, 3, 5, 6, 5, 1, 2, 3, 4, 5, 6, 7, 7, 2, 4, 6, 7, 1, 3, 5, 6, 7, 1, 2, 3, 4, 5, 6, 7, 1, 3, 6, 7, 1, 2, 3, 4, 5, 6, 7, 7, 1, 1, 4, 6, 1, 2, 3, 4, 5, 6, 7, 1, 2, 6, 1, 3, 4, 5, 6, 7, 5, 7, 1, 2, 3, 6, 7, 1, 2, 3, 5, 6, 7, 1, 2, 3, 4, 5, 6, 7, 1, 3, 1, 1, 2, 3, 4, 5, 6, 7, 1, 4, 6, 3, 1, 2, 3, 4, 5, 6, 7, 1, 2, 3, 4, 5, 6, 7, 1, 2, 3, 4, 5, 6, 7, 6, 7, 1, 2, 3, 4, 5, 6, 7, 2, 1, 6, 7, 1, 3, 5, 1, 2, 3, 4, 5, 6, 7, 3, 1, 2, 3, 4, 5, 6, 7, 6, 5, 1, 2, 3, 4, 5, 6, 7, 2, 1, 3, 1, 2, 3, 4, 5, 6, 7, 1, 5, 7, 1, 1, 2, 3, 4, 6, 7, 1, 5, 6, 7, 1, 2, 4, 5, 6, 5, 6, 7, 3, 1, 4, 1, 2, 3, 4, 5, 6, 7, 1, 2, 3, 4, 5, 6, 7, 6, 1, 4, 1, 2, 3, 4, 5, 6, 7, 1, 2, 3, 4, 5, 6, 7, 2, 4, 3, 7, 1, 2, 3, 4, 5, 6, 7, 1, 2, 3, 4, 5, 6, 7, 1, 2, 3, 4, 5, 6, 7, 1, 4, 6, 7, 1, 2, 1, 5, 6, 1, 7, 1, 3, 4, 5, 6, 7, 4, 1, 2, 4, 6, 1, 2, 4, 5, 1, 2, 3, 4, 5, 6, 7, 2, 3, 4, 1, 2, 3, 4, 5, 6, 7, 5, 1, 2, 3, 4, 5, 6, 7, 3, 3, 1, 4, 6, 1, 2, 4, 5, 6, 1, 2, 5, 7, 5, 2, 5, 7, 1, 2, 3, 4, 5, 6, 7, 1, 2, 3, 4, 5, 6, 7, 1, 2, 3, 4, 5, 6, 7, 2, 1, 2, 3, 4, 5, 6, 7, 1, 7, 5, 3, 7, 1, 2, 3, 4, 5, 6, 7, 1, 2, 3, 4, 5, 6, 7, 1, 4, 7, 4, 6, 1, 2, 5, 6, 1, 2, 3, 4, 5, 6, 7, 1, 2, 3, 4, 5, 6, 7, 5, 7, 2, 7, 1, 2, 3, 4, 5, 6, 7, 1, 2, 3, 4, 5, 6, 7, 5, 2, 1, 5, 1, 6, 1, 2, 3, 4, 5, 6, 7, 1, 2, 3, 4, 5, 6, 7, 3, 5, 4, 6, 7, 3, 1, 2, 3, 4, 5, 6, 7, 3, 5, 6, 1, 2, 3, 6, 1, 2, 3, 4, 5, 6, 7, 1, 3, 4, 5, 6, 1, 2, 3, 4, 5, 6, 7, 1, 2, 5, 6, 7, 6, 1, 2, 3, 4, 5, 6, 7, 1, 3, 4, 5, 7, 1, 4, 1, 2, 3, 4, 5, 6, 7, 1, 2, 3, 4, 5, 6, 7, 1, 2, 3, 4, 5, 6, 7, 1, 2, 3, 4, 5, 6, 7, 5, 4, 1, 2, 3, 4, 5, 6, 7, 7, 2, 4, 5, 6, 2, 1, 2, 3, 4, 5, 6, 7, 1, 2, 3, 4, 5, 6, 7, 1, 2, 3, 5, 6, 7, 1, 2, 3, 4, 5, 6, 7, 1, 2, 3, 4, 5, 6, 7, 4, 1, 2, 4, 6, 7, 1, 2, 3, 4, 5, 6, 7, 3, 1, 7, 7, 3, 1, 6, 1, 3, 4, 5, 7, 7, 1, 2, 3, 4, 5, 6, 7, 2, 1, 2, 3, 4, 5, 6, 7, 1, 2, 3, 4, 5, 6, 7, 1, 4, 2, 5, 4, 1, 2, 6, 7, 1, 2, 3, 4, 5, 6, 7, 1, 2, 5, 6, 7, 1, 2, 3, 4, 5, 6, 7, 6, 3, 1, 2, 4, 5, 6, 7, 1, 2, 3, 4, 5, 6, 7, 1, 2, 3, 4, 5, 6, 7, 4, 1, 2, 3, 4, 5, 6, 7, 1, 2, 3, 4, 5, 6, 7, 1, 2, 3, 4, 5, 6, 7, 3, 5, 6, 6, 6, 7, 6, 7, 2, 5, 6, 1, 2, 3, 4, 5, 6, 7, 1, 2, 3, 4, 5, 6, 7, 1, 2, 3, 4, 5, 6, 7, 1, 2, 3, 4, 5, 6, 7, 3, 1, 2, 3, 4, 5, 6, 7, 4, 1, 2, 3, 4, 5, 6, 7, 5, 4, 5, 1, 2, 1, 4, 6, 1, 2, 3, 4, 5, 6, 7, 5, 7, 5, 4, 2, 1, 2, 3, 4, 5, 6, 7, 1, 2, 3, 4, 5, 6, 7, 3, 1, 2, 3, 4, 5, 6, 7, 1, 2, 3, 4, 5, 6, 7, 1, 2, 4, 5, 6, 7, 1, 2, 3, 5, 6, 1, 2, 1, 2, 3, 4, 5, 6, 7, 7, 4, 7, 1, 2, 3, 4, 5, 6, 7, 1, 2, 3, 4, 5, 6, 7, 1, 2, 3, 4, 5, 6, 7, 5, 7, 5, 2, 3, 5, 6, 5, 4, 1, 2, 3, 4, 5, 6, 7, 4, 3, 2, 5, 7, 1, 2, 3, 4, 5, 6, 7, 1, 2, 3, 4, 5, 6, 7, 1, 2, 5, 6, 7, 1, 2, 5, 6, 7, 1, 2, 3, 4, 5, 6, 7, 1, 2, 3, 4, 5, 6, 7, 1, 2, 3, 4, 5, 6, 7, 1, 2, 3, 4, 5, 6, 7], \"Freq\": [0.9588077296989406, 0.10366048160699884, 0.13041157363461145, 0.013375546013806302, 0.49823908901428476, 0.11034825461390199, 0.08359716258628938, 0.06018995706212836, 0.02093041825262355, 0.9627992396206834, 0.988364615134604, 0.993460331113484, 0.9731258473364374, 0.012928121429053039, 0.04524842500168564, 0.9372888036063454, 0.9952736022904584, 0.09074784438891544, 0.08249804035355948, 0.7754815793234592, 0.04124902017677974, 0.9697503174298882, 0.9931840486027387, 0.9854046898680413, 0.1007083603061296, 0.1447682679400613, 0.31875994400466917, 0.1515121313534182, 0.12678463217110958, 0.07732963380649238, 0.07957758827761134, 0.03556731253609454, 0.0462375062969229, 0.003556731253609454, 0.003556731253609454, 0.014226925014437815, 0.8927395446559729, 0.003556731253609454, 0.9538480343387914, 0.05090366599290874, 0.6527646580267121, 0.02694899964330463, 0.0029943332937005145, 0.1886429975031324, 0.029943332937005143, 0.04790933269920823, 0.010786728102150468, 0.9276586167849402, 0.05393364051075234, 0.07577366097992416, 0.1450524367329977, 0.010824808711417737, 0.07144373749535707, 0.12989770453701285, 0.5174258564057679, 0.05195908181480514, 0.05861841155953636, 0.01851107733459043, 0.8052318640546836, 0.012340718223060286, 0.0215962568903555, 0.08329984800565693, 0.0030851795557650715, 0.9642493432028405, 0.9664724211876452, 0.15879377293541147, 0.19634500477422576, 0.25446951788643296, 0.11425162027554134, 0.09807263208966922, 0.085688715206656, 0.09247989543282455, 0.045516168729598794, 0.011379042182399698, 0.05689521091199849, 0.011379042182399698, 0.8761862480447767, 0.07267678374053484, 0.1653660151777387, 0.1285009799470326, 0.15167328780633357, 0.0895293712745719, 0.3170393029840723, 0.07478335718228947, 0.9669731424200894, 0.9574839067485748, 0.9856839652819771, 0.9708525539054583, 0.9617305127032875, 0.014795854041589037, 0.014795854041589037, 0.014795854041589037, 0.014795854041589037, 0.8543297520354847, 0.02356771729753061, 0.005891929324382652, 0.005891929324382652, 0.053027363919443876, 0.02356771729753061, 0.03535157594629591, 0.11431574532142438, 0.12384205743154308, 0.46678929339581626, 0.09390221937117003, 0.0789323003409835, 0.05987967612074611, 0.06260147958078002, 0.1447553921903799, 0.4936263014261876, 0.0676913704487388, 0.03957341657003192, 0.06352574765189334, 0.10205775852271388, 0.08851948443296613, 0.9544492641385258, 0.6182993271185123, 0.09592910029609253, 0.021765426117600826, 0.07658205485822513, 0.05965339010009115, 0.06045951699333563, 0.06690853213929143, 0.9803132518262548, 0.11055590868650993, 0.15870743686007696, 0.28197534898440857, 0.14561022119686673, 0.11710451651811504, 0.0997699663756309, 0.08628753848703213, 0.928829086968532, 0.512184463625076, 0.14271806668719564, 0.09470077322234477, 0.05735398941634965, 0.061355430538420554, 0.054686362001635715, 0.0760273813193472, 0.656562317438122, 0.09100863806072979, 0.04160394882776219, 0.061105799840775715, 0.053305059435570304, 0.0494046892329676, 0.04550431903036489, 0.995104330907722, 0.9764118233108063, 0.09714980737263815, 0.0453365767738978, 0.07124319207326799, 0.6800486516084671, 0.032383269124212716, 0.03885992294905526, 0.032383269124212716, 0.021409616591905975, 0.9634327466357688, 0.027584233638121135, 0.9378639436961187, 0.9872599748517523, 0.945465657986284, 0.03501724659208459, 0.9736592691440606, 0.9849621976123798, 0.9832090672347964, 0.9915328593479603, 0.9512620283261735, 0.533512673997006, 0.1479209594571138, 0.0698053965977391, 0.04819896431748653, 0.07811556285937471, 0.06315726358843061, 0.05983319708377638, 0.9602334569225087, 0.9466029912619336, 0.04402804610520621, 0.9349004585019087, 0.1574365282812905, 0.4423744703115135, 0.07539214030371659, 0.049891857553930094, 0.06763118468421635, 0.10865337867300331, 0.09978371510786019, 0.9734420121437669, 0.08863729769545342, 0.7718831340979069, 0.040625428110416154, 0.029545765898484472, 0.03693220737310559, 0.018466103686552795, 0.014772882949242236, 0.9873893989474918, 0.9945650570346477, 0.9784939055548825, 0.015782159767014234, 0.9747667830708704, 0.006434099114395417, 0.9586807680449172, 0.03217049557197709, 0.12386081134711863, 0.25032010125396703, 0.10913609950864998, 0.2234691561367595, 0.08315131391135237, 0.11519921614801942, 0.09441138767018133, 0.11891510912553123, 0.37503995954975233, 0.10793832982163604, 0.10488922445944293, 0.08049638156189806, 0.10001065587993396, 0.11342671947358364, 0.1647790737300707, 0.25627242682328677, 0.2348784586870621, 0.10560426824689614, 0.07965839199658115, 0.08466549092208052, 0.07419610225967271, 0.031348854609292924, 0.9613648746849829, 0.0544007775394237, 0.9418134611512728, 0.20741778287034707, 0.23853045030089914, 0.1641305934017529, 0.0969452680807057, 0.10776706544785425, 0.10370889143517353, 0.08161438847724527, 0.9872255016590775, 0.006328368600378702, 0.06918300540248556, 0.7417955579266508, 0.024982751950897563, 0.009608750750345217, 0.06341775495227843, 0.05573075435200226, 0.03651325285131182, 0.9946864183897743, 0.060677949080884495, 0.8828641591268694, 0.02123728217830957, 0.0364067694485307, 0.04214848559378304, 0.927266683063227, 0.028098990395855363, 0.9903320715795138, 0.9650917838089615, 0.13331165019907149, 0.2471220757886865, 0.14769779950112957, 0.1563294890823644, 0.09750612304728251, 0.1128513489694778, 0.10517873600838015, 0.0269666167934008, 0.9707982045624287, 0.9662143749647613, 0.9828362724210645, 0.11094580410894864, 0.8673944684881438, 0.020171964383445207, 0.13765385210681483, 0.18029662150946943, 0.24638044543755988, 0.1566061940635502, 0.08977425137400967, 0.08877675969207623, 0.10074665987527752, 0.13663407857569132, 0.33325385018461295, 0.12263741686793757, 0.13530106317495286, 0.07864790864356866, 0.0976433781040916, 0.09597710885316853, 0.9586719200490469, 0.9216009416125865, 0.014400014712696665, 0.007200007356348332, 0.021600022069045, 0.021600022069045, 0.014400014712696665, 0.9626959191660657, 0.1879853845214215, 0.18043577068521985, 0.20987926464640633, 0.13702549112706025, 0.10229726748053258, 0.08682055911631917, 0.095125134336141, 0.9424875777299954, 0.11938379149758767, 0.19256642529487053, 0.273880462847407, 0.12197105632880474, 0.09720723580144136, 0.09720723580144136, 0.09757684506304379, 0.0766883890092328, 0.08946978717743827, 0.8180094827651498, 0.08339060426633298, 0.13676059099678609, 0.04669873838914647, 0.14676746350874603, 0.11674684597286618, 0.42362426967297157, 0.04669873838914647, 0.03549566474975357, 0.9228872834935927, 0.017747832374876784, 0.5633976505975609, 0.14352715813702122, 0.021421963901047943, 0.04070173141199109, 0.08140346282398218, 0.08568785560419177, 0.06640808809324862, 0.13656462840806907, 0.176867140825737, 0.23079712147096176, 0.13946408973308116, 0.11133931488046396, 0.1055403922304398, 0.09945152344791443, 0.028592966496444945, 0.06535535199187416, 0.012254128498476406, 0.11845657548527193, 0.04493180449441349, 0.6739770674162023, 0.05718593299288989, 0.9580412586515104, 0.08788283247278751, 0.1929975928814157, 0.13555783309528008, 0.29064518451784627, 0.08156445889631259, 0.12234668834446888, 0.08788283247278751, 0.9776093442703235, 0.09960396454553086, 0.17106869247057543, 0.2143941837751337, 0.2318137112068633, 0.0955840735997471, 0.09379745540162099, 0.09379745540162099, 0.9769108947333289, 0.9302843167084176, 0.011414531493354817, 0.005707265746677409, 0.028536328733387045, 0.011414531493354817, 0.011414531493354817, 0.11135958453983648, 0.04639982689159853, 0.8398368667379335, 0.1104142797528885, 0.1818588137106399, 0.28144816407599027, 0.12210520349142963, 0.11214626845489459, 0.09309439273282756, 0.09915635318984889, 0.05518664470148535, 0.938172959925251, 0.03560206559298107, 0.9612557710104889, 0.9612333741052261, 0.008431871702677422, 0.008431871702677422, 0.008431871702677422, 0.008431871702677422, 0.9421499345633846, 0.012906163487169652, 0.012906163487169652, 0.012906163487169652, 0.9349804065998771, 0.010999769489410319, 0.021999538978820638, 0.021999538978820638, 0.15712468034190302, 0.3476478434617951, 0.14497977751354338, 0.09715922262687723, 0.0736284733969304, 0.09867733548042219, 0.07970092481111023, 0.03589438671721607, 0.8704388778924896, 0.017947193358608036, 0.017947193358608036, 0.04486798339652009, 0.008973596679304018, 0.5821323296077058, 0.1529835815010012, 0.04370959471457177, 0.029801996396298932, 0.06357759231210439, 0.07748519063037723, 0.05165679375358482, 0.009988379817326518, 0.9588844624633457, 0.019976759634653035, 0.02017041057467765, 0.9480092970098496, 0.02017041057467765, 0.956613853357151, 0.025174048772556606, 0.9527358826066541, 0.017428095413536356, 0.017428095413536356, 0.0058093651378454516, 0.0058093651378454516, 0.9598522083362612, 0.9212943079808381, 0.021179179493812372, 0.03176876924071856, 0.010589589746906186, 0.13242903481714333, 0.2715633372199648, 0.1927764430882466, 0.11499533909438014, 0.08515689833811241, 0.10761954475013419, 0.09521479971662962, 0.9653804478787603, 0.9643960141481676, 0.7478666663382538, 0.059970440225237336, 0.021166037726554354, 0.0035276729544257254, 0.10230251567834604, 0.03527672954425726, 0.03174905658983153, 0.9579549113656823, 0.973387388906312, 0.01988976891819658, 0.9348191391552393, 0.01988976891819658, 0.9857235325047248, 0.9975178216135584, 0.9895164545463808, 0.16598138129419146, 0.8299069064709573, 0.9622938758373887, 0.9621703404434698, 0.13162064272308552, 0.16905940331987426, 0.34455359361732163, 0.0906719983203478, 0.09827674656657051, 0.0713676373876286, 0.09476686276062157, 0.19080093072298995, 0.15691350673357862, 0.09650549005680187, 0.3020400833838837, 0.0928220744057789, 0.08471855997352835, 0.07587836241107322, 0.9406293920536644, 0.9684773999531678, 0.1194076854130903, 0.15086454877460334, 0.33126003050083114, 0.08281500762520778, 0.1072101261504628, 0.08666686844498489, 0.12197559262627504, 0.14895409369942933, 0.1859309881540886, 0.2253497529972631, 0.13709358038378391, 0.11023300611011631, 0.10255855631763987, 0.09000036574813294, 0.7176708768823906, 0.08627054094927693, 0.030007144678009367, 0.013753274644087626, 0.061264587050935786, 0.05001190779668228, 0.04000952623734582, 0.9852315555176472, 0.01760259709567325, 0.0058675323652244175, 0.9681428402620289, 0.017608211631971772, 0.9684516397584475, 0.966656014379119, 0.8780043471576872, 0.10209352873926596, 0.11370954116925491, 0.15004970381097557, 0.2055368338660759, 0.2231207835314246, 0.11175576898421617, 0.09729785481492946, 0.09807936368894496, 0.9789946332312222, 0.9549950389617702, 0.044970931669749845, 0.02810683229359365, 0.044970931669749845, 0.07307776396334349, 0.07307776396334349, 0.08432049688078096, 0.6520785092113727, 0.14595006774362249, 0.15867154749940574, 0.18318930848327894, 0.1373919813624592, 0.07563497963892955, 0.0846556652839395, 0.21464605842485207, 0.09948324343684668, 0.147553546665531, 0.42340068406721953, 0.10409926593231637, 0.0744930526855108, 0.06812612510555262, 0.0829292317289554, 0.9627136145601992, 0.9737297726910861, 0.9365590220186775, 0.012323145026561545, 0.02464629005312309, 0.012323145026561545, 0.07906847306842212, 0.03953423653421106, 0.8302189672184322, 0.009883559133552764, 0.009883559133552764, 0.01976711826710553, 0.01976711826710553, 0.9845779523947105, 0.9910998713430759, 0.8498919219797053, 0.028907888502711063, 0.005781577700542212, 0.011563155401084425, 0.03468946620325328, 0.03468946620325328, 0.04047104390379549, 0.9968842602427395, 0.9736312345321513, 0.9519468771035606, 0.03926354390520615, 0.02181307994733675, 0.01308784796840205, 0.0043626159894673494, 0.9117867417986761, 0.0043626159894673494, 0.12556363673301618, 0.1731036263631466, 0.18544224962592853, 0.17201492431054818, 0.13064424631180876, 0.10741860252304275, 0.10596699978624488, 0.9962954442194945, 0.09594340575184405, 0.16572042811682156, 0.3560213982031238, 0.11457704240612782, 0.10070093000400161, 0.08206729334971785, 0.08523897618448956, 0.15586678802243634, 0.13524441299177553, 0.16401982001130225, 0.1788871136380577, 0.14963211650153888, 0.11174449725916205, 0.10455064550428038, 0.07728347354309285, 0.07830036135287038, 0.08541857602131314, 0.45861640220966937, 0.13727985431996756, 0.08033413697242546, 0.08236791259198054, 0.0952372595648236, 0.1422849225632736, 0.3279633207076419, 0.16352488692665154, 0.10208886097236486, 0.08153405674974105, 0.0874721113029435, 0.7569834676250948, 0.03500501584393502, 0.026253761882951265, 0.06125877772688628, 0.11814192847328069, 0.1642915520143511, 0.1258500746628038, 0.05995039920300835, 0.3436851129882387, 0.11669734196005442, 0.10022242309510555, 0.08923914385180631, 0.9866045123239436, 0.031169124485763734, 0.935073734572912, 0.9580885050380289, 0.018424778943039018, 0.9403077171454167, 0.9886872644281505, 0.9679138849793335, 0.018613728557294876, 0.9644709906854447, 0.7235020798809264, 0.06498521675577183, 0.028160260594167794, 0.017329391134872488, 0.08231460789064432, 0.036824956161604035, 0.04548965172904028, 0.1477985678655798, 0.7305472068784373, 0.012668448674192555, 0.05489661092150107, 0.008445632449461702, 0.02533689734838511, 0.02533689734838511, 0.09821981493963956, 0.058038981555241564, 0.08036166676879601, 0.6964677786628988, 0.040180833384398006, 0.026787222256265335, 0.983117254868665, 0.9874644730526316, 0.10431155734267221, 0.8866482374127138, 0.9545620717456526, 0.012811685333464835, 0.9736880853433275, 0.9569839118790354, 0.9670291215690885, 0.07993499900343305, 0.053289999335622035, 0.043298124460192905, 0.7760356153249959, 0.029975624626287396, 0.013322499833905509, 0.9790191335855662, 0.9951308927054261, 0.17336727793711462, 0.09068442230556764, 0.16003133348041348, 0.47475962265856003, 0.024004700022062023, 0.053343777826804495, 0.024004700022062023, 0.9496111052408278, 0.11277649631665015, 0.8612023355089647, 0.010252408756059105, 0.9912311585813559, 0.045686945363938816, 0.9137389072787763, 0.022843472681969408, 0.9493937528664551, 0.012486464804819231, 0.9864307195807194, 0.08594643923127869, 0.8676497674776706, 0.020463437912209212, 0.028648813077092897, 0.004092687582441842, 0.9853106955412524, 0.9815191942582823, 0.009173076581853104, 0.04805354977822559, 0.9130174457862863, 0.016017849926075196, 0.016017849926075196, 0.12333266709994715, 0.0627481990508503, 0.01947357901578113, 0.028128503022794966, 0.0476020820385761, 0.041110889033315716, 0.6772478035488326, 0.9944293727926193, 0.95192083351939, 0.9575836247306089, 0.02588063850623267, 0.984092829597151, 0.9942609090091332, 0.014363800752071809, 0.007181900376035904, 0.9551927500127753, 0.014363800752071809, 0.9890487752172122, 0.15232288870745347, 0.03554200736507248, 0.6651432806892135, 0.02030971849432713, 0.05585172585939961, 0.04061943698865426, 0.03554200736507248, 0.9577551555052075, 0.026249474602812597, 0.9318563483998471, 0.013124737301406298, 0.026249474602812597, 0.033504024199439326, 0.011168008066479777, 0.011168008066479777, 0.9083313227403551, 0.033504024199439326, 0.12482369876489736, 0.12100256512923725, 0.10126004134499328, 0.2891324450982827, 0.15093477860857488, 0.11972885391735054, 0.09298091846772967, 0.9843385770928366, 0.01772222121314772, 0.01772222121314772, 0.9747221667231246, 0.5125607838042987, 0.16259481057236064, 0.032518962114472125, 0.07742610027255267, 0.0751033172643761, 0.07355479525892504, 0.06581218523166978, 0.9756316094884161, 0.9857597414359307, 0.019135650628078305, 0.9663503567179546, 0.009567825314039153, 0.04049256737245007, 0.07288662127041012, 0.008098513474490015, 0.04049256737245007, 0.01619702694898003, 0.8179498609234914, 0.008098513474490015, 0.0633763727389819, 0.9083946759254072, 0.010562728789830316, 0.12233467322532887, 0.003495276377866539, 0.034952763778665394, 0.7462415066745062, 0.026214572833999045, 0.06641025117946425, 0.9903698398470671, 0.995870173476749, 0.049963689207202774, 0.033309126138135185, 0.8493827165224472, 0.033309126138135185, 0.016654563069067593, 0.023991952509520926, 0.13195573880236508, 0.015994635006347284, 0.003998658751586821, 0.7877357740626038, 0.03198927001269457, 0.2585565237756486, 0.12227303587419835, 0.11590464858908386, 0.15984652085637388, 0.1369203266299617, 0.11717832604610676, 0.08979426072011441, 0.0166083364057147, 0.9632835115314525, 0.9903282832584566, 0.09856783273329647, 0.1671367598521114, 0.042855579449259336, 0.021427789724629668, 0.025713347669555603, 0.11999562245792615, 0.5228380692809639, 0.027030593291255515, 0.040545889936883274, 0.9325554685483153, 0.990125856487985, 0.04403562524329877, 0.056617232455669846, 0.006290803606185539, 0.8366768796226767, 0.012581607212371077, 0.037744821637113235, 0.006290803606185539, 0.3474769283190604, 0.1501944666799677, 0.07631502631306467, 0.11934371136192028, 0.07956247424128018, 0.11447253946959701, 0.11284881550548925, 0.3957990706960809, 0.14259735572422313, 0.08500996206636378, 0.11334661608848505, 0.09506490381614875, 0.09049447574806468, 0.07769727715742927, 0.020007851242172917, 0.9603768596243, 0.12066744311123864, 0.16159311437623916, 0.359892758649953, 0.11834691535909943, 0.07678837288897004, 0.07193636031631534, 0.09092249647018157, 0.9682648045888036, 0.036798572392199226, 0.9475632390991301, 0.009199643098049807, 0.9624726297993224, 0.007461028137979242, 0.02984411255191697, 0.8984699865374217, 0.03983364472333397, 0.004425960524814886, 0.004425960524814886, 0.02655576314888931, 0.017703842099259542, 0.008851921049629771, 0.9600853245531303, 0.12734988260149413, 0.17204884801791262, 0.28506132661791406, 0.13100451499403148, 0.10036182801044902, 0.09558269334328479, 0.08855455412686679, 0.9638766737103349, 0.9599563935741365, 0.6502745642886223, 0.11068503221933995, 0.011068503221933996, 0.016602754832900992, 0.11068503221933995, 0.07747952255353797, 0.02213700644386799, 0.9418773104848245, 0.9831767273153993, 0.9822412031744359, 0.8814449244631901, 0.030658953894371833, 0.003832369236796479, 0.003832369236796479, 0.026826584657575352, 0.03832369236796479, 0.015329476947185916, 0.10509824307154136, 0.01313728038394267, 0.8758186922628447, 0.9714817031819769, 0.03549073359580271, 0.9227590734908705, 0.011830244531934236, 0.011830244531934236, 0.023660489063868473, 0.011830244531934236, 0.009304175224276139, 0.04652087612138069, 0.009304175224276139, 0.9211133472033377, 0.07203324466137169, 0.8211789891396372, 0.014406648932274337, 0.08643989359364602, 0.0072033244661371685, 0.9894180536533956, 0.07369564845121816, 0.9119836495838248, 0.9801994266105081, 0.9647899856820693, 0.9579321474340599, 0.1071639606112203, 0.6771850276921794, 0.07068261231803892, 0.013680505609943017, 0.06384235951306741, 0.04332160109815289, 0.0250809269515622, 0.058506442982036715, 0.04725520394702965, 0.03150346929801977, 0.06075669078903813, 0.029253221491018357, 0.7448320241174674, 0.027002973684016943, 0.9551433284683916, 0.9831925308667877, 0.9763110167956012, 0.041690203945710984, 0.06670432631313758, 0.004169020394571099, 0.800451915757651, 0.03335216315656879, 0.041690203945710984, 0.008338040789142197, 0.07766031627025086, 0.031064126508100344, 0.8231993524646591, 0.031064126508100344, 0.007766031627025086, 0.015532063254050172, 0.015532063254050172, 0.9832028785889174, 0.9467770261337601, 0.03499120819785128, 0.9447626213419846, 0.16309444680668986, 0.3972355156469789, 0.08043013815124432, 0.1170705344201445, 0.07372762663864062, 0.0880263178655285, 0.07998330405040407, 0.06189261795532986, 0.03414765128569923, 0.038416107696411635, 0.07469798718746706, 0.059758389749973655, 0.07469798718746706, 0.6573422872497102, 0.11061004833945272, 0.08216746448073631, 0.6446985674642387, 0.01264114838165174, 0.044244019335781086, 0.08216746448073631, 0.018961722572477607, 0.13746004681987853, 0.8247602809192712, 0.03436501170496963, 0.011455003901656545, 0.0506437425570642, 0.941973611561394, 0.9394106549990714, 0.037576426199962855, 0.012525475399987619, 0.030503381111995125, 0.9659404018798456, 0.09020498433565823, 0.0064432131668327305, 0.025772852667330922, 0.03221606583416365, 0.04510249216782911, 0.7989584326872586, 0.9803220801703199, 0.04371138291142484, 0.1311341487342745, 0.8086605838613595, 0.01092784572785621, 0.04676569703060804, 0.015588565676869347, 0.015588565676869347, 0.9041368092584221, 0.21925311866290773, 0.3269270420775163, 0.06527382922025497, 0.10823181939085012, 0.08033702057877534, 0.1099055073195746, 0.08926335619863927, 0.08824330972418022, 0.8824330972418022, 0.9653480153066314, 0.1572660672432917, 0.026580180379147892, 0.004430030063191316, 0.002215015031595658, 0.015505105221169605, 0.01993513528436092, 0.7708252309952889, 0.9709086386806233, 0.13203737232625148, 0.0911686618443165, 0.11003114360520957, 0.5124307545042618, 0.028293722641339607, 0.0628749392029769, 0.06601868616312574, 0.9704803226357603, 0.9608741112829985, 0.04547835402568363, 0.015159451341894543, 0.9247265318555671, 0.05616949188015053, 0.007021186485018816, 0.014042372970037633, 0.9197754295374649, 0.007021186485018816, 0.059367560930039365, 0.9023869261365983, 0.011873512186007873, 0.011873512186007873, 0.9870053205686615, 0.9659773498454233, 0.02099950760533529, 0.9832989041195099, 0.1272157235792473, 0.38427017534762326, 0.06885387100938642, 0.14819976045829839, 0.07606713368656023, 0.10754318900513687, 0.08721490327855613, 0.19357603978863822, 0.3928454925122364, 0.05313852072629285, 0.06072973797290611, 0.06642315090786606, 0.11671496516667892, 0.11576606301085227, 0.194818952706001, 0.21072254068200108, 0.15983105915880083, 0.12484316561160065, 0.11013234673380057, 0.10337332184400054, 0.0962167072548005, 0.9484128493212198, 0.11456917246287149, 0.16784472855369353, 0.25889425752496464, 0.19670974556611218, 0.07804245340394668, 0.09300949926223782, 0.09104952897127112, 0.05767872205555432, 0.9393391877618846, 0.9683823003195785, 0.9809636571911377, 0.9944967678204449, 0.14402988458152285, 0.0849407011634622, 0.03693073963628791, 0.007386147927257582, 0.67213946138044, 0.018465369818143954, 0.03323766567265912, 0.4087717217195312, 0.14326475580265474, 0.07552544191770386, 0.11134163086836754, 0.0918763107864851, 0.10121966442578868, 0.06851792668822618, 0.032863417987126886, 0.9420846489643041, 0.01095447266237563, 0.9494421536002409, 0.02434467060513438, 0.8551232977366063, 0.012129408478533422, 0.054582338153400405, 0.07277645087120053, 0.827761940313998, 0.05120176950395864, 0.017067256501319548, 0.010667035313324717, 0.03840132712796898, 0.034134513002639096, 0.01920066356398449, 0.7153935276671253, 0.15346725841043943, 0.016527243213431936, 0.009444138979103964, 0.03541552117163987, 0.040137590661191845, 0.030693451682087883, 0.0569874658718157, 0.940293186884959, 0.9526219260488848, 0.03969258025203687, 0.720232135297114, 0.053219123297816306, 0.014191766212751014, 0.017739707765938768, 0.10289030504244485, 0.06386294795737957, 0.02838353242550203, 0.10945909069089492, 0.008419930053145763, 0.008419930053145763, 0.7493737747299729, 0.042099650265728816, 0.05051958031887458, 0.03367972021258305, 0.985236720660196, 0.9819224679386002, 0.06040464447226075, 0.9211708282019765, 0.9631028067608658, 0.014592466769104027, 0.44729189965650007, 0.16593086600160487, 0.07502960897463873, 0.06204371511364356, 0.07647248607030485, 0.07214385478330647, 0.10244427379229518, 0.2275771434665252, 0.15882988137767903, 0.035558928666644556, 0.1137885717332626, 0.05452369062218832, 0.35084809617755963, 0.0568942858666313, 0.9669608759139676, 0.9673636409995462, 0.9531358391044167, 0.9788211638685369, 0.9625786375333217, 0.949719132801136, 0.10453782094436684, 0.141418560693596, 0.24163243283977737, 0.25562167895155397, 0.09258337426703049, 0.09283772419633551, 0.07147233013471309, 0.8934598068738182, 0.07293549443867904, 0.03646774721933952, 0.07696963192337217, 0.8530800871507082, 0.0064141359936143475, 0.057727223942529125, 0.13542766182028687, 0.6169482371813068, 0.037618794950079686, 0.05015839326677291, 0.08526926855351395, 0.05266631293011156, 0.02257127697004781, 0.03554075073843265, 0.023693833825621766, 0.9240595191992489, 0.011846916912810883, 0.011846916912810883, 0.11814435493973034, 0.14799901473960056, 0.324396364410785, 0.13871494370427506, 0.08792561392278853, 0.08355663931792946, 0.09939417226054355, 0.9481030502791368, 0.011422928316616105, 0.011422928316616105, 0.011422928316616105, 0.011422928316616105, 0.9455472549413558, 0.16807525442914023, 0.08637200574830817, 0.05602508480971341, 0.1073814125519507, 0.42018813607285055, 0.08403762721457012, 0.07470011307961788, 0.9239444714497493, 0.020762797111230323, 0.010381398555615162, 0.020762797111230323, 0.020762797111230323, 0.05370587702957704, 0.926426378760204, 0.2523068799316797, 0.03777049100773649, 0.03172721244649865, 0.015108196403094595, 0.05136786777052162, 0.03474885172711757, 0.578643922238523, 0.5122302312026882, 0.1191233095820205, 0.04020411698393192, 0.03722603424438141, 0.1399698887588741, 0.08636439944696486, 0.06402877890033602, 0.1251147422101609, 0.23938620676210787, 0.10843277658213946, 0.09258490923551907, 0.07423474704469547, 0.14846949408939095, 0.21186096347587247, 0.13589478745542347, 0.372895296777682, 0.12013099211059435, 0.0967570886682615, 0.09893140526754829, 0.08751624312129272, 0.0880598222711144, 0.9789918284380047, 0.9661518587263829, 0.10578132392677222, 0.037535308490144983, 0.023886105402819536, 0.061421413892964516, 0.0272984061746509, 0.037535308490144983, 0.7063462597690919, 0.9744588541564209, 0.046440246245685886, 0.8514045145042413, 0.07740041040947648, 0.9933912140664096, 0.9578568257270711, 0.035401876815992286, 0.05506958615821022, 0.11407271418486402, 0.11800625605330761, 0.059003128026653806, 0.5585629453189893, 0.06293666989509739, 0.09501699328728026, 0.17144370527922306, 0.30880522818366085, 0.13839431630973428, 0.09914816690846635, 0.09450059658463199, 0.09269320812536308, 0.03403397493819082, 0.04537863325092109, 0.022689316625460546, 0.7487474486401979, 0.10210192481457245, 0.04537863325092109, 0.14850802085987325, 0.400062423540883, 0.101025864530526, 0.08183095026972607, 0.10506689911174705, 0.07677965704319976, 0.08688224349625237, 0.1693112617483932, 0.4035251738336705, 0.08409126000170196, 0.062080795974410845, 0.0756256969142823, 0.11230980362643415, 0.09255682308912162, 0.9744840871709031, 0.00910027871392435, 0.9646295436759812, 0.004550139356962175, 0.0182005574278487, 0.004550139356962175, 0.28370329940123806, 0.12262075490899148, 0.1195742765261594, 0.2083029594261439, 0.09596406905921072, 0.07425791058153211, 0.09482163966564869, 0.9114559074295677, 0.061357348908252736, 0.920360233623791, 0.9880442149026745, 0.9873735919541407, 0.9701288039613758, 0.9891136585096062, 0.05007551968810062, 0.006259439961012577, 0.01877831988303773, 0.9201376742688488, 0.9921681033697969, 0.9835024767841244, 0.1728049426980085, 0.11659128663962019, 0.02081987261421789, 0.06662359236549725, 0.5080048917869165, 0.04788570701270115, 0.06662359236549725, 0.9415401070134138, 0.19447466557743548, 0.38962459041034814, 0.0729279995915383, 0.06009807373747138, 0.07022696256962947, 0.10871674013183025, 0.1039899253434898, 0.7665173692038073, 0.04848058574451431, 0.01834400541684325, 0.035377724732483413, 0.028826294226467968, 0.04717029964331122, 0.05503201625052976, 0.05810589484368649, 0.9296943174989838, 0.970776779668244, 0.9708625695991102, 0.985143179150198, 0.9494387147013482, 0.011169867231780567, 0.011169867231780567, 0.011169867231780567, 0.597568021394531, 0.077755838928445, 0.04607753417981926, 0.08207560775780305, 0.0719961471559676, 0.06911630126972888, 0.05759691772477407, 0.9375888367121465, 0.020382366015481445, 0.010191183007740722, 0.010191183007740722, 0.010191183007740722, 0.4306027289613401, 0.15543345484096732, 0.04015984000675711, 0.1450216444688451, 0.06693306667792852, 0.08031968001351422, 0.08180708149524596, 0.9974891211644286, 0.9541745295050608, 0.0663703748473346, 0.8438519087732542, 0.0094814821210478, 0.0379259284841912, 0.0284444463631434, 0.0094814821210478, 0.05785518640347805, 0.008265026629068294, 0.008265026629068294, 0.016530053258136588, 0.008265026629068294, 0.02479507988720488, 0.8843578493103074, 0.2556579297347935, 0.15775828486917237, 0.243909972350919, 0.08671111402383588, 0.07664143626622913, 0.06601233196653312, 0.11356358804412053, 0.986317444399078, 0.6995667325781031, 0.07399263517653012, 0.01793760852764367, 0.01569540746168821, 0.1345320639573275, 0.02914861385742096, 0.02914861385742096, 0.17107380009707804, 0.44982346260819933, 0.05333477297144198, 0.0986190141736097, 0.06893267827441087, 0.09056848240433543, 0.06742320356767194, 0.1297255666654647, 0.161658013844656, 0.27275631965559244, 0.13903919709272883, 0.10732850301894857, 0.09247104495640816, 0.09690610706462918, 0.03650994920514573, 0.018254974602572863, 0.9310037047312161, 0.9644095470205125, 0.975134607939314, 0.01354353622137936, 0.9746881380057499, 0.9838703622671066, 0.9585930705301157, 0.039394235775210236, 0.9690384001816585, 0.40241804257469604, 0.23973840834237212, 0.0675453452075731, 0.049469830292870436, 0.057080573414850504, 0.10655040370772094, 0.07801011700029568, 0.08681265181856085, 0.08247201922763281, 0.14324087550062542, 0.05642822368206456, 0.5165352783204371, 0.08247201922763281, 0.034725060727424345, 0.11849220468667955, 0.20904301612846524, 0.3420233506458305, 0.08537647935939793, 0.0755452484028612, 0.07140578273695099, 0.09831230956536731, 0.10901054385047428, 0.17176200082713106, 0.25422385134132747, 0.17256650668580614, 0.10740153213312409, 0.09131141495962236, 0.09332267960631008, 0.9232544690487504, 0.18405142421279358, 0.4197151525699155, 0.039926499432404956, 0.07498391356817516, 0.06719337709355956, 0.11880568123788791, 0.09446025475471416, 0.9757025010731245, 0.08789130376755874, 0.035156521507023496, 0.035156521507023496, 0.7031304301404699, 0.09375072401872933, 0.035156521507023496, 0.017578260753511748, 0.9800034431899417, 0.9285887832442995, 0.05462286960260585, 0.02918969339244965, 0.9340701885583887, 0.9737246088920997, 0.9399789968608081, 0.03615303834080031, 0.09525833499117128, 0.13073110408830202, 0.23993940445474943, 0.18573382471081934, 0.14149250594922932, 0.11120115256291543, 0.09565690543046489, 0.9595996211731296, 0.02180908229938931, 0.9799200481633432, 0.9603305781951842, 0.956747654443716, 0.4397699220252077, 0.11477199515386559, 0.07727223436101842, 0.0897721546253008, 0.1056811440525693, 0.08749944184997673, 0.08636308546231469, 0.05881650658766823, 0.03245048639319627, 0.0547601957885187, 0.034478641792771034, 0.7605582748405375, 0.04461941879064487, 0.014197087797023366, 0.9719745057620393, 0.12213085653415198, 0.15597434689903747, 0.11624503212286755, 0.12213085653415198, 0.11330211991722534, 0.08387299786080317, 0.28693394005011613, 0.16381146101143806, 0.14589458246331205, 0.1911133711800111, 0.16807738447527762, 0.12115222637304275, 0.11219378709897973, 0.09768964732192531, 0.04509017212396855, 0.05328838523741738, 0.6927490080864259, 0.036891959010519726, 0.15986515571225213, 0.01229731967017324, 0.021740940878181993, 0.005435235219545498, 0.005435235219545498, 0.9348604577618257, 0.02717617609772749, 0.00989932958647112, 0.980033629060641, 0.869888802055876, 0.019845371910019984, 0.0066151239700066615, 0.019845371910019984, 0.023152933895023316, 0.03307561985003331, 0.02976805786502998, 0.9762140335456597, 0.9394100544067164, 0.9825778621596233, 0.7938612285300223, 0.027025063098894374, 0.0067562657747235935, 0.027025063098894374, 0.06756265774723594, 0.04729386042306515, 0.03040319598625617, 0.1801709313164672, 0.45119728953611016, 0.04542771345158788, 0.08546569818858059, 0.07391627951444808, 0.08700562067846493, 0.07545620200433241, 0.11750588072817628, 0.24184349870799068, 0.10384240622489996, 0.09769384269842563, 0.06968371996670919, 0.14005061365858218, 0.22954637165504202, 0.9795950662804498, 0.9435103808634507, 0.9571255701467932, 0.015137459524165375, 0.03027491904833075, 0.04541237857249612, 0.9082475714499225, 0.9766552987082849, 0.9557351437015976, 0.13209968997307514, 0.07284001596646199, 0.024691530836088812, 0.02592610737789325, 0.029629837003306573, 0.017284071585262167, 0.6963011695777045, 0.9590975627577465, 0.9661713209850028, 0.02238829739237684, 0.9626967878722041, 0.9457794073206159, 0.21257534382135201, 0.3294136302231613, 0.10433385441231799, 0.09104789542348349, 0.07932499043333541, 0.10238003691395997, 0.08088804443202181, 0.16252172859760142, 0.1214242799867137, 0.09994152275829513, 0.27273761350861847, 0.12329234583266314, 0.1260944446015873, 0.0943373252204468, 0.9256749789461426, 0.02115828523305469, 0.015868713924791014, 0.015868713924791014, 0.015868713924791014, 0.9392306347028962, 0.027028219703680467, 0.013514109851840234, 0.006757054925920117, 0.006757054925920117, 0.1228980268940559, 0.1305791535749344, 0.1382602802558129, 0.2215709619484181, 0.1589402367043319, 0.12526145048817236, 0.10339978224259512, 0.7274550917020735, 0.06517661226232449, 0.03994695590271501, 0.025229656359609484, 0.0630741408990237, 0.04204942726601581, 0.037844484539414226, 0.10547685604422108, 0.14095985369965028, 0.31302808890543027, 0.13269668986208458, 0.1258917314076187, 0.09769976066768865, 0.08457591221979018, 0.4770828783706694, 0.1306738633263332, 0.07273356543635529, 0.08506128839166974, 0.08875960527826407, 0.07643188232294962, 0.06903524854976095], \"Term\": [\"acc\", \"accomod\", \"accomod\", \"accomod\", \"accomod\", \"accomod\", \"accomod\", \"accomod\", \"adam\", \"adam\", \"alan\", \"albert\", \"alex\", \"alexand\", \"alexand\", \"alexand\", \"allan\", \"amag\", \"amag\", \"amag\", \"amag\", \"amal\", \"amali\", \"amanda\", \"amaz\", \"amaz\", \"amaz\", \"amaz\", \"amaz\", \"amaz\", \"amaz\", \"ander\", \"ander\", \"ander\", \"ander\", \"ander\", \"ander\", \"ander\", \"andi\", \"andrea\", \"andrea\", \"andrea\", \"andrea\", \"andrea\", \"andrea\", \"andrea\", \"anett\", \"anett\", \"anett\", \"ann\", \"ann\", \"ann\", \"ann\", \"ann\", \"ann\", \"ann\", \"anna\", \"anna\", \"anna\", \"anna\", \"anna\", \"anna\", \"anna\", \"anni\", \"anthoni\", \"apart\", \"apart\", \"apart\", \"apart\", \"apart\", \"apart\", \"apart\", \"aparta\", \"aparta\", \"aparta\", \"aparta\", \"aparta\", \"appart\", \"appart\", \"appart\", \"appart\", \"appart\", \"appart\", \"appart\", \"apparta\", \"appt\", \"arn\", \"attach\", \"autom\", \"autom\", \"autom\", \"autom\", \"autom\", \"awar\", \"awar\", \"awar\", \"awar\", \"awar\", \"awar\", \"awar\", \"awesom\", \"awesom\", \"awesom\", \"awesom\", \"awesom\", \"awesom\", \"awesom\", \"bar\", \"bar\", \"bar\", \"bar\", \"bar\", \"bar\", \"bar\", \"barbara\", \"bathroom\", \"bathroom\", \"bathroom\", \"bathroom\", \"bathroom\", \"bathroom\", \"bathroom\", \"beata\", \"beauti\", \"beauti\", \"beauti\", \"beauti\", \"beauti\", \"beauti\", \"beauti\", \"beauty\", \"bed\", \"bed\", \"bed\", \"bed\", \"bed\", \"bed\", \"bed\", \"bedroom\", \"bedroom\", \"bedroom\", \"bedroom\", \"bedroom\", \"bedroom\", \"bedroom\", \"benjamin\", \"benni\", \"bent\", \"bent\", \"bent\", \"bent\", \"bent\", \"bent\", \"bent\", \"berit\", \"berit\", \"betinna\", \"betinna\", \"bettina\", \"biba\", \"biba\", \"birth\", \"bjark\", \"brian\", \"britt\", \"buck\", \"build\", \"build\", \"build\", \"build\", \"build\", \"build\", \"build\", \"butler\", \"byron\", \"byron\", \"cabin\", \"cafe\", \"cafe\", \"cafe\", \"cafe\", \"cafe\", \"cafe\", \"cafe\", \"camila\", \"camilla\", \"camilla\", \"camilla\", \"camilla\", \"camilla\", \"camilla\", \"camilla\", \"carina\", \"carolin\", \"carolina\", \"carolina\", \"catrin\", \"cecili\", \"cecili\", \"cecili\", \"center\", \"center\", \"center\", \"center\", \"center\", \"center\", \"center\", \"centr\", \"centr\", \"centr\", \"centr\", \"centr\", \"centr\", \"centr\", \"central\", \"central\", \"central\", \"central\", \"central\", \"central\", \"central\", \"centrum\", \"centrum\", \"charlott\", \"charlott\", \"check\", \"check\", \"check\", \"check\", \"check\", \"check\", \"check\", \"chris\", \"chris\", \"christian\", \"christian\", \"christian\", \"christian\", \"christian\", \"christian\", \"christian\", \"christin\", \"christina\", \"christina\", \"christina\", \"christina\", \"christoff\", \"christoff\", \"christoff\", \"christoph\", \"chromecast\", \"citi\", \"citi\", \"citi\", \"citi\", \"citi\", \"citi\", \"citi\", \"citytrip\", \"citytrip\", \"clara\", \"claudia\", \"claus\", \"claus\", \"claus\", \"clean\", \"clean\", \"clean\", \"clean\", \"clean\", \"clean\", \"clean\", \"close\", \"close\", \"close\", \"close\", \"close\", \"close\", \"close\", \"closet\", \"cloth\", \"cloth\", \"cloth\", \"cloth\", \"cloth\", \"cloth\", \"coco\", \"comfort\", \"comfort\", \"comfort\", \"comfort\", \"comfort\", \"comfort\", \"comfort\", \"comm\", \"communic\", \"communic\", \"communic\", \"communic\", \"communic\", \"communic\", \"communic\", \"comun\", \"comun\", \"comun\", \"confort\", \"confort\", \"confort\", \"confort\", \"confort\", \"confort\", \"confort\", \"convini\", \"convini\", \"convini\", \"cook\", \"cook\", \"cook\", \"cook\", \"cook\", \"cook\", \"cook\", \"copenhagen\", \"copenhagen\", \"copenhagen\", \"copenhagen\", \"copenhagen\", \"copenhagen\", \"copenhagen\", \"copenhagu\", \"copenhagu\", \"copenhagu\", \"copenhagu\", \"copenhagu\", \"copenhagu\", \"copenhagu\", \"corona\", \"cosi\", \"cosi\", \"cosi\", \"cosi\", \"cosi\", \"cosi\", \"cosi\", \"covid\", \"cozi\", \"cozi\", \"cozi\", \"cozi\", \"cozi\", \"cozi\", \"cozi\", \"cruis\", \"curtain\", \"curtain\", \"curtain\", \"curtain\", \"curtain\", \"curtain\", \"daniel\", \"daniel\", \"daniel\", \"definit\", \"definit\", \"definit\", \"definit\", \"definit\", \"definit\", \"definit\", \"denni\", \"denni\", \"diana\", \"diana\", \"dirti\", \"dirti\", \"dirti\", \"dirti\", \"dirti\", \"dish\", \"dish\", \"dish\", \"dish\", \"dishwash\", \"dishwash\", \"dishwash\", \"dishwash\", \"distanc\", \"distanc\", \"distanc\", \"distanc\", \"distanc\", \"distanc\", \"distanc\", \"ditt\", \"ditt\", \"ditt\", \"ditt\", \"ditt\", \"ditt\", \"door\", \"door\", \"door\", \"door\", \"door\", \"door\", \"door\", \"dort\", \"dort\", \"dort\", \"dorth\", \"dorth\", \"dorth\", \"drain\", \"drain\", \"dryer\", \"dryer\", \"dryer\", \"dryer\", \"dryer\", \"dust\", \"earplug\", \"earplug\", \"earplug\", \"earplug\", \"easi\", \"easi\", \"easi\", \"easi\", \"easi\", \"easi\", \"easi\", \"ebba\", \"elena\", \"elev\", \"elev\", \"elev\", \"elev\", \"elev\", \"elev\", \"elev\", \"elin\", \"elis\", \"elisabeth\", \"elisabeth\", \"elisabeth\", \"elli\", \"emil\", \"emili\", \"emma\", \"emma\", \"employe\", \"esben\", \"excel\", \"excel\", \"excel\", \"excel\", \"excel\", \"excel\", \"excel\", \"famili\", \"famili\", \"famili\", \"famili\", \"famili\", \"famili\", \"famili\", \"fan\", \"fanni\", \"fantast\", \"fantast\", \"fantast\", \"fantast\", \"fantast\", \"fantast\", \"fantast\", \"flat\", \"flat\", \"flat\", \"flat\", \"flat\", \"flat\", \"flat\", \"floor\", \"floor\", \"floor\", \"floor\", \"floor\", \"floor\", \"floor\", \"frank\", \"frederik\", \"frederik\", \"frederik\", \"frederikk\", \"frederikk\", \"freja\", \"frida\", \"frida\", \"friend\", \"friend\", \"friend\", \"friend\", \"friend\", \"friend\", \"friend\", \"georg\", \"giant\", \"gitt\", \"gitt\", \"gitt\", \"gitt\", \"gitt\", \"gitt\", \"gitt\", \"good\", \"good\", \"good\", \"good\", \"good\", \"good\", \"good\", \"great\", \"great\", \"great\", \"great\", \"great\", \"great\", \"great\", \"guillaum\", \"gustav\", \"hair\", \"hair\", \"hair\", \"hair\", \"hann\", \"hann\", \"hann\", \"hann\", \"hann\", \"hann\", \"hann\", \"hanna\", \"hannah\", \"hear\", \"hear\", \"hear\", \"hear\", \"hear\", \"hear\", \"hear\", \"heidi\", \"helena\", \"helg\", \"hell\", \"hell\", \"hell\", \"hell\", \"hell\", \"hell\", \"help\", \"help\", \"help\", \"help\", \"help\", \"help\", \"help\", \"henriett\", \"high\", \"high\", \"high\", \"high\", \"high\", \"high\", \"high\", \"home\", \"home\", \"home\", \"home\", \"home\", \"home\", \"home\", \"hospit\", \"hospit\", \"hospit\", \"hospit\", \"hospit\", \"hospit\", \"hospit\", \"host\", \"host\", \"host\", \"host\", \"host\", \"host\", \"host\", \"hostel\", \"hostel\", \"hostel\", \"hostel\", \"hostel\", \"hous\", \"hous\", \"hous\", \"hous\", \"hous\", \"hous\", \"hous\", \"imposs\", \"inexpens\", \"inexpens\", \"ingeborg\", \"ingeborg\", \"intim\", \"irina\", \"iron\", \"iron\", \"isabella\", \"issu\", \"issu\", \"issu\", \"issu\", \"issu\", \"issu\", \"issu\", \"jacob\", \"jacob\", \"jacob\", \"jacob\", \"jacob\", \"jacob\", \"jacob\", \"jakob\", \"jakob\", \"jakob\", \"jakob\", \"jakob\", \"jakob\", \"jane\", \"janet\", \"jann\", \"jann\", \"janni\", \"jannick\", \"jannick\", \"jasper\", \"jean\", \"jen\", \"jen\", \"jen\", \"jen\", \"jen\", \"jen\", \"jenni\", \"jepp\", \"jesper\", \"jesper\", \"jesper\", \"jesper\", \"jesper\", \"jesper\", \"jesper\", \"jess\", \"jett\", \"jett\", \"jett\", \"joachim\", \"joakim\", \"joakim\", \"joakim\", \"joan\", \"johan\", \"johan\", \"jona\", \"jona\", \"jona\", \"jona\", \"jona\", \"jonathan\", \"josefin\", \"josefin\", \"josephin\", \"josephin\", \"josephin\", \"josephin\", \"juli\", \"juli\", \"juli\", \"juli\", \"juli\", \"juli\", \"juli\", \"julia\", \"justin\", \"j\\u00f8rgen\", \"j\\u00f8rgen\", \"kamilla\", \"karen\", \"karin\", \"karin\", \"karin\", \"karin\", \"karolin\", \"kasper\", \"kasper\", \"kasper\", \"kasper\", \"kasper\", \"kasper\", \"kasper\", \"kate\", \"katja\", \"katja\", \"katja\", \"katja\", \"katrin\", \"katrin\", \"katrin\", \"katrin\", \"katrin\", \"kind\", \"kind\", \"kind\", \"kind\", \"kind\", \"kind\", \"kind\", \"kirsten\", \"kirstin\", \"kirstin\", \"kirstin\", \"kitchen\", \"kitchen\", \"kitchen\", \"kitchen\", \"kitchen\", \"kitchen\", \"kitchen\", \"kitchenett\", \"klaus\", \"kristin\", \"kristin\", \"kristin\", \"kristina\", \"kristina\", \"kristina\", \"kristina\", \"kristina\", \"kristina\", \"kristina\", \"kristoff\", \"kristoff\", \"kristoff\", \"lar\", \"lar\", \"lar\", \"lar\", \"lar\", \"lar\", \"lass\", \"laura\", \"lena\", \"lena\", \"lena\", \"lena\", \"lena\", \"lene\", \"lene\", \"lene\", \"lene\", \"lene\", \"lene\", \"like\", \"like\", \"like\", \"like\", \"like\", \"like\", \"like\", \"lina\", \"lina\", \"linda\", \"link\", \"link\", \"link\", \"link\", \"link\", \"link\", \"link\", \"lisa\", \"lisa\", \"lisa\", \"lisbeth\", \"lise\", \"lise\", \"lise\", \"lise\", \"lise\", \"lise\", \"lise\", \"littl\", \"littl\", \"littl\", \"littl\", \"littl\", \"littl\", \"littl\", \"live\", \"live\", \"live\", \"live\", \"live\", \"live\", \"live\", \"localis\", \"localis\", \"locat\", \"locat\", \"locat\", \"locat\", \"locat\", \"locat\", \"locat\", \"locker\", \"lone\", \"lone\", \"lone\", \"lott\", \"lott\", \"lott\", \"loud\", \"loud\", \"loud\", \"loud\", \"loud\", \"loud\", \"loud\", \"louisa\", \"love\", \"love\", \"love\", \"love\", \"love\", \"love\", \"love\", \"lovley\", \"luci\", \"luggag\", \"luggag\", \"luggag\", \"luggag\", \"luggag\", \"luggag\", \"luggag\", \"luis\", \"luka\", \"luna\", \"machin\", \"machin\", \"machin\", \"machin\", \"machin\", \"machin\", \"machin\", \"mad\", \"mad\", \"mad\", \"maggi\", \"magnus\", \"magnus\", \"magnus\", \"magnus\", \"magnus\", \"magnus\", \"maja\", \"maja\", \"maja\", \"maja\", \"malen\", \"malen\", \"malen\", \"malen\", \"malen\", \"manuel\", \"marc\", \"marc\", \"marco\", \"marcus\", \"margit\", \"mari\", \"mari\", \"mari\", \"mari\", \"mari\", \"mari\", \"mari\", \"maria\", \"maria\", \"maria\", \"maria\", \"maria\", \"maria\", \"maria\", \"marina\", \"marlen\", \"marta\", \"martin\", \"martin\", \"martin\", \"martin\", \"martin\", \"martin\", \"martin\", \"mathia\", \"mathia\", \"mathia\", \"mathia\", \"mathia\", \"mathia\", \"mathia\", \"mathild\", \"maya\", \"meret\", \"meret\", \"metro\", \"metro\", \"metro\", \"metro\", \"metro\", \"metro\", \"metro\", \"mett\", \"mett\", \"mett\", \"mett\", \"mett\", \"mett\", \"mett\", \"michael\", \"michael\", \"michael\", \"michael\", \"michael\", \"michael\", \"michael\", \"michel\", \"michel\", \"michel\", \"michel\", \"michell\", \"michell\", \"microwav\", \"microwav\", \"microwav\", \"miguel\", \"miguel\", \"mikael\", \"mikael\", \"mikael\", \"mikael\", \"mikael\", \"mikael\", \"mila\", \"mill\", \"mill\", \"mill\", \"mill\", \"minna\", \"minna\", \"minna\", \"minna\", \"minut\", \"minut\", \"minut\", \"minut\", \"minut\", \"minut\", \"minut\", \"mira\", \"mira\", \"miriam\", \"money\", \"money\", \"money\", \"money\", \"money\", \"money\", \"money\", \"monica\", \"morten\", \"morten\", \"morten\", \"morten\", \"morten\", \"morten\", \"morten\", \"nadia\", \"nadja\", \"nana\", \"nana\", \"nana\", \"nanna\", \"nanna\", \"nanna\", \"nanna\", \"nanna\", \"naomi\", \"naomi\", \"naomi\", \"naomi\", \"natali\", \"natasha\", \"natasha\", \"nathali\", \"near\", \"near\", \"near\", \"near\", \"near\", \"near\", \"near\", \"nearbi\", \"nearbi\", \"nearbi\", \"nearbi\", \"nearbi\", \"nearbi\", \"nearbi\", \"need\", \"need\", \"need\", \"need\", \"need\", \"need\", \"need\", \"nelli\", \"nice\", \"nice\", \"nice\", \"nice\", \"nice\", \"nice\", \"nice\", \"nick\", \"nick\", \"nicol\", \"nicola\", \"nicolai\", \"niel\", \"niel\", \"niel\", \"niel\", \"niel\", \"niel\", \"niel\", \"night\", \"night\", \"night\", \"night\", \"night\", \"night\", \"night\", \"nikolaj\", \"nikolaj\", \"nikolaj\", \"nikolin\", \"nikolin\", \"nina\", \"nina\", \"nina\", \"nina\", \"nois\", \"nois\", \"nois\", \"nois\", \"nois\", \"nois\", \"nois\", \"noisi\", \"noisi\", \"noisi\", \"noisi\", \"noisi\", \"noisi\", \"noisi\", \"nord\", \"nord\", \"nordhavn\", \"nordhavn\", \"note\", \"note\", \"note\", \"note\", \"note\", \"note\", \"note\", \"oliv\", \"oliv\", \"oliv\", \"oliv\", \"oliv\", \"oliv\", \"oliv\", \"olivia\", \"oscar\", \"oskar\", \"oskar\", \"oven\", \"oven\", \"overal\", \"overal\", \"overal\", \"overal\", \"overal\", \"overal\", \"overal\", \"owner\", \"owner\", \"owner\", \"owner\", \"owner\", \"owner\", \"owner\", \"pandem\", \"patricia\", \"paul\", \"paulin\", \"peder\", \"pedro\", \"perfect\", \"perfect\", \"perfect\", \"perfect\", \"perfect\", \"perfect\", \"perfect\", \"perfekt\", \"perfekt\", \"perfekt\", \"pernill\", \"pernill\", \"pernill\", \"pernill\", \"peter\", \"peter\", \"peter\", \"peter\", \"peter\", \"peter\", \"peter\", \"philip\", \"philip\", \"philip\", \"philip\", \"philip\", \"place\", \"place\", \"place\", \"place\", \"place\", \"place\", \"place\", \"plug\", \"plug\", \"plug\", \"plug\", \"plug\", \"pod\", \"posit\", \"posit\", \"posit\", \"posit\", \"posit\", \"posit\", \"posit\", \"post\", \"post\", \"post\", \"post\", \"post\", \"poul\", \"poul\", \"price\", \"price\", \"price\", \"price\", \"price\", \"price\", \"price\", \"problem\", \"problem\", \"problem\", \"problem\", \"problem\", \"problem\", \"problem\", \"public\", \"public\", \"public\", \"public\", \"public\", \"public\", \"public\", \"quick\", \"quick\", \"quick\", \"quick\", \"quick\", \"quick\", \"quick\", \"rachel\", \"ralph\", \"rasmus\", \"rasmus\", \"rasmus\", \"rasmus\", \"rasmus\", \"rasmus\", \"rasmus\", \"ratio\", \"reali\", \"reali\", \"reali\", \"rebecca\", \"rebekka\", \"recommand\", \"recommand\", \"recommand\", \"recommand\", \"recommand\", \"recommand\", \"recommand\", \"recommend\", \"recommend\", \"recommend\", \"recommend\", \"recommend\", \"recommend\", \"recommend\", \"repeat\", \"repeat\", \"repeat\", \"repeat\", \"repeat\", \"repeat\", \"respond\", \"respond\", \"respond\", \"respond\", \"respond\", \"respond\", \"respond\", \"restaur\", \"restaur\", \"restaur\", \"restaur\", \"restaur\", \"restaur\", \"restaur\", \"riccardo\", \"rikk\", \"rikk\", \"rikk\", \"rikk\", \"rikk\", \"room\", \"room\", \"room\", \"room\", \"room\", \"room\", \"room\", \"rubi\", \"rune\", \"rune\", \"sabin\", \"sabrina\", \"salli\", \"sandra\", \"sara\", \"sara\", \"sara\", \"sara\", \"sebastian\", \"selma\", \"servic\", \"servic\", \"servic\", \"servic\", \"servic\", \"servic\", \"servic\", \"sharebox\", \"shop\", \"shop\", \"shop\", \"shop\", \"shop\", \"shop\", \"shop\", \"shower\", \"shower\", \"shower\", \"shower\", \"shower\", \"shower\", \"shower\", \"sids\", \"sids\", \"sill\", \"simona\", \"sine\", \"sink\", \"sink\", \"sink\", \"sink\", \"sleep\", \"sleep\", \"sleep\", \"sleep\", \"sleep\", \"sleep\", \"sleep\", \"sleeper\", \"sleeper\", \"sleeper\", \"sleeper\", \"sleeper\", \"small\", \"small\", \"small\", \"small\", \"small\", \"small\", \"small\", \"sofi\", \"sofia\", \"sophi\", \"sophi\", \"sophi\", \"sophi\", \"sophi\", \"sophi\", \"soren\", \"soren\", \"soren\", \"soren\", \"soren\", \"soren\", \"soren\", \"space\", \"space\", \"space\", \"space\", \"space\", \"space\", \"space\", \"spark\", \"stair\", \"stair\", \"stair\", \"stair\", \"stair\", \"stair\", \"stair\", \"station\", \"station\", \"station\", \"station\", \"station\", \"station\", \"station\", \"stay\", \"stay\", \"stay\", \"stay\", \"stay\", \"stay\", \"stay\", \"steen\", \"steen\", \"steen\", \"stefano\", \"steffen\", \"steffen\", \"stephani\", \"steve\", \"stine\", \"stine\", \"strand\", \"street\", \"street\", \"street\", \"street\", \"street\", \"street\", \"street\", \"stun\", \"stun\", \"stun\", \"stun\", \"stun\", \"stun\", \"stun\", \"stylish\", \"stylish\", \"stylish\", \"stylish\", \"stylish\", \"stylish\", \"stylish\", \"super\", \"super\", \"super\", \"super\", \"super\", \"super\", \"super\", \"superkilen\", \"supermarket\", \"supermarket\", \"supermarket\", \"supermarket\", \"supermarket\", \"supermarket\", \"supermarket\", \"susan\", \"s\\u00f8ren\", \"s\\u00f8ren\", \"s\\u00f8ren\", \"s\\u00f8ren\", \"s\\u00f8ren\", \"s\\u00f8ren\", \"s\\u00f8ren\", \"tamara\", \"tanja\", \"tanja\", \"tanya\", \"tanya\", \"tent\", \"terrass\", \"terrass\", \"thank\", \"thank\", \"thank\", \"thank\", \"thank\", \"thank\", \"thank\", \"thankyou\", \"thankyou\", \"thea\", \"thei\", \"theres\", \"thing\", \"thing\", \"thing\", \"thing\", \"thing\", \"thing\", \"thing\", \"thoma\", \"thoma\", \"thoma\", \"thoma\", \"thoma\", \"thoma\", \"thoma\", \"thor\", \"tidi\", \"tidi\", \"tidi\", \"tidi\", \"tidi\", \"tidi\", \"tidi\", \"time\", \"time\", \"time\", \"time\", \"time\", \"time\", \"time\", \"tina\", \"tina\", \"tina\", \"tina\", \"tina\", \"tina\", \"tine\", \"tine\", \"tine\", \"tine\", \"tine\", \"tito\", \"tito\", \"toilet\", \"toilet\", \"toilet\", \"toilet\", \"toilet\", \"toilet\", \"toilet\", \"toma\", \"tommi\", \"torben\", \"towel\", \"towel\", \"towel\", \"towel\", \"towel\", \"towel\", \"towel\", \"train\", \"train\", \"train\", \"train\", \"train\", \"train\", \"train\", \"transport\", \"transport\", \"transport\", \"transport\", \"transport\", \"transport\", \"transport\", \"troel\", \"truck\", \"ubic\", \"ulrik\", \"ulrik\", \"ulrik\", \"ulrik\", \"upgrad\", \"valentina\", \"valu\", \"valu\", \"valu\", \"valu\", \"valu\", \"valu\", \"valu\", \"vanl\\u00f8s\", \"victor\", \"victoria\", \"victoria\", \"vivi\", \"walk\", \"walk\", \"walk\", \"walk\", \"walk\", \"walk\", \"walk\", \"warm\", \"warm\", \"warm\", \"warm\", \"warm\", \"warm\", \"warm\", \"wash\", \"wash\", \"wash\", \"wash\", \"wash\", \"washer\", \"washer\", \"washer\", \"washer\", \"washer\", \"welcom\", \"welcom\", \"welcom\", \"welcom\", \"welcom\", \"welcom\", \"welcom\", \"window\", \"window\", \"window\", \"window\", \"window\", \"window\", \"window\", \"wonder\", \"wonder\", \"wonder\", \"wonder\", \"wonder\", \"wonder\", \"wonder\", \"work\", \"work\", \"work\", \"work\", \"work\", \"work\", \"work\"]}, \"R\": 30, \"lambda.step\": 0.01, \"plot.opts\": {\"xlab\": \"PC1\", \"ylab\": \"PC2\"}, \"topic.order\": [7, 1, 3, 4, 2, 6, 5]};\n",
       "\n",
       "function LDAvis_load_lib(url, callback){\n",
       "  var s = document.createElement('script');\n",
       "  s.src = url;\n",
       "  s.async = true;\n",
       "  s.onreadystatechange = s.onload = callback;\n",
       "  s.onerror = function(){console.warn(\"failed to load library \" + url);};\n",
       "  document.getElementsByTagName(\"head\")[0].appendChild(s);\n",
       "}\n",
       "\n",
       "if(typeof(LDAvis) !== \"undefined\"){\n",
       "   // already loaded: just create the visualization\n",
       "   !function(LDAvis){\n",
       "       new LDAvis(\"#\" + \"ldavis_el1253630210622582644115325446\", ldavis_el1253630210622582644115325446_data);\n",
       "   }(LDAvis);\n",
       "}else if(typeof define === \"function\" && define.amd){\n",
       "   // require.js is available: use it to load d3/LDAvis\n",
       "   require.config({paths: {d3: \"https://d3js.org/d3.v5\"}});\n",
       "   require([\"d3\"], function(d3){\n",
       "      window.d3 = d3;\n",
       "      LDAvis_load_lib(\"https://cdn.jsdelivr.net/gh/bmabey/pyLDAvis@3.3.1/pyLDAvis/js/ldavis.v3.0.0.js\", function(){\n",
       "        new LDAvis(\"#\" + \"ldavis_el1253630210622582644115325446\", ldavis_el1253630210622582644115325446_data);\n",
       "      });\n",
       "    });\n",
       "}else{\n",
       "    // require.js not available: dynamically load d3 & LDAvis\n",
       "    LDAvis_load_lib(\"https://d3js.org/d3.v5.js\", function(){\n",
       "         LDAvis_load_lib(\"https://cdn.jsdelivr.net/gh/bmabey/pyLDAvis@3.3.1/pyLDAvis/js/ldavis.v3.0.0.js\", function(){\n",
       "                 new LDAvis(\"#\" + \"ldavis_el1253630210622582644115325446\", ldavis_el1253630210622582644115325446_data);\n",
       "            })\n",
       "         });\n",
       "}\n",
       "</script>"
      ],
      "text/plain": [
       "<IPython.core.display.HTML object>"
      ]
     },
     "execution_count": 51,
     "metadata": {},
     "output_type": "execute_result"
    }
   ],
   "source": [
    "vis = pyLDAvis.gensim_models.prepare(topic_model=lda_model_tfidf, corpus=corpus_tfidf, dictionary=dictionary)\n",
    "pyLDAvis.enable_notebook()\n",
    "pyLDAvis.display(vis)"
   ]
  },
  {
   "cell_type": "markdown",
   "metadata": {
    "cell_id": "00003-17866174-959c-48b0-8f05-acd7569d04dd",
    "deepnote_cell_type": "markdown"
   },
   "source": [
    "## Word Vectors"
   ]
  },
  {
   "cell_type": "code",
   "execution_count": 52,
   "metadata": {
    "cell_id": "00004-919db961-4fae-402a-bee8-3ee045e13c27",
    "deepnote_cell_type": "code",
    "deepnote_to_be_reexecuted": false,
    "execution_millis": 2978,
    "execution_start": 1623588549781,
    "source_hash": "9e9aed24"
   },
   "outputs": [
    {
     "name": "stderr",
     "output_type": "stream",
     "text": [
      "C:\\Users\\Lenovo\\Anaconda3\\lib\\site-packages\\ipykernel\\ipkernel.py:287: DeprecationWarning: `should_run_async` will not call `transform_cell` automatically in the future. Please pass the result to `transformed_cell` argument and any exception that happen during thetransform in `preprocessing_exc_tuple` in IPython 7.17 and above.\n",
      "  and should_run_async(code)\n"
     ]
    }
   ],
   "source": [
    "# !pip install gensim # only uncomment if you don't have the gensim-package already\n",
    "# Get the interactive Tools for Matplotlib\n",
    "#%matplotlib notebook\n",
    "plt.style.use('ggplot')\n",
    "from sklearn.decomposition import PCA\n",
    "from gensim.test.utils import datapath, get_tmpfile\n",
    "from gensim.models import KeyedVectors\n",
    "from gensim.scripts.glove2word2vec import glove2word2vec\n",
    "\n",
    "# print functionality for printing the objects.\n",
    "from pprint import pprint as pprint\n",
    "import os"
   ]
  },
  {
   "cell_type": "markdown",
   "metadata": {
    "cell_id": "00005-e55b9cb7-cce5-48e9-bad2-2ce25dddba17",
    "deepnote_cell_type": "markdown"
   },
   "source": [
    "For looking at word vectors, I'll use Gensim. Gensim isn't really a deep learning package. It's a package for for word and text similarity modeling, which started with (LDA-style) topic models and grew into SVD and neural word representations. But its efficient and scalable, and quite widely used."
   ]
  },
  {
   "cell_type": "markdown",
   "metadata": {
    "cell_id": "00006-cc6ad41f-ad64-4352-8cdd-e419e5bfc5da",
    "deepnote_cell_type": "markdown"
   },
   "source": [
    "Stanford offers GloVe word vectors. Gensim doesn't give them first class support, but allows you to convert a file of GloVe vectors into word2vec format. You can download the GloVe vectors from [the Glove page](https://nlp.stanford.edu/projects/glove/). They're inside [this zip file](https://nlp.stanford.edu/data/glove.6B.zip)"
   ]
  },
  {
   "cell_type": "markdown",
   "metadata": {
    "cell_id": "00007-91233195-4960-465e-8211-3c2aeced1312",
    "deepnote_cell_type": "markdown"
   },
   "source": [
    "(We use the 100d vectors below as a mix between speed and smallness vs. quality. If you try out the 50d vectors, they basically work for similarity but clearly aren't as good for analogy problems. If you load the 300d vectors, they're even better than the 100d vectors.)"
   ]
  },
  {
   "cell_type": "code",
   "execution_count": 54,
   "metadata": {
    "cell_id": "00008-2d8b5560-a7a1-4b45-8af3-7a556c3b4a45",
    "deepnote_cell_type": "code",
    "deepnote_to_be_reexecuted": false,
    "execution_millis": 2444,
    "execution_start": 1623588552762,
    "scrolled": true,
    "source_hash": "3625ad11"
   },
   "outputs": [
    {
     "name": "stderr",
     "output_type": "stream",
     "text": [
      "C:\\Users\\Lenovo\\Anaconda3\\lib\\site-packages\\ipykernel\\ipkernel.py:287: DeprecationWarning: `should_run_async` will not call `transform_cell` automatically in the future. Please pass the result to `transformed_cell` argument and any exception that happen during thetransform in `preprocessing_exc_tuple` in IPython 7.17 and above.\n",
      "  and should_run_async(code)\n",
      "C:\\Users\\Lenovo\\Anaconda3\\lib\\site-packages\\ipykernel_launcher.py:14: DeprecationWarning: Call to deprecated `glove2word2vec` (KeyedVectors.load_word2vec_format(.., binary=False, no_header=True) loads GLoVE text vectors.).\n",
      "  \n"
     ]
    },
    {
     "data": {
      "text/plain": [
       "(400000, 100)"
      ]
     },
     "execution_count": 54,
     "metadata": {},
     "output_type": "execute_result"
    }
   ],
   "source": [
    "\n",
    "# unfortunately you have to specify the full path to the word vectors file \n",
    "# that is build from e.g. glove which is already build and available \n",
    "# on Glove page: http://nlp.stanford.edu/data/glove.6B.zip\n",
    "# Download and put in folder with code\n",
    "\n",
    "full_path = os.path.abspath(r'glove.6B.100d.txt')\n",
    "\n",
    "glove_file = datapath(full_path)\n",
    "\n",
    "# just specification of the temp file name (glove.6B.100d.word2vec.txt), \n",
    "# but it has no significance\n",
    "word2vec_glove_file = get_tmpfile(\"glove.6B.100d.word2vec.txt\")\n",
    "\n",
    "glove2word2vec(glove_file, word2vec_glove_file)"
   ]
  },
  {
   "cell_type": "code",
   "execution_count": 55,
   "metadata": {
    "cell_id": "00009-23dbf3c9-ef64-4584-84b8-463ecaa3d0ef",
    "deepnote_cell_type": "code",
    "deepnote_to_be_reexecuted": false,
    "execution_millis": 37550,
    "execution_start": 1623588555203,
    "source_hash": "12ad8d56"
   },
   "outputs": [
    {
     "name": "stderr",
     "output_type": "stream",
     "text": [
      "C:\\Users\\Lenovo\\Anaconda3\\lib\\site-packages\\ipykernel\\ipkernel.py:287: DeprecationWarning: `should_run_async` will not call `transform_cell` automatically in the future. Please pass the result to `transformed_cell` argument and any exception that happen during thetransform in `preprocessing_exc_tuple` in IPython 7.17 and above.\n",
      "  and should_run_async(code)\n"
     ]
    }
   ],
   "source": [
    "model = KeyedVectors.load_word2vec_format(word2vec_glove_file)"
   ]
  },
  {
   "cell_type": "code",
   "execution_count": 56,
   "metadata": {
    "cell_id": "00010-83a9baa6-4999-4bd6-b933-3dd81ba06d8d",
    "deepnote_cell_type": "code",
    "deepnote_to_be_reexecuted": false,
    "execution_millis": 3,
    "execution_start": 1623588592755,
    "source_hash": "f8ba5943"
   },
   "outputs": [
    {
     "name": "stderr",
     "output_type": "stream",
     "text": [
      "C:\\Users\\Lenovo\\Anaconda3\\lib\\site-packages\\ipykernel\\ipkernel.py:287: DeprecationWarning: `should_run_async` will not call `transform_cell` automatically in the future. Please pass the result to `transformed_cell` argument and any exception that happen during thetransform in `preprocessing_exc_tuple` in IPython 7.17 and above.\n",
      "  and should_run_async(code)\n"
     ]
    }
   ],
   "source": [
    "def analogy(x1, x2, y1):\n",
    "    result = model.most_similar(positive=[y1, x2], negative=[x1])\n",
    "    return result[0][0]"
   ]
  },
  {
   "cell_type": "code",
   "execution_count": 57,
   "metadata": {
    "cell_id": "00016-64f7c1c5-2001-4d49-b45b-96bb27b879b0",
    "deepnote_cell_type": "code",
    "deepnote_to_be_reexecuted": false,
    "execution_millis": 5,
    "execution_start": 1623588671191,
    "source_hash": "8bff4d95"
   },
   "outputs": [
    {
     "name": "stderr",
     "output_type": "stream",
     "text": [
      "C:\\Users\\Lenovo\\Anaconda3\\lib\\site-packages\\ipykernel\\ipkernel.py:287: DeprecationWarning: `should_run_async` will not call `transform_cell` automatically in the future. Please pass the result to `transformed_cell` argument and any exception that happen during thetransform in `preprocessing_exc_tuple` in IPython 7.17 and above.\n",
      "  and should_run_async(code)\n"
     ]
    },
    {
     "data": {
      "text/plain": [
       "100"
      ]
     },
     "execution_count": 57,
     "metadata": {},
     "output_type": "execute_result"
    }
   ],
   "source": [
    "len(model['cat'])"
   ]
  },
  {
   "cell_type": "code",
   "execution_count": 58,
   "metadata": {
    "cell_id": "00017-30326ed4-86ff-417a-94c3-063930ff09fc",
    "deepnote_cell_type": "code",
    "deepnote_to_be_reexecuted": false,
    "execution_millis": 15608,
    "execution_start": 1623588671192,
    "source_hash": "2db19675"
   },
   "outputs": [
    {
     "name": "stderr",
     "output_type": "stream",
     "text": [
      "C:\\Users\\Lenovo\\Anaconda3\\lib\\site-packages\\ipykernel\\ipkernel.py:287: DeprecationWarning: `should_run_async` will not call `transform_cell` automatically in the future. Please pass the result to `transformed_cell` argument and any exception that happen during thetransform in `preprocessing_exc_tuple` in IPython 7.17 and above.\n",
      "  and should_run_async(code)\n"
     ]
    },
    {
     "name": "stdout",
     "output_type": "stream",
     "text": [
      "(142140, 100)\n"
     ]
    }
   ],
   "source": [
    "class WordVecVectorizer(object):\n",
    "    def __init__(self, word2vec):\n",
    "        self.word2vec = word2vec\n",
    "        self.dim = 100\n",
    "    def fit(self, X, y):\n",
    "        return self\n",
    "    def transform(self, X):\n",
    "        return np.array([\n",
    "            np.mean([self.word2vec[w] for w in texts.split() if w in self.word2vec]\n",
    "                    or [np.zeros(self.dim)], axis=0)\n",
    "            for texts in X\n",
    "        ])\n",
    "#representing each comment by the mean of word embeddings for the words used in the comments.\n",
    "wtv_vect = WordVecVectorizer(model)\n",
    "X_train_wtv = wtv_vect.transform(documents.comments)\n",
    "print(X_train_wtv.shape)\n"
   ]
  },
  {
   "cell_type": "code",
   "execution_count": 59,
   "metadata": {
    "cell_id": "00018-5fa4669b-512b-4447-81a5-3538a458b0b4",
    "deepnote_cell_type": "code",
    "deepnote_to_be_reexecuted": false,
    "execution_millis": 14,
    "execution_start": 1623588686791,
    "source_hash": "b5f48e8c"
   },
   "outputs": [
    {
     "name": "stderr",
     "output_type": "stream",
     "text": [
      "C:\\Users\\Lenovo\\Anaconda3\\lib\\site-packages\\ipykernel\\ipkernel.py:287: DeprecationWarning: `should_run_async` will not call `transform_cell` automatically in the future. Please pass the result to `transformed_cell` argument and any exception that happen during thetransform in `preprocessing_exc_tuple` in IPython 7.17 and above.\n",
      "  and should_run_async(code)\n"
     ]
    },
    {
     "data": {
      "text/plain": [
       "numpy.ndarray"
      ]
     },
     "execution_count": 59,
     "metadata": {},
     "output_type": "execute_result"
    }
   ],
   "source": [
    "type(X_train_wtv)"
   ]
  },
  {
   "cell_type": "code",
   "execution_count": 60,
   "metadata": {
    "cell_id": "00020-5067db05-b8cf-4a13-87f4-1cfcbaa39ff6",
    "deepnote_cell_type": "code",
    "deepnote_to_be_reexecuted": false,
    "execution_millis": 314002,
    "execution_start": 1623588686795,
    "source_hash": "1fef32ad",
    "tags": []
   },
   "outputs": [
    {
     "name": "stderr",
     "output_type": "stream",
     "text": [
      "C:\\Users\\Lenovo\\Anaconda3\\lib\\site-packages\\ipykernel\\ipkernel.py:287: DeprecationWarning: `should_run_async` will not call `transform_cell` automatically in the future. Please pass the result to `transformed_cell` argument and any exception that happen during thetransform in `preprocessing_exc_tuple` in IPython 7.17 and above.\n",
      "  and should_run_async(code)\n"
     ]
    }
   ],
   "source": [
    "from sklearn.cluster import KMeans\n",
    "sse = {}\n",
    "for k in range(1, 11):\n",
    "    kmeans = KMeans(n_clusters=k, max_iter=1000).fit(X_train_wtv)\n",
    "    documents[\"clusters\"] = kmeans.labels_\n",
    "    #print(data[\"clusters\"])\n",
    "    sse[k] = kmeans.inertia_ # Inertia: Sum of distances of samples to their closest cluster center\n"
   ]
  },
  {
   "cell_type": "code",
   "execution_count": 61,
   "metadata": {
    "cell_id": "00021-0f5220b3-712e-49a4-89f1-d0d9e0679196",
    "deepnote_cell_type": "code",
    "deepnote_to_be_reexecuted": false,
    "execution_millis": 0,
    "execution_start": 1623589000838,
    "source_hash": "8fa3c40b",
    "tags": []
   },
   "outputs": [
    {
     "name": "stderr",
     "output_type": "stream",
     "text": [
      "C:\\Users\\Lenovo\\Anaconda3\\lib\\site-packages\\ipykernel\\ipkernel.py:287: DeprecationWarning: `should_run_async` will not call `transform_cell` automatically in the future. Please pass the result to `transformed_cell` argument and any exception that happen during thetransform in `preprocessing_exc_tuple` in IPython 7.17 and above.\n",
      "  and should_run_async(code)\n"
     ]
    }
   ],
   "source": [
    "elbow_curve = pd.DataFrame(sse, columns =[\"K\", \"SSE\"])\n",
    "\n",
    "elbow_curve = pd.DataFrame(list(zip(sse.keys(), list(sse.values()))), columns=[\"K\", \"SSE\"])\n",
    "\n",
    "#elbow_curve.plot()\n",
    "#plt.xlabel(\"Number of cluster\")\n",
    "#plt.ylabel(\"SSE\")\n"
   ]
  },
  {
   "cell_type": "code",
   "execution_count": 62,
   "metadata": {
    "cell_id": "00022-b9d2a0b0-d940-4820-9a79-6dc918f24f7c",
    "deepnote_cell_type": "code",
    "deepnote_to_be_reexecuted": false,
    "execution_millis": 363,
    "execution_start": 1623589000839,
    "source_hash": "af07b355",
    "tags": []
   },
   "outputs": [
    {
     "name": "stderr",
     "output_type": "stream",
     "text": [
      "C:\\Users\\Lenovo\\Anaconda3\\lib\\site-packages\\ipykernel\\ipkernel.py:287: DeprecationWarning: `should_run_async` will not call `transform_cell` automatically in the future. Please pass the result to `transformed_cell` argument and any exception that happen during thetransform in `preprocessing_exc_tuple` in IPython 7.17 and above.\n",
      "  and should_run_async(code)\n"
     ]
    },
    {
     "data": {
      "text/plain": [
       "Text(0.5, 1.0, 'SSE by Number of Clusters')"
      ]
     },
     "execution_count": 62,
     "metadata": {},
     "output_type": "execute_result"
    },
    {
     "data": {
      "image/png": "[encoded data removed]",
      "text/plain": [
       "<Figure size 432x288 with 1 Axes>"
      ]
     },
     "metadata": {},
     "output_type": "display_data"
    }
   ],
   "source": [
    "import seaborn as sns \n",
    "sns.lineplot(x=\"K\", y=\"SSE\", data= elbow_curve).set_title('SSE by Number of Clusters')"
   ]
  },
  {
   "cell_type": "code",
   "execution_count": 63,
   "metadata": {
    "cell_id": "00019-f791c205-3b92-4efb-8718-93d99c2c811c",
    "deepnote_cell_type": "code",
    "deepnote_to_be_reexecuted": false,
    "execution_millis": 15745,
    "execution_start": 1623589001204,
    "source_hash": "d9df1e74"
   },
   "outputs": [
    {
     "name": "stderr",
     "output_type": "stream",
     "text": [
      "C:\\Users\\Lenovo\\Anaconda3\\lib\\site-packages\\ipykernel\\ipkernel.py:287: DeprecationWarning: `should_run_async` will not call `transform_cell` automatically in the future. Please pass the result to `transformed_cell` argument and any exception that happen during thetransform in `preprocessing_exc_tuple` in IPython 7.17 and above.\n",
      "  and should_run_async(code)\n"
     ]
    }
   ],
   "source": [
    "from sklearn.cluster import KMeans\n",
    "km = KMeans(\n",
    "    n_clusters=4, init='random',\n",
    "    n_init=10, max_iter=300, \n",
    "    tol=1e-04, random_state=0\n",
    ")\n",
    "y_km = km.fit_predict(X_train_wtv)\n",
    "df = pd.DataFrame({'comments' :documents.comments, 'topic_cluster' :y_km })"
   ]
  },
  {
   "cell_type": "code",
   "execution_count": 64,
   "metadata": {
    "cell_id": "00023-e30c54cb-f7c9-401e-8dd5-1d851b8062b1",
    "deepnote_cell_type": "code",
    "deepnote_to_be_reexecuted": false,
    "execution_millis": 304,
    "execution_start": 1623589016960,
    "source_hash": "c1e80912"
   },
   "outputs": [
    {
     "name": "stderr",
     "output_type": "stream",
     "text": [
      "C:\\Users\\Lenovo\\Anaconda3\\lib\\site-packages\\ipykernel\\ipkernel.py:287: DeprecationWarning: `should_run_async` will not call `transform_cell` automatically in the future. Please pass the result to `transformed_cell` argument and any exception that happen during thetransform in `preprocessing_exc_tuple` in IPython 7.17 and above.\n",
      "  and should_run_async(code)\n"
     ]
    },
    {
     "data": {
      "text/plain": [
       "Text(0.5, 0, 'Cluster No.')"
      ]
     },
     "execution_count": 64,
     "metadata": {},
     "output_type": "execute_result"
    },
    {
     "data": {
      "image/png": "[encoded data removed]",
      "text/plain": [
       "<Figure size 432x288 with 1 Axes>"
      ]
     },
     "metadata": {},
     "output_type": "display_data"
    }
   ],
   "source": [
    "import matplotlib.pyplot as plt\n",
    "plt.hist(df['topic_cluster'])\n",
    "plt.title('Number of Documents by Cluster')\n",
    "plt.xlabel('Cluster No.')"
   ]
  },
  {
   "cell_type": "code",
   "execution_count": 65,
   "metadata": {
    "cell_id": "00024-aec1e580-9f0c-4c27-921b-efecfea4406f",
    "deepnote_cell_type": "code",
    "deepnote_to_be_reexecuted": false,
    "execution_millis": 21431,
    "execution_start": 1623589017265,
    "source_hash": "7d5aa658"
   },
   "outputs": [
    {
     "name": "stderr",
     "output_type": "stream",
     "text": [
      "C:\\Users\\Lenovo\\Anaconda3\\lib\\site-packages\\ipykernel\\ipkernel.py:287: DeprecationWarning: `should_run_async` will not call `transform_cell` automatically in the future. Please pass the result to `transformed_cell` argument and any exception that happen during thetransform in `preprocessing_exc_tuple` in IPython 7.17 and above.\n",
      "  and should_run_async(code)\n"
     ]
    },
    {
     "data": {
      "image/png": "[encoded data removed]",
      "text/plain": [
       "<Figure size 1152x576 with 1 Axes>"
      ]
     },
     "metadata": {},
     "output_type": "display_data"
    },
    {
     "data": {
      "image/png": "[encoded data removed]",
      "text/plain": [
       "<Figure size 1152x576 with 1 Axes>"
      ]
     },
     "metadata": {},
     "output_type": "display_data"
    },
    {
     "data": {
      "image/png": "[encoded data removed]",
      "text/plain": [
       "<Figure size 1152x576 with 1 Axes>"
      ]
     },
     "metadata": {},
     "output_type": "display_data"
    },
    {
     "data": {
      "image/png": "[encoded data removed]",
      "text/plain": [
       "<Figure size 1152x576 with 1 Axes>"
      ]
     },
     "metadata": {},
     "output_type": "display_data"
    }
   ],
   "source": [
    "def get_top_n_words(corpus, n=10):\n",
    "    from sklearn.feature_extraction.text import TfidfVectorizer\n",
    "    vec = TfidfVectorizer(stop_words='english').fit(corpus)\n",
    "    bag_of_words = vec.transform(corpus)\n",
    "    sum_words = bag_of_words.sum(axis=0) \n",
    "    words_freq = [(word, sum_words[0, idx]) for word, idx in vec.vocabulary_.items()]\n",
    "    words_freq =sorted(words_freq, key = lambda x: x[1], reverse=True)\n",
    "    return words_freq[:n]\n",
    "\n",
    "for i in range(4):\n",
    "    words = []\n",
    "    word_values = []\n",
    "    for a,b in get_top_n_words(df[df['topic_cluster'] == i]['comments'],30):\n",
    "        words.append(a)\n",
    "        word_values.append(b)\n",
    "\n",
    "    fig, ax = plt.subplots(figsize=(16,8))\n",
    "    ax.bar(range(len(words)), word_values);\n",
    "    ax.set_xticks(range(len(words)));\n",
    "    ax.set_xticklabels(words, rotation='vertical');\n",
    "    ax.set_title('Top words in comments belonging to cluster ' + str(i+1));\n",
    "    ax.set_xlabel('Word');\n",
    "    ax.set_ylabel('Number of occurences');\n",
    "    plt.show()"
   ]
  },
  {
   "cell_type": "code",
   "execution_count": null,
   "metadata": {
    "cell_id": "00020-ab7b114d-acc6-4b7c-9203-cf81efa13da4",
    "deepnote_cell_type": "code",
    "tags": []
   },
   "outputs": [],
   "source": []
  },
  {
   "cell_type": "markdown",
   "metadata": {
    "cell_id": "00008-024c4c2c-d603-4ad8-bdaa-d934361aecec",
    "deepnote_cell_type": "markdown",
    "tags": []
   },
   "source": [
    "## Text Summarization"
   ]
  },
  {
   "cell_type": "markdown",
   "metadata": {
    "cell_id": "00010-be21068f-5f6d-47c5-a0a9-6333a7e98cf9",
    "deepnote_cell_type": "markdown",
    "tags": []
   },
   "source": [
    "### Pre-processing"
   ]
  },
  {
   "cell_type": "code",
   "execution_count": 66,
   "metadata": {
    "cell_id": "00010-a9994d26-c126-46e3-838d-9253c9b27a5d",
    "deepnote_cell_type": "code",
    "deepnote_to_be_reexecuted": false,
    "execution_millis": 2474,
    "execution_start": 1623510828291,
    "source_hash": "da45b952",
    "tags": []
   },
   "outputs": [
    {
     "name": "stderr",
     "output_type": "stream",
     "text": [
      "C:\\Users\\Lenovo\\Anaconda3\\lib\\site-packages\\ipykernel\\ipkernel.py:287: DeprecationWarning: `should_run_async` will not call `transform_cell` automatically in the future. Please pass the result to `transformed_cell` argument and any exception that happen during thetransform in `preprocessing_exc_tuple` in IPython 7.17 and above.\n",
      "  and should_run_async(code)\n",
      "[nltk_data] Downloading package stopwords to\n",
      "[nltk_data]     C:\\Users\\Lenovo\\AppData\\Roaming\\nltk_data...\n",
      "[nltk_data]   Package stopwords is already up-to-date!\n",
      "[nltk_data] Downloading package punkt to\n",
      "[nltk_data]     C:\\Users\\Lenovo\\AppData\\Roaming\\nltk_data...\n",
      "[nltk_data]   Package punkt is already up-to-date!\n"
     ]
    }
   ],
   "source": [
    "# import packages\n",
    "import numpy as np\n",
    "import pandas as pd\n",
    "import nltk\n",
    "from nltk.tokenize import sent_tokenize\n",
    "from nltk.corpus import stopwords\n",
    "import re\n",
    "import string\n",
    "nltk.download('stopwords')\n",
    "nltk.download('punkt')\n",
    "import scipy\n",
    "from nltk.cluster.util import cosine_distance"
   ]
  },
  {
   "cell_type": "code",
   "execution_count": 67,
   "metadata": {
    "cell_id": "00012-746da06f-9e06-4cb5-9662-f4c15423fcee",
    "deepnote_cell_type": "code",
    "deepnote_to_be_reexecuted": false,
    "execution_millis": 33809,
    "execution_start": 1623510832813,
    "source_hash": "75100b3e",
    "tags": []
   },
   "outputs": [
    {
     "name": "stderr",
     "output_type": "stream",
     "text": [
      "C:\\Users\\Lenovo\\Anaconda3\\lib\\site-packages\\ipykernel\\ipkernel.py:287: DeprecationWarning: `should_run_async` will not call `transform_cell` automatically in the future. Please pass the result to `transformed_cell` argument and any exception that happen during thetransform in `preprocessing_exc_tuple` in IPython 7.17 and above.\n",
      "  and should_run_async(code)\n"
     ]
    }
   ],
   "source": [
    "# drop NAs\n",
    "reviews_cph = reviews_cph.dropna()\n",
    "# filter out the automatic comments \n",
    "reviews_cph = reviews_cph[~reviews_cph.comments.str.contains(\"The host canceled this reservation\")]\n",
    "\n",
    "# convert text to lower case \n",
    "def lower(text): \n",
    "    return text.lower()\n",
    "\n",
    "# tokenize \n",
    "def tokenize(text): \n",
    "    return sent_tokenize(text)\n",
    "\n",
    "# tokenize the sentences for each review \n",
    "reviews_cph['reviews'] = reviews_cph.comments.apply(lambda x: lower(x))\n",
    "reviews_cph['reviews'] = reviews_cph.reviews.apply(lambda x: tokenize(x))\n",
    "                                                   "
   ]
  },
  {
   "cell_type": "code",
   "execution_count": null,
   "metadata": {
    "cell_id": "00024-f4b1da7e-349d-4926-9894-c207840036b3",
    "deepnote_cell_type": "code"
   },
   "outputs": [],
   "source": []
  },
  {
   "cell_type": "code",
   "execution_count": 68,
   "metadata": {
    "cell_id": "00025-59d0f683-1070-45af-a53a-e672dcb4fdd5",
    "deepnote_cell_type": "code"
   },
   "outputs": [
    {
     "name": "stderr",
     "output_type": "stream",
     "text": [
      "C:\\Users\\Lenovo\\Anaconda3\\lib\\site-packages\\ipykernel\\ipkernel.py:287: DeprecationWarning: `should_run_async` will not call `transform_cell` automatically in the future. Please pass the result to `transformed_cell` argument and any exception that happen during thetransform in `preprocessing_exc_tuple` in IPython 7.17 and above.\n",
      "  and should_run_async(code)\n"
     ]
    }
   ],
   "source": [
    "# join the reviews per listing\n",
    "data = pd.DataFrame(columns = ['Listing ID', 'Reviews'])\n",
    "listing_ids = list(reviews_cph['listing_id'].unique())\n",
    "for listing_id in listing_ids: \n",
    "    reviews_list = []\n",
    "    temp = reviews_cph[reviews_cph['listing_id']== listing_id]\n",
    "    temp_list = list(temp.reviews)\n",
    "    for item in temp_list: \n",
    "        reviews_list.extend(item)\n",
    "    data = data.append({'Listing ID': listing_id, 'Reviews': reviews_list}, ignore_index = True)"
   ]
  },
  {
   "cell_type": "code",
   "execution_count": 69,
   "metadata": {
    "cell_id": "00022-6bc16f8d-682c-4021-8316-733d489d3ebf",
    "deepnote_cell_type": "code",
    "deepnote_to_be_reexecuted": false,
    "execution_millis": 6,
    "execution_start": 1623323770418,
    "source_hash": "bcc838d4",
    "tags": []
   },
   "outputs": [
    {
     "name": "stderr",
     "output_type": "stream",
     "text": [
      "C:\\Users\\Lenovo\\Anaconda3\\lib\\site-packages\\ipykernel\\ipkernel.py:287: DeprecationWarning: `should_run_async` will not call `transform_cell` automatically in the future. Please pass the result to `transformed_cell` argument and any exception that happen during thetransform in `preprocessing_exc_tuple` in IPython 7.17 and above.\n",
      "  and should_run_async(code)\n"
     ]
    },
    {
     "data": {
      "text/plain": [
       "pandas.core.series.Series"
      ]
     },
     "execution_count": 69,
     "metadata": {},
     "output_type": "execute_result"
    }
   ],
   "source": [
    "type(temp.reviews)"
   ]
  },
  {
   "cell_type": "code",
   "execution_count": 70,
   "metadata": {
    "cell_id": "00027-8ebefc7d-ea6e-496e-a200-b1a026c44be1",
    "deepnote_cell_type": "code"
   },
   "outputs": [
    {
     "name": "stderr",
     "output_type": "stream",
     "text": [
      "C:\\Users\\Lenovo\\Anaconda3\\lib\\site-packages\\ipykernel\\ipkernel.py:287: DeprecationWarning: `should_run_async` will not call `transform_cell` automatically in the future. Please pass the result to `transformed_cell` argument and any exception that happen during thetransform in `preprocessing_exc_tuple` in IPython 7.17 and above.\n",
      "  and should_run_async(code)\n"
     ]
    },
    {
     "data": {
      "text/plain": [
       "[\"convenient location, clean apartment, great breakfast...couldn't have asked for more.\",\n",
       " 'best value in lodging in all of copenhagen.',\n",
       " 'we really enjoyed staying to simon in our first visit to copenhagen.',\n",
       " 'his place his good located and very confortable.',\n",
       " 'good host and lovely breakfast in the morning.',\n",
       " 'friendly host, save neighbourhood, clean appartment and comfortable bed: i enjoyed it very much!',\n",
       " 'simon is great!',\n",
       " 'fantastic place to stay, super organized and friendly host and a comfortable bed, what more could you ask?',\n",
       " 'great bed, clean apartment, comfy bed, accomodating host, great price.',\n",
       " \"can't ask for more!\",\n",
       " 'great value, very clean and comfortable apartment.',\n",
       " 'good breakfast in the morning.',\n",
       " 'apartment is a pleasant 10-15 minute stroll into the heart of copenhagen.',\n",
       " 'pleasant neighborhood with some great eateries nearby.',\n",
       " 'the room is quiet and i slept like a baby.',\n",
       " 'simon is a helpful, friendly host and  i can thoroughly recommend staying here for your cph visit!',\n",
       " 'amazingly helpful and friendly, close to town, clean and cozy.',\n",
       " 'highly recommended!',\n",
       " \"thoroughly recommended, simon is a great host and you can't beat the price-confort-distance equation.\",\n",
       " 'fantastic host!',\n",
       " 'simon was friendly, outgoing and extremely helpful.',\n",
       " 'awesome location -apartment was clean.',\n",
       " 'great location in an interesting neighborhood west of town, and quite friendly as well.',\n",
       " 'simon is an extremely nice host.',\n",
       " 'the apartment is very nice and cozy.',\n",
       " 'you can get around easily with public transportation.',\n",
       " 'recommended!',\n",
       " 'very clean, comfortable, and convenient plus, great location.',\n",
       " \"it was really nice staying in simon's flat, i would have done the same if i came again.\",\n",
       " 'very good value!',\n",
       " 'the location was really good for us, not far from centre on bikes and in the middle of the up-and-coming area with interesting bars, coffee shops and restaurants, but still a bit gritty.',\n",
       " \"flat's got everything you need, we found the bed a bit small for 2 people, but for 3 nights, that wasn't a problem.\",\n",
       " 'simon was a great host - the flat was in a great location, & super clean.',\n",
       " 'i would definitely recommend staying here to anyone heading to copenhagen.',\n",
       " 'very nice apartment, kitchen fully equipped and i could use it.',\n",
       " 'rich breakfast.',\n",
       " 'very good place and a very nice young man.',\n",
       " 'simon was a great host.',\n",
       " 'even though he was away for the weekend, he made sure we had a comfortable stay.',\n",
       " 'the room was quite small, but it had everything we needed en was clean.',\n",
       " 'the kitchen was well supplied and we could make ourself a luxurious breakfast.',\n",
       " 'the neighbourhood was pretty central, very colourful en diverse.',\n",
       " 'we enjoyed our stay!',\n",
       " 'my boyfriend and i spent one weekend at simons apartment.',\n",
       " 'we really liked it and felt like home.',\n",
       " \"he wasn't there for the first two days, but he had everything well prepared.\",\n",
       " 'he is really friendly and helpful if want to know something about copenhagen.',\n",
       " 'simon was a very sweet and laid back host, the place was perfect for my needs - practical and easy access to nørrebro sorroundings.',\n",
       " 'i had a great time exchanging views on danish boller (food) and physical excersise whilst brewing coffee....\\r\\neasy going all together - just what i had in mind!',\n",
       " 'go there, it works\\r\\nedith',\n",
       " 'simon was a very sweet and laid back host, the place was perfect for my needs - practical and easy access to nørrebro sorroundings.',\n",
       " 'i had a great time exchanging views on danish boller (food) and physical excersise whilst brewing coffee.... easy going all together - just what i had in mind!',\n",
       " 'go there, it works.',\n",
       " 'edith',\n",
       " 'simon was awesome.',\n",
       " 'his small, cozy norrebro apartment proved to be the perfect launching pad for exploring copenhagen.',\n",
       " 'in addition to being centrally located, apartment was well-stocked, clean, and in perfect order.',\n",
       " 'as for simon himself, he was friendly, informative, and knowledgeable on a number of topics.',\n",
       " 'i thoroughly enjoyed over conversations about food, architecture, and urban development.',\n",
       " 'overall, staying with simon was an absolute pleasure.',\n",
       " \"i'd be more than happy to stay again!\",\n",
       " \"very nice and cosy apartment :) me and my girlfriend stayed for a couple of days while simon wasn't there.\",\n",
       " 'the location is perfect, we did everything walking: just half an hour from the station and stroget!',\n",
       " 'we could use everything we wanted.',\n",
       " 'simon has very nice sharp knifes in the kitchen that we enjoyed while cooking ;) would recommend it for sure!',\n",
       " \"me and my girlfriend slept at simon's place for two nights, and we had a great stay!\",\n",
       " 'the apartment is cozy, the location is lovely and simon is an awesome host.',\n",
       " 'we had a nice room, great breakfast, great coffee and great fun!',\n",
       " \"travelling between the apartment and downtown is quick and easy, and if you don't want to move around there's plenty of nice things to see and do just around the corner.\",\n",
       " \"if you're going to copenhagen, either alone or with one other person, we strongly recommend that you check simon's place out!\",\n",
       " 'lovely little room in an clean and cosy apartment at a reasonable price.',\n",
       " 'i particularly appreciated the location which is in a very lively and inspiring neighbourhood.',\n",
       " 'from simons flat, it is easy to get around and explore the entire city with the center in walking distance, too.',\n",
       " \"the charming old building is not too sooundproof, but don't worry, it's in a quiet little street and simon is extremely considerate.\",\n",
       " 'he is also a very helpful and outgoing host who takes an interest in his guests and provides help whenever needed.',\n",
       " 'i enjoyed my stay!',\n",
       " 'simon was an excellent host!!',\n",
       " 'he was very easy to communicate with, super uncomplicated and took good care of us by showing us the apartment and giving us great tips for copenhagen.',\n",
       " 'i highly recommend staying at his super nice place!',\n",
       " \"i really enjoyed staying in simon's apartment - it is charming, comfortable and clean.\",\n",
       " 'simon was very friendly and helpful with information about copenhagen as well.',\n",
       " 'the apartment is close to a beautiful park/cemetery and lots of cool streets with coffee shops, etc.',\n",
       " 'i would definitely stay there again!',\n",
       " 'we came for a short 3 night weekend and everything was just wonderfull.',\n",
       " 'simon bager is so nice, the house is well equiped (thanks for the amazing fresh coffee) and the location is just amazing.',\n",
       " '10 minuits walk from the center of things.',\n",
       " 'we felt like home and like the way we would like to be hosted.',\n",
       " 'we had a very nice stay at simon´s flat.',\n",
       " 'we went for 2 nights and we had all we needed: good location (15-20 mins walking from city centre), comfortable bedroom, small (enough for 2 people) full equiped kitchen, clean bathroom and a big living room.',\n",
       " 'simon was nice and he easy to contact with.',\n",
       " 'we recomend it!',\n",
       " \"we had a lovely stay at simon's apartment.\",\n",
       " 'the flat was cozy and comfortable, very danish-style.',\n",
       " 'the neighborhood was also cool, very calm and close to the centre (less than 10 minutes by bus); plus, just in the corner you can find the most delicious bakery we tried in town.',\n",
       " 'i must add simon was very nice as a host, he arranged everything perfectly.',\n",
       " 'i would definitely be glad to repeat my stay here any other time.',\n",
       " ':-)',\n",
       " 'place was just as described and simon did a great job making me feel welcome.',\n",
       " 'had everything i needed at the place, neighborhood was great, and had a great time in copenhagen!',\n",
       " \"definitely rent a bike while you're in town!\",\n",
       " 'i asked simon the day before we arrived if we could stay at his place and it was absolutely no problem.',\n",
       " 'really quick and laid back communication also.',\n",
       " 'simon is a supernice guy who made us feel welcome and gave us great tips for our stay in copenhagen.',\n",
       " 'the place itself is awesome.',\n",
       " \"it has everything you need, it's clean and cosy, the bedroom is quiet, you can eat breakfast in the shared garden and the area is just as good.\",\n",
       " 'great breakfast around the corner, pizzeria, supermarkets, bars.',\n",
       " 'i would def stay here again.',\n",
       " 'simon was great!',\n",
       " 'we had a small communication issue regarding our arrival time (not simons fault) and as soon as he knew we were at the apartment waiting, he immediately came over!',\n",
       " 'his place was exactly as described and as shown in the pictures.',\n",
       " 'the location is perfect for the hip restaurants and in walking distance to all the sights.',\n",
       " 'would definitely recommend and would stay there again!',\n",
       " 'it was great!',\n",
       " 'cozy house with 1 bed room & 1 living room.',\n",
       " 'everything was clean and in a good condition.',\n",
       " \"15-20min walk to city center, but it wasn't that far.\",\n",
       " '5min walk from forum station, and it only took 30min to airport with metro2.',\n",
       " 'many markets & restaurants near the house.',\n",
       " 'our stay at simons appartement was just perfect!',\n",
       " 'simon and his brother jonas are very friendly guys who did everything to make us feel welcome!',\n",
       " 'the flat is very cozy, neat and tidy.',\n",
       " \"it's small but very lovely, well situated and easy to reach.\",\n",
       " 'we enjoyed it so much - especially the soft and cuddly bed and the quiet atmosphere in the neighbourhood.',\n",
       " \"our special tipp: there's a beautiful bakery just around the corner (visavis of the brorsons church) that serves really delicious breakfast!!!\",\n",
       " 'we can only recommend it!!!',\n",
       " 'thank you very much for everything!',\n",
       " 'simon was an extremely helpful and friendly host.',\n",
       " 'our flight was an hour late and he was very nice about us coming late.',\n",
       " 'he was very helpful with providing my friend and i tips on what to see, where to eat, and good places to go out at night.',\n",
       " 'the flat was very charming, bright, and more spacious than we originally thought.',\n",
       " 'there is a large living room along with the bedroom and kitchen (more than enough room for 2 people).',\n",
       " 'it was about a 25 minute walk to the center of town but copenhagens public transportation is very good and we took the bus a lot into town from a bus stop about 3 mins walk from the flat.',\n",
       " 'the metro station is also very close (about 7-10 mins walk) and had a direct line to the airport.',\n",
       " 'the area the flat is in also has a lot going on.',\n",
       " 'it had a lot of multi-ethnic food along with many micro-breweries.',\n",
       " 'overall a great stay and would highly recommend!',\n",
       " 'place was exactly as described.',\n",
       " 'lovely neighborhood,  with easy access to all of copenhagen (though that is probably everywhere in this city).',\n",
       " 'simons place was perfect for our needs, clean, homey,  and secure.',\n",
       " 'we would love to stay again.',\n",
       " \"we highly recommend simon's apartment in copenhagen.\",\n",
       " 'the apartment is quite, very nicely designed and  well equipped.',\n",
       " \"it's not big, but it's surely enough for a couple.\",\n",
       " 'the shared backyard was a nice surprise - a calm space for breakfast in a shiny morning.',\n",
       " 'the location is great.',\n",
       " 'there are lots of bars and food options nearby, even a bakery just around the corner where you can get oven cooked bread in the morning.',\n",
       " 'it is 10 minute walk from the closest metro station.',\n",
       " 'simon welcomed us warmly, explained about the apartment and gave insights and recommendations that really proved themselves.',\n",
       " \"we had a very pleasant stay at simon's flat.\",\n",
       " 'simon arranged for his brother, jonas to meet us with the keys at an agreed time.',\n",
       " 'the flat is exactly as he has described it and is very clean.',\n",
       " 'the kitchen is well equipped for preparing your own meals.',\n",
       " \"there is, as others have mentioned, a lovely bakery at the end of the street and a supermarket nearby, but we needed to wander a little further to find restaurants - there is a vietnamese place and a pizza place nearby but we didn't try these.\",\n",
       " 'transport was pretty convenient, either bus or a 10min walk to forum metro sation.',\n",
       " 'we walked a lot though - the city is very easy and pleasant to navigate on foot.',\n",
       " 'the flat is very quiet.',\n",
       " 'the bathroom is a wet-room but it was fine and the shower is hot and strong!',\n",
       " \"simon has put the measurements of the bed in the description but it's perhaps worth mentioning that, if you're if there is two of you, it is a snug fit!\",\n",
       " \"we highly recommend simon's flat to anyone visiting lovely copenhagen.\",\n",
       " 'charlotte and olivier',\n",
       " \"we had a wonderful time in simon's apartment!\",\n",
       " 'the apartment is very nice and well equipped with everything you need to have a comfortable stay - and feel like a local.',\n",
       " 'the neighborhood is great and has so much going on: unique shops, restaurants, bars, parks, and more.',\n",
       " 'simon had many fantastic recommendations.',\n",
       " 'plus, it was easy to rent bikes and explore all over copenhagen from his place.',\n",
       " \"i decided to make a spontaneous short trip to copenhagen and i am very happy to have found simon's apartment here at airbnb.\",\n",
       " 'i had a very pleasant stay in his cozy apartment, which is in a very good location in the district of nørrebro.',\n",
       " 'the center and all sights are really easy to reach.',\n",
       " 'simon was a nice host who gave me good advice for my stay in copenhagen.',\n",
       " \"i can highly recommend a trip to copenhagen and stay at simon's apartment.\",\n",
       " 'simon is very relaxed and friendly, really helpful and responsive.',\n",
       " 'his place was beautiful and cozy, not far from bus stops and metro station.',\n",
       " 'it was also great to just walk around the neighborhood, lots of interesting buildings, little bars and food places.',\n",
       " \"my boyfriend and i had a really nice time in copenhagen for 3 days around the new year's eve.\",\n",
       " 'had a wonderful stay in simons flat!',\n",
       " 'his room is lovely!',\n",
       " 'him and his flat mates were very friendly :) the flat is also in a good location',\n",
       " \"without a doubt the single best airbnb experience i've had in copenhagen until now!\",\n",
       " 'the entire apartment is stylishly decorated, with a nice cross-over between old-fashioned, vintage and modern.',\n",
       " 'the room was really big and had a lot of space to move.',\n",
       " 'a couple could have easily stayed in there without getting in each others way.',\n",
       " ';-)\\r\\na nice, big kitchen with lots of supplies and a small, clean bathroom completed my stay.',\n",
       " 'that was all that i needed.',\n",
       " 'on top of that there was a cosy, large living room which was open for use.',\n",
       " 'i absolutely felt comfortable.',\n",
       " 'the guys who lived there with me were very hospitable, welcoming, easy-going, communicative and kind.',\n",
       " 'i stayed for 8 days so to me it was important to have a place to \"come home to\", and this was perfect, beyond my expectations.',\n",
       " 'the location is about a quick 10 minute walk from the metro-station forum which takes you to the city centre in less than 5 minutes.',\n",
       " \"simon's apartment in copenhagen was perfectly situated in a very cool nørrobro neighborhood.\",\n",
       " 'he was not there when we arrived however his roommate was extremely helpful in helping us when we arrived at the apartment.',\n",
       " 'we were free to help ourselves to coffee and tea in the morning and plenty of space to use the kitchen.',\n",
       " 'we would definitely recommend staying here!',\n",
       " 'simon was a great host in copenhagen!',\n",
       " 'he responded to our request immediately and followed up with us about our arrival and gave us clear instructions on how to get to his apartment, which is very centrally located!',\n",
       " \"although we didn't get to meet simon, his (hidden by airbnb) were friendly and made us feel welcomed.\",\n",
       " 'simon also left us guidebooks and maps which were very helpful.',\n",
       " \"also, simon's guidebook on airbnb was excellent in terms of local recommendations.\",\n",
       " 'i would highly recommend staying here in copenhagen if you get the chance!',\n",
       " 'great experience.',\n",
       " 'everything was perfect and really clean.',\n",
       " \"we couldn't meet simon.\",\n",
       " 'but his housemates were really kind.',\n",
       " 'i would recommend to everybody to stay in such a nice place!',\n",
       " 'simon has been a very kind, helpful and responsive host during my stay.',\n",
       " \"his room is spacious and comfortable and located in a clean, shared flat with people who seemed also willing to help, despite that i didn't meet them much as i was mostly out of the flat visiting the city.\",\n",
       " 'the flat is well located with all facilities at close proximity and the area is nicely quiet with still many bars and restaurants a few minutes of walking away.',\n",
       " 'metro and buses will easily take you anywhere.',\n",
       " \"i can only recommend this place to stay during your next stay in cooenhagen, unless i'm there as well because i'll want the room!\",\n",
       " 'a perfect place to stay for a copenhagen getaway.',\n",
       " 'the room and apartment design is beautiful, clean and colourful and makes you feel at home.',\n",
       " 'location within walking distance from forum station puts you in a good position for all sightseeing and transit to and from the airport.',\n",
       " \"i didn't get to meet simon, but he was responsive and friendly to all communication and his roommate was there to make sure i got set up.\",\n",
       " 'a great airbnb experience.',\n",
       " 'the room was quiet and comfortable, a little on the small side but it did the job!',\n",
       " 'the location was perfect - lots of nice places to go for coffee or beer are within walking distance, and the beautiful assistens cemetery is just seconds away.',\n",
       " \"didn't really get to talk with simon too much unfortunately as we kept missing each other, but he was super responsive beforehand so checking in was a breeze :-)\",\n",
       " 'nice and kind people, cozy and clean home, convenient for transportation and village of safety and bright.',\n",
       " 'highly recommend!',\n",
       " 'the area is nice, with supermarket/restaurants.',\n",
       " '30 minutes walking from the center, doable on a sunny weather.',\n",
       " 'the hosts are really nice and kind and make you feel like home.',\n",
       " \"the room is quire small, only bed+the basics, but you have your privacy for a reasonable price in copenhagen's standards.\",\n",
       " 'i found the duvet a bit short (i am 1.85) and the pillow uncomfortable, but that was maybe just me',\n",
       " 'everything worked smoothly, beginning from the communication prior to my arrival.',\n",
       " 'simon was a great, welcoming nice host and even invited me to dine with him and his (hidden by airbnb) when i arrived in the evening.',\n",
       " 'the flat is in a nice location, and it is easily reachable from the central station by bus.',\n",
       " \"the room is tiny, but if you're not planning to spend your day in the apartment, it is more than enough.\",\n",
       " 'and there is anyway plenty of space in the living room, which the hosts kindly made available for me to work a bit.',\n",
       " 'i would definitely recommend!',\n",
       " 'thanks, simon!',\n",
       " 'simon was great host with plenty of suggestions.',\n",
       " 'place was little but nice, clean and comfortable.',\n",
       " 'location is 20 minutes walk to the center.',\n",
       " \"it's in student neighborhood so it is very lively, especially at night.\",\n",
       " 'i recommend  it.',\n",
       " 'simon and his roommate were awesome.',\n",
       " 'on our arrival they´ve been occupied but undoubtly contacted someone´s to be waiting for us.',\n",
       " 'the appartment is not big but very nice, and the room is situated next to the kitchen, what is good if you´re looking for silence or -on the other side- to not disturb them.',\n",
       " 'the room has a window with views to the garden, coat hangers, a small locker and a little table.',\n",
       " 'comfortable bed and good duvet cover.',\n",
       " 'everything  was neatly, space available on the fridge and coffee in the morning.',\n",
       " 'the neighborhood is calm and local shops nearby.',\n",
       " 'forum metro station is 15min walking.',\n",
       " 'simon and his flatmate rasmus are very friendly and easy going guys.',\n",
       " 'i felt welcome and safe at any time.',\n",
       " 'the room ist tiny, but for one person perfect.',\n",
       " 'the neighbourhood norrebro is very nice and worth a visit.',\n",
       " 'i can absolutely recommend to stay at this place!',\n",
       " 'had a very nice experience in copenhagen.',\n",
       " \"simon wasn't there, but his roommate was very nice and welcoming.\",\n",
       " 'it was made sure that we had everything we needed.',\n",
       " 'the room was small, but big enough for a short stay.',\n",
       " 'we would definitely book this again, if we plan another trip to copenhagen.',\n",
       " 'location is not far from bus stop, just 5 mind by walking.',\n",
       " 'the room was a little bit small for two people, but it is ok for one person!',\n",
       " 'nice room with well-equipment kitchen and living room!',\n",
       " 'a very nice place, really recommended!',\n",
       " 'everything was as described.',\n",
       " 'simon and his flatmate were outgoing and nice persons and very helpful to find a parking space and attractions in copenhagen.',\n",
       " 'the room was clean but quite small, perfect for a short stay with not too much baggage.',\n",
       " 'simon was very helpful and gave us directions on how to get to his apartment after arriving at the copenhagen airport.',\n",
       " 'he did a great job of communicating beforehand how we would be let into the apartment upon arrival, and his roommate made us feel very welcome in their home.',\n",
       " 'we found the room to be fine for two people.',\n",
       " 'overall a great stay!',\n",
       " \"simon's apartment was great and in a prefect location to explore copenhagen.\",\n",
       " 'the room is great for 1-2 people and has a comfortable bed and pillow.',\n",
       " 'check-in and check-out was easy and flexible.',\n",
       " 'his place is a block away from a large park and just 7 minutes to jægersborggade.',\n",
       " 'i would definitely stay here again!',\n",
       " \"we had a two-night stay in simon's apartment, and everything went smoothly.\",\n",
       " 'we were welcomed by his housemate rasmus, who showed us their place.',\n",
       " \"as stated in other comments, the bedroom is quite small, but it's quite enough if you're planning to spend most of your time in the streets of copenhagen as we did.\",\n",
       " 'just be aware that the bed in itself is a 130x200 cm, which is a bit smaller than the usual.',\n",
       " 'the other rooms were great, with a nice kitchen with everything you need if you want to cook some food (seems simon has some baker skills by the way), a large living-room with a table and a confortable couch to relax, and a bathroom with shower and toilets.',\n",
       " 'the apartment is located a bit far from the city center, which mean you will have to take the subway (with a 10-min walk), a bike or to walk (about 30 minutes) if you want to reach it.',\n",
       " 'the good thing in it is that the apartment is in a very quiet neighbourood, with a big park just nearby and some useful shops around.',\n",
       " 'and last but not least, simon and rasmus are really nice guys, easy to talk with, and you quickly feel comfortable in their place.',\n",
       " 'they have a lot of good advice in order to discover the city.',\n",
       " 'all in all, a nice stay!',\n",
       " 'we felt very comfortable at simon and rasmus flat.',\n",
       " 'ist was very tidy and clean.',\n",
       " 'the room was quit small for two persons, but good for a city trip!',\n",
       " \":) they both we're very communicative and gave us some good advise for cph!\",\n",
       " 'all in all very very nice place to stay!',\n",
       " '!',\n",
       " 'simon, his girlfriend and his roommate were all very welcoming and friendly.',\n",
       " 'the apartment is lovely and clean, i felt right at home.',\n",
       " 'the room was small but cozy.',\n",
       " 'the neighborhood is wonderful with cute little cafés, bars and groceries right around the corner.',\n",
       " 'the bus stop is a 2min walk away and will take you into the city center in 15min.',\n",
       " 'i really enjoyed my stay there and would recommend it to anyone.',\n",
       " 'i had a wonderful stay at the apartment and rasmus helped a lot on that.',\n",
       " 'the location was really good, only 15-20 min walking from central station.',\n",
       " 'the room was clean and we could use all kitchen equipment and bathroom.',\n",
       " 'all in all a great experience and totally recommended for every traveller!',\n",
       " 'great (email hidden by airbnb) munication was very easy before and throughout the stay with both simon and his roomate rasmus.',\n",
       " 'they were accomodating, easy going and attentive so i could have the best stay.',\n",
       " 'cozy appartment, friendly atmosphere: i felt like home.',\n",
       " 'as for the room i would add it is very quiet.',\n",
       " 'tak!',\n",
       " \"simon's flat is very cosy and clean!\",\n",
       " 'i loved the area-all what you need is around!',\n",
       " 'its very close to a tube station but you can easily walk to the city centre.',\n",
       " 'the room is small but clean and comfi... simon and all his (hidden by airbnb) were very acomodating and super nice....',\n",
       " \"we had a great time staying at simon's place.\",\n",
       " 'while the room is relatively small (although roomy compared to london), its private and the apartment is clean and very cool.',\n",
       " 'not to mention that simon is a fantastic host!',\n",
       " 'apartment is right next to a bus stop and all of the sites are walkable, although it is definitely best to bike.',\n",
       " 'overall a great experience.',\n",
       " 'simon and his partners were amazing with us.',\n",
       " 'the flat is so nice and the location is so cute.',\n",
       " 'very good experience!!!',\n",
       " '!',\n",
       " 'simon and rasmus were very kind and helpful.',\n",
       " \"then we learned the danish word hygge which is perfect to describe our stay at simon's.\",\n",
       " 'it means something like being comfortable in a warm house, tasting good food or drinking a hot tea, reading a book on a nordic design sofa... that and much more.',\n",
       " 'this is how we felt: at home!',\n",
       " 'the apartment is beautiful and in a great neighbourhood.',\n",
       " 'very communicative and helpful host!',\n",
       " 'perfect little room for one or a couple.',\n",
       " 'apartment is clean and organized.',\n",
       " 'great walking distance from many restaurants and shopping.',\n",
       " 'try the pizza across the street.',\n",
       " 'great location, cosy apartment!',\n",
       " 'thanks for the hospitality simon and rasmus,our little holiday was a succes :)',\n",
       " \"had a comfortable stay at simon's place for a few days.\",\n",
       " 'the room is a little small but simon had already warned me about that.',\n",
       " 'used the kitchen for breakfast and cooking a few meals and there are plenty of nearby supermarkets nearby.',\n",
       " 'some lovely cafes and restaurants also in the same neighborhood',\n",
       " 'perfect location for a weekend trip to copenhagen.',\n",
       " 'pretty central, quiet and close to public transport, shops, pubs.',\n",
       " 'simon and signe are great hosts!',\n",
       " 'very nice room with coffee machine and tv.',\n",
       " 'i can highly recommend the place.',\n",
       " \"i'll be back for sure\",\n",
       " 'we really enjoyed our stay with simon and signe in copenhagen.',\n",
       " 'the location of the appartment was in a very nice neighbourhood and simon gave us some very nice tips to discover the city.',\n",
       " 'the best tip was defenitely to visit the museum lousiana.',\n",
       " 'thanks you so much and we´ll defenitely come back to this city!',\n",
       " 'clean and cosy apartment.',\n",
       " 'nice surroundings.',\n",
       " 'simon and signe were very friendly and easy to communicate with.',\n",
       " 'i highly recommend their place.',\n",
       " 'recommended for young couples!',\n",
       " \"after reading all the reviews and the listing, our expectations were met staying at simon's place.\",\n",
       " 'him and his girlfriend were extremely welcoming and my boyfriend and i felt extremely comfortable staying at their place with them.',\n",
       " 'thank you simon!',\n",
       " 'had such an amazing stay!',\n",
       " 'simon gave us great recommendations for things to do, neighborhoods to check out, and even a great bike rental service.',\n",
       " 'the location was great- easy to find from the train station and a short walk/subway ride to the airport.',\n",
       " 'really enjoyed our few days in copenhagen!',\n",
       " \"i really enjoyed my stay at simon and signe's place!\",\n",
       " 'it really felt like a home away from home.',\n",
       " 'the cosy room was perfect for me, with a comfy bed welcoming me home after a day of exploring, and the room had the added benefits of apple tv and a nespresso machine!',\n",
       " \"norrebro is also a lovely area, with lots of restaurants and eateries just around the corner, and parks to enjoy when it's still light in the evening.\",\n",
       " 'only a 20 minute walk to central copenhagen, i would gladly stay with simon and signe again if copenhagen ever beckons again!',\n",
       " 'super nice apartment, great location and super good hosts!',\n",
       " 'the room is small, but signe and simon made sure we had enough space for all our luggage :)',\n",
       " 'we had a wonderful stay in copenhagen at signes and simons tastefully decorated apartement.',\n",
       " 'the room is very nice and sunny ... plus a window to the quiet and park-alike backyard.',\n",
       " 'we could use the kitchen to have breakfast and a good coffee before exploring the city by bike.',\n",
       " 'the flat, best located in nørrebro ... a very interesting and lively district in copenhagen ... maybe one of the best district of copenhagen at present?!',\n",
       " 'evth., bars, cafés, a fine bakery, restaurants, shops etc.',\n",
       " 'accessible by foot.',\n",
       " 'the tavsens park and assistent kirkegard just round the corner.',\n",
       " 'signe and simon are very helpful and friendly hosts.',\n",
       " 'we had a great stay and would love to come back again.',\n",
       " 'adrienne & nils.',\n",
       " 'the apartment was clean and the hosts were very nice!',\n",
       " 'check in and communication was great.',\n",
       " 'very comfortable but small bed.',\n",
       " 'location is a 20-30 minute walk to much of copenhagen but very close to a metro, which we did not choose to utilize.',\n",
       " 'great stay in a great city!',\n",
       " 'nice flat in one of the most beautiful and central neighborhoods of cph.',\n",
       " \"there's a good vibe going on in the flat.\",\n",
       " 'simon and signe were very helpful and friendly.',\n",
       " 'i would always go back to stay with them.',\n",
       " 'we enjoyed our stay in kopenhagen.',\n",
       " \"it's a wonderful city.\",\n",
       " 'the apartment is in the centre of norrebro.',\n",
       " 'you can either reach it by bus or walk.',\n",
       " 'the apartment is very cozy and bright.',\n",
       " 'as you see on the pictures the room is very small but it has it own charm and you find everything you need in it like a mirror, own coffee machine and a wardrobe.',\n",
       " 'the bed is very comfortable and the view is beautiful.',\n",
       " 'you can use the whole apartment and everything is very clean.',\n",
       " \"we didn't meet simon in person because he was in africa but communication with signe worked out perfectly and she's a very nice person and she helped us whenever we needed help.\",\n",
       " \"it was one of the best airbnb's we ever stayed in and we would immediately come back again.\",\n",
       " \"we had a great stay at simon's cosy appartment.\",\n",
       " 'very much recommended.',\n",
       " 'we would definitely recommend simons room.',\n",
       " 'it is quite small but in a very good location  (we explored everything by bike; also a market round the corner) and has everything you need.',\n",
       " 'our check in was quite late due to bus delay, but simon was very nice and stayed up for us... the communication also was very helpful and he always answered very quickly!',\n",
       " 'simon was a great and easy-going host.',\n",
       " 'apartment was beautiful and the location was good.',\n",
       " 'simon gave us awesome airbnb experience.',\n",
       " 'we recommend him!',\n",
       " 'good stay!',\n",
       " 'the flat is very close to the city!',\n",
       " 'simon has been a great host.',\n",
       " 'he was up for a chat, helped us out when in need and replied almost instantly to messages we sent.',\n",
       " 'the room is quite small but fine for a few nights.',\n",
       " 'it is very bright and silent and matches with the images.',\n",
       " 'the neighborhood is pretty cool.',\n",
       " 'there are supermarkets around the corner and the city center is in walking distance (about 25 minutes).',\n",
       " 'we can not complain and recommend this place for short trips :)',\n",
       " 'simon and signe were welcoming and quiet hosts.',\n",
       " 'we enjoyed the cosy room, the perfect quietness of the building at night and the coffee machine inside our room :-)',\n",
       " 'neighborhood was convenient to get to the city center, and the hosts were very nice!',\n",
       " 'i really liked the location which was quite central, just 10 mins walking from the forum metro station.',\n",
       " 'the room was very small with no space to put your stuff, but cosy overall.',\n",
       " 'i was there only for the nights so it was sufficient for me.',\n",
       " 'i really appreciated the flexible check in and check out time, it was very convenient.',\n",
       " 'the internet was poor in the room but worked perfectly well in the kitchen.',\n",
       " 'overall it was a good stay, i would recommend it because of how cool and chilled simon&signe were; they made me feel really comfortable at their place.',\n",
       " \"so great i'm going back to stay on the last leg of my trip.\",\n",
       " 'simon and signe are great, friendly hosts.',\n",
       " 'the location is within walking distance to many points of interest.',\n",
       " 'thanks!',\n",
       " \"i stayed for 9 days at simon and signe's apartment and i was very well received by both.\",\n",
       " 'the apartment is close to everything so i practically walked all over town (you can use a bike instead of walking).',\n",
       " 'the room is not large but has everything needed for one person (or two) to have a good time of rest.',\n",
       " 'kitchen and bathroom are well equipped and everything is very clean.',\n",
       " 'my visit to copenhagen was wonderful and i highly recommend this apartment as accommodation.',\n",
       " 'thanks simon and signe.',\n",
       " 'another wonderful visit.',\n",
       " 'simon and signe are great hosts and are always willing to help with any questions.',\n",
       " 'they are incredibly flexible and friendly.',\n",
       " 'i would recommend anyone to stay there.',\n",
       " 'thanks again.',\n",
       " '-michael',\n",
       " 'nice hosts, nice neighborhood and nice apartment.',\n",
       " \"simon & signe's place was great.\",\n",
       " 'it was a metro ride and short walk from the airport.',\n",
       " 'the room was as described, small but comfortable.',\n",
       " 'both the room and bathroom were clean.',\n",
       " 'simon was very welcoming, he even took his time to show us where the popular sights were in a city map and gave suggestions on local restaurants near his place.',\n",
       " 'we loved our stay and would definitely return if we come back to copenhagen.',\n",
       " 'simon and signe were great host.',\n",
       " 'they had some renovations in the apartment while i was here, but they told me about it weeks before my stay, and they make sure the renovations did not bother me, and it did not affect my room.',\n",
       " 'the apartment is in a very nice neighbourhood.',\n",
       " 'the room is small, but confortable, sunny, equipped with everything.',\n",
       " \"it's at the end of the hallway so you have your intimacy.\",\n",
       " \"i didn't see simon and signe a lot, but they make sure i had everything i need, and the communication was easy with them.\",\n",
       " 'nice cozy place with easy access to everything in copenhagen.',\n",
       " 'exactly as advertised.',\n",
       " 'i only have good words for simon & signe: they were really friendly, communication with them was excellent and they were really flexible with our arrival/departure time.',\n",
       " 'the apartment was very clean and is really well located, in a quiet street but with lots of bars/restaurants nearby.',\n",
       " 'a real airbnb experience!',\n",
       " 'the house is very clean and neat!',\n",
       " 'simon is a very nice man, even like a gentleman!!',\n",
       " 'we were allowed to use the kitchen, and he showed us where his kitchen stuff is.',\n",
       " 'the kitchen is very big and neat you would basically enjoy cooking there!',\n",
       " 'the room is small but we were free to put our suitcases outside at the corridor, so it was fine for us!',\n",
       " 'but everything else was superb so wouldn’t complain for a small room.',\n",
       " 'the neighbour is quiet and friendly.',\n",
       " 'there are cafes, restaurants and ice-cream shops nearby so you could easily buy food.',\n",
       " 'there’s a supermarket near the metro which offers great prices!',\n",
       " 'it’s not far to walk to the city centre, around 20 mins, but the view is so great you won’t know you’ve been walking for 20 mins.',\n",
       " \"i had a great stay at simon's place.\",\n",
       " 'the room was the perfect size for me and everything was really clean.',\n",
       " 'the apartment is located in an area outside of the central city but the area is nice with lots happening and very walkable.',\n",
       " 'fantastic and cozy little room, complete with apple tv.',\n",
       " 'absolutely loved it here!',\n",
       " 'love the stylish furniture.',\n",
       " 'great location and great apartment.',\n",
       " 'lots of cafes, restaurants and bars nearby and the central city is super easy to get to (walking, biking or bus).',\n",
       " 'simon and signe were great hosts - welcoming, easy to arrange things with and super helpful.',\n",
       " 'would happily stay here again!',\n",
       " 'great experience.',\n",
       " 'the host was so nice and the flat is really beatiful and confortable.',\n",
       " 'the neighborhood is quiet and there are some bars and supermarkets in the same street.',\n",
       " 'our stay was amazing!',\n",
       " 'the apartment is in a great location and simon was amazing at communicating with us about check in and such.',\n",
       " 'small, but cozy and clean and surrounded by great restaurants and a close walk to the metro.',\n",
       " 'lovely apartment in great neighborhood with several nice restaurants just around the corner.',\n",
       " 'very warm and welcoming hosts.',\n",
       " 'great place!',\n",
       " \"i will use this airbnb again if i'm ever back in copenhagen.\",\n",
       " 'simon and signe were very nice and accommodating.',\n",
       " 'the apple tv in the bedroom was a plus!',\n",
       " 'simon and signe were very communicative and hospitable.',\n",
       " 'i felt comfortable in the space and felt i had privacy, however, they were both friendly and willing to share insight as well.',\n",
       " 'their place is very close to many restaurants and the park.',\n",
       " 'easy to walk/bike/take the metro from.',\n",
       " 'i had a lovely first visit to copenhagen and would recommend staying with them.',\n",
       " 'everything was supernice and felt clean.',\n",
       " 'very cute appartement well located in a trendy district of the city.',\n",
       " 'signe and simon were nice and helfpul.',\n",
       " 'the bedroom itself is quite small but its possible to store some of your items in the hallway.',\n",
       " 'great place to stay in central copenhagen.',\n",
       " 'excellent facilities and communication.',\n",
       " 'thanks!',\n",
       " 'i stayed here 2nights.',\n",
       " 'though i did not have a chance to met simon, signe welcomed me, and the stay in their place was really nice and everything went smoothly.',\n",
       " 'during my stay, they were really quiet, i even not sure they are in there room or not :-) so i had perfect privacy.',\n",
       " 'i slept well, and my research meeting also was great success, thanks to you.',\n",
       " 'they put japanese green tea for me, was really nice of you.',\n",
       " 'please visit japan sometime again !!',\n",
       " 'mieko',\n",
       " 'we had a great stay at this airbnb.',\n",
       " 'we have stayed at quite a few now, and this one was one of our favorites.',\n",
       " 'their apartment is beautiful and has some of the best natural light i’ve experienced in an apartment.',\n",
       " 'i will reiterate that your room is quite small, so just make sure you are ok with that before you book!',\n",
       " 'it’s clearly stated in their listing that it is small, so you can’t complain!',\n",
       " 'it was very hot in copenhagen, but with the bedroom window open we were comfortable at night, the window is huge and let’s in great air.',\n",
       " 'the location of this place is perfect.',\n",
       " 'you can take a bus from about two minutes from their door, and that bus gets you to the center city very easily.',\n",
       " 'the busses in copenhagen are really good.',\n",
       " 'there is also a lot to explore right around the apartment.',\n",
       " 'cool restaurants, cafes, and a nice beer hall nearby.',\n",
       " 'i recommend this place for sure!',\n",
       " 'simon and his girlfriend are great hosts, the house is quite big and the kitchen is well equipped.',\n",
       " 'although the bedroom is small, it is confortable enough for two people, also simon allows you to use part of the closet.',\n",
       " 'the neighborhood is nice and very close to the city center.',\n",
       " 'highly recommended :)',\n",
       " \"we didn't meet simon.\",\n",
       " 'signe host us very friendly.',\n",
       " 'the apartment is really nice, with all the things you need.',\n",
       " 'the bed is a bit small for two person but the area is really quiet and we slept very well anyway.',\n",
       " 'the price is great especially for copenhagen.',\n",
       " 'absolutely positive experience!',\n",
       " 'simon has a great apartment with everything you need in a fantastic location!',\n",
       " 'simon and signe are very friendly and welcoming and offer a relaxing place for guests.',\n",
       " 'i definitely recommend staying here for a comfortable and hassle free visit!',\n",
       " 'signe was very friendly and really flexible with arrival/departure time.',\n",
       " 'the room is  very comfortable and sunny with a large window into the garden.',\n",
       " 'the hole apartment is very stylish, cosy and well equipped.',\n",
       " 'great location close to the the center and very walkable.',\n",
       " 'i fell in love with this place and copenhagen.',\n",
       " 'quaint wee space nestled among a beautiful and eclectic neighbourhood.',\n",
       " 'the stay does invite a sense of security ideal for female travellers.',\n",
       " 'the small touches added to the space adds warmth and personality.',\n",
       " 'any help that is required in getting to and from the apartment, or perhaps the sights, simon is definitely willing to add his local expertise in the mix.',\n",
       " 'we stayed for 3 nights.his hospitality was excellent,we had a pleasant stay.',\n",
       " 'thank you!',\n",
       " ':)',\n",
       " 'i received a cordial welcome from simon.',\n",
       " \"he's so kind.\",\n",
       " 'i could use his kitchen to prepared my pic-nic and his borrow me a box to put it inside.',\n",
       " 'cool!!',\n",
       " 'the room was perfect for me.',\n",
       " 'good mattress!',\n",
       " 'i slept very well as a baby.',\n",
       " 'his place is easy to find.',\n",
       " \"10' walk from the metro forum (there are a supermarket right next to station).\",\n",
       " \"there's a  bus stop just 2' from the appartement.\",\n",
       " 'sometimes i walked to the center.',\n",
       " 'not far.',\n",
       " 'i enjoyed that.',\n",
       " 'we had a good clean room, the house has good connection to the city centr.',\n",
       " 'the hostess are very friendly.',\n",
       " 'me and my girlfriend stayed with simon and signe for a few days to explore the city.',\n",
       " 'we had a great stay at the apartment, we were allowed to use the cooking facilities and living space as well as the usual bathroom, all of which looked fantastic and were easy to use.',\n",
       " 'the room itself was quite small but was plenty of space for the two of us, we definitely recommend staying here and would do so again.',\n",
       " 'both simon and signe were very welcoming and super friendly.',\n",
       " 'a nespresso machine right next to the bed is something i may have to recreate at home.',\n",
       " 'their place is beautiful and in a great location.',\n",
       " 'in a really nice neighbourhood and close to lots of nice restaurants and coffee shops.',\n",
       " 'the appartement is very nice, the room is small, but just for sleeping ok!',\n",
       " 'they are very kind and if you have any questions there, you can feel free to ask!',\n",
       " 'we would definitely recommend that place to stay!',\n",
       " 'you can even walk into the city and the neighbor hood is really nice as well.',\n",
       " 'they really let you feel at home in their appartement!',\n",
       " 'we had some really nice days in copenhagen and at simons flat.',\n",
       " 'the room was small but for us (two girls) absolutely enough and comfy.',\n",
       " 'thanks a lot, we would recommend it :-)',\n",
       " 'we really enjoyed our stay in signe and simon´s flat in copenhagen.',\n",
       " 'our room was perfectly prepared, clean and cozy.',\n",
       " 'thank you for everything and see you in prague',\n",
       " 'the space is very nice-- the style is very \"hygge\"!',\n",
       " 'it is very clean and was exactly what i needed after long days of sightseeing.',\n",
       " 'guests have access to the kitchen as well, which was very useful.',\n",
       " 'the hosts were also very responsive and gave local tips, which is always a plus!',\n",
       " 'fully recommend!',\n",
       " 'me and my sister stayed at simon’s and signe’s place for a few days.',\n",
       " 'the apartment is very well located – in a lively area with lots of cafés, bars and restaurants and it’s well connected to the city center.',\n",
       " 'the apartment is very cozy, spacious, clean and well equipped.',\n",
       " 'the room itself is pretty small, but it was totally sufficient for our needs.',\n",
       " 'the room is facing a green courtyard, it’s very calm and light.',\n",
       " \"we didn't meet simon, but signe was very kind, easy going and totally flexible with the arrival and departure time.\",\n",
       " 'we really enjoyed our stay and would definitely recommend this  place.',\n",
       " 'nice appartment and well located.',\n",
       " 'by bike, it takes 10min to go to the center of the city.',\n",
       " 'simon was really flexible about our arrival time.',\n",
       " 'i recommend this place !',\n",
       " 'this place is decent for anyone who wants easy access to the city centre, without the noise of the city.',\n",
       " \"the closest metro station is forum, (about a 10 min walk) and from there it's just 2 stops to old town.\",\n",
       " \"the apartment itself is pleasant; the bedroom faces the courtyard which is nice if you're a light sleeper (like me).\",\n",
       " 'the bed is maybe a bit small for a double bed, so if two people are staying it might be a bit tight.',\n",
       " \"there is a nice cafe that's a 1 minute walk from the apartment which has really delicious breakfasts, as well as a good italian restaurant on the other side of the street.\",\n",
       " 'simon greeted us when we arrived in copenhagen first thing in the morning, so the check in process was very smooth and easy.',\n",
       " \"overall good place if you're passing through copenhagen for a few nights and doing some quick sight seeing.\",\n",
       " 'really good host!',\n",
       " 'the communication was easy and smooth.',\n",
       " 'we felt like welcome at simon’s place and really liked this flat.',\n",
       " 'the room is small but can fit 2 people.',\n",
       " 'good walking distance to city centre and you can still take metro if you feel like lazy to walk!',\n",
       " 'great stay here!',\n",
       " 'amazing location - close to everything but a little bit secluded at the same time so nice and quiet in the evening.',\n",
       " 'the flat is lovely and very stylish (made me want to redecorate my house)!',\n",
       " 'would definitely stay here again.',\n",
       " \"we had a very nice stay at simon's place.\",\n",
       " 'the aparment is really comfy.',\n",
       " \"the room is a bit small as described, but we didn't need more space and the bed was confortable for two.\",\n",
       " \"it's easy to arrive to the city center by bus or metro.\",\n",
       " \"we'd totally recommend it.\",\n",
       " 'thank you :)',\n",
       " 'wonderful stay at simon !',\n",
       " 'a wonderful and clean apartment for a great stay in copenhagen, close from everything.',\n",
       " 'the room was really cosy.',\n",
       " 'we had enough space for our stuff, but you should go with someone you know very well because the bed is not that big.',\n",
       " 'we were really glad we could use the rest of the house as well!',\n",
       " 'the bus was very close to the apartment and it brought us to the center in less than 15 minutes.',\n",
       " 'we also really enjoyed café gæst which was just around the corner.',\n",
       " 'there are lots of little restaurants in the neighborhood.',\n",
       " 'we really enjoyed our stay here!',\n",
       " 'it was a great place to stay!',\n",
       " 'very close to the centre by metro,  also it is a lovely 30 mins walk.',\n",
       " 'the apartment is beautiful, very clean and cosy.',\n",
       " 'simon and signe were great to communicate with, very helpful and lovely hosts.',\n",
       " \"simon is a very nice host, the neighborhood is calm and it's not far from city center.\",\n",
       " \"the room is a bit small but there's everything you may need.\",\n",
       " 'i will surely recommand it to my friend!',\n",
       " 'simon and signe are very kind and helpful although we visited on the new year’s eve.',\n",
       " 'the place is located in the cozy area and you can easily access to the downtown by bus or metro.',\n",
       " 'the room was bit small but there was no problem for two people.',\n",
       " 'i recommend this for everyone coming to copenhagen.',\n",
       " 'very charming young couples in the apartment always welcoming and communicating, the cozy room certainly clean with netflix accompanying in the evening :)',\n",
       " 'nice hosts :) very flexibly to everything.',\n",
       " 'i would recommend staying here.',\n",
       " 'great place to stay in copenhagen.',\n",
       " 'well located and exceptional value in a pretty expensive city.',\n",
       " 'we never got to meet simon as he was away but he was an excellent communicator and his brother made an extra effort to make our check in easy and smooth.',\n",
       " 'note that although very comfy the bed is quite small and so is the bedroom.']"
      ]
     },
     "execution_count": 70,
     "metadata": {},
     "output_type": "execute_result"
    }
   ],
   "source": [
    "data.Reviews[0]"
   ]
  },
  {
   "cell_type": "code",
   "execution_count": 71,
   "metadata": {
    "cell_id": "00021-7a51a8bc-d1bc-4ae7-9f06-6bffbb256779",
    "deepnote_cell_type": "code",
    "deepnote_to_be_reexecuted": false,
    "execution_millis": 1,
    "execution_start": 1623510866630,
    "source_hash": "8cf12b64",
    "tags": []
   },
   "outputs": [
    {
     "name": "stderr",
     "output_type": "stream",
     "text": [
      "C:\\Users\\Lenovo\\Anaconda3\\lib\\site-packages\\ipykernel\\ipkernel.py:287: DeprecationWarning: `should_run_async` will not call `transform_cell` automatically in the future. Please pass the result to `transformed_cell` argument and any exception that happen during thetransform in `preprocessing_exc_tuple` in IPython 7.17 and above.\n",
      "  and should_run_async(code)\n"
     ]
    }
   ],
   "source": [
    "# create word clouds for top 3 listings \n",
    "top3_ids = top_3.Listing_ID.unique()"
   ]
  },
  {
   "cell_type": "code",
   "execution_count": 73,
   "metadata": {
    "cell_id": "00013-0f71c5f9-e515-42f8-b8b3-4d1f29b16daf",
    "deepnote_cell_type": "code",
    "deepnote_to_be_reexecuted": false,
    "execution_millis": 27723,
    "execution_start": 1623510915213,
    "source_hash": "ebc43ff1",
    "tags": []
   },
   "outputs": [
    {
     "name": "stderr",
     "output_type": "stream",
     "text": [
      "C:\\Users\\Lenovo\\Anaconda3\\lib\\site-packages\\ipykernel\\ipkernel.py:287: DeprecationWarning: `should_run_async` will not call `transform_cell` automatically in the future. Please pass the result to `transformed_cell` argument and any exception that happen during thetransform in `preprocessing_exc_tuple` in IPython 7.17 and above.\n",
      "  and should_run_async(code)\n"
     ]
    }
   ],
   "source": [
    "# remove punctuation \n",
    "punctuation = list(string.punctuation)\n",
    "def remove_punctuation(text_list,punct_list):\n",
    "    new_text_list = []\n",
    "    for item in text_list: \n",
    "        emptyString=\"\"\n",
    "        newString=re.sub(r'[^\\w\\s]',emptyString,item)\n",
    "        new_text_list.append(newString)\n",
    "    return new_text_list\n",
    "\n",
    "\n",
    "# remove stop words \n",
    "stop_words = stopwords.words('english')\n",
    "def remove_stop_words(text):\n",
    "    filtered_sentence = [w for w in text if not w.lower() in stop_words]\n",
    "    return filtered_sentence\n",
    "\n",
    "# flatten\n",
    "def flatten(text): \n",
    "    flattened = [sentence for review in text for sentence in review]\n",
    "    return flattened \n",
    "  \n",
    "data['Tokenized Reviews'] = data['Reviews'].apply(lambda x: remove_punctuation(x, punctuation))\n",
    "data['Final Reviews'] = data['Tokenized Reviews'].apply(lambda x: remove_stop_words(x))"
   ]
  },
  {
   "cell_type": "code",
   "execution_count": 74,
   "metadata": {
    "cell_id": "00032-d6643fdc-77e3-4a92-b996-5954ae1ee63d",
    "deepnote_cell_type": "code"
   },
   "outputs": [
    {
     "name": "stderr",
     "output_type": "stream",
     "text": [
      "C:\\Users\\Lenovo\\Anaconda3\\lib\\site-packages\\ipykernel\\ipkernel.py:287: DeprecationWarning: `should_run_async` will not call `transform_cell` automatically in the future. Please pass the result to `transformed_cell` argument and any exception that happen during thetransform in `preprocessing_exc_tuple` in IPython 7.17 and above.\n",
      "  and should_run_async(code)\n"
     ]
    },
    {
     "data": {
      "text/plain": [
       "['erik and his family were kind and quiet hosts i would stay there again surely',\n",
       " 'the room was basic but very clean',\n",
       " 'the location itself was not pretty but it was central and was a great base from which to explore the city',\n",
       " 'the shared kitchen and bathroom were not crowded but not super clean not dirty but dont expect it to be like a hotel room just expect it to be as if youre staying at a friends apartment',\n",
       " 'overall a very positive experience with a good location good price good hosts',\n",
       " 'plus copenhagen is a fantastic city',\n",
       " 'this was my first airbnb experience and i have to say im pleasantly impressed',\n",
       " 'my sister suggested me that i can book a nice room in central location at a very convenient price and this is what i did last minute booking in the centre of copenaghen',\n",
       " 'mr erik was very kind in responding immediately about the availability of the room i got the one facing the lake as there is another one towards the end of the house next to the kitchen already occupied never seen the other person though maybe because the house is huge',\n",
       " 'great view confortable bed and very quiet environment',\n",
       " 'eriks two children were very kind in showing me the house features and giving me access to the wifi',\n",
       " 'the place is strategically located in the vesterbro area 7 mins walking to the central station and tivoli park',\n",
       " 'i didnt use any metro or bus as i could walk to the main attractions and at night the living copenhagen is close to the station anyway',\n",
       " 'great choice reccommended i will come back to finish my visits',\n",
       " 'eriks apartment is large and the room is quietly located away from the living areas',\n",
       " 'the room is small clean and tidy but perfect for a single person who just needs a place to sleep',\n",
       " 'the location of the apartment is excellent for tourists near theaters and lots of restaurants',\n",
       " 'happy to recommend',\n",
       " 'lovely ubication and apparently lovely family even i handt had the opportunity to talk with them that much',\n",
       " 'small room but ok for a few days',\n",
       " 'for me the only problem i wouldnt recommend this place is cleaning',\n",
       " 'dont expect to be the cleanest house evernot even that',\n",
       " 'and its a 4th floor without elevator just in case you travel with big luggage',\n",
       " 'apart from that copengague is a small and beautiful city youre within walking distance from the apartment pretty much everywhere',\n",
       " 'eriks room is cozy and lovely',\n",
       " 'very comfortable and the balcony with breeze is a perfect place if you need some reading time',\n",
       " 'location is very good  close to the train station and with eriks detailed instruction you can just find it without any problems',\n",
       " 'the little master eriks son did a great job in showing me the apartment  thank you',\n",
       " 'this is my first airbnb experience and its just great',\n",
       " 'serves all the my need and this is a great choice for anyone whos travelling alone in cph',\n",
       " 'erik and his wife are fantastic and most helpful hosts',\n",
       " 'the apartment is gorgeous and the location to all corners of amsterdam is wonderful especially by bike',\n",
       " 'and the lakes right outside the front door make for wonderful evening walks',\n",
       " 'must stay',\n",
       " 'erik and his family were very nice helpful and accommodating',\n",
       " 'the location cant be beat and the apartment and the room are charming',\n",
       " 'erik is a nice host and the room is pretty nice too',\n",
       " 'absolutely recommendable',\n",
       " 'erik and his family was great host for my first exprence for airbnb',\n",
       " 'a great stay in copenhagen',\n",
       " 'i had a very pleasant stay with erik on my trip to copenhagen',\n",
       " 'as stated the room is in the heart of town and an easy walk to a lot of great places yet its no so in the middle of things that its not quiet and peaceful',\n",
       " 'id happily stay there again',\n",
       " 'thoroughly enjoyed my stay with the willumsgaards and cannot wait to go back',\n",
       " 'their charming home will become my goto lodging whenever i make it to copenhagen the home itself is beautiful and perfectly located in a neighbourhood that turned out to be one of my favourite areas in the city as well as conveniently located',\n",
       " 'everything a guest could possibly need is close by accessible by walking bus or public transit',\n",
       " '2 stations are near the home',\n",
       " 'the room itself is exactly as pictured small but cozy and nicely decorated with everything that i needed a comfortable bed a nice armoire a desk and a gorgeous window with great light',\n",
       " 'as hosts the willumsgaards are warm and unobtrusive making sure that a guest has everything heshe needs from directions to clean towels',\n",
       " 'i loved being part of their extended family for a short while',\n",
       " 'i believe i only stayed with the willumsgaards for 2 or 3 days  i mostly slept',\n",
       " 'however in the short time i was there i came to the conclusion that they are very nice  helpful that the bed was very comfy  that it is a fantastic location for such a reasonable cost',\n",
       " 'really the location is perfect right in the heart of cph',\n",
       " 'eriks apartment is perfect',\n",
       " 'i couldnt have asked for a nicer place to stay',\n",
       " 'clean eclectic beautiful and in a great neighborhood very close to the train station too',\n",
       " 'erik himself is also very welcoming and friendly',\n",
       " 'thanks',\n",
       " 'erik was very nice',\n",
       " 'his place is so interesting lovely really',\n",
       " 'i felt at home from the minute i stepped through the door',\n",
       " 'it is also super convenient to the stationand very clean',\n",
       " 'i recommend this place',\n",
       " 'really great experience and warmly recommended',\n",
       " 'the room is small but sufficient and comfortable',\n",
       " 'erik and his family were very welcoming and helpful with tips for traveling in copenhagen',\n",
       " 'although there is only one bathroom in the house it didnt bother me at all',\n",
       " 'its also quite easy to walk to the place from central station 10 minutes',\n",
       " 'i did not have chance to meet erik the book was chancle but it was very nice to talk to him and was nice he send the money back',\n",
       " 'hope next trip',\n",
       " 'very friendly host and a tidy bright room at a convenient location to explore the city',\n",
       " 'very good first airbnb experience',\n",
       " 'thank you willumsgaard family',\n",
       " 'i completely share the positive vibe of the other reviews',\n",
       " 'this is a small but very quite and comfortable room in a fantastic location',\n",
       " 'i did not get to meet erik personally but his family was very welcoming',\n",
       " 'staying there for a few days was completely unproblematic i was attending a conference in copenhagen and i would come any time again',\n",
       " 'a feature not yet mentioned in the other reviews and description is that the location is particularly great for runners',\n",
       " 'if you like to go running you know probably know that it can be difficult to find a good route in a foreign city',\n",
       " 'here it is right at your doorstep just go for a few miles around the long rectangular lakes in the city',\n",
       " 'you cannot miss them',\n",
       " 'the room was exactly what i needed after more than 20 hours in the air train and foot from san francisco',\n",
       " 'it was easy to walk to from the central station erik was waiting and the room was comfortable',\n",
       " 'its actually away a little bit from the familys rooms',\n",
       " 'in the neighborhood i even found a nice economical place for a tasty and satisfying dinner',\n",
       " 'erik and family were warm and helpful',\n",
       " 'erik is very kind person help me a lot',\n",
       " 'he give me a hand to let me use his internet and computer even that time i already had checkout',\n",
       " 'also a nice location',\n",
       " 'its very convenience to the main station and bus 15 is just in front of his building',\n",
       " 'quite a lot nice coffee bar nearby',\n",
       " 'one shortcoming is the internet signal is not very well but he said he will change his router in the soon future',\n",
       " 'erik and his wife bendt are very helpful and kind people',\n",
       " 'i really recomend this centric room',\n",
       " 'i did not have a chance to meet erik only his family',\n",
       " 'it was my first airbnb experience and was exactly what i expected',\n",
       " 'the room is small but very clean and the location is realy good',\n",
       " 'nice little room near the train station',\n",
       " 'erik the host was very helpful in pointing out places to get food and it was great to be able to make breakfasts in the morning',\n",
       " 'no noise from the street makes for a peaceful sleep',\n",
       " 'all in all a good place to stay',\n",
       " 'eriks place is a very beautiful old apartment',\n",
       " 'its not far from the station though bear in mind the lovely old building has no elevator so dont bring too much luggage',\n",
       " 'great place to explore copenhagen from',\n",
       " 'thanks very much',\n",
       " 'nice small and comfortable room in a beautiful old house with good location',\n",
       " 'lovely helpful hosts',\n",
       " 'recommend',\n",
       " 'just like everybody else said before small room but has everything you need walking distance to the central station a lovely host family',\n",
       " 'it was my first airbnb experience and i love it',\n",
       " 'i had a marvelous stay in copenhagen at eriks apartment  which is perfectly located in very center of the city',\n",
       " 'the room is nice and cozy you have everything you need there',\n",
       " 'the whole family was very helpful and kind  fantastic hosts',\n",
       " 'thank you ',\n",
       " 'my stay with erik and his family in copenhagen was very enjoyable',\n",
       " 'the apartment is in a great location  quite close to copenhagen station and the tivoli gardens',\n",
       " 'the room was comfortable and the apartment a beautiful scandinavian home',\n",
       " 'erik was an excellent host with helpful suggestions about the city',\n",
       " 'thanks again for the great place to stay',\n",
       " 'our stay in copenhagen was really relaxing and erik was very kind and nice with us',\n",
       " 'central and quiet uncomlicated and nice family and hosts i really enjoyed my days in copenhagen',\n",
       " 'ulrike',\n",
       " 'perfect place',\n",
       " 'really nice family and so close to the centre',\n",
       " 'a traditional danish apartment in my eyes',\n",
       " 'nice decor',\n",
       " 'i slept well in this little room during my work visit in copenhagen',\n",
       " 'the  neighbourhood has many cafes restaurants and shops and one can go for a walk or jog so many joggers in copenhagen around the lake right opposite',\n",
       " 'the room is small but bright and clean and the bed is comfortable',\n",
       " 'this is a very appealing and likeable place to stay for people who prefer simplicity over consumer luxury and who like the charm of old buildings rather than modern chic',\n",
       " 'my stay at eriks and his family was exactly what i was looking for a room in central copenhagen within walking distance of the tourist sites and ease to get to the airport a bus literally literally picks you up at the front door the central station is 5min by foot and you can then catch a train straight to the airport in 20min',\n",
       " 'erik was very welcoming and replied straightaway when i emailed the day before looking for a room to stay for the weekend',\n",
       " 'he was there to welcome me and provided me with a map of the city and all the info on the main attractions to do in copenhagen',\n",
       " 'he had great advice on restaurants to go to as well i recommend the obelix cafe right behind his place if youre looking for a reasonably priced dinner after a long touristing day \\r\\nhis family was very friendly too and i could use the kitchen for small breakfast and tea which was great',\n",
       " 'the room was very small but for a weekend alone it was perfect',\n",
       " 'i highly recommend eriks place if youre looking for a place to stay',\n",
       " 'it was the first time i booked as a lodger with a family',\n",
       " 'it worked just fine staying in a well located apartment with an patina of lancien régime',\n",
       " 'what can i say',\n",
       " 'perfect location nice room wonderful host  thanks',\n",
       " 'tell others in the airbnb community about your stay',\n",
       " 'everything was perfect ',\n",
       " 'erik and all his family were very welcoming and friendly',\n",
       " 'i felt like home during my 5daylong trip',\n",
       " 'plus the apartment is beauitful and perfectly located',\n",
       " 'we arrived late at eriks place and he was still up waiting for us',\n",
       " 'he showed us the room and gave us a map to help us visit the city',\n",
       " 'erik is very friendly and we felt more than welcome in his appartment which is very well located',\n",
       " 'we didnt have time to know much more about his place because we left early in the morning but seems great',\n",
       " 'the room was easy toxins clean and central',\n",
       " 'happy with the stay',\n",
       " 'had a one night layover in copenhagen and this was just what i needed',\n",
       " 'clean comfortable room very close to the central train station and no hassles',\n",
       " 'did not get to meet erik personally but his two kids were great in getting me acquainted with the apartment and room',\n",
       " 'thanks again for hosting me',\n",
       " 'clean comfortable room',\n",
       " 'great location',\n",
       " 'eriks airbnb apartment is located in a lovely character townhouse very close to central copenhagen',\n",
       " 'it is only a short walk to the planetarium lakes central train station tivoli gardens and much more',\n",
       " 'the room was clean compact and very comfortable',\n",
       " 'i did not meet much of eriks family since i was only there 1 night but the whole area was quiet secure and pleasant',\n",
       " 'i enjoyed my short stay',\n",
       " 'clean and tidy room very conveniently located in vesterboro near to both the centre of copenhagen and the suburb of frederiksberg',\n",
       " 'friendly quiet and considerate family all of whom seemed very willing to help with any of my questions or concerns',\n",
       " 'personal key meant that it was easy to come and go as i pleased',\n",
       " 'would recommend to anybody staying in copenhagen',\n",
       " 'i really enjoyed staying at eriks place',\n",
       " 'totally recommend it',\n",
       " 'a clean room at a central location and very very nice family',\n",
       " 'very convenient location and so central to the main sights being in the middle of town and just a few minutes walk from the central train station and tivoli',\n",
       " 'this is a wonderful family home with great hosts',\n",
       " 'i enjoyed a couple of great conversations with erik and he and his wife are most welcoming and warm towards their guests',\n",
       " 'really lovely and engaging family',\n",
       " 'the room was very comfortable and although my stay was very short i felt like it was a home away from home',\n",
       " 'my one night stay at eriks place was perfect',\n",
       " 'the apartment is really beautiful with its old floors and danish furniture',\n",
       " 'its only minutes away by walking from the train station and erik showed me where to rent a bicycle',\n",
       " 'i would definitely stay there again',\n",
       " 'my first airbnb ever  definately a success',\n",
       " 'although i did not meet erik but his sister was so friendly  i very much enjoyed our talks in the evening',\n",
       " 'i can recommend to everyone',\n",
       " 'the room was exactly like the picture  the flat was very close to city centre  central station',\n",
       " 'from the living room you have an amazing view overlooking the little city lake',\n",
       " 'most of the sightseeings are even walkable from eriks home ',\n",
       " 'nice room really good place and good service',\n",
       " '',\n",
       " 'i spend two nights at eriks place and it could not have been better',\n",
       " 'i visited copenhagen fashion week and the central location was perfect for that matter',\n",
       " 'furthermore the family is very welcoming and you can come and go at any time during the day',\n",
       " 'just what i needed',\n",
       " 'spending an august week in copenhagen with a busy daily schedule yet also wanting to do some nightly exploring i could hardly have made a better pick than this room and spot',\n",
       " 'while the former is absolutely no frills yet clean neat tidy and quiet the latter is both close to the central station and hip and happening vesterbro and its gloriously cool meat packing district',\n",
       " 'moreover erik willumsgaard and his family have been very welcoming which for anyone being a first time stranger as i was to copenhagen is no mere luxury',\n",
       " 'they kindly and readily answered my questions suggested places for me to check out while not in any way obtruding themselves on me if not sollicited',\n",
       " 'so i highly recommend this room to anyone looking for a place to lay their head to rest',\n",
       " 'my name is anita og i am from denmark i spent 1 day in eriks flat',\n",
       " 'as a host erik was sympathic and accomodating',\n",
       " 'i received info about where to eat and  he made sure to ask if i knew copenhagen',\n",
       " 'when i arrived another guest was there\\r\\nbut my room was free',\n",
       " 'i enjoyed my stay which satisfied my need for a place to stay',\n",
       " 'the room was nice clean and pleasant \\r\\nto live in',\n",
       " 'there was nothing annoying like noise or light coming in to the room',\n",
       " 'the flat is just across the lakes and \\r\\nclosed to the busstop and trains',\n",
       " 'all in all a pleasant surprise',\n",
       " 'beautiful home in a great location',\n",
       " 'erik was very welcoming',\n",
       " 'it felt like being at home',\n",
       " 'great stay with a great family in a convenient part of cph  no complaints',\n",
       " 'if you can take a few minutes on the buildings roof deck to admire the view  you can even see the rides at tivoli gardens ',\n",
       " 'erik and his family are very friendly hosts',\n",
       " 'the place is homely and comfortable and the location on the edge of the lake is great',\n",
       " 'great space',\n",
       " 'very quiet and private',\n",
       " 'a wonderful location close to the city and many small shops but still far from the hustle and bustle',\n",
       " 'easy to get to from central station and right next to the park where i went on several runs',\n",
       " 'erik was very accommodating upon my arrival and during my stay',\n",
       " 'i would definitely recommend and would stay with the willumsgaard family again',\n",
       " 'its a lovely big old apartment the logistics went very smoothly and i will definitely come back here again if the occasion arises',\n",
       " 'the apartment is very well located',\n",
       " 'it is an easy walk from the central train station and just about everywhere in central copenhagen',\n",
       " 'erik and family were very welcoming and helpful with questions about the city',\n",
       " 'i would highly recommend this place',\n",
       " 'a very pleasant stay in the heart of copenhagen',\n",
       " 'lovely hosts and highly recommended',\n",
       " 'this room is part of a large apartment in a block of apartments built in 1868 situated in a very handy position to shops cafes central station and city hall',\n",
       " 'there is a secure front entrance door and a lift if needed',\n",
       " 'eric was very helpful with luggage and providing helpful information and there is a warm and easygoing atmosphere in the household',\n",
       " 'use of the shared bathroom was not a problem',\n",
       " 'the rooms window faces a courtyard so there is no traffic noise',\n",
       " 'a key is provided with the door of the room as well as for the apartment',\n",
       " 'the bed is very good',\n",
       " 'i would stay here again and highly recommend it to others looking for a safe friendly and wellpriced room in a central location',\n",
       " 'why live with other tourists when you can live with and gain insight into the lives of locals',\n",
       " 'erik and family was such a great host',\n",
       " 'i arrived to copenhagen on saturday morning and was welcomed by erik despite the room was not available until noon',\n",
       " 'he gave me a map of the city and a suggestion where to have a good early breakfast to overcome the jetlag',\n",
       " 'the room was perfect for my needs and i was able to sight see until after hours',\n",
       " 'found a great restaurant in vesterbro madklubben which was near the home as the area is really nice with lots of places to eat and close to city center which i walked constantly',\n",
       " 'nett  nett i truly had a very exciting and inspiring time in copenhagen and helsignor',\n",
       " 'it was a pity that i did not have the opportunity to meet again when leaving on monday',\n",
       " 'but i would recommend travelers to be at eriks',\n",
       " 'im satisfied with staying here',\n",
       " 'the location is best for those who travel by plane or train and also for typical tourists whore interested in old city',\n",
       " 'you can easily reach old city tourist office central station by walking',\n",
       " 'also therere good grocery stores nearby',\n",
       " 'i havent mentioned cafes and restaurants since theyre everywhere in copenhagen \\r\\n\\r\\nmany things i mentioned above i learnt from eric  on our first meeting eric described city and showed some key points on map',\n",
       " 'he also helped me with some questions during my stay',\n",
       " 'as for me its a reason to prefer living in touch with locals \\r\\n\\r\\ni cant say i know a lot about danish architecture and housing but erics home seemed to me very traditional and authentic',\n",
       " 'wooden floors white walls massive gasstove etc',\n",
       " 'i find it pleasant to live in a such atmosphere while exploring new country',\n",
       " 'maybe i should concern sharing bathroom and toilet with erics family 4 people',\n",
       " 'it wasnt a big problem for me but few times i had to wait a little \\r\\n\\r\\nenjoy copenhagen',\n",
       " 'the room is quiet and cozy and the location is absolutely fantastic',\n",
       " 'wifi is ok but a bit flakyslow',\n",
       " 'the bed is not huge but very comfy',\n",
       " 'all in all a very good room if your plan is to spend your days exploring copenhagen',\n",
       " 'booked the room for my mother visiting me',\n",
       " 'great location close to the central station and the old town',\n",
       " 'also close to hip vesterbro for going out and right by the lakes to go for your morning jog',\n",
       " 'communication was easy with erik and everything worked out great',\n",
       " 'wonderful apartment',\n",
       " 'great room in great apartment in great location with great people',\n",
       " 'definitely recommend',\n",
       " 'the checkin was a smooth process room and the overall house was very clean and wellequipped',\n",
       " 'highly recommended',\n",
       " 'great location close to the railway station',\n",
       " 'ideal for exploring the city everything is on walking distance',\n",
       " 'pubs restaurants try the vietnamese next tot the ny teatre its awesome',\n",
       " ' tivoli musea etc',\n",
       " 'the family is warm and easy in letting you use their kitchen en bathroom',\n",
       " 'i had the big room with a good view on the pont',\n",
       " 'the house is in a great location',\n",
       " 'it was an easy walk to stroget the university and tivoli',\n",
       " 'there is a bus stop directly outside the house as well as a pub',\n",
       " 'the room was clean bin was not emptied and matched the picture shown however there is a light directly approximately 20 cm above the pillow which was unexpected',\n",
       " 'the room is very quiet from external noises however it shares a wall with the kitchen which contains the washing machine and dryer',\n",
       " 'the kitchen was a busy place at night during my 8 day stay',\n",
       " 'on a few occasions dishes and clothes were being washed between 1230am  300 am with no concern for guest wellbeing',\n",
       " 'the fridge is very small please check there is space available prior to buying anything perishable',\n",
       " 'all mugs had lots of coffee stains in them  if this is an issue i suggest bringing your own',\n",
       " 'the tap water is drinkable and quite refreshing  no chlorine taste at all',\n",
       " 'also for those who are used to western standingup showers  you will find the water pressure to be low possibly because the apartment is on the 4th floor and there is no motor available',\n",
       " 'erik was a very hospitable host  showing key tourist destinations on a city map upon arrival',\n",
       " 'he seemed genuinely interested to help me navigate the city  even letting me know when i was potentially cheated on taxi fare',\n",
       " 'i arrived early sat morning and was able to leave my luggage and have a shower prior to the room becoming available at noon',\n",
       " 'overall it was a valueformoney room with all the amenities a single traveler could need  there was even a hairdryer in the wardrobe aswell',\n",
       " 'in terms of practicality i would highly recommend this room and erik as your host in copenhagen ',\n",
       " 'very nice place  quite close to the train station',\n",
       " 'the room is as beautiful as at the photos',\n",
       " 'erik provided me with a map and some tips for the city',\n",
       " 'was just there for one night but would go there again',\n",
       " 'i enjoyed my stay at eriks place',\n",
       " 'definitely a good location if your only staying for a short time in copenhagen',\n",
       " 'hopefully i could come back again and hopefully for much longer',\n",
       " 'eriks apartment is full of character and charm',\n",
       " 'it has a very bohemian feel that i find to be an acquired taste',\n",
       " 'the room is small but cosy',\n",
       " 'while there is only a thin wall separating the room from the kitchen i didnt find the noise from the washing machine or the dishwasher overly intrusive',\n",
       " 'i didnt get to interact with his kids but erik and his wife were extremely hospitable and readily gave me advice on the attractions and restaurants in copenhagen',\n",
       " 'excellent value for money wonderfully located and generally as described by the host although one must remember that lighting can vary and the rooms will not look as bright in the winter or on cloudy days',\n",
       " 'the highlight of the apartment is its location in the vesterport central station kobenhavn h area with plenty of bars shops restaurants in the vicinity',\n",
       " 'youll never feel bored or alone most times of day and night in this neighborhood',\n",
       " 'the family themselves are very nice people and although my stay was relatively short 3 days i did like the general vibes i picked up in the home',\n",
       " 'bente and erik will be happy to give you some good tips on what to do and where to go in and around copenhagen',\n",
       " 'the hosts description of the home is correct ie',\n",
       " 'it is old that also makes it special old houses can be nice and some things will take some getting used to eg',\n",
       " 'it would be nice to see a shower curtain fixture  assuming it is technically feasible  in the bath to ensure the floor stays dry but the home is well equipped for the most part',\n",
       " 'erik and bente were kind enough to receive forwarded mail on my behalf because i am travelling for a long period of time',\n",
       " 'many thanks to them for that',\n",
       " 'all in all',\n",
       " 'its excellent value for money in an excellent location with a very nice host family',\n",
       " 'this was just the respite we needed',\n",
       " 'bente and erik willumsgaard we so very hospitable to my daughter and me',\n",
       " 'the room was perfect and the location was just great',\n",
       " 'we had great time in copengagen',\n",
       " 'thanks erik  bente',\n",
       " 'recomended all',\n",
       " 'great location and easy going hosts',\n",
       " 'i arrived quite late on a friday night but was still welcomed warmly and shown around',\n",
       " 'very central place to stay',\n",
       " 'just 15 minutes walk down town',\n",
       " 'friendly hosts',\n",
       " 'cph is such a beautiful city',\n",
       " 'i stayed at bentes for 3 nights',\n",
       " 'my stay was great the house is located very close to the city center and one can easily walk and explore the surrounding areas',\n",
       " 'plenty of restaurants stores and a big supermarket located close by',\n",
       " 'the room was clean i had all i needed and i felt at home',\n",
       " 'bente and her family are really kind people i very much appreciated the helpful tips they gave me',\n",
       " 'if you plan to go further than the city center and visit other places like christiania or other neighborhoods you might want to consider buying the city pass',\n",
       " 'i bought one for 72 hours and granted me with unlimited rides on the buses trains and metros',\n",
       " 'i found it worthy and at night when i was really tired and did not want to walk i took the bus 9a which left me just in front of bentes house',\n",
       " 'if going to cph again i will for sure go back and stay at bentes  i can truly recommend the place',\n",
       " 'the host family is very nice and helpful',\n",
       " 'the room is clean but a bit smaller compared from the picture shown',\n",
       " 'the price is fair for a night to sleep',\n",
       " 'the shared toilet and bathroom is a bit old',\n",
       " 'bente and erik were great hosts during my short stay in københavn',\n",
       " 'the room is really well located  close to the central train station and vesterbro station',\n",
       " 'the neighbourhood is very vibrant and youll find everything at your fingertips',\n",
       " 'the room was tidy but a bit smaller than i initially depicted from the images here on airbnb',\n",
       " 'the bed was really comfortable and i had very good sleep in it',\n",
       " 'the hosts are really flexible regarding check in and check out times and you can even leave your luggage there on the day of checkout if you want to explore the city a bit more',\n",
       " 'erik gave me a map with some hot tips where to eat and we had some nice talks in the evening',\n",
       " 'both erik and bente are downtoearth nice persons and true copenhageners',\n",
       " 'i can absolutely recommend this place for short term stay in the city',\n",
       " 'great location  good communications  bente and erik were good hosts ',\n",
       " 'very nice people  everything was perfect ',\n",
       " 'the flat is very big ',\n",
       " 'looks an historical building but with modern things ',\n",
       " 'i would recommend  to anyone ',\n",
       " 'my stay was too short but the room in this beautiful blue house was exactly what i needed',\n",
       " 'i would stay there again',\n",
       " 'comfortable bed and homely room',\n",
       " 'bente and erik was so awesome people and very helpful',\n",
       " 'location was perfect',\n",
       " 'amazing central location',\n",
       " 'the room is just big enough maybe a little tight for 2 people but it was perfect for just me',\n",
       " 'i was welcomed and showed around by bente and eriks daughter but did not meet erik until i had already been there for a day and did not meet bente until my third day there',\n",
       " 'i wish they had made slightly more of an effort to introduce themselves and make me feel welcome but nonetheless it was a nice stay',\n",
       " 'very comfortable room and welcoming host',\n",
       " 'i stayed in bentes place for 4 nights',\n",
       " 'the location is great',\n",
       " 'lots of nice shops and cafes around',\n",
       " 'its very nice to walk around even just around their place',\n",
       " 'there is a beautiful park and lake just opposite',\n",
       " 'the host eric  bente is very nice',\n",
       " 'they are very friendly and easy to talk with they gave me a lot of tips of the places to see in copenhagen',\n",
       " 'definitely worth the value of what you paid for the room i will recommend any travellers to stay in their place',\n",
       " 'it was a pleasure to stay in bente and eriks beatiful room for the night',\n",
       " 'the location was perfect and the room was clean and comfortable',\n",
       " 'bente and her family were welcoming and hospitable',\n",
       " 'i can highly recommend this place to anyone wanting to explore cph',\n",
       " '',\n",
       " 'bente  eriks room is absolutely charming and cozy',\n",
       " 'i had a great time for a twoday stay  bed was very comfortable and warm room was a great location to downtown',\n",
       " 'erik was also very hospitable and gave me a  map and recommendations i especially liked the obelix cafe in the square nearby',\n",
       " 'i was also able to use the fridge to store my food while i was there',\n",
       " 'my only minor issue is that the walls were very thin so sometimes in the morning or very late at night i could hear people moving around in the kitchen but i usually bring earplugs for such scenarios',\n",
       " 'overall i had a great stay',\n",
       " 'bente and erik warmly welcomed me into their home',\n",
       " 'they were helpful with suggesting where to go during my short stay',\n",
       " 'i very much enjoyed my experience with them',\n",
       " 'the location was great and the room nice and quiet',\n",
       " 'i would definitely recommend them ',\n",
       " 'ive enjoyed my stay in bente  eriks home for a long weekend in copenhagen',\n",
       " 'it was a very friendly atmosphere and all the members of the family were always helpful',\n",
       " 'the single room was clean and cosy also the small balcony was a place for relaxthe house is placed in the near of the centrum of copenhagen and its easy to walk to some interesting places around this area of copenhagen',\n",
       " 'it has shopscafes restaurants  and so on in the near',\n",
       " 'and if you have time at your stayyou must rent a bicycle at a shop und explore this interesting town on the road',\n",
       " 'thanks again bente  erik  kids for this wonderful experience with you together',\n",
       " 'sure i will come back once a time to your home',\n",
       " 'take care and good tim website hidden by airbnb',\n",
       " 'an amazing old quirky and beautiful apartment in perfect proximity to the central station and other attractions in the city',\n",
       " 'the room was comfortable and had everything i needed',\n",
       " 'i didnt meet bente but her husband erik was very helpful and knowledgeable',\n",
       " 'i look forward to staying there on my return for longer',\n",
       " 'bente and her family were amazing so welcoming and friendly even after i booked very short notice',\n",
       " 'the room was very clean and charming the rest of the apartment is so beautiful and the view was great',\n",
       " 'the neighborhood is amazing',\n",
       " 'so close to all the great sights in copenhagen walking distance',\n",
       " 'staying at bente places gives you a great experience into danish life her family was also very helpful with information',\n",
       " 'i would recommend them to anyone staying in copenhagen',\n",
       " 'i will definitely be back',\n",
       " 'thanks again',\n",
       " 'bente and eric are wonderful hosts',\n",
       " 'quite and clean place',\n",
       " 'location is very central everthing is easy to reach',\n",
       " 'thanks a lot for the warm welcome and the very useful informations',\n",
       " 'i had a short but lovely stay at the willumsgaard familys home',\n",
       " 'the room is very charming clean and the bed perfectly comfortable',\n",
       " 'thanks again',\n",
       " '',\n",
       " 'room was good nicely located and the people were nice',\n",
       " 'comfy room perfect location',\n",
       " 'the willumsgaards are super nice people',\n",
       " 'would recommend',\n",
       " 'my daughter and i had a wonderful experience',\n",
       " 'the room and the lovely hosts were exactly what we were looking for during our time in copenhagen',\n",
       " 'we spent only one night yet were made to feel at home',\n",
       " 'the location was perfect for us  walking distance to central station and tivoli which were important to us',\n",
       " 'thank you for letting us into your home',\n",
       " 'i had a short stay and due to this i have really appreciated the central location and the calm of the room',\n",
       " 'erik  bente  are helpful and nice hosts',\n",
       " 'first class experience',\n",
       " 'a lovely room in a great location',\n",
       " 'a stones throw from the central station',\n",
       " 'didnt meet bente but erik and their daughter made me feel really welcome',\n",
       " 'id highly recommend this room and hope to vivit agagin soon',\n",
       " 'thank you',\n",
       " 'when i arrived i got very useful informations and a map of copenhagen',\n",
       " 'the room is comfortable for city trips',\n",
       " 'as it is between balcony and kitchen it was sometimes not as quiet as i am used to',\n",
       " 'very small toilette and bathroom are seperate rooms which you may dont feel comfortable to use every hour of the day as adjoining the master bedroom',\n",
       " 'good to know the flat is on the 4th',\n",
       " 'floor as described so challenging with baggage to lug up and down',\n",
       " 'bente and eric are kind hosts and have a beautiful old apartment',\n",
       " 'its clean quiet and located close to the central station',\n",
       " 'i would recommend staying there',\n",
       " 'i had a nice if short stay at bentes place',\n",
       " 'the room was nice and bed was comfortable',\n",
       " 'also the apartment is in a great location very close to the central station',\n",
       " 'would stay there again',\n",
       " 'nice place to stay',\n",
       " 'easy to find and nice hosts',\n",
       " 'recommend',\n",
       " 'nice people but unreliable',\n",
       " 'the host was not home when i arrived so i had to wait about a half hour on the street below',\n",
       " 'finally i was let in by other guests',\n",
       " 'had to haul my heavy bags up to the fourth floor',\n",
       " 'since i couldnt carry them all up at the same time i had to leave a couple of them on a lower landing in that old building',\n",
       " 'i later discovered one of the bags had been broken into and some of the contents stolen while unattended for only a few minutes',\n",
       " 'the host was very sorry but could do nothing about it',\n",
       " 'the problem had to do with the lack of security in the building',\n",
       " 'the accommodations were clean but rather cluttered and shoddy',\n",
       " 'i was helped by other guests more than by the host',\n",
       " 'i learned when leaving that there was after all a lift in the building which i was allowed to use to get my bags down to the street when leaving',\n",
       " 'because of the insecurity of the location i would not give this property a good rating',\n",
       " 'i stayed with bente and erik for 2 nights and found the apartment to be a great location from which to explore copenhagen',\n",
       " 'it is an easy walk to central station and tivoli and you can then reach the centre of town or christianborg',\n",
       " 'the room is bright clean and has all the essentials',\n",
       " 'the only downside is that it can be quite noisy as it is right next to the kitchen',\n",
       " 'the bathroom and toilet are separate but they are both close to the room',\n",
       " 'the bath has a handheld showerhead which i found rather awkward',\n",
       " 'erik was very helpful and provided me with maps and suggestions of places to go',\n",
       " 'he was also happy to answer my numerous questions',\n",
       " 'i only met bente very briefly one morning so most of my contact was with erik',\n",
       " 'bente and her husband erik were really helpful and easygoing hosts',\n",
       " 'when i arrived to the city they showed the main tourist attractions from map recommended areas to eat and later gave good information about the trains to the airport',\n",
       " 'i was also able to leave my luggage to their apartment until the evening when my flight was even they were not at home themselves',\n",
       " 'i was happy to stay at bentes home',\n",
       " 'i was only in copenhagen for one night',\n",
       " 'the location was excellent and only a few blocks from the train station',\n",
       " 'the room was very comfortable and even though i didnt get a chance to meet bente i enjoyed my stay',\n",
       " 'i would highly recommend for individual travelers',\n",
       " 'great host excellent location',\n",
       " 'the family was truly kind to me with hosipitality',\n",
       " 'i could learn a lot of things from them',\n",
       " 'the location is close to the central station and the way to this house is simple',\n",
       " 'the host gave me enough information to go around copenhagen',\n",
       " 'in addition christiania district one of the famous sightseeing spots is directly linked via a bus',\n",
       " 'thanks to everything',\n",
       " 'i really enjoyed',\n",
       " 'my room was acceptable the hoster has been renting the room out as a summer resort for more then 15 years so their service and hostability are more than satisfying',\n",
       " 'although there were a little problem with the bathroom drain but the couple got it fixed right away',\n",
       " 'overall my expirence at the apartment was delightfull the location and atomsfare was incredible i really enjoyed the stay',\n",
       " 'really enjoyed my stay with the willumsgaard family and would definitely stay again',\n",
       " 'the room was clean and comfortable and had just enough room for one person',\n",
       " 'the location of the apartment was perfect you can easily get pretty much everywhere in the city by foot by bike or public transportation',\n",
       " 'both erik and bente were really friendly  helpful',\n",
       " 'they were also flexible with checkin and checkout times  i arrived early in the morning and could bring my bags to the apartment before heading to town',\n",
       " 'and when leaving i could leave my bags at the apartment until the evening',\n",
       " 'highly recommended',\n",
       " 'the location is very central with just a 10minutes walk from the copenhagen central station',\n",
       " 'the accommodation is cosy with basic utilities provided',\n",
       " 'i had a very nice 3day stay in copenhagen',\n",
       " 'the room was very easy to arrive at by foot from the main transit station',\n",
       " 'the price was great',\n",
       " 'the hosts were very friendly',\n",
       " 'i would recommend staying there in the future',\n",
       " 'within a few blocks of this room you will find all kinds of cuisine and culture',\n",
       " 'make sure to visit the little mermaid statuette',\n",
       " 'if you like to be in a building from 1868 then this is the place \\n\\nnice location which is about 700 m from central station and about 115 from the city center',\n",
       " 'the people are very nice and supporting too',\n",
       " 'i arrived late in the evening and had to leave fairly early the next morninggreat locationhelpful with answers to questions prior to stayroom clean and comfortable and useful city map providedsatisfied with my stay',\n",
       " 'i stayed at this room for 1 night and my experience is really the best',\n",
       " 'the willumsgaard family was really nice and helpful',\n",
       " 'the apartment is located in a beautiful neighbourhood and you can basically walk everywhere',\n",
       " 'thumbs up',\n",
       " 'bente and erik are very welcoming hosts and i felt comfortable in their home',\n",
       " 'the neighborhood is quite nice with a delightful cafe downstairs and the city lake paths for jogging just outside',\n",
       " 'i was traveling by bike and had a safe spot to store it and they even arranged to store my extra baggage for a week while i was traveling nearby',\n",
       " 'this place was a perfect stay for my time in copenhagen',\n",
       " 'it is no small wonder why the danish are such happy people as denmark is a wonderful place',\n",
       " 'bente and her family are very kind and the room i stayed in was nice',\n",
       " 'the walk to downtown is short and easy',\n",
       " 'be aware that their place is up 4 flights of stairs just in case you have problems with stairs',\n",
       " 'finally the only problem i had was that they went suddenly on vacation and their sister watched the place and i was unable to say thank you and goodbye ',\n",
       " 'small quaint room',\n",
       " 'perfect and central for a nights stay',\n",
       " 'bente was very  welcoming',\n",
       " 'the room and flat was just as described and was extremely clean',\n",
       " 'even though i only stayed for one night i was very pleased by my the room the excellent location and the warm host',\n",
       " 'thank you for making my short stay in copenhagen so wonderful',\n",
       " 'bentes house was in a great area in copenhagen and not far from central station',\n",
       " 'the room was clean and cozy and located near the back of the house so it was very quiet',\n",
       " 'there is also a great little porch located right next to the room for you to hang out on',\n",
       " 'i never  met the host',\n",
       " 'when i came in some gentleman who was not very polite showed me to a room that was not very cozy and a woman was taking her things from the room the place had a very strong odor that lasted the whole night and the bathroom looked like it had not been taken care of in years',\n",
       " 'that night i told the lasy who said was an aunt that i could not stay the second night and to tell the host',\n",
       " 'no one ever came to talk to me',\n",
       " 'in the morning when i left i wrote a note explaining that i could not stay the second night and i would like a refund of the second night that i paid for and their refund policy was flexible',\n",
       " 'i never heard from anyone',\n",
       " 'i found a hotel to stay at the second night as i would not stay in that place for nothing',\n",
       " 'i wrote to them again asking for the refund and never got the courtesy of a reply',\n",
       " 'the flat was just a short walk from the copenhagen central train station which was very convenient',\n",
       " 'the room is very comfortable and cozy and i had a great stay',\n",
       " 'bentes son kindly stayed up for my late arrival on friday night which i greatly appreciated',\n",
       " 'i had such a lovely stay at the willumsgaards ',\n",
       " 'they were very accommodating thoughtful and gave me great tips on navigating cph',\n",
       " 'the apartment is fantastic and you cant beat the location',\n",
       " 'all in all a great experience would definitely stay there again',\n",
       " 'thank you ',\n",
       " 'location was great for sightseeing the city',\n",
       " 'erik and bente are very nice and erik is helpful if you need tips and suggestions',\n",
       " 'the room was more than enough space for me 1 person but if may be a bit small for 2 the only thing to keep in mind is the room is near the kitchen and the walls are pretty thin so sound travels very easily from the kitchen to the room',\n",
       " 'other than that i had a great stay and hope to visit copenhagen again one day',\n",
       " 'i had a wonderful stay',\n",
       " 'the room was great and the bed was very comfortable',\n",
       " 'erik was very friendly and had great tips',\n",
       " 'the neighborhood was wonderful great shops and bars nearby and out of the hustle and bustle of the city center',\n",
       " 'great stay thanks',\n",
       " 'the welcome was nice und friendly as soon as i indicated a knowledge gap eg',\n",
       " 'on how to get somewhere erik got me the information and got me right on track',\n",
       " 'very easy very direct very caring',\n",
       " 'the room is exactly furnished as on the picture and very clean as is the bathroom and the wc clean enough',\n",
       " 'wlan works well',\n",
       " 'still everything is very old  and looks not as shiny as on the picture but i did not expect anything else as this place is really a good price for its location',\n",
       " 'if i have the need i will book here again',\n",
       " 'erik met me when i arrived and answered all the questions i had',\n",
       " 'the room was exactly as advertised and the location is excellent right in the center of copenhagen',\n",
       " 'i would definitely recommend staying here',\n",
       " 'they were very kind about my late arrival and poor communication and pointed out helpful things for me to see in the city',\n",
       " 'bente  erik are relaxed  flexible hosts',\n",
       " 'they are helpful  make you feel at home',\n",
       " 'the appartment is in a perfect location for exploring copenhagen  is close to the central train station',\n",
       " 'the room is light  comfortable  it suited me perfectly',\n",
       " 'bente and her family were very friendly and the space was perfect for me',\n",
       " 'i will definitely come back',\n",
       " 'thank you',\n",
       " 'bente and eric were both home to welcome me and were very nice to show me around their beautiful apartment',\n",
       " 'they had a map ready for me as well as some advice on what i could do in my limited time there',\n",
       " 'their home is lovely and conveniently located in the city  especially coming from the main train station  and i wish i could have stayed there longer and gotten to know them a little more than i did',\n",
       " 'the family was very nice',\n",
       " 'the place is very well located centrally',\n",
       " 'all in all a positive experience',\n",
       " 'great location',\n",
       " 'very easy stay',\n",
       " 'i was greeted by erik and it was easy to get to his place by foot since he provided clear instructions',\n",
       " 'his place is not too far from the main station and is definitely a plus point',\n",
       " 'in fact given that strategic location you can walk to many places of interests',\n",
       " 'i didnt have to take bustrain when i was in copenhagen',\n",
       " 'i also met his daughter and she was very friendly too',\n",
       " 'generally the room is well kept and its good',\n",
       " 'the flat is very nice the room cosy but the only problem is that the room is in the kitchen means its was a little bit noisy and smelly',\n",
       " 'i had a great but short stay with bente and erik',\n",
       " 'the room i stayed in was different than the picture but basically the same',\n",
       " 'the flat is in a pretty old building in a great location',\n",
       " 'the main train station is only a few bus stops away and there are lots of restaurants in walking distance',\n",
       " 'easy communicative simple',\n",
       " 'travelling alone for the first time i was obviously a little apprehensive about my stay with strangers and being in the city in general',\n",
       " 'however bente and erik were such wonderful hosts that i felt right at ease',\n",
       " 'as soon as i arrived they provided me with a detailed map of the city pointing out all the places i was hoping to visit',\n",
       " 'they highlighted where i might find food stores coffee shop and bars and then showed me around their beautiful apartment letting me come and go as i pleased',\n",
       " 'overall the city is beautiful and very easy to navigate once you know how',\n",
       " 'thanks to bente and erik ill definitely be visiting again',\n",
       " 'the description of the room in the picture is accurate',\n",
       " 'however i never met my airbnb host only her husband',\n",
       " 'even thought he was very kind i did not appreciate it being another person than the one i expected',\n",
       " 'communication with them was fine during the reservation process',\n",
       " 'hiwever i had to leave before the expected date and all they cared about was me paying 2 nights minimum when their cancellation policy was set as flexible',\n",
       " 'additionally when i was charged for the full reservation and wrote to them as the site indicates they never answered my email',\n",
       " 'this was my first experience with airbnb and in all honesty i did not like it at all',\n",
       " 'positive aspects\\r\\n the house is very close to the trainstation and the city centre\\r\\n the house itself is absolutely gorgeous\\r\\n the hosts are very friendly and helpful people they provided me with a map of the city and gave me some good advice on restaurants\\r\\n the house and room are very clean\\r\\n\\r\\nless positive aspects\\r\\n the room is very small about 78 square meters\\r\\n its a bit too expensive for what you get you can get a private room in a hotelhostel in the area for similar or less\\r\\n\\r\\noverall i had a pleasant stay at bentes and i can recommend this place for people travelling alone who need to be in the area and have a full programme',\n",
       " 'less recommended for those who consider staying inside',\n",
       " 'the place is very comfortable cheap and it is very well located in the city',\n",
       " 'unfortunately that weekend bente was not at home and his sons received me',\n",
       " 'they are very good people but that weekend teenagers ruled at home with everything it means noisy parties by night dirty things in the kitchen mysterious disappearance of food in the fridge etcetera',\n",
       " 'friendly host cozy bedroom amazing shower',\n",
       " 'thumbs up and thanx a lot',\n",
       " 'it was indeed a great location',\n",
       " 'i was able to walking to all the major attractions i wanted to see including tivoli nyhavn frederiksberg etc',\n",
       " 'i forgot to bring my adaptor and erik very graciously lent him his',\n",
       " 'thank you so much',\n",
       " 'if i return to cph ill definitely stay here again',\n",
       " 'thank you bente and family for renting out your room',\n",
       " 'and a special thanks to your daughter for the warm welcome',\n",
       " 'it was just perfect',\n",
       " 'the location is just fantastic',\n",
       " 'near the central station the lakes and the city',\n",
       " 'i had a great time',\n",
       " 'this was exactly what i searched for bed  bath',\n",
       " 'i love the renovated bathroom with the brickwall and the beams',\n",
       " 'nice job \\r\\ni hope to book this room again in the future',\n",
       " 'great place super friendly',\n",
       " 'mr william is nice person he give me instructions for direction when i will arrive at copenhagen station',\n",
       " 'room is clean and quite',\n",
       " 'good thing is 6 to 7 min walk to the station',\n",
       " 'if you have more luggage then you face the problem because there is no lift room is on 3rd floor',\n",
       " 'this location is very central and good for sightseeing in kopenhagen but that is the best thing i can say about my stay',\n",
       " 'the room was acceptable for one person but for two persons could be hard because its really tiny',\n",
       " 'when i arrived i got first informations from erik lateron i never met my hosts',\n",
       " 'from my point of view the whole appartment is not well maintained and most of the rooms are really messy',\n",
       " 'neither bathroom nor kitchen were cleaned at any point of time',\n",
       " 'but the worst was the contents of the fridge',\n",
       " 'with all these points the room is not worth its money',\n",
       " 'small but very cosy room',\n",
       " 'close to central station 10min walk and nyhavn 2530min walk',\n",
       " 'just stayed 1 night as a stopover with sasflight but have enjoyed it very much',\n",
       " 'can fully recommend it ',\n",
       " 'really good place',\n",
       " 'tidy quite and good location',\n",
       " '',\n",
       " 'staying at erik and bentes was a pleasant experience',\n",
       " 'erik is a delightful and attentive host who has been a great communicator throughout my stay',\n",
       " 'the house has a great vibe',\n",
       " 'although my stay was a short one this wonderful home greatly contributed to my charming experience in copenhagen',\n",
       " 'i highly recommend it',\n",
       " 'it is a cute and comfortable room for a single traveler',\n",
       " 'nice house quietly silence and good quite surrounding in copenhagen',\n",
       " 'i stayed a night with very helpful host who makes good suggestions on places to visit',\n",
       " 'i had a lovely stay at this place',\n",
       " 'easy to get to great location awesome house and very friendly hosts',\n",
       " 'seriously couldnt wish for better',\n",
       " 'i had a lovely stay at this place',\n",
       " 'very close to the central bus station and everything else is walking distance',\n",
       " 'the room is in the back of the apartment next to the kitchen',\n",
       " 'it is small but i didnt need much space so it was good for me',\n",
       " 'the walls are thin so you can hear everything but it did not bother me',\n",
       " 'bente was very accommodating to me which made my stay more wonderful',\n",
       " 'thank you',\n",
       " 'i immediately felt at ease and erik and bente welcomed me warmly',\n",
       " 'these are kind and helpful people who dont make a fuss',\n",
       " 'i had brought a lot of cheese to give to a friend and they let me keep it in their fridge',\n",
       " 'the room is small but very comfortable and nicely done',\n",
       " 'this is a family flat but i was only occasionally aware of the others living there',\n",
       " 'the main thing for me was the brilliant location',\n",
       " 'only a short walk from the central railway station and even nearer to the metro and central parts of town',\n",
       " 'it was so easy to get to all the places i wanted to see',\n",
       " 'it made my short visit',\n",
       " 'bente and eriks apartment was a great location from which to explore copenhagen',\n",
       " 'my arrival was delayed due to train cancellations but this caused no problem with bente welcoming me a couple of hours late',\n",
       " 'the room albeit small is perfect for a solo traveller and although i was sharing the apartment with the family i hardly saw them meeting erik only on my final day',\n",
       " 'i would happily recommend bentes as a good place for independent solo travellers looking for accommodation in copenhagen',\n",
       " 'very beautiful apartment close to the train station',\n",
       " 'i recommend staying here',\n",
       " 'the location of the willumsgaard apartment cant be beat',\n",
       " 'i booked specifically because it was near place i was familiar with in copenhagen so if you are looking to stay near a location with a lot of great restaurants and shops you cant beat this place',\n",
       " 'i rented the smaller room in the back with was cozy but all i needed',\n",
       " 'the bed was comfortable and it had everything i needed',\n",
       " 'it is situated between the back door and the kitchen so if you are a light sleeper you might opt for one of the bedrooms closer to the front of the building',\n",
       " 'while there were other airbnb guests staying as well it never felt crowded as the apartment is quite large',\n",
       " 'the shower room was very spacious and felt very luxurious',\n",
       " 'the family was very kind and lovely always wishing me a good day and asking how things were going',\n",
       " 'i would stay with them again',\n",
       " 'i had a very pleasant stay',\n",
       " 'bente has a lovely place and i felt very welcome and comfortable',\n",
       " 'bente and the family were welcoming and easy going their apartment is very beautiful and clean it was a very short but great stay',\n",
       " 'the location is perfect we walked everywhere',\n",
       " 'small but cozy room in a charming flat centrally located',\n",
       " 'the willumsgaard family is very nice and welcoming',\n",
       " 'i enjoyed my short stay at their place',\n",
       " 'lovely location',\n",
       " 'great people',\n",
       " 'warm and welcoming',\n",
       " 'will stay here next time i fly out to denmark',\n",
       " 'the location of the willumsgaard apartment cant be beat',\n",
       " 'i booked specifically because it was near place i was familiar with in copenhagen so if you are looking to stay near a location with a lot of great restaurants and shops you cant beat this place',\n",
       " 'i rented the smaller room in the back with was cozy but all i needed',\n",
       " 'the bed was comfortable and it had everything i needed',\n",
       " 'it is situated between the back door and the kitchen so if you are a light sleeper you might opt for one of the bedrooms closer to the front of the building',\n",
       " 'while there were other airbnb guests staying as well it never felt crowded as the apartment is quite large',\n",
       " 'the shower room was very spacious and felt very luxurious',\n",
       " 'the family was very kind and lovely always wishing me a good day and asking how things were going',\n",
       " 'i would stay with them again',\n",
       " 'i had an amazing stay at bentes place',\n",
       " 'the location is absolutely fantastic made it super easy for me to walk around catch hop onhop off bus which by the way stops very near  and going to an airport very early in the morning  buses and trains run 247',\n",
       " 'hooray',\n",
       " 'the room is cosy and as described on the website',\n",
       " 'the room is small and convenient for a single traveler',\n",
       " 'my room was right next to the kitchen and yes i could hear the family making dinner and washing up but am not going to moan about it  cause i wanted to have an original experience and live with locals in copenhagen and that is what made my stay brilliant',\n",
       " 'i have seen cleaner places and yes there could be an improvement however the experience exceeded my expectation and i had lovely stay decent sleep the shower works toilet flushes happy days',\n",
       " 'the family helped me search for trains to the airport and were very sweet',\n",
       " 'it is a very convenient place to stay while sightseeing',\n",
       " 'bentes room is very cosy and clean',\n",
       " 'i felt very comfortable and enjoyed staying with her and her family',\n",
       " 'very good',\n",
       " 'it was my second time at the  willumsgaard family',\n",
       " 'i like the location and they are really friendly and flexible',\n",
       " 'bente and erik were really great hosts',\n",
       " 'friendly helpful and easy going',\n",
       " 'the room was cosy and the apartment is in a super convenient location',\n",
       " 'short stay but very nice one',\n",
       " 'i felt at home thank to the warm welcome i received from bente and eriknext time i shall come to kobenhavn i already know where i while sleep',\n",
       " 'had a great conversation with erik about life in denmarkhope to continue this later onthanks for everything nice to have met you',\n",
       " 'best regards\\r\\n\\r\\njohan',\n",
       " 'this is my second time being hosted by benteerik as i found the place so nice and convenient in terms of location that i couldnt find a better place for my we in copenhagen',\n",
       " 'the house is huge and quiet the room comfortable and clean even if i didnt get the same room with a view as last time and the location is 5 mins from the main station',\n",
       " 'recommended',\n",
       " 'i had a great time and stay in bente s housewas absolutely perfect and exactly close to the centre just ten minutes walk and just two stops    \\r\\nby train if you want see the famous little marmaidthe house is got amazing furniture and is so cosy',\n",
       " 'bente s husband is a tremendous host and i felt immediatelly comfortablehighly reccomended and will definitely stay againthank you very much',\n",
       " 'lovely neighborhood ',\n",
       " 'very easy to find',\n",
       " 'cosy room with comfy bed',\n",
       " 'bente and her family were a great host',\n",
       " 'the room was lovely clean and good size for person traveling alone',\n",
       " 'i had a good time in copenhagen and they helped me finding the places',\n",
       " 'also great location',\n",
       " 'very close to the central',\n",
       " 'i would come back here again ',\n",
       " 'a small nice room in a big apartment exactly the same as picture',\n",
       " 'suitable for 1 person',\n",
       " 'it is beside kitchen then will have some smell when you pass through kitchen to get in it',\n",
       " 'but it will be fine after you open kitchens window for 10 minutes',\n",
       " 'bentes sister let me in on time',\n",
       " 'she also help me to pay parking fee',\n",
       " 'the apartment is oposite to a lovely lake and near city center just five minutes walk',\n",
       " 'i recommend other people to stay there',\n",
       " 'host was on vacation so there wasnt much communication but hosts sister took care of checkin',\n",
       " 'she gave me a map and made sure i had everything i needed willing to answer any questions i had',\n",
       " 'place is in a great location close to the main train station close to tivoli and not far from other places',\n",
       " 'i was only there for a very short time but it was good stay',\n",
       " 'i had a lovely time my first stop in denmark was copenhagen',\n",
       " 'bente and eriks suggestions for getting to the main station and their house were very helpful',\n",
       " 'their house is very close to main attractions and things you want to see in copenhagen',\n",
       " 'also inside is very comfortable and cosy',\n",
       " 'erik recommended some places to eat etc',\n",
       " 'i felt very welcomed',\n",
       " 'eric gave me some great tips for exploring copenhagen',\n",
       " 'bentes apartment is centrally located just north of the meatpacking district which is a recently gentrifying neighborhood with nice bars and restaurants',\n",
       " 'its also directly across from the planetarium close the the central station and other large tourist attractions but manages not to feel touristy',\n",
       " 'i think i had an unusual experience because only bentes children were around when i stayed at their place',\n",
       " 'as a result the room wasnt ready until after 6pm when i had a 12pm checkin',\n",
       " 'this was a little awkward because i wanted to take a quick nap in the middle of the day',\n",
       " 'the kitchen and bathroom were also a little messy and when i used the shower the drain was clogged so i was worried id flooded the bathroom',\n",
       " 'i dont think my stay was a great representative of bentes hospitality because she wasnt around',\n",
       " 'whenever i messaged bente to know of my issues she was incredibly helpful and responsive',\n",
       " 'i unfortunately cannot give this place a 5 star rating especially given the cost due to the unpreparedness of the space',\n",
       " 'it was perfect',\n",
       " 'all i needed for a night in transit',\n",
       " 'charming',\n",
       " 'it was such a nice experience staying in the heart of copenhagen in this very charming apartement',\n",
       " 'my son and i we felt just like home',\n",
       " 'we didnt get to meet bente and erik but their kids were really  sweet and welcoming attentive hosts  ',\n",
       " 'i would definitely recommend this place not only because is as central as it gets but also  because you will feel the real spirit of the locals very well preserved in this family',\n",
       " 'i was made welcome even though i got lost and my plane was delayed ',\n",
       " '',\n",
       " 'great little room in the center of town',\n",
       " 'erik was very helpful and welcoming',\n",
       " 'lovely balcony in the back',\n",
       " 'convenient and flexible',\n",
       " 'recommended',\n",
       " 'great place to be based from',\n",
       " 'easy walking to all the highlights and lots of cafes and shops near byerik provided a map and pointed out afew places of interest ',\n",
       " 'also where to get the cheaper river cruise fromnetto nyhavn friendly clean and thoughtful defenantly recommend',\n",
       " 'very nice hosts and a nice little room',\n",
       " 'would definitely recommend',\n",
       " 'very well located apartment room corresponding to picture',\n",
       " 'incredible location a gateway to the charms of frederiksberg and copenhagen situated directly across the street from the wonderful lakes',\n",
       " 'on arrival erik made me feel very much at home presenting me with a map and giving me top tips on what to go see and do in town and in the frederiksberg vicinity',\n",
       " 'would highly recommend',\n",
       " 'thanks again bengt and erik',\n",
       " 'nice room nice hosts',\n",
       " 'highly recommend',\n",
       " 'the house is wonderful and in a very central and convenient location  less than 10 minutes walk from the big copenhagen train station tivoli and a major touristshopping area',\n",
       " 'the room was very clean and a nice size',\n",
       " 'i didnt get to meet bente but mr erik was very nice he helped me with my bags when i first got there and gave me a map of what are the best things to see in copenhagen',\n",
       " 'if you follow the directions they give you you will get there in about half an hour from the airport',\n",
       " 'perfectly located charmingly unpretentious its a great value to boot',\n",
       " 'highly recommended if you want to experience a typical danish household',\n",
       " 'very good experience good locationgreat facilities',\n",
       " 'booked the place',\n",
       " 'got the error message via mobile app',\n",
       " 'only later i found via sms that the booking actually was made',\n",
       " 'it was the same day booking for the place',\n",
       " 'i told bente too late that it was an accident by that time she already lost the opportunity for the night to rent it out',\n",
       " 'so she wasnt going to lose the opportunity cost for the night which is reasonable',\n",
       " 'so i paid for it even thou i never went to copenhagen that day',\n",
       " 'never went to location etc',\n",
       " 'so cannot really say anything positive or negative',\n",
       " 'i felt very comfortable with bente and eric being warm hearted and helpful hosts',\n",
       " 'i spent three wonderful days in vibrant copenhagen',\n",
       " 'thank you',\n",
       " 'be the and his family were absolutely wonderful',\n",
       " 'the room was lovely and clean there is a deck to sit on and the apartnet is in a perfect location',\n",
       " 'i walked from central station and all throughout the city center',\n",
       " 'great cafes and restaurants easily accessible by foot',\n",
       " 'i highly recommend bentes room',\n",
       " 'bente eric and their kids were great',\n",
       " 'while i didnt have an opportunity to visit with bente i did have a couple of interesting conversations with eric',\n",
       " 'i really like the room the location and the kindness of the hosts',\n",
       " 'copenhagen is a wonderful city and the location of the room close to the train station is perfect',\n",
       " 'perfect place for my 24 hour stop in copenhagen as it was a very short walk from the main train station',\n",
       " 'i booked it only a day in advance yet bente and her family who were very nice were able to accommodate me',\n",
       " 'room was small but exactly as advertised and the communal bathroom was well kept',\n",
       " 'this was a great deal considering the shortage of options in a very expensive city and i would recommend this place to any travel who needs an affordable place to basically sleep and shower',\n",
       " 'thanks again',\n",
       " 'the house is very old but its location is very good and the room is comfy',\n",
       " 'it is a pity i was so busy that i was not able to talk more with the hosts',\n",
       " 'i loved bentes home and the room i stayed in was very comfortable',\n",
       " 'bente and eric were very helpful in giving me tips around the city',\n",
       " 'the location is prime i dont think theres a better spot to be',\n",
       " 'i highly recommend this room',\n",
       " 'i was only there for one night but found bente and erik to be friendly hosts',\n",
       " 'the room is small but comfortable',\n",
       " 'being only a few blocks from the central train station the location couldnt be better',\n",
       " 'nice little room with very comfortable bed in a very central area',\n",
       " 'right next door to the kitchen used by all so might not be great if youre a light sleeper',\n",
       " 'bente and family were hospitable and welcoming and the apartment was located perfectly close to train station and in a very funky part of town',\n",
       " 'right outside are running tracks around a small lake',\n",
       " 'nice place to spend a night on the way hoem',\n",
       " 'i had a lovely time in copenhagen and it was made even lovelier by being able to stay in the willumsgaards home',\n",
       " 'they were easy to get ahold of to arrange for my arrival and bente was very kind and accommodating',\n",
       " 'the room was clean and airy with a lovely view of the surrounding buildings next door from my window or from the balcony out back just outside the room',\n",
       " 'the family was kind and respected my privacy and cominggoing was not an issue',\n",
       " 'the location is very close to the central train station 10 minute brisk walk and to strøget walking street about 15 minutes walk',\n",
       " 'i would gladly stay there again in the future',\n",
       " 'only had a very short 1 night stay at bentes place but everything worked smoothly the room was quiet and the apartment is located in nice neighbourhood close to the city centre',\n",
       " 'would stay again',\n",
       " 'great host and accommodation very close to central station',\n",
       " '5 stars',\n",
       " 'lovely room in the central area of copenhagen with hospitality its the best thing a traveler an hope for',\n",
       " 'erik and bente are helpful hosts and are willing to offer help and suggestion',\n",
       " 'thank you very much for sharing your house',\n",
       " 'very convenient location and erik bentes husband greeted me and pointed out the local sites',\n",
       " 'the room and beautifully designed apartment is very cosy',\n",
       " 'the family gave me a very warm welcome and did everything that i felt at home',\n",
       " 'they gave me tips for eating out renting bikes etc',\n",
       " 'the room was as described and the flat is a vintage chic appartment which has a great charme',\n",
       " 'was perfect for my needs',\n",
       " 'thank you bente for hosting me and the very easy conversation ',\n",
       " 'little mix up on getting together first day',\n",
       " 'just a few days before i was due to arrive hosts msgd me they were going to be out of town arriving back in copenhagen at 8 pm or later',\n",
       " 'explained that their son would be home from 4 pm on i responded asking  to confirm arrangement w son a teenager admit to perhaps some age bias and just wanted to be assured that the son would be there',\n",
       " 'didnt hear back from them apparently airbnb msg didnt reach them and they werent able to retrieve the text i sent to their phone since their batteries died while they were in the country  the zen center where i live in seattle is also an airbnb host so i can say from the perspective of being a host we do our best to avoid slip ups like that',\n",
       " 'end result was i did not get into the apartment until about 7 pm  by which time i was pretty worn out cold and way past ready to be settled into a room',\n",
       " 'ah well these things happen',\n",
       " 'the other thing about the place interesting as the building is built in 1868 it was four steep files walk up which the hosts due mention in their description im 66 and in good shape but it would not be a good choice for anyone with any kind of movement impairment heart condition etc',\n",
       " 'also the facilities ie',\n",
       " 'shower no bath toilet kitchen are basic having had to be retrofitted to accommodate the 19th c space charming if you like that sort of thing less than great if youd prefer being able to soak in a tub having a little more space',\n",
       " 'room itself is also tiny im a small guy so it wasnt a big inconvenience for me but again not so great if youre the size of an american linebacker   the room was clearly the servants quarters in another age  never met bente which i thought was a little curious since shes listed as the host but her husband eric was charming',\n",
       " 'the kids were well typical teenagers seems some things are similar across cultures and countries ',\n",
       " 'what a lovely couple',\n",
       " 'i stayed for two days at bente  eriks place  and it was indeed a fantastic stay',\n",
       " 'the room is well located clean and perfect for my needs',\n",
       " 'they made me feel very welcome',\n",
       " 'ill definitely come back',\n",
       " 'cheers',\n",
       " 'nice room in a good location within a hip up and coming neighborhood of cph',\n",
       " 'if you need a good base to explore the city this is it',\n",
       " 'youre living with a family so be nice',\n",
       " 'they certainly are',\n",
       " 'the room is next to the very cool stylish kitchen and bathroom',\n",
       " 'it was clean and with fresh bedding and towel neatly laid out when i arrived',\n",
       " 'its not big but its enough',\n",
       " 'very well received',\n",
       " 'nice place and quiet',\n",
       " 'i had a very nice stay at bentes family',\n",
       " 'the flat is very nice renovated and still holding the old warm characteristics',\n",
       " 'also the location is very centrical',\n",
       " 'the brunch that erik recommended at obelix was very tasteful  thanks',\n",
       " 'great room in a lovely part of copenhagen',\n",
       " 'the family is very friendly welcoming and helpful',\n",
       " 'they provided a lot of good information about the city',\n",
       " 'i would definitely stay again when in copenhagen',\n",
       " 'really great place very interesting chatting about denmark too',\n",
       " 'thanks both of you',\n",
       " 'tiny room with everything you need in a lovely old huge apartment in a lovely old building',\n",
       " 'very pleasant stay',\n",
       " 'bente erik and the children welcomed me into their home for three nights',\n",
       " 'room was as stated small cozy clean and quiet',\n",
       " 'i must admit it did feel a little strange staying in someone elses home but this was my first airbnb experience so i was unsure of what to expect',\n",
       " 'perfect location for one person who needs a bed and bathroom and plans on not being around the house much',\n",
       " 'thanks for having me',\n",
       " 'bente was great the bedroom was clean quiet cozy and comfortable',\n",
       " 'the location of bentes apartment is incredibly convenient  i could walk everywhere in copenhagen',\n",
       " 'highly recommended staying here',\n",
       " 'my stay was perfect',\n",
       " 'the location of the apartment is right in the centre of copenhagen',\n",
       " 'friendly family and clean room',\n",
       " 'gorgeous apartment and so close to the train station',\n",
       " 'very charming place to stay',\n",
       " 'the location of bentes house is perfect exactly at the central of cph clear and warmth',\n",
       " 'bente and erik were very nice and very helpful with everything and i enjoyed my stay in copenhagen very much',\n",
       " 'nice neighborhood just by the lakes and very close to everything',\n",
       " 'i would stay there again for sure',\n",
       " 'this is such a great spot  and friendly hosts',\n",
       " 'highly recommended',\n",
       " 'bentes space is fantastic',\n",
       " 'not only does it have old world charm but its also centrally located',\n",
       " 'i definitely recommend it',\n",
       " 'bente and erik were great hosts accommodating and very helpful',\n",
       " 'the place was spacious clean welldecorated and comfy',\n",
       " 'it was located in the very center of copenhagen',\n",
       " 'most of the major attractions were within walking distance',\n",
       " 'couldnt be better',\n",
       " 'will definitely stay here if i come to copenhagen again',\n",
       " 'highlyrecommended',\n",
       " 'the room is warm and neat',\n",
       " 'house is atmospheric',\n",
       " 'the hosts are very friendly and helpful',\n",
       " 'nice experience',\n",
       " 'the room is really clean and in good location',\n",
       " 'and the most important is bente is really nice person its my first time traveling copenhagen and bente introduced all the details to me which was really touched',\n",
       " 'lovely comfortable small room that was all i needed for my short stay in copenhagen',\n",
       " 'welcoming host and appreciated the flexibility with my arrival time',\n",
       " 'the room wasnt ready because i was early but i was able to drop my bags off',\n",
       " 'thanks for the hospitality',\n",
       " 'nice little room in a typical danish apartment well located',\n",
       " 'bente and his husband were nice',\n",
       " 'i had a lovely time in bentes flat',\n",
       " 'its super central incredibly easy to get around to the rest of copenhagen and a very charming place to live for a few days',\n",
       " 'the room itself is super cosy the bathroom and kitchen are great',\n",
       " 'the family were very accommodating and i would recommend to anyone wanting to come visit copenhagen',\n",
       " 'friendly host comfortable room well located what more could one ask for',\n",
       " 'nice and clean room very flexible with checkin and out and very lovely hosts',\n",
       " 'this is my second time staying at their place and can 100 recommend them',\n",
       " 'i would definitely choose them any day again due to their lovely hospitality but also accessibility to the inner city and its services',\n",
       " 'near vesterbrø station the place is well located',\n",
       " 'the room itself enjoys all the basic needs one could expect  a neat space with a comfy bed a clean towel and wifi',\n",
       " 'bonus  erik  bente are charming',\n",
       " 'they seriously have a pearl in the middle of copenhagen',\n",
       " 'the flat is amazing and got a superb location',\n",
       " 'its less then 10 minutes walk from the station and just in front of the planetarium',\n",
       " 'they let me feel welcome and home since the moment i arrived until the moment i left',\n",
       " 'looking forward to go back this summer',\n",
       " '',\n",
       " 'lovely room very sweet family',\n",
       " 'conveniently located near transit and many nearby sights',\n",
       " 'perfect for a solo traveler',\n",
       " 'the room is nice and the apartment in a charming old building',\n",
       " 'the location is very good',\n",
       " 'erik  bente are really nice hosts',\n",
       " 'i had a lovely stay in copenhagen and the room was clean and quaint',\n",
       " 'they were very helpful in trying to find activities to do around the city and provided me with a map and travel guide of copenhagen',\n",
       " 'it was a great stay',\n",
       " 'bente has a great place in the middle of downtown',\n",
       " 'i only stayed one night but bente and her husband made me feel very welcome',\n",
       " 'note there is an elevator so if you have too much luggage you might ask them to meet you at the door',\n",
       " 'their apartment is on the fourth floor',\n",
       " 'what a wonderful apartment',\n",
       " 'youll have no regrets staying here',\n",
       " 'i want to come back with my mum',\n",
       " 'very good experience',\n",
       " 'we arrived late and their son help with with my enormous suitcase to the fourth floor',\n",
       " 'good location and easy access to the main attractions in the city',\n",
       " 'the room is exactly as shown on the pic',\n",
       " 'thank you for everything you have done',\n",
       " 'lovely and cozy room right in the heart of downtown',\n",
       " 'it was an excellent location and the room was so nice and warm especially after the chilly february weather outside',\n",
       " 'i would highly recommend this place to anyone going to copenhagen',\n",
       " 'the room was exactly as on the picture and in the description',\n",
       " 'everything was perfect',\n",
       " 'bentes son came down the 4 floors and helped me with my heavy suitcase and even though the daughter had holiday friday when i left she helped me down',\n",
       " 'having lived in copenhagen i knew the area and it is perfect',\n",
       " 'close to the central station and all else',\n",
       " 'can only recommend',\n",
       " 'great place great people',\n",
       " 'the place is located ten min away from the city centre very convenient and a cozy with very warm welcome with erik and bentes family',\n",
       " 'they are really nice and offered me good suggestions of the attentions around the neighborhood',\n",
       " 'the shower was excellent as well',\n",
       " 'thanks erik and bente',\n",
       " 'great place in the perfect location in copenhagen',\n",
       " 'very close to the central station',\n",
       " 'i simply followed the directions given on the listing and got there with no problems',\n",
       " 'this listing also comes with a cool guidebook for places to get coffee and food in the area',\n",
       " 'i stayed for three nights and it was a very comfortable trip overall',\n",
       " 'erik and bente were not around much but their son gave me some great travel tips and suggestions for things to see and do in the area',\n",
       " 'the house definitely has a unique old world charm to it',\n",
       " 'id recommend it to anyone in the area for a short weekend looking for a centrally located place in the city',\n",
       " 'nicely located and a pleasant experience all round',\n",
       " ...]"
      ]
     },
     "execution_count": 74,
     "metadata": {},
     "output_type": "execute_result"
    }
   ],
   "source": [
    "data['Final Reviews'][58]"
   ]
  },
  {
   "cell_type": "code",
   "execution_count": 75,
   "metadata": {
    "cell_id": "00015-a40c42ba-1b47-403b-a35c-adf30d28a4cb",
    "deepnote_cell_type": "code",
    "deepnote_to_be_reexecuted": false,
    "execution_millis": 43180,
    "execution_start": 1623179891218,
    "source_hash": "c4e212aa",
    "tags": []
   },
   "outputs": [
    {
     "name": "stderr",
     "output_type": "stream",
     "text": [
      "C:\\Users\\Lenovo\\Anaconda3\\lib\\site-packages\\ipykernel\\ipkernel.py:287: DeprecationWarning: `should_run_async` will not call `transform_cell` automatically in the future. Please pass the result to `transformed_cell` argument and any exception that happen during thetransform in `preprocessing_exc_tuple` in IPython 7.17 and above.\n",
      "  and should_run_async(code)\n",
      "'wget' is not recognized as an internal or external command,\n",
      "operable program or batch file.\n",
      "'unzip' is not recognized as an internal or external command,\n",
      "operable program or batch file.\n"
     ]
    }
   ],
   "source": [
    "# download pretrained GloVe word embeddings\n",
    "! wget http://nlp.stanford.edu/data/glove.6B.zip\n",
    "\n",
    "! unzip glove*.zip"
   ]
  },
  {
   "cell_type": "code",
   "execution_count": 76,
   "metadata": {
    "cell_id": "00016-d68d146f-2229-4d99-b4f5-722e53691ec5",
    "deepnote_cell_type": "code",
    "deepnote_to_be_reexecuted": false,
    "execution_millis": 13067,
    "execution_start": 1623510942948,
    "source_hash": "68e7f977",
    "tags": []
   },
   "outputs": [
    {
     "name": "stderr",
     "output_type": "stream",
     "text": [
      "C:\\Users\\Lenovo\\Anaconda3\\lib\\site-packages\\ipykernel\\ipkernel.py:287: DeprecationWarning: `should_run_async` will not call `transform_cell` automatically in the future. Please pass the result to `transformed_cell` argument and any exception that happen during thetransform in `preprocessing_exc_tuple` in IPython 7.17 and above.\n",
      "  and should_run_async(code)\n"
     ]
    }
   ],
   "source": [
    "# Extract word vectors\n",
    "def extract_word_vector(vector_path):\n",
    "    word_embeddings = {}\n",
    "    with open(vector_path, \"r\", encoding='utf-8') as vector_file:\n",
    "        for line in vector_file:\n",
    "            values = line.split()\n",
    "            word = values[0]\n",
    "            coefs = np.asarray(values[1:], dtype='float32')\n",
    "            word_embeddings[word] = coefs\n",
    "    return word_embeddings\n",
    "\n",
    "dims = 100\n",
    "word_embeddings = extract_word_vector(f\"glove.6B.{dims}d.txt\")"
   ]
  },
  {
   "cell_type": "code",
   "execution_count": 77,
   "metadata": {
    "cell_id": "00017-fc222ada-288b-473c-bee1-a6ac6b66cf6b",
    "deepnote_cell_type": "code",
    "deepnote_to_be_reexecuted": false,
    "execution_millis": 301,
    "execution_start": 1623510956021,
    "source_hash": "e663412",
    "tags": []
   },
   "outputs": [
    {
     "name": "stderr",
     "output_type": "stream",
     "text": [
      "C:\\Users\\Lenovo\\Anaconda3\\lib\\site-packages\\ipykernel\\ipkernel.py:287: DeprecationWarning: `should_run_async` will not call `transform_cell` automatically in the future. Please pass the result to `transformed_cell` argument and any exception that happen during thetransform in `preprocessing_exc_tuple` in IPython 7.17 and above.\n",
      "  and should_run_async(code)\n"
     ]
    }
   ],
   "source": [
    "import itertools\n",
    "import networkx as nx\n",
    "import scipy"
   ]
  },
  {
   "cell_type": "code",
   "execution_count": 78,
   "metadata": {
    "cell_id": "00022-fc59ddee-f9af-4452-bed7-e5f88334c4d7",
    "deepnote_cell_type": "code",
    "deepnote_to_be_reexecuted": false,
    "execution_millis": 1,
    "execution_start": 1623510956337,
    "source_hash": "ac9da3c8",
    "tags": []
   },
   "outputs": [
    {
     "name": "stderr",
     "output_type": "stream",
     "text": [
      "C:\\Users\\Lenovo\\Anaconda3\\lib\\site-packages\\ipykernel\\ipkernel.py:287: DeprecationWarning: `should_run_async` will not call `transform_cell` automatically in the future. Please pass the result to `transformed_cell` argument and any exception that happen during thetransform in `preprocessing_exc_tuple` in IPython 7.17 and above.\n",
      "  and should_run_async(code)\n"
     ]
    }
   ],
   "source": [
    "def sentence_similarity(vector1, vector2):\n",
    "    similarity_score = 1 - cosine_distance(vector1, vector2)\n",
    "\n",
    "    if np.isnan(similarity_score):\n",
    "        similarity_score = 0\n",
    "\n",
    "    return similarity_score\n",
    "\n",
    "def create_similarity_matrix(sentence_vectors):\n",
    "    sentence_length = sentence_vectors.shape[0]\n",
    "\n",
    "    if isinstance(sentence_vectors, scipy.sparse.csr.csr_matrix):\n",
    "        sentence_vector_arrays = sentence_vectors.toarray()\n",
    "    else:\n",
    "        sentence_vector_arrays = sentence_vectors\n",
    "\n",
    "    # Create an empty similarity matrix\n",
    "    similarity_matrix = np.zeros((sentence_length, sentence_length))\n",
    "\n",
    "    # create index of word pairs\n",
    "    permutation_set = list(itertools.permutations(range(0, sentence_length), 2))\n",
    "\n",
    "    for pair in permutation_set:\n",
    "        idx1, idx2 = pair\n",
    "\n",
    "        sent1 = sentence_vector_arrays[idx1]\n",
    "        sent2 = sentence_vector_arrays[idx2]\n",
    "\n",
    "        similarity_matrix[idx1][idx2] = sentence_similarity(sentence_vector_arrays[idx1], sentence_vector_arrays[idx2])\n",
    "\n",
    "    return similarity_matrix\n",
    "\n",
    "def visualise_top_scores(scores, flatten_sentences, n_top):\n",
    "    ranked_sentence = sorted(((scores[i], s) for i, s in enumerate(flatten_sentences)), reverse=True)    \n",
    "\n",
    "    summarize_text = []\n",
    "\n",
    "    for i in range(n_top):\n",
    "        print(i)\n",
    "        summarize_text.append(ranked_sentence[i][1])\n",
    "    return summarize_text\n",
    "\n",
    "def get_sentence_vector(word_embeddings, sentence, we_dim):\n",
    "    # create zeros matrix \n",
    "    vector = np.zeros((we_dim, ))\n",
    "\n",
    "    # added decimal to prevent potential zerodivision error\n",
    "    sentence_length = len(sentence) + 0.001\n",
    "\n",
    "    if sentence:\n",
    "        sentence_embeddings = sum([word_embeddings.get(word, vector) for word in sentence])\n",
    "\n",
    "        vector = sentence_embeddings/sentence_length\n",
    "\n",
    "    return vector\n"
   ]
  },
  {
   "cell_type": "code",
   "execution_count": 79,
   "metadata": {
    "cell_id": "00019-b35b33b9-fb4a-4171-ad49-be1339d13cc7",
    "deepnote_cell_type": "code",
    "deepnote_to_be_reexecuted": false,
    "execution_millis": 11,
    "execution_start": 1623510956348,
    "source_hash": "1ce373d5",
    "tags": []
   },
   "outputs": [
    {
     "name": "stderr",
     "output_type": "stream",
     "text": [
      "C:\\Users\\Lenovo\\Anaconda3\\lib\\site-packages\\ipykernel\\ipkernel.py:287: DeprecationWarning: `should_run_async` will not call `transform_cell` automatically in the future. Please pass the result to `transformed_cell` argument and any exception that happen during thetransform in `preprocessing_exc_tuple` in IPython 7.17 and above.\n",
      "  and should_run_async(code)\n"
     ]
    }
   ],
   "source": [
    "def extract_summary(original_sentences, top_n, word_embeddings, dims):\n",
    "    sentence_embedding_vectors = []\n",
    "\n",
    "    for review_sentence in original_sentences:\n",
    "        sentence_vector = get_sentence_vector(word_embeddings, review_sentence, dims)\n",
    "        sentence_embedding_vectors.append(sentence_vector)\n",
    "\n",
    "    similarity_matrix = create_similarity_matrix(np.array(sentence_embedding_vectors))\n",
    "    sentence_similarity_graph = nx.from_numpy_array(similarity_matrix)\n",
    "    scores = nx.pagerank(sentence_similarity_graph) \n",
    "\n",
    "    result = visualise_top_scores(scores=scores, flatten_sentences=original_sentences, n_top=top_n)\n",
    "    return result "
   ]
  },
  {
   "cell_type": "code",
   "execution_count": 82,
   "metadata": {
    "cell_id": "00021-6c203ba2-bed4-4edd-8274-b9ba4a917748",
    "deepnote_cell_type": "code",
    "deepnote_to_be_reexecuted": false,
    "execution_millis": 7574,
    "execution_start": 1623511014586,
    "source_hash": "72926a4d",
    "tags": []
   },
   "outputs": [
    {
     "name": "stderr",
     "output_type": "stream",
     "text": [
      "C:\\Users\\Lenovo\\Anaconda3\\lib\\site-packages\\ipykernel\\ipkernel.py:287: DeprecationWarning: `should_run_async` will not call `transform_cell` automatically in the future. Please pass the result to `transformed_cell` argument and any exception that happen during thetransform in `preprocessing_exc_tuple` in IPython 7.17 and above.\n",
      "  and should_run_async(code)\n"
     ]
    },
    {
     "name": "stdout",
     "output_type": "stream",
     "text": [
      "330915\n"
     ]
    },
    {
     "name": "stderr",
     "output_type": "stream",
     "text": [
      "C:\\Users\\Lenovo\\Anaconda3\\lib\\site-packages\\nltk\\cluster\\util.py:131: RuntimeWarning: invalid value encountered in double_scalars\n",
      "  return 1 - (numpy.dot(u, v) / (sqrt(numpy.dot(u, u)) * sqrt(numpy.dot(v, v))))\n"
     ]
    },
    {
     "name": "stdout",
     "output_type": "stream",
     "text": [
      "0\n",
      "1\n",
      "2\n",
      "['and the most important is bente is really nice person its my first time traveling copenhagen and bente introduced all the details to me which was really touched', 'the apartment is gorgeous and the location to all corners of amsterdam is wonderful especially by bike', 'i had the necessity to find a last second place to sleep for one night and bente was so kind to receive me late at night and to prepare everything for my short staying']\n"
     ]
    }
   ],
   "source": [
    "# summary should contain three sentences \n",
    "top_n = 3 \n",
    "#start_time = time.time()\n",
    "# extract summaries for the top 3 listings \n",
    "print(top3_ids[0])\n",
    "original_sentences = data['Final Reviews'][data.loc[data['Listing ID'] == top3_ids[0]].index[0]]\n",
    "summary = extract_summary(original_sentences = original_sentences, top_n = top_n, word_embeddings = word_embeddings, dims = 100)\n",
    "print(summary)\n",
    "#print(\"--- %s seconds ---\" % (time.time() - start_time))"
   ]
  },
  {
   "cell_type": "code",
   "execution_count": 83,
   "metadata": {
    "cell_id": "00035-b045461a-38b1-4d1a-ada5-486391f84dab",
    "deepnote_cell_type": "code",
    "tags": []
   },
   "outputs": [
    {
     "name": "stdout",
     "output_type": "stream",
     "text": [
      "2499542\n"
     ]
    },
    {
     "name": "stderr",
     "output_type": "stream",
     "text": [
      "C:\\Users\\Lenovo\\Anaconda3\\lib\\site-packages\\ipykernel\\ipkernel.py:287: DeprecationWarning: `should_run_async` will not call `transform_cell` automatically in the future. Please pass the result to `transformed_cell` argument and any exception that happen during thetransform in `preprocessing_exc_tuple` in IPython 7.17 and above.\n",
      "  and should_run_async(code)\n"
     ]
    },
    {
     "name": "stdout",
     "output_type": "stream",
     "text": [
      "0\n",
      "1\n",
      "2\n",
      "['the balcony makes for a nice view out towards the city centre and was a good viewing platform for the substantial firework display on new years eve', 'his apartment in christianshavn is bright clean and very scandinavian  everything we needed was there pots pans coffee makers and a collection of boardgames that came in very handy on our last night when all three of us played a game until the early hours', 'as a host myself i learnt a lot from him and hope to copy some of his best ideas  thank you baard  he is a super nice guy  funny charming generous considerate welltravelled excited about life']\n"
     ]
    }
   ],
   "source": [
    "import time\n",
    "#start_time = time.time()\n",
    "print(top3_ids[1])\n",
    "original_sentences = data['Final Reviews'][data.loc[data['Listing ID'] == top3_ids[1]].index[0]]\n",
    "summary = extract_summary(original_sentences = original_sentences, top_n = top_n, word_embeddings = word_embeddings, dims = 100)\n",
    "print(summary)\n",
    "#print(\"--- %s seconds ---\" % (time.time() - start_time))"
   ]
  },
  {
   "cell_type": "code",
   "execution_count": 84,
   "metadata": {
    "cell_id": "00036-d9e19cb2-f3ee-450c-895e-991ad2845746",
    "deepnote_cell_type": "code",
    "tags": []
   },
   "outputs": [
    {
     "name": "stdout",
     "output_type": "stream",
     "text": [
      "4282001\n"
     ]
    },
    {
     "name": "stderr",
     "output_type": "stream",
     "text": [
      "C:\\Users\\Lenovo\\Anaconda3\\lib\\site-packages\\ipykernel\\ipkernel.py:287: DeprecationWarning: `should_run_async` will not call `transform_cell` automatically in the future. Please pass the result to `transformed_cell` argument and any exception that happen during thetransform in `preprocessing_exc_tuple` in IPython 7.17 and above.\n",
      "  and should_run_async(code)\n"
     ]
    },
    {
     "name": "stdout",
     "output_type": "stream",
     "text": [
      "0\n",
      "1\n",
      "2\n",
      "['the apartment was so lovely that we even wanted to come back early to enjoy it full of light and decorations of christmas made it ideal for our trip', 'i recommend britts little place for anyone who wants to spend a night outside of the busy central areas of copenhagen', 'if you want to explore copenhagen and want a cosy little apartment to spend your trip in britts place is great and we walked from there to the centre with ease but there are also lots of busses and a metro up the road if you want to wizz around the city']\n"
     ]
    }
   ],
   "source": [
    "#start_time = time.time()\n",
    "print(top3_ids[2])\n",
    "original_sentences = data['Final Reviews'][data.loc[data['Listing ID'] == top3_ids[2]].index[0]]\n",
    "summary = extract_summary(original_sentences = original_sentences, top_n = top_n, word_embeddings = word_embeddings, dims = 100)\n",
    "print(summary)\n",
    "#print(\"--- %s seconds ---\" % (time.time() - start_time))"
   ]
  },
  {
   "cell_type": "code",
   "execution_count": 86,
   "metadata": {
    "cell_id": "00035-a11f7f4c-03c3-4825-8d54-41cd04b1f2ad",
    "deepnote_cell_type": "code",
    "tags": []
   },
   "outputs": [
    {
     "name": "stderr",
     "output_type": "stream",
     "text": [
      "C:\\Users\\Lenovo\\Anaconda3\\lib\\site-packages\\ipykernel\\ipkernel.py:287: DeprecationWarning: `should_run_async` will not call `transform_cell` automatically in the future. Please pass the result to `transformed_cell` argument and any exception that happen during thetransform in `preprocessing_exc_tuple` in IPython 7.17 and above.\n",
      "  and should_run_async(code)\n"
     ]
    },
    {
     "name": "stdout",
     "output_type": "stream",
     "text": [
      "330915\n",
      "0\n",
      "1\n",
      "2\n",
      "3\n",
      "4\n",
      "['and the most important is bente is really nice person its my first time traveling copenhagen and bente introduced all the details to me which was really touched', 'the apartment is gorgeous and the location to all corners of amsterdam is wonderful especially by bike', 'i had the necessity to find a last second place to sleep for one night and bente was so kind to receive me late at night and to prepare everything for my short staying', 'i arrived late in the evening and had to leave fairly early the next morninggreat locationhelpful with answers to questions prior to stayroom clean and comfortable and useful city map providedsatisfied with my stay', 'while the former is absolutely no frills yet clean neat tidy and quiet the latter is both close to the central station and hip and happening vesterbro and its gloriously cool meat packing district']\n"
     ]
    }
   ],
   "source": [
    "# summary should contain five sentences \n",
    "top_n = 5 \n",
    "#start_time = time.time()\n",
    "# extract summaries for the top 3 listings \n",
    "print(top3_ids[0])\n",
    "original_sentences = data['Final Reviews'][data.loc[data['Listing ID'] == top3_ids[0]].index[0]]\n",
    "summary = extract_summary(original_sentences = original_sentences, top_n = top_n, word_embeddings = word_embeddings, dims = 100)\n",
    "print(summary)\n",
    "#print(\"--- %s seconds ---\" % (time.time() - start_time))"
   ]
  },
  {
   "cell_type": "code",
   "execution_count": 87,
   "metadata": {
    "cell_id": "00033-e535ff69-1924-4ed4-a25e-7f697f242d5c",
    "deepnote_cell_type": "code",
    "deepnote_to_be_reexecuted": false,
    "execution_millis": 6,
    "execution_start": 1623242042021,
    "source_hash": "aa82ef26",
    "tags": []
   },
   "outputs": [
    {
     "name": "stdout",
     "output_type": "stream",
     "text": [
      "2499542\n"
     ]
    },
    {
     "name": "stderr",
     "output_type": "stream",
     "text": [
      "C:\\Users\\Lenovo\\Anaconda3\\lib\\site-packages\\ipykernel\\ipkernel.py:287: DeprecationWarning: `should_run_async` will not call `transform_cell` automatically in the future. Please pass the result to `transformed_cell` argument and any exception that happen during thetransform in `preprocessing_exc_tuple` in IPython 7.17 and above.\n",
      "  and should_run_async(code)\n"
     ]
    },
    {
     "name": "stdout",
     "output_type": "stream",
     "text": [
      "0\n",
      "1\n",
      "2\n",
      "3\n",
      "4\n",
      "['the balcony makes for a nice view out towards the city centre and was a good viewing platform for the substantial firework display on new years eve', 'his apartment in christianshavn is bright clean and very scandinavian  everything we needed was there pots pans coffee makers and a collection of boardgames that came in very handy on our last night when all three of us played a game until the early hours', 'as a host myself i learnt a lot from him and hope to copy some of his best ideas  thank you baard  he is a super nice guy  funny charming generous considerate welltravelled excited about life', 'baard was only there for the first night of our five night trip but he was immediately likeable and had obviously gone to great lengths to make his apartment look nice as well as leaving us some treats and drinks to enjoy', 'his apartment is cozy and bright safe and quiet neighborhood really central with easy reach to all the places of interest']\n"
     ]
    }
   ],
   "source": [
    "#start_time = time.time()\n",
    "print(top3_ids[1])\n",
    "original_sentences = data['Final Reviews'][data.loc[data['Listing ID'] == top3_ids[1]].index[0]]\n",
    "summary = extract_summary(original_sentences = original_sentences, top_n = top_n, word_embeddings = word_embeddings, dims = 100)\n",
    "print(summary)\n",
    "#print(\"--- %s seconds ---\" % (time.time() - start_time))"
   ]
  },
  {
   "cell_type": "code",
   "execution_count": 88,
   "metadata": {
    "cell_id": "00039-2485bb90-3bb2-456a-ade5-fc49792112b9",
    "deepnote_cell_type": "code",
    "tags": []
   },
   "outputs": [
    {
     "name": "stdout",
     "output_type": "stream",
     "text": [
      "4282001\n"
     ]
    },
    {
     "name": "stderr",
     "output_type": "stream",
     "text": [
      "C:\\Users\\Lenovo\\Anaconda3\\lib\\site-packages\\ipykernel\\ipkernel.py:287: DeprecationWarning: `should_run_async` will not call `transform_cell` automatically in the future. Please pass the result to `transformed_cell` argument and any exception that happen during thetransform in `preprocessing_exc_tuple` in IPython 7.17 and above.\n",
      "  and should_run_async(code)\n"
     ]
    },
    {
     "name": "stdout",
     "output_type": "stream",
     "text": [
      "0\n",
      "1\n",
      "2\n",
      "3\n",
      "4\n",
      "['the apartment was so lovely that we even wanted to come back early to enjoy it full of light and decorations of christmas made it ideal for our trip', 'i recommend britts little place for anyone who wants to spend a night outside of the busy central areas of copenhagen', 'if you want to explore copenhagen and want a cosy little apartment to spend your trip in britts place is great and we walked from there to the centre with ease but there are also lots of busses and a metro up the road if you want to wizz around the city', 'well done to britt we had a great timegreat space and comfyexcellent under floor heating short bus ride to town on a bus that runs every few minutessafe area would definitely stay again', 'i would definately  recommend britts flat as a perfect place to stay in copenhagen']\n"
     ]
    }
   ],
   "source": [
    "#start_time = time.time()\n",
    "print(top3_ids[2])\n",
    "original_sentences = data['Final Reviews'][data.loc[data['Listing ID'] == top3_ids[2]].index[0]]\n",
    "summary = extract_summary(original_sentences = original_sentences, top_n = top_n, word_embeddings = word_embeddings, dims = 100)\n",
    "print(summary)\n",
    "#print(\"--- %s seconds ---\" % (time.time() - start_time))"
   ]
  },
  {
   "cell_type": "markdown",
   "metadata": {
    "created_in_deepnote_cell": true,
    "deepnote_cell_type": "markdown",
    "tags": []
   },
   "source": [
    "<a style='text-decoration:none;line-height:16px;display:flex;color:#5B5B62;padding:10px;justify-content:end;' href='https://deepnote.com?utm_source=created-in-deepnote-cell&projectId=d3031f77-209c-404c-af93-9844cf80e064' target=\"_blank\">\n",
    "<img alt='Created in deepnote.com' style='display:inline;max-height:16px;margin:0px;margin-right:7.5px;' src='data:image/svg+xml;base64,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' > </img>\n",
    "Created in <span style='font-weight:600;margin-left:4px;'>Deepnote</span></a>"
   ]
  }
 ],
 "metadata": {
  "deepnote": {
   "is_reactive": false
  },
  "deepnote_execution_queue": [],
  "deepnote_notebook_id": "d34a7d7b-a965-4a21-a89f-4799e8c9c985",
  "kernelspec": {
   "display_name": "Python 3",
   "language": "python",
   "name": "python3"
  },
  "language_info": {
   "codemirror_mode": {
    "name": "ipython",
    "version": 3
   },
   "file_extension": ".py",
   "mimetype": "text/x-python",
   "name": "python",
   "nbconvert_exporter": "python",
   "pygments_lexer": "ipython3",
   "version": "3.7.3"
  }
 },
 "nbformat": 4,
 "nbformat_minor": 2
}
